{
 "cells": [
  {
   "cell_type": "code",
   "execution_count": null,
   "metadata": {},
   "outputs": [],
   "source": [
    "import pandas as pd\n",
    "import keywords as kwrd\n",
    "import ast\n",
    "from pprint import pprint\n",
    "from natsort import natsorted\n",
    "import json"
   ]
  },
  {
   "cell_type": "code",
   "execution_count": null,
   "metadata": {},
   "outputs": [],
   "source": [
    "indicators_map = kwrd.indicators\n",
    "indicators_map['UN_Indicators']"
   ]
  },
  {
   "cell_type": "code",
   "execution_count": null,
   "metadata": {},
   "outputs": [],
   "source": [
    "indicators_map['UN_Indicators'] = indicators_map['UN_Indicators'].apply(lambda x: ast.literal_eval(x))"
   ]
  },
  {
   "cell_type": "code",
   "execution_count": null,
   "metadata": {},
   "outputs": [],
   "source": [
    "test_df = pd.read_excel('output/GD61/output/6-results/mapping_.xlsx', index_col=0)[['Goal', 'Target']]\n",
    "test_df.head()"
   ]
  },
  {
   "cell_type": "code",
   "execution_count": null,
   "metadata": {},
   "outputs": [],
   "source": [
    "indicators_map = pd.merge(test_df, kwrd.indicators, how='left', on='Target').drop('Goal_y', axis=1).rename(columns={'Goal_x':'Goal'})\n",
    "indicators_map.head(100)"
   ]
  },
  {
   "cell_type": "code",
   "execution_count": null,
   "metadata": {},
   "outputs": [],
   "source": [
    "def makeindicatorsjson(resultstotal_df):\n",
    "    \n",
    "    indicators_dict = {\"name\": \"sdgs\", \"goals\": []}\n",
    "\n",
    "    goals = natsorted(list(set(indicators_map['Goal'].values.tolist())))\n",
    "\n",
    "    for goal in goals:\n",
    "        goal_dict = {'name': goal, 'targets' : []}\n",
    "        indicators_dict['goals'].append(goal_dict)\n",
    "    \n",
    "        for row in resultstotal_df[resultstotal_df['Goal']==goal].itertuples():\n",
    "                \n",
    "            target_dict={}\n",
    "            target_dict['name'] = f'Target {row.Target}'\n",
    "            target_dict['indicators'] = {'un':[]}\n",
    "\n",
    "            for unind in row.UN_Indicators:\n",
    "                if unind:\n",
    "                    unind_dict={'name':unind}\n",
    "                    target_dict['indicators']['un'].append(unind_dict)\n",
    "\n",
    "            goal_dict['targets'].append(target_dict)      \n",
    "\n",
    "    return indicators_dict"
   ]
  },
  {
   "cell_type": "code",
   "execution_count": null,
   "metadata": {},
   "outputs": [],
   "source": [
    "test_indicators_dict = makeindicatorsjson(indicators_map)\n",
    "print(test_indicators_dict)\n",
    "with open(\"green_deal_indicators.json\", \"w\") as outfile:\n",
    "    json.dump(test_indicators_dict, outfile)"
   ]
  },
  {
   "cell_type": "code",
   "execution_count": null,
   "metadata": {},
   "outputs": [],
   "source": [
    "natsorted(list(set(indicators_map['Goal'].values.tolist())))"
   ]
  },
  {
   "cell_type": "code",
   "execution_count": null,
   "metadata": {},
   "outputs": [],
   "source": [
    "indicators_map.groupby(by='Goal')['Target'].apply([].append).reset_index()"
   ]
  },
  {
   "cell_type": "code",
   "execution_count": null,
   "metadata": {},
   "outputs": [],
   "source": []
  }
 ],
 "metadata": {
  "interpreter": {
   "hash": "32999d92ff70f26298d9570d8985714abe781719a4d23533d21837301c199151"
  },
  "kernelspec": {
   "display_name": "Python 3.9.1 64-bit ('polmap': conda)",
   "language": "python",
   "name": "python3"
  },
  "language_info": {
   "codemirror_mode": {
    "name": "ipython",
    "version": 3
   },
   "file_extension": ".py",
   "mimetype": "text/x-python",
   "name": "python",
   "nbconvert_exporter": "python",
   "pygments_lexer": "ipython3",
   "version": "3.9.1"
  },
  "orig_nbformat": 4
 },
 "nbformat": 4,
 "nbformat_minor": 2
}
