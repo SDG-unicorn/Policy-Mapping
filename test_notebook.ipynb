{
 "cells": [
  {
   "cell_type": "code",
   "execution_count": null,
   "metadata": {},
   "outputs": [],
   "source": [
    "import numpy as np\n",
    "import pandas as pd\n",
    "import keywords as kwrd\n",
    "import ast\n",
    "from pprint import pprint\n",
    "from natsort import index_natsorted, natsorted\n",
    "import json, collections, re"
   ]
  },
  {
   "cell_type": "code",
   "execution_count": null,
   "metadata": {},
   "outputs": [],
   "source": [
    "sdg_indicators = pd.read_json('https://unstats.un.org/SDGAPI/v1/sdg/Indicator/List')\\\n",
    "    .rename(columns={'goal': 'Goal', 'target':'Target', \n",
    "    'code':'Indicator','description':'Ind_desc'})\n",
    "sdg_goals = pd.read_json('https://unstats.un.org/SDGAPI/v1/sdg/Goal/List?includechildren=false')\\\n",
    "    .rename(columns={'code': 'Goal', 'title':'Goal_title', 'description':'Goal_desc'})[['Goal','Goal_title','Goal_desc']]\n",
    "sdg_targets = pd.read_json('https://unstats.un.org/SDGAPI/v1/sdg/Target/List?includechildren=false')\\\n",
    "    .rename(columns={'code': 'Target', 'goal':'Goal', 'description':'Target_desc'})[['Goal','Target','Target_desc']]\n",
    "\n",
    "sdg_goals = sdg_goals.sort_values(by=['Goal'], key=lambda x: np.argsort(index_natsorted(sdg_goals['Goal'])))\n",
    "sdg_targets = sdg_targets.sort_values(by=['Target'], key=lambda x: np.argsort(index_natsorted(sdg_targets['Target'])))\n",
    "sdg_indicators = sdg_indicators.sort_values(by=['Indicator'], key=lambda x: np.argsort(index_natsorted(sdg_indicators['Indicator'])))\n"
   ]
  },
  {
   "cell_type": "code",
   "execution_count": null,
   "metadata": {},
   "outputs": [],
   "source": [
    "sdg_goals.head(40)"
   ]
  },
  {
   "cell_type": "code",
   "execution_count": null,
   "metadata": {},
   "outputs": [],
   "source": [
    "sdgmetadata_dict = collections.OrderedDict()\n",
    "for goalrow in sdg_goals.itertuples():\n",
    "    sdg = f'SDG {goalrow.Goal}'\n",
    "    sdgmetadata_dict[sdg]={'title': goalrow.Goal_title, 'description': goalrow.Goal_desc}\n",
    "    sdgmetadata_dict[sdg]['targets'] = { f'Target {targetrow.Target}' : \n",
    "        { 'description': targetrow.Target_desc,\n",
    "            'indicators': { f'{indicatorrow.Indicator}' : {'description':indicatorrow.Ind_desc} \n",
    "            for indicatorrow in sdg_indicators[sdg_indicators.Target==targetrow.Target].itertuples()}\n",
    "        }\n",
    "        for targetrow in sdg_targets[sdg_targets.Goal==goalrow.Goal].itertuples()}\n",
    "\n",
    "with open(\"sdgmetadata_dict.json\", \"w\") as outfile:\n",
    "    json.dump(sdgmetadata_dict, outfile)"
   ]
  },
  {
   "cell_type": "code",
   "execution_count": null,
   "metadata": {},
   "outputs": [],
   "source": [
    "pprint(sdgmetadata_dict)"
   ]
  },
  {
   "cell_type": "code",
   "execution_count": null,
   "metadata": {},
   "outputs": [],
   "source": [
    "indicators_map = kwrd.indicators\n",
    "indicators_map['UN_Indicators'].head()"
   ]
  },
  {
   "cell_type": "code",
   "execution_count": null,
   "metadata": {},
   "outputs": [],
   "source": [
    "indicators_map['UN_Indicators'] = indicators_map['UN_Indicators'].apply(lambda x: ast.literal_eval(x))"
   ]
  },
  {
   "cell_type": "code",
   "execution_count": null,
   "metadata": {},
   "outputs": [],
   "source": [
    "test_df = pd.read_excel('output/GD61/output/6-results/mapping_.xlsx', index_col=0)[['Goal', 'Target']]\n",
    "test_df.head()"
   ]
  },
  {
   "cell_type": "code",
   "execution_count": null,
   "metadata": {},
   "outputs": [],
   "source": [
    "indicators_map = pd.merge(test_df, kwrd.indicators, how='left', on='Target').drop('Goal_y', axis=1).rename(columns={'Goal_x':'Goal'})\n",
    "indicators_map.head(100)"
   ]
  },
  {
   "cell_type": "code",
   "execution_count": null,
   "metadata": {},
   "outputs": [],
   "source": [
    "def makeindicatorsjson(resultstotal_df, metadata_dict='Default'):\n",
    "\n",
    "    if metadata_dict=='Default':\n",
    "        metadata_dict = sdgmetadata_dict\n",
    "        \n",
    "    \n",
    "    indicators_dict = {\"name\": \"sdgs\", \"goals\": []}\n",
    "\n",
    "    goals = natsorted(list(set(indicators_map['Goal'].values.tolist())))\n",
    "\n",
    "    for goal in goals:\n",
    "        goal_dict = {'name': goal, 'title':metadata_dict[goal]['title'], 'description':metadata_dict[goal]['description'],\n",
    "        'targets' : []}\n",
    "        indicators_dict['goals'].append(goal_dict)\n",
    "    \n",
    "        for row in resultstotal_df[resultstotal_df['Goal']==goal].itertuples():\n",
    "                \n",
    "            target_dict={}\n",
    "            target = f'Target {row.Target}'\n",
    "            target_dict['name'] = target\n",
    "            mock_target = re.match(r'Target \\d{1,2}.0', target)\n",
    "            \n",
    "            if mock_target:\n",
    "                target_dict['description'] = metadata_dict[goal]['description']\n",
    "            else:\n",
    "                target_dict['description'] = metadata_dict[goal]['targets'][target]['description']\n",
    "            \n",
    "            target_dict['indicators'] = {'un':[]}\n",
    "\n",
    "            for unind in row.UN_Indicators:\n",
    "                if unind:\n",
    "                    unind_dict={\n",
    "                        'name':unind, \n",
    "                        'description':metadata_dict[goal]['targets'][target]['indicators']#[unind]['description']\n",
    "                    }\n",
    "                    target_dict['indicators']['un'].append(unind_dict)\n",
    "\n",
    "            goal_dict['targets'].append(target_dict)      \n",
    "\n",
    "    return indicators_dict"
   ]
  },
  {
   "cell_type": "code",
   "execution_count": null,
   "metadata": {},
   "outputs": [],
   "source": [
    "test_indicators_dict = makeindicatorsjson(indicators_map)\n",
    "print(test_indicators_dict)"
   ]
  },
  {
   "cell_type": "code",
   "execution_count": null,
   "metadata": {},
   "outputs": [],
   "source": [
    "with open(\"green_deal_indicators.json\", \"w\") as outfile:\n",
    "    json.dump(test_indicators_dict, outfile)"
   ]
  },
  {
   "cell_type": "code",
   "execution_count": null,
   "metadata": {},
   "outputs": [],
   "source": []
  }
 ],
 "metadata": {
  "interpreter": {
   "hash": "32999d92ff70f26298d9570d8985714abe781719a4d23533d21837301c199151"
  },
  "kernelspec": {
   "display_name": "Python 3.9.1 64-bit ('polmap': conda)",
   "language": "python",
   "name": "python3"
  },
  "language_info": {
   "codemirror_mode": {
    "name": "ipython",
    "version": 3
   },
   "file_extension": ".py",
   "mimetype": "text/x-python",
   "name": "python",
   "nbconvert_exporter": "python",
   "pygments_lexer": "ipython3",
   "version": "3.9.1"
  },
  "orig_nbformat": 4
 },
 "nbformat": 4,
 "nbformat_minor": 2
}
