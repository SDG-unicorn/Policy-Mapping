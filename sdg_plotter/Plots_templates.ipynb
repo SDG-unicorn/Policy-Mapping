{
 "cells": [
  {
   "cell_type": "code",
   "execution_count": 1,
   "metadata": {},
   "outputs": [],
   "source": [
    "import random, re, json, pathlib, logging, time, argparse, pprint \n",
    "import pandas as pd\n",
    "import numpy as np\n",
    "import circlify as crcf\n",
    "import matplotlib.pyplot as plt\n",
    "import matplotlib.image as img\n",
    "from matplotlib.offsetbox import OffsetImage, AnnotationBbox\n",
    "\n",
    "import importlib.resources as rsrc\n",
    "\n",
    "#import postprocess.postprocess as pspr\n"
   ]
  },
  {
   "cell_type": "code",
   "execution_count": null,
   "metadata": {},
   "outputs": [],
   "source": [
    "target_df = pd.read_pickle(\"rrp_target_df.pkl\")\n",
    "\n",
    "goal_df = pd.read_pickle(\"rrp_goal_df.pkl\")"
   ]
  },
  {
   "cell_type": "code",
   "execution_count": null,
   "metadata": {},
   "outputs": [],
   "source": [
    "goal_df.head()"
   ]
  },
  {
   "cell_type": "code",
   "execution_count": null,
   "metadata": {},
   "outputs": [],
   "source": [
    "\n",
    "target_df['Target'] = pspr.stringify_id(target_df['Target'])\n",
    "\n",
    "results_dict = {}\n",
    "\n",
    "with rsrc.path(\"postprocess\", \"goal_target_list.xlsx\") as res_path:\n",
    "    sdg_df = pd.read_excel(res_path)\n",
    "\n",
    "results_dict['target_dat'] = pspr.aggregate_to_targets(target_df, sdg_df)\n",
    "\n",
    "results_dict['goal_dat'] = pspr.aggregate_to_goals(goal_df, sdg_df)\n",
    "\n",
    "results_dict['goals_grouped_by_document'] = pspr.group_byNAme_and_get_goaloverview(results_dict['target_dat'], results_dict['goal_dat'], sdg_df)"
   ]
  },
  {
   "cell_type": "code",
   "execution_count": null,
   "metadata": {},
   "outputs": [],
   "source": []
  },
  {
   "cell_type": "code",
   "execution_count": null,
   "metadata": {},
   "outputs": [],
   "source": [
    "jrc = pd.read_excel('output/JRC_/output/6-results/results_.xlsx', sheet_name='goals_grouped_by_documents')\n",
    "D_units = pd.read_excel('output/JRC_/output/6-results/Projects overview_DirD.xlsx',usecols=['PP','PRJ','Unit'])\n",
    "jrc.head()\n",
    "#jrc.drop(columns='Policy', inplace=True)\n",
    "jrc_folder = jrc['Policy'].str.split('/',expand=True)\n",
    "jrc_folder['Policy'] = jrc_folder[[0,1]].agg(lambda x: f'{x[0]}/{x[1]}', axis=1)\n",
    "jrc_folder['PP']=jrc_folder[1].apply(lambda doc: int(re.search(r'(?<=PP_)\\d{5}(?<!_)',doc).group(0)))\n",
    "jrc_folder['PRJ']=jrc_folder[1].apply(lambda doc: int(re.search(r'(?<=_PRJ_)\\d{5}(?<!_\\d{6}.docx)',doc).group(0)))\n",
    "jrc_folder = jrc_folder.join(D_units.set_index('PRJ'), on='PRJ', how='inner',lsuffix='_re', rsuffix='_jpb')\n",
    "jrc_folder = jrc_folder.drop_duplicates().reset_index()\n",
    "jrc = jrc.merge(jrc_folder, on='Policy', how='right')\n",
    "jrc = jrc.groupby([0,'Unit','goal_id'])\n",
    "DirD = jrc['Count'].sum().loc['DirD']\n",
    "#DirD.head(50)\n",
    "dird_dict=DirD.to_dict()\n",
    "DirD.to_excel('DirD_gl.xlsx')\n",
    "#print(DirD.to_list())#.pivot('Subject_id', 'Subject', 'Score').to_dict('index')\n",
    "# print(jrc.columns.values.tolist())\n",
    "# jrc=jrc.drop(columns=['Unnamed: 1', 'index_x', 'index_y','PP_re'])\n",
    "#jrc.pivot([0,'Unit','PRJ'], 'goal_id', 'Count').to_dict('index')\n",
    "\n",
    "# jrc_bubblechart={'name': 'sdgs', 'children':[]}\n",
    "\n",
    "# units = list(set([unit for unit, id in dird_dict.keys()]))\n",
    "\n",
    "# print(units)\n",
    "\n",
    "# #{'name': 'sdgs'}\n",
    "# total_value = 0\n",
    "# unit=0\n",
    "# for key, value in dird_dict.items():\n",
    "#     temp_dict={'name': f'SDG {key[1]}', 'size':value}\n",
    "#     #total_value+=value\n",
    "#     jrc_bubblechart['children'].append({'name':key[0],'size':total_value,'children':[temp_dict]})\n",
    "#     # jrc_bubblechart['name']=key[0]\n",
    "#     # jrc_bubblechart['children'\n",
    "\n",
    "# print(jrc_bubblechart)"
   ]
  },
  {
   "cell_type": "code",
   "execution_count": null,
   "metadata": {},
   "outputs": [],
   "source": [
    "jrc.head()"
   ]
  },
  {
   "cell_type": "code",
   "execution_count": null,
   "metadata": {},
   "outputs": [],
   "source": [
    "#create grouping variable by path\n",
    "folders=results_dict['goals_grouped_by_document']['Policy'].str.split('/',expand=True)\n",
    "folders=folders.join(results_dict['goals_grouped_by_document'])\n",
    "#folders.head()\n",
    "folders=folders.groupby([0, 'Goal'])"
   ]
  },
  {
   "cell_type": "code",
   "execution_count": null,
   "metadata": {},
   "outputs": [],
   "source": [
    "#folders.head()\n",
    "folders.get_group('RRP_IT')"
   ]
  },
  {
   "cell_type": "code",
   "execution_count": null,
   "metadata": {},
   "outputs": [],
   "source": [
    "# results_dict['goals_grouped_by_document']=results_dict['goals_grouped_by_document'].drop(columns = results_dict['goals_grouped_by_document'].columns[[0]], inplace=True)"
   ]
  },
  {
   "cell_type": "code",
   "execution_count": null,
   "metadata": {},
   "outputs": [],
   "source": [
    "results_dict['goals_grouped_by_document']=results_dict['goals_grouped_by_document'].rename_axis(['names',0])"
   ]
  },
  {
   "cell_type": "code",
   "execution_count": null,
   "metadata": {},
   "outputs": [],
   "source": [
    "results_dict['goals_grouped_by_document'].groupby(\"names\").groups\n",
    "#results_dict['goals_grouped_by_document'].groups "
   ]
  },
  {
   "cell_type": "code",
   "execution_count": null,
   "metadata": {},
   "outputs": [],
   "source": [
    "feh = results_dict['goals_grouped_by_document'][['Goal','Count']].to_dict('index')\n",
    "print(feh)"
   ]
  },
  {
   "cell_type": "code",
   "execution_count": null,
   "metadata": {},
   "outputs": [],
   "source": [
    "for name in results_dict['goals_grouped_by_document']:\n",
    "    print(name)\n"
   ]
  },
  {
   "cell_type": "code",
   "execution_count": null,
   "metadata": {},
   "outputs": [],
   "source": []
  }
 ],
 "metadata": {
  "kernelspec": {
   "name": "python391jvsc74a57bd03c701ea15ff6b8cd345d7eda6702a5a5acbef34c5d809ba6ada83c604f672a97",
   "display_name": "Python 3.9.1 64-bit ('polmap': conda)"
  },
  "language_info": {
   "codemirror_mode": {
    "name": "ipython",
    "version": 3
   },
   "file_extension": ".py",
   "mimetype": "text/x-python",
   "name": "python",
   "nbconvert_exporter": "python",
   "pygments_lexer": "ipython3",
   "version": "3.9.1"
  }
 },
 "nbformat": 4,
 "nbformat_minor": 4
}