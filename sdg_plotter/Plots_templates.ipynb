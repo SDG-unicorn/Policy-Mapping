{
 "cells": [
  {
   "cell_type": "code",
   "execution_count": 1,
   "metadata": {},
   "outputs": [],
   "source": [
    "import random, re, json, pathlib, logging, time, argparse, pprint \n",
    "import pandas as pd\n",
    "import numpy as np\n",
    "import circlify as crcf\n",
    "import matplotlib.pyplot as plt\n",
    "import importlib.resources as rsrc\n",
    "\n",
    "#import ../postprocess.postprocess\n"
   ]
  },
  {
   "cell_type": "code",
   "execution_count": 2,
   "metadata": {},
   "outputs": [],
   "source": [
    "sdg_names = [f'SDG {count}' for count in range(1,18,1)]\n",
    "sdg_color_ls = ['#e5243b','#dda63a','#4c9f38',\n",
    "'#c5192d','#ff3a21','#26bde2',\n",
    "'#fcc30b','#a21942','#fd6925',\n",
    "'#dd1367','#fd9d24','#bf8b2e',\n",
    "'#3F7E44','#0a97d9','#56c02b',\n",
    "'#00689d','#19486a']\n",
    "goal_colors = {label : color for label, color in zip(sdg_names,sdg_color_ls)}\n",
    "\n",
    "target_list=['1.1', '1.2', '1.3', '1.4', '1.5', '1.a', '1.b',\n",
    " '2.1', '2.2', '2.3', '2.4', '2.5', '2.a', '2.b', '2.c',\n",
    " '3.1', '3.2', '3.3', '3.4', '3.5', '3.6', '3.7', '3.8', '3.9', '3.a', '3.b', '3.c', '3.d',\n",
    " '4.1', '4.2', '4.3', '4.4', '4.5', '4.6', '4.7', '4.a', '4.b', '4.c',\n",
    " '5.1', '5.2', '5.3', '5.4', '5.5', '5.6', '5.a', '5.b', '5.c',\n",
    " '6.1', '6.2', '6.3', '6.4', '6.5', '6.6', '6.a', '6.b',\n",
    " '7.1', '7.2', '7.3', '7.a', '7.b',\n",
    " '8.1', '8.2', '8.3', '8.4', '8.5', '8.6', '8.7', '8.8', '8.9', '8.10', '8.a', '8.b',\n",
    " '9.1', '9.2', '9.3', '9.4', '9.5', '9.a', '9.b', '9.c',\n",
    " '10.1', '10.2', '10.3', '10.4', '10.5', '10.6', '10.7', '10.a', '10.b', '10.c',\n",
    " '11.1', '11.2', '11.3', '11.4', '11.5', '11.6', '11.7', '11.a', '11.b', '11.c',\n",
    " '12.1', '12.2', '12.3', '12.4', '12.5', '12.6', '12.7', '12.8', '12.a', '12.b', '12.c',\n",
    " '13.1', '13.2', '13.3', '13.a', '13.b',\n",
    " '14.1', '14.2', '14.3', '14.4', '14.5', '14.6', '14.7', '14.a', '14.b', '14.c',\n",
    " '15.1', '15.2', '15.3', '15.4', '15.5', '15.6', '15.7', '15.8', '15.9', '15.a', '15.b', '15.c',\n",
    " '16.1', '16.2', '16.3', '16.4', '16.5', '16.6', '16.7', '16.8', '16.9', '16.10', '16.a', '16.b',\n",
    " '17.1', '17.2', '17.3', '17.4', '17.5', '17.6', '17.7', '17.8', '17.9', '17.10', '17.11', '17.12', '17.13', '17.14', '17.15', '17.16', '17.17', '17.18', '17.19']\n",
    "\n",
    "target_colors = { target : goal_colors[f\"SDG {target.split('.')[0]}\"] for target in target_list}\n"
   ]
  },
  {
   "cell_type": "code",
   "execution_count": null,
   "metadata": {},
   "outputs": [],
   "source": [
    "data = [\n",
    "        {'id': 'Green Deal', 'datum': 6964195249, 'children' : [\n",
    "              {'id' : \"SDG 1\", 'datum': 450448697,\n",
    "                   'children' : [\n",
    "                     {'id' : \"Target 1.1\", 'datum' : 308865000},\n",
    "                     {'id' : \"Target 1.2\", 'datum' : 107550697},\n",
    "                     {'id' : \"Target 1.3\", 'datum' : 34033000} \n",
    "                   ]},\n",
    "              {'id' : \"SDG 2\", 'datum' : 278095425, \n",
    "                   'children' : [\n",
    "                     {'id' : \"Target 2.1\", 'datum' : 192612000},\n",
    "                     {'id' : \"Target 2.2\", 'datum' : 45349000},\n",
    "                     {'id' : \"Target 2.3\", 'datum' : 40134425}\n",
    "                   ]}],\n",
    "        },\n",
    "        {'id': 'Digital age', 'datum': 3564195249, 'children' : [\n",
    "              {'id' : \"SDG 3\", 'datum' : 209246682,  \n",
    "                   'children' : [\n",
    "                     {'id' : \"Target 3.1\", 'datum' : 81757600},\n",
    "                     {'id' : \"Target 3.2\", 'datum' : 65447374},\n",
    "                     {'id' : \"Target 3.3\", 'datum' : 62041708}\n",
    "                   ]},\n",
    "              {'id' : \"SDG 4\", 'datum' : 311929000,  \n",
    "                   'children' : [\n",
    "                     {'id' : \"Target 4.1\", 'datum' : 154729000},\n",
    "                     {'id' : \"Target 4.2\", 'datum' : 79221000},\n",
    "                     {'id' : \"Target 4.3\", 'datum' : 77979000}\n",
    "                   ]}],\n",
    "        },\n",
    "        {'id': 'Economy4People', 'datum': 4564195249, 'children' : [\n",
    "              {'id' : \"SDG 5\", 'datum' : 2745929500,  \n",
    "                   'children' : [\n",
    "                     {'id' : \"Target 5.1\", 'datum' : 1336335000},\n",
    "                     {'id' : \"Target 5.2\", 'datum' : 1178225000},\n",
    "                     {'id' : \"Target 5.3\", 'datum' : 231369500}\n",
    "                   ]},\n",
    "              {'id' : \"SDG 6\", 'datum' : 3545929500,  \n",
    "                   'children' : [\n",
    "                     {'id' : \"Target 6.1\", 'datum' : 936335000},\n",
    "                     {'id' : \"Target 6.2\", 'datum' : 1878225000},\n",
    "                     {'id' : \"Target 6.3\", 'datum' : 271369500}\n",
    "                   ]}]\n",
    "        }\n",
    "       ]"
   ]
  },
  {
   "cell_type": "code",
   "execution_count": null,
   "metadata": {},
   "outputs": [],
   "source": [
    "# Compute circle positions thanks to the circlify() function\n",
    "circles = crcf.circlify(\n",
    "    data, \n",
    "    show_enclosure=False, \n",
    "    target_enclosure=crcf.Circle(x=0, y=0, r=1)\n",
    ")"
   ]
  },
  {
   "cell_type": "code",
   "execution_count": null,
   "metadata": {},
   "outputs": [],
   "source": [
    "# Create just a figure and only one subplot\n",
    "fig, ax = plt.subplots(figsize=(14,14))\n",
    "\n",
    "# Title\n",
    "ax.set_title('Feh')\n",
    "\n",
    "# Remove axes\n",
    "ax.axis('off')\n",
    "\n",
    "# Find axis boundaries\n",
    "lim = max(\n",
    "    max(\n",
    "        abs(circle.x) + circle.r,\n",
    "        abs(circle.y) + circle.r,\n",
    "    )\n",
    "    for circle in circles\n",
    ")\n",
    "plt.xlim(-lim, lim)\n",
    "plt.ylim(-lim, lim)\n",
    "\n",
    "rf={1:0.975, 2:0.95, 3:0.925} #reduction factor\n",
    "\n",
    "# Print circles at pp level:\n",
    "for circle in circles:\n",
    "    if circle.level != 1:\n",
    "      continue\n",
    "    x, y, r = circle\n",
    "    label = circle.ex[\"id\"]\n",
    "    ax.add_patch( plt.Circle((x, y), r*rf[circle.level], alpha=0.25, linewidth=2, color='purple'))\n",
    "\n",
    "# Print circles at goal level:\n",
    "for circle in circles:\n",
    "    if circle.level != 2:\n",
    "      continue\n",
    "    x, y, r = circle\n",
    "    label = circle.ex[\"id\"]\n",
    "    ax.add_patch( plt.Circle((x, y), r*rf[circle.level], alpha=0.5, linewidth=2, color=sdg_colors[label]))\n",
    "\n",
    "# Print circle at target level:\n",
    "for circle in circles:\n",
    "    if circle.level != 3:\n",
    "      continue\n",
    "    x, y, r = circle\n",
    "    label = circle.ex[\"id\"]\n",
    "    color = re.sub(r'Target (\\d{,2}).[a-z0-9]', r'SDG \\1', label)\n",
    "    label = label.replace('Target ','')\n",
    "    ax.add_patch( plt.Circle((x, y), r*rf[circle.level], linewidth=0, color=\"white\"))\n",
    "    ax.add_patch( plt.Circle((x, y), r*rf[circle.level], alpha=0.5, linewidth=0, color=sdg_colors[color]))\n",
    "    plt.annotate(label, (x,y ), ha='center', color=\"white\")\n",
    "\n",
    "# Print labels for the continents\n",
    "for circle in circles:\n",
    "    if circle.level not in (1,2):\n",
    "      continue\n",
    "    x, y, r = circle\n",
    "    label = circle.ex[\"id\"]\n",
    "    if circle.level == 2:\n",
    "        plt.annotate(label, (x,y ) ,va='center', ha='center', bbox=dict(facecolor='white', edgecolor='black', boxstyle='round', pad=.125))\n",
    "    elif circle.level == 1:\n",
    "        plt.annotate(label, (x,y+r), ha='center', color=\"black\")\n",
    "\n"
   ]
  },
  {
   "cell_type": "code",
   "execution_count": null,
   "metadata": {},
   "outputs": [],
   "source": [
    "p = pathlib.Path('..')\n",
    "dirs=[x for x in p.iterdir() if x.is_dir()]\n",
    "print(dirs)"
   ]
  },
  {
   "cell_type": "code",
   "execution_count": 3,
   "metadata": {},
   "outputs": [],
   "source": [
    "res_path=pathlib.Path('../output/ES_RRP_/output/6-results/results_.xlsx')\n",
    "res_path.exists()\n",
    "mock_target_df = pd.read_excel(res_path,sheet_name='target_dat') #pd.DataFrame({\n",
    "#     'Name': target_list,\n",
    "#     'Value': [np.random.randint(0, 100) for i in target_list]\n",
    "# })\n",
    "mock_target_df=mock_target_df[['Target','Count']]\n",
    "mock_target_df.rename(columns={\"Target\": \"Name\", \"Count\": \"Value\"}, inplace=True)\n",
    "mock_target_df =  mock_target_df[mock_target_df['Value'] != 0]\n",
    "\n",
    "mock_goals = pd.read_excel(res_path,sheet_name='goal_overview')\n",
    "mock_goals=mock_goals[['Goal','Count']]\n",
    "mock_goals.rename(columns={\"Goal\": \"Name\", \"Count\": \"Value\"}, inplace=True)\n"
   ]
  },
  {
   "cell_type": "code",
   "execution_count": 4,
   "metadata": {},
   "outputs": [
    {
     "output_type": "stream",
     "name": "stdout",
     "text": [
      "names\nparents\nvalues\n"
     ]
    }
   ],
   "source": [
    "#build sunburst data\n",
    "\n",
    "#Goal count from df\n",
    "mock_goals_count = mock_goals['Value'].to_list()\n",
    "mock_goals_labels = mock_goals['Name'].to_list()\n",
    "\n",
    "#Target count from df\n",
    "mock_tgts_count = mock_target_df['Value'].to_list()\n",
    "mock_tgts_labels = mock_target_df['Name'].to_list()\n",
    "\n",
    "values = mock_goals_count + mock_tgts_count\n",
    "names = mock_goals_labels + mock_tgts_labels\n",
    "\n",
    "#Assign parents\n",
    "parents = []\n",
    "for name in names:\n",
    "    if 'SDG' in name:\n",
    "        parents.append('')\n",
    "    else:\n",
    "        parent = f\"SDG {name.split('.')[0]}\"\n",
    "        parents.append(parent)\n",
    "\n",
    "data = dict(names=names, parents=parents, values=values)\n",
    "for key in data.keys():\n",
    "    print(key)"
   ]
  },
  {
   "cell_type": "code",
   "execution_count": 12,
   "metadata": {},
   "outputs": [
    {
     "output_type": "display_data",
     "data": {
      "application/vnd.plotly.v1+json": {
       "config": {
        "plotlyServerURL": "https://plot.ly"
       },
       "data": [
        {
         "domain": {
          "x": [
           0,
           1
          ],
          "y": [
           0,
           1
          ]
         },
         "hovertemplate": "label=%{label}<br>value=%{value}<br>parent=%{parent}<extra></extra>",
         "labels": [
          "SDG 1",
          "SDG 2",
          "SDG 3",
          "SDG 4",
          "SDG 5",
          "SDG 6",
          "SDG 7",
          "SDG 8",
          "SDG 9",
          "SDG 10",
          "SDG 11",
          "SDG 12",
          "SDG 13",
          "SDG 14",
          "SDG 15",
          "SDG 16",
          "SDG 17",
          "1.2",
          "1.3",
          "1.4",
          "1.5",
          "2.1",
          "2.2",
          "2.3",
          "2.4",
          "3.3",
          "3.4",
          "3.5",
          "3.7",
          "3.8",
          "3.d",
          "4.1",
          "4.2",
          "4.3",
          "4.4",
          "4.5",
          "4.6",
          "4.7",
          "4.b",
          "4.c",
          "5.1",
          "5.2",
          "5.4",
          "5.5",
          "5.b",
          "6.3",
          "6.4",
          "6.5",
          "6.6",
          "7.1",
          "7.2",
          "7.3",
          "7.a",
          "8.1",
          "8.2",
          "8.3",
          "8.5",
          "8.6",
          "8.8",
          "8.10",
          "9.1",
          "9.2",
          "9.3",
          "9.5",
          "9.b",
          "9.c",
          "10.1",
          "10.2",
          "10.3",
          "10.4",
          "10.5",
          "11.1",
          "11.2",
          "11.3",
          "11.4",
          "11.6",
          "12.3",
          "12.4",
          "12.5",
          "12.8",
          "12.b",
          "13.1",
          "13.2",
          "13.3",
          "14.2",
          "14.4",
          "14.5",
          "14.6",
          "15.1",
          "15.2",
          "15.3",
          "15.4",
          "15.5",
          "15.6",
          "15.9",
          "16.1",
          "16.3",
          "16.5",
          "16.6",
          "16.10",
          "17.1",
          "17.6",
          "17.8"
         ],
         "marker": {
          "colors": [
           "#e5243b",
           "#dda63a",
           "#4c9f38",
           "#c5192d",
           "#ff3a21",
           "#26bde2",
           "#fcc30b",
           "#a21942",
           "#fd6925",
           "#dd1367",
           "#fd9d24",
           "#bf8b2e",
           "#3F7E44",
           "#0a97d9",
           "#56c02b",
           "#00689d",
           "#19486a",
           "#e5243b",
           "#e5243b",
           "#e5243b",
           "#e5243b",
           "#dda63a",
           "#dda63a",
           "#dda63a",
           "#dda63a",
           "#4c9f38",
           "#4c9f38",
           "#4c9f38",
           "#4c9f38",
           "#4c9f38",
           "#4c9f38",
           "#c5192d",
           "#c5192d",
           "#c5192d",
           "#c5192d",
           "#c5192d",
           "#c5192d",
           "#c5192d",
           "#c5192d",
           "#c5192d",
           "#ff3a21",
           "#ff3a21",
           "#ff3a21",
           "#ff3a21",
           "#ff3a21",
           "#26bde2",
           "#26bde2",
           "#26bde2",
           "#26bde2",
           "#fcc30b",
           "#fcc30b",
           "#fcc30b",
           "#fcc30b",
           "#a21942",
           "#a21942",
           "#a21942",
           "#a21942",
           "#a21942",
           "#a21942",
           "#a21942",
           "#fd6925",
           "#fd6925",
           "#fd6925",
           "#fd6925",
           "#fd6925",
           "#fd6925",
           "#dd1367",
           "#dd1367",
           "#dd1367",
           "#dd1367",
           "#dd1367",
           "#fd9d24",
           "#fd9d24",
           "#fd9d24",
           "#fd9d24",
           "#fd9d24",
           "#bf8b2e",
           "#bf8b2e",
           "#bf8b2e",
           "#bf8b2e",
           "#bf8b2e",
           "#3F7E44",
           "#3F7E44",
           "#3F7E44",
           "#0a97d9",
           "#0a97d9",
           "#0a97d9",
           "#0a97d9",
           "#56c02b",
           "#56c02b",
           "#56c02b",
           "#56c02b",
           "#56c02b",
           "#56c02b",
           "#56c02b",
           "#00689d",
           "#00689d",
           "#00689d",
           "#00689d",
           "#00689d",
           "#19486a",
           "#19486a",
           "#19486a"
          ]
         },
         "name": "",
         "parents": [
          "",
          "",
          "",
          "",
          "",
          "",
          "",
          "",
          "",
          "",
          "",
          "",
          "",
          "",
          "",
          "",
          "",
          "SDG 1",
          "SDG 1",
          "SDG 1",
          "SDG 1",
          "SDG 2",
          "SDG 2",
          "SDG 2",
          "SDG 2",
          "SDG 3",
          "SDG 3",
          "SDG 3",
          "SDG 3",
          "SDG 3",
          "SDG 3",
          "SDG 4",
          "SDG 4",
          "SDG 4",
          "SDG 4",
          "SDG 4",
          "SDG 4",
          "SDG 4",
          "SDG 4",
          "SDG 4",
          "SDG 5",
          "SDG 5",
          "SDG 5",
          "SDG 5",
          "SDG 5",
          "SDG 6",
          "SDG 6",
          "SDG 6",
          "SDG 6",
          "SDG 7",
          "SDG 7",
          "SDG 7",
          "SDG 7",
          "SDG 8",
          "SDG 8",
          "SDG 8",
          "SDG 8",
          "SDG 8",
          "SDG 8",
          "SDG 8",
          "SDG 9",
          "SDG 9",
          "SDG 9",
          "SDG 9",
          "SDG 9",
          "SDG 9",
          "SDG 10",
          "SDG 10",
          "SDG 10",
          "SDG 10",
          "SDG 10",
          "SDG 11",
          "SDG 11",
          "SDG 11",
          "SDG 11",
          "SDG 11",
          "SDG 12",
          "SDG 12",
          "SDG 12",
          "SDG 12",
          "SDG 12",
          "SDG 13",
          "SDG 13",
          "SDG 13",
          "SDG 14",
          "SDG 14",
          "SDG 14",
          "SDG 14",
          "SDG 15",
          "SDG 15",
          "SDG 15",
          "SDG 15",
          "SDG 15",
          "SDG 15",
          "SDG 15",
          "SDG 16",
          "SDG 16",
          "SDG 16",
          "SDG 16",
          "SDG 16",
          "SDG 17",
          "SDG 17",
          "SDG 17"
         ],
         "type": "sunburst",
         "values": [
          96,
          5,
          124,
          250,
          109,
          10,
          166,
          306,
          158,
          96,
          100,
          83,
          90,
          16,
          43,
          23,
          6,
          17,
          29,
          4,
          44,
          1,
          1,
          2,
          1,
          14,
          6,
          1,
          1,
          20,
          82,
          1,
          8,
          5,
          189,
          4,
          3,
          1,
          5,
          6,
          3,
          13,
          2,
          5,
          2,
          3,
          1,
          1,
          5,
          4,
          93,
          62,
          1,
          69,
          44,
          80,
          91,
          2,
          19,
          1,
          36,
          26,
          4,
          83,
          1,
          8,
          4,
          14,
          63,
          1,
          1,
          8,
          63,
          7,
          15,
          7,
          1,
          37,
          34,
          1,
          6,
          6,
          27,
          1,
          10,
          2,
          3,
          1,
          27,
          5,
          1,
          1,
          1,
          1,
          5,
          1,
          3,
          16,
          2,
          1,
          1,
          4,
          1
         ]
        }
       ],
       "layout": {
        "legend": {
         "tracegroupgap": 0
        },
        "margin": {
         "t": 60
        },
        "template": {
         "data": {
          "bar": [
           {
            "error_x": {
             "color": "#2a3f5f"
            },
            "error_y": {
             "color": "#2a3f5f"
            },
            "marker": {
             "line": {
              "color": "#E5ECF6",
              "width": 0.5
             }
            },
            "type": "bar"
           }
          ],
          "barpolar": [
           {
            "marker": {
             "line": {
              "color": "#E5ECF6",
              "width": 0.5
             }
            },
            "type": "barpolar"
           }
          ],
          "carpet": [
           {
            "aaxis": {
             "endlinecolor": "#2a3f5f",
             "gridcolor": "white",
             "linecolor": "white",
             "minorgridcolor": "white",
             "startlinecolor": "#2a3f5f"
            },
            "baxis": {
             "endlinecolor": "#2a3f5f",
             "gridcolor": "white",
             "linecolor": "white",
             "minorgridcolor": "white",
             "startlinecolor": "#2a3f5f"
            },
            "type": "carpet"
           }
          ],
          "choropleth": [
           {
            "colorbar": {
             "outlinewidth": 0,
             "ticks": ""
            },
            "type": "choropleth"
           }
          ],
          "contour": [
           {
            "colorbar": {
             "outlinewidth": 0,
             "ticks": ""
            },
            "colorscale": [
             [
              0,
              "#0d0887"
             ],
             [
              0.1111111111111111,
              "#46039f"
             ],
             [
              0.2222222222222222,
              "#7201a8"
             ],
             [
              0.3333333333333333,
              "#9c179e"
             ],
             [
              0.4444444444444444,
              "#bd3786"
             ],
             [
              0.5555555555555556,
              "#d8576b"
             ],
             [
              0.6666666666666666,
              "#ed7953"
             ],
             [
              0.7777777777777778,
              "#fb9f3a"
             ],
             [
              0.8888888888888888,
              "#fdca26"
             ],
             [
              1,
              "#f0f921"
             ]
            ],
            "type": "contour"
           }
          ],
          "contourcarpet": [
           {
            "colorbar": {
             "outlinewidth": 0,
             "ticks": ""
            },
            "type": "contourcarpet"
           }
          ],
          "heatmap": [
           {
            "colorbar": {
             "outlinewidth": 0,
             "ticks": ""
            },
            "colorscale": [
             [
              0,
              "#0d0887"
             ],
             [
              0.1111111111111111,
              "#46039f"
             ],
             [
              0.2222222222222222,
              "#7201a8"
             ],
             [
              0.3333333333333333,
              "#9c179e"
             ],
             [
              0.4444444444444444,
              "#bd3786"
             ],
             [
              0.5555555555555556,
              "#d8576b"
             ],
             [
              0.6666666666666666,
              "#ed7953"
             ],
             [
              0.7777777777777778,
              "#fb9f3a"
             ],
             [
              0.8888888888888888,
              "#fdca26"
             ],
             [
              1,
              "#f0f921"
             ]
            ],
            "type": "heatmap"
           }
          ],
          "heatmapgl": [
           {
            "colorbar": {
             "outlinewidth": 0,
             "ticks": ""
            },
            "colorscale": [
             [
              0,
              "#0d0887"
             ],
             [
              0.1111111111111111,
              "#46039f"
             ],
             [
              0.2222222222222222,
              "#7201a8"
             ],
             [
              0.3333333333333333,
              "#9c179e"
             ],
             [
              0.4444444444444444,
              "#bd3786"
             ],
             [
              0.5555555555555556,
              "#d8576b"
             ],
             [
              0.6666666666666666,
              "#ed7953"
             ],
             [
              0.7777777777777778,
              "#fb9f3a"
             ],
             [
              0.8888888888888888,
              "#fdca26"
             ],
             [
              1,
              "#f0f921"
             ]
            ],
            "type": "heatmapgl"
           }
          ],
          "histogram": [
           {
            "marker": {
             "colorbar": {
              "outlinewidth": 0,
              "ticks": ""
             }
            },
            "type": "histogram"
           }
          ],
          "histogram2d": [
           {
            "colorbar": {
             "outlinewidth": 0,
             "ticks": ""
            },
            "colorscale": [
             [
              0,
              "#0d0887"
             ],
             [
              0.1111111111111111,
              "#46039f"
             ],
             [
              0.2222222222222222,
              "#7201a8"
             ],
             [
              0.3333333333333333,
              "#9c179e"
             ],
             [
              0.4444444444444444,
              "#bd3786"
             ],
             [
              0.5555555555555556,
              "#d8576b"
             ],
             [
              0.6666666666666666,
              "#ed7953"
             ],
             [
              0.7777777777777778,
              "#fb9f3a"
             ],
             [
              0.8888888888888888,
              "#fdca26"
             ],
             [
              1,
              "#f0f921"
             ]
            ],
            "type": "histogram2d"
           }
          ],
          "histogram2dcontour": [
           {
            "colorbar": {
             "outlinewidth": 0,
             "ticks": ""
            },
            "colorscale": [
             [
              0,
              "#0d0887"
             ],
             [
              0.1111111111111111,
              "#46039f"
             ],
             [
              0.2222222222222222,
              "#7201a8"
             ],
             [
              0.3333333333333333,
              "#9c179e"
             ],
             [
              0.4444444444444444,
              "#bd3786"
             ],
             [
              0.5555555555555556,
              "#d8576b"
             ],
             [
              0.6666666666666666,
              "#ed7953"
             ],
             [
              0.7777777777777778,
              "#fb9f3a"
             ],
             [
              0.8888888888888888,
              "#fdca26"
             ],
             [
              1,
              "#f0f921"
             ]
            ],
            "type": "histogram2dcontour"
           }
          ],
          "mesh3d": [
           {
            "colorbar": {
             "outlinewidth": 0,
             "ticks": ""
            },
            "type": "mesh3d"
           }
          ],
          "parcoords": [
           {
            "line": {
             "colorbar": {
              "outlinewidth": 0,
              "ticks": ""
             }
            },
            "type": "parcoords"
           }
          ],
          "pie": [
           {
            "automargin": true,
            "type": "pie"
           }
          ],
          "scatter": [
           {
            "marker": {
             "colorbar": {
              "outlinewidth": 0,
              "ticks": ""
             }
            },
            "type": "scatter"
           }
          ],
          "scatter3d": [
           {
            "line": {
             "colorbar": {
              "outlinewidth": 0,
              "ticks": ""
             }
            },
            "marker": {
             "colorbar": {
              "outlinewidth": 0,
              "ticks": ""
             }
            },
            "type": "scatter3d"
           }
          ],
          "scattercarpet": [
           {
            "marker": {
             "colorbar": {
              "outlinewidth": 0,
              "ticks": ""
             }
            },
            "type": "scattercarpet"
           }
          ],
          "scattergeo": [
           {
            "marker": {
             "colorbar": {
              "outlinewidth": 0,
              "ticks": ""
             }
            },
            "type": "scattergeo"
           }
          ],
          "scattergl": [
           {
            "marker": {
             "colorbar": {
              "outlinewidth": 0,
              "ticks": ""
             }
            },
            "type": "scattergl"
           }
          ],
          "scattermapbox": [
           {
            "marker": {
             "colorbar": {
              "outlinewidth": 0,
              "ticks": ""
             }
            },
            "type": "scattermapbox"
           }
          ],
          "scatterpolar": [
           {
            "marker": {
             "colorbar": {
              "outlinewidth": 0,
              "ticks": ""
             }
            },
            "type": "scatterpolar"
           }
          ],
          "scatterpolargl": [
           {
            "marker": {
             "colorbar": {
              "outlinewidth": 0,
              "ticks": ""
             }
            },
            "type": "scatterpolargl"
           }
          ],
          "scatterternary": [
           {
            "marker": {
             "colorbar": {
              "outlinewidth": 0,
              "ticks": ""
             }
            },
            "type": "scatterternary"
           }
          ],
          "surface": [
           {
            "colorbar": {
             "outlinewidth": 0,
             "ticks": ""
            },
            "colorscale": [
             [
              0,
              "#0d0887"
             ],
             [
              0.1111111111111111,
              "#46039f"
             ],
             [
              0.2222222222222222,
              "#7201a8"
             ],
             [
              0.3333333333333333,
              "#9c179e"
             ],
             [
              0.4444444444444444,
              "#bd3786"
             ],
             [
              0.5555555555555556,
              "#d8576b"
             ],
             [
              0.6666666666666666,
              "#ed7953"
             ],
             [
              0.7777777777777778,
              "#fb9f3a"
             ],
             [
              0.8888888888888888,
              "#fdca26"
             ],
             [
              1,
              "#f0f921"
             ]
            ],
            "type": "surface"
           }
          ],
          "table": [
           {
            "cells": {
             "fill": {
              "color": "#EBF0F8"
             },
             "line": {
              "color": "white"
             }
            },
            "header": {
             "fill": {
              "color": "#C8D4E3"
             },
             "line": {
              "color": "white"
             }
            },
            "type": "table"
           }
          ]
         },
         "layout": {
          "annotationdefaults": {
           "arrowcolor": "#2a3f5f",
           "arrowhead": 0,
           "arrowwidth": 1
          },
          "autotypenumbers": "strict",
          "coloraxis": {
           "colorbar": {
            "outlinewidth": 0,
            "ticks": ""
           }
          },
          "colorscale": {
           "diverging": [
            [
             0,
             "#8e0152"
            ],
            [
             0.1,
             "#c51b7d"
            ],
            [
             0.2,
             "#de77ae"
            ],
            [
             0.3,
             "#f1b6da"
            ],
            [
             0.4,
             "#fde0ef"
            ],
            [
             0.5,
             "#f7f7f7"
            ],
            [
             0.6,
             "#e6f5d0"
            ],
            [
             0.7,
             "#b8e186"
            ],
            [
             0.8,
             "#7fbc41"
            ],
            [
             0.9,
             "#4d9221"
            ],
            [
             1,
             "#276419"
            ]
           ],
           "sequential": [
            [
             0,
             "#0d0887"
            ],
            [
             0.1111111111111111,
             "#46039f"
            ],
            [
             0.2222222222222222,
             "#7201a8"
            ],
            [
             0.3333333333333333,
             "#9c179e"
            ],
            [
             0.4444444444444444,
             "#bd3786"
            ],
            [
             0.5555555555555556,
             "#d8576b"
            ],
            [
             0.6666666666666666,
             "#ed7953"
            ],
            [
             0.7777777777777778,
             "#fb9f3a"
            ],
            [
             0.8888888888888888,
             "#fdca26"
            ],
            [
             1,
             "#f0f921"
            ]
           ],
           "sequentialminus": [
            [
             0,
             "#0d0887"
            ],
            [
             0.1111111111111111,
             "#46039f"
            ],
            [
             0.2222222222222222,
             "#7201a8"
            ],
            [
             0.3333333333333333,
             "#9c179e"
            ],
            [
             0.4444444444444444,
             "#bd3786"
            ],
            [
             0.5555555555555556,
             "#d8576b"
            ],
            [
             0.6666666666666666,
             "#ed7953"
            ],
            [
             0.7777777777777778,
             "#fb9f3a"
            ],
            [
             0.8888888888888888,
             "#fdca26"
            ],
            [
             1,
             "#f0f921"
            ]
           ]
          },
          "colorway": [
           "#636efa",
           "#EF553B",
           "#00cc96",
           "#ab63fa",
           "#FFA15A",
           "#19d3f3",
           "#FF6692",
           "#B6E880",
           "#FF97FF",
           "#FECB52"
          ],
          "font": {
           "color": "#2a3f5f"
          },
          "geo": {
           "bgcolor": "white",
           "lakecolor": "white",
           "landcolor": "#E5ECF6",
           "showlakes": true,
           "showland": true,
           "subunitcolor": "white"
          },
          "hoverlabel": {
           "align": "left"
          },
          "hovermode": "closest",
          "mapbox": {
           "style": "light"
          },
          "paper_bgcolor": "white",
          "plot_bgcolor": "#E5ECF6",
          "polar": {
           "angularaxis": {
            "gridcolor": "white",
            "linecolor": "white",
            "ticks": ""
           },
           "bgcolor": "#E5ECF6",
           "radialaxis": {
            "gridcolor": "white",
            "linecolor": "white",
            "ticks": ""
           }
          },
          "scene": {
           "xaxis": {
            "backgroundcolor": "#E5ECF6",
            "gridcolor": "white",
            "gridwidth": 2,
            "linecolor": "white",
            "showbackground": true,
            "ticks": "",
            "zerolinecolor": "white"
           },
           "yaxis": {
            "backgroundcolor": "#E5ECF6",
            "gridcolor": "white",
            "gridwidth": 2,
            "linecolor": "white",
            "showbackground": true,
            "ticks": "",
            "zerolinecolor": "white"
           },
           "zaxis": {
            "backgroundcolor": "#E5ECF6",
            "gridcolor": "white",
            "gridwidth": 2,
            "linecolor": "white",
            "showbackground": true,
            "ticks": "",
            "zerolinecolor": "white"
           }
          },
          "shapedefaults": {
           "line": {
            "color": "#2a3f5f"
           }
          },
          "ternary": {
           "aaxis": {
            "gridcolor": "white",
            "linecolor": "white",
            "ticks": ""
           },
           "baxis": {
            "gridcolor": "white",
            "linecolor": "white",
            "ticks": ""
           },
           "bgcolor": "#E5ECF6",
           "caxis": {
            "gridcolor": "white",
            "linecolor": "white",
            "ticks": ""
           }
          },
          "title": {
           "x": 0.05
          },
          "xaxis": {
           "automargin": true,
           "gridcolor": "white",
           "linecolor": "white",
           "ticks": "",
           "title": {
            "standoff": 15
           },
           "zerolinecolor": "white",
           "zerolinewidth": 2
          },
          "yaxis": {
           "automargin": true,
           "gridcolor": "white",
           "linecolor": "white",
           "ticks": "",
           "title": {
            "standoff": 15
           },
           "zerolinecolor": "white",
           "zerolinewidth": 2
          }
         }
        }
       }
      },
      "text/html": "<div>                            <div id=\"f6f6e653-1055-4ee0-b642-55996f531ee2\" class=\"plotly-graph-div\" style=\"height:525px; width:100%;\"></div>            <script type=\"text/javascript\">                require([\"plotly\"], function(Plotly) {                    window.PLOTLYENV=window.PLOTLYENV || {};                                    if (document.getElementById(\"f6f6e653-1055-4ee0-b642-55996f531ee2\")) {                    Plotly.newPlot(                        \"f6f6e653-1055-4ee0-b642-55996f531ee2\",                        [{\"domain\": {\"x\": [0.0, 1.0], \"y\": [0.0, 1.0]}, \"hovertemplate\": \"label=%{label}<br>value=%{value}<br>parent=%{parent}<extra></extra>\", \"labels\": [\"SDG 1\", \"SDG 2\", \"SDG 3\", \"SDG 4\", \"SDG 5\", \"SDG 6\", \"SDG 7\", \"SDG 8\", \"SDG 9\", \"SDG 10\", \"SDG 11\", \"SDG 12\", \"SDG 13\", \"SDG 14\", \"SDG 15\", \"SDG 16\", \"SDG 17\", \"1.2\", \"1.3\", \"1.4\", \"1.5\", \"2.1\", \"2.2\", \"2.3\", \"2.4\", \"3.3\", \"3.4\", \"3.5\", \"3.7\", \"3.8\", \"3.d\", \"4.1\", \"4.2\", \"4.3\", \"4.4\", \"4.5\", \"4.6\", \"4.7\", \"4.b\", \"4.c\", \"5.1\", \"5.2\", \"5.4\", \"5.5\", \"5.b\", \"6.3\", \"6.4\", \"6.5\", \"6.6\", \"7.1\", \"7.2\", \"7.3\", \"7.a\", \"8.1\", \"8.2\", \"8.3\", \"8.5\", \"8.6\", \"8.8\", \"8.10\", \"9.1\", \"9.2\", \"9.3\", \"9.5\", \"9.b\", \"9.c\", \"10.1\", \"10.2\", \"10.3\", \"10.4\", \"10.5\", \"11.1\", \"11.2\", \"11.3\", \"11.4\", \"11.6\", \"12.3\", \"12.4\", \"12.5\", \"12.8\", \"12.b\", \"13.1\", \"13.2\", \"13.3\", \"14.2\", \"14.4\", \"14.5\", \"14.6\", \"15.1\", \"15.2\", \"15.3\", \"15.4\", \"15.5\", \"15.6\", \"15.9\", \"16.1\", \"16.3\", \"16.5\", \"16.6\", \"16.10\", \"17.1\", \"17.6\", \"17.8\"], \"marker\": {\"colors\": [\"#e5243b\", \"#dda63a\", \"#4c9f38\", \"#c5192d\", \"#ff3a21\", \"#26bde2\", \"#fcc30b\", \"#a21942\", \"#fd6925\", \"#dd1367\", \"#fd9d24\", \"#bf8b2e\", \"#3F7E44\", \"#0a97d9\", \"#56c02b\", \"#00689d\", \"#19486a\", \"#e5243b\", \"#e5243b\", \"#e5243b\", \"#e5243b\", \"#dda63a\", \"#dda63a\", \"#dda63a\", \"#dda63a\", \"#4c9f38\", \"#4c9f38\", \"#4c9f38\", \"#4c9f38\", \"#4c9f38\", \"#4c9f38\", \"#c5192d\", \"#c5192d\", \"#c5192d\", \"#c5192d\", \"#c5192d\", \"#c5192d\", \"#c5192d\", \"#c5192d\", \"#c5192d\", \"#ff3a21\", \"#ff3a21\", \"#ff3a21\", \"#ff3a21\", \"#ff3a21\", \"#26bde2\", \"#26bde2\", \"#26bde2\", \"#26bde2\", \"#fcc30b\", \"#fcc30b\", \"#fcc30b\", \"#fcc30b\", \"#a21942\", \"#a21942\", \"#a21942\", \"#a21942\", \"#a21942\", \"#a21942\", \"#a21942\", \"#fd6925\", \"#fd6925\", \"#fd6925\", \"#fd6925\", \"#fd6925\", \"#fd6925\", \"#dd1367\", \"#dd1367\", \"#dd1367\", \"#dd1367\", \"#dd1367\", \"#fd9d24\", \"#fd9d24\", \"#fd9d24\", \"#fd9d24\", \"#fd9d24\", \"#bf8b2e\", \"#bf8b2e\", \"#bf8b2e\", \"#bf8b2e\", \"#bf8b2e\", \"#3F7E44\", \"#3F7E44\", \"#3F7E44\", \"#0a97d9\", \"#0a97d9\", \"#0a97d9\", \"#0a97d9\", \"#56c02b\", \"#56c02b\", \"#56c02b\", \"#56c02b\", \"#56c02b\", \"#56c02b\", \"#56c02b\", \"#00689d\", \"#00689d\", \"#00689d\", \"#00689d\", \"#00689d\", \"#19486a\", \"#19486a\", \"#19486a\"]}, \"name\": \"\", \"parents\": [\"\", \"\", \"\", \"\", \"\", \"\", \"\", \"\", \"\", \"\", \"\", \"\", \"\", \"\", \"\", \"\", \"\", \"SDG 1\", \"SDG 1\", \"SDG 1\", \"SDG 1\", \"SDG 2\", \"SDG 2\", \"SDG 2\", \"SDG 2\", \"SDG 3\", \"SDG 3\", \"SDG 3\", \"SDG 3\", \"SDG 3\", \"SDG 3\", \"SDG 4\", \"SDG 4\", \"SDG 4\", \"SDG 4\", \"SDG 4\", \"SDG 4\", \"SDG 4\", \"SDG 4\", \"SDG 4\", \"SDG 5\", \"SDG 5\", \"SDG 5\", \"SDG 5\", \"SDG 5\", \"SDG 6\", \"SDG 6\", \"SDG 6\", \"SDG 6\", \"SDG 7\", \"SDG 7\", \"SDG 7\", \"SDG 7\", \"SDG 8\", \"SDG 8\", \"SDG 8\", \"SDG 8\", \"SDG 8\", \"SDG 8\", \"SDG 8\", \"SDG 9\", \"SDG 9\", \"SDG 9\", \"SDG 9\", \"SDG 9\", \"SDG 9\", \"SDG 10\", \"SDG 10\", \"SDG 10\", \"SDG 10\", \"SDG 10\", \"SDG 11\", \"SDG 11\", \"SDG 11\", \"SDG 11\", \"SDG 11\", \"SDG 12\", \"SDG 12\", \"SDG 12\", \"SDG 12\", \"SDG 12\", \"SDG 13\", \"SDG 13\", \"SDG 13\", \"SDG 14\", \"SDG 14\", \"SDG 14\", \"SDG 14\", \"SDG 15\", \"SDG 15\", \"SDG 15\", \"SDG 15\", \"SDG 15\", \"SDG 15\", \"SDG 15\", \"SDG 16\", \"SDG 16\", \"SDG 16\", \"SDG 16\", \"SDG 16\", \"SDG 17\", \"SDG 17\", \"SDG 17\"], \"type\": \"sunburst\", \"values\": [96, 5, 124, 250, 109, 10, 166, 306, 158, 96, 100, 83, 90, 16, 43, 23, 6, 17, 29, 4, 44, 1, 1, 2, 1, 14, 6, 1, 1, 20, 82, 1, 8, 5, 189, 4, 3, 1, 5, 6, 3, 13, 2, 5, 2, 3, 1, 1, 5, 4, 93, 62, 1, 69, 44, 80, 91, 2, 19, 1, 36, 26, 4, 83, 1, 8, 4, 14, 63, 1, 1, 8, 63, 7, 15, 7, 1, 37, 34, 1, 6, 6, 27, 1, 10, 2, 3, 1, 27, 5, 1, 1, 1, 1, 5, 1, 3, 16, 2, 1, 1, 4, 1]}],                        {\"legend\": {\"tracegroupgap\": 0}, \"margin\": {\"t\": 60}, \"template\": {\"data\": {\"bar\": [{\"error_x\": {\"color\": \"#2a3f5f\"}, \"error_y\": {\"color\": \"#2a3f5f\"}, \"marker\": {\"line\": {\"color\": \"#E5ECF6\", \"width\": 0.5}}, \"type\": \"bar\"}], \"barpolar\": [{\"marker\": {\"line\": {\"color\": \"#E5ECF6\", \"width\": 0.5}}, \"type\": \"barpolar\"}], \"carpet\": [{\"aaxis\": {\"endlinecolor\": \"#2a3f5f\", \"gridcolor\": \"white\", \"linecolor\": \"white\", \"minorgridcolor\": \"white\", \"startlinecolor\": \"#2a3f5f\"}, \"baxis\": {\"endlinecolor\": \"#2a3f5f\", \"gridcolor\": \"white\", \"linecolor\": \"white\", \"minorgridcolor\": \"white\", \"startlinecolor\": \"#2a3f5f\"}, \"type\": \"carpet\"}], \"choropleth\": [{\"colorbar\": {\"outlinewidth\": 0, \"ticks\": \"\"}, \"type\": \"choropleth\"}], \"contour\": [{\"colorbar\": {\"outlinewidth\": 0, \"ticks\": \"\"}, \"colorscale\": [[0.0, \"#0d0887\"], [0.1111111111111111, \"#46039f\"], [0.2222222222222222, \"#7201a8\"], [0.3333333333333333, \"#9c179e\"], [0.4444444444444444, \"#bd3786\"], [0.5555555555555556, \"#d8576b\"], [0.6666666666666666, \"#ed7953\"], [0.7777777777777778, \"#fb9f3a\"], [0.8888888888888888, \"#fdca26\"], [1.0, \"#f0f921\"]], \"type\": \"contour\"}], \"contourcarpet\": [{\"colorbar\": {\"outlinewidth\": 0, \"ticks\": \"\"}, \"type\": \"contourcarpet\"}], \"heatmap\": [{\"colorbar\": {\"outlinewidth\": 0, \"ticks\": \"\"}, \"colorscale\": [[0.0, \"#0d0887\"], [0.1111111111111111, \"#46039f\"], [0.2222222222222222, \"#7201a8\"], [0.3333333333333333, \"#9c179e\"], [0.4444444444444444, \"#bd3786\"], [0.5555555555555556, \"#d8576b\"], [0.6666666666666666, \"#ed7953\"], [0.7777777777777778, \"#fb9f3a\"], [0.8888888888888888, \"#fdca26\"], [1.0, \"#f0f921\"]], \"type\": \"heatmap\"}], \"heatmapgl\": [{\"colorbar\": {\"outlinewidth\": 0, \"ticks\": \"\"}, \"colorscale\": [[0.0, \"#0d0887\"], [0.1111111111111111, \"#46039f\"], [0.2222222222222222, \"#7201a8\"], [0.3333333333333333, \"#9c179e\"], [0.4444444444444444, \"#bd3786\"], [0.5555555555555556, \"#d8576b\"], [0.6666666666666666, \"#ed7953\"], [0.7777777777777778, \"#fb9f3a\"], [0.8888888888888888, \"#fdca26\"], [1.0, \"#f0f921\"]], \"type\": \"heatmapgl\"}], \"histogram\": [{\"marker\": {\"colorbar\": {\"outlinewidth\": 0, \"ticks\": \"\"}}, \"type\": \"histogram\"}], \"histogram2d\": [{\"colorbar\": {\"outlinewidth\": 0, \"ticks\": \"\"}, \"colorscale\": [[0.0, \"#0d0887\"], [0.1111111111111111, \"#46039f\"], [0.2222222222222222, \"#7201a8\"], [0.3333333333333333, \"#9c179e\"], [0.4444444444444444, \"#bd3786\"], [0.5555555555555556, \"#d8576b\"], [0.6666666666666666, \"#ed7953\"], [0.7777777777777778, \"#fb9f3a\"], [0.8888888888888888, \"#fdca26\"], [1.0, \"#f0f921\"]], \"type\": \"histogram2d\"}], \"histogram2dcontour\": [{\"colorbar\": {\"outlinewidth\": 0, \"ticks\": \"\"}, \"colorscale\": [[0.0, \"#0d0887\"], [0.1111111111111111, \"#46039f\"], [0.2222222222222222, \"#7201a8\"], [0.3333333333333333, \"#9c179e\"], [0.4444444444444444, \"#bd3786\"], [0.5555555555555556, \"#d8576b\"], [0.6666666666666666, \"#ed7953\"], [0.7777777777777778, \"#fb9f3a\"], [0.8888888888888888, \"#fdca26\"], [1.0, \"#f0f921\"]], \"type\": \"histogram2dcontour\"}], \"mesh3d\": [{\"colorbar\": {\"outlinewidth\": 0, \"ticks\": \"\"}, \"type\": \"mesh3d\"}], \"parcoords\": [{\"line\": {\"colorbar\": {\"outlinewidth\": 0, \"ticks\": \"\"}}, \"type\": \"parcoords\"}], \"pie\": [{\"automargin\": true, \"type\": \"pie\"}], \"scatter\": [{\"marker\": {\"colorbar\": {\"outlinewidth\": 0, \"ticks\": \"\"}}, \"type\": \"scatter\"}], \"scatter3d\": [{\"line\": {\"colorbar\": {\"outlinewidth\": 0, \"ticks\": \"\"}}, \"marker\": {\"colorbar\": {\"outlinewidth\": 0, \"ticks\": \"\"}}, \"type\": \"scatter3d\"}], \"scattercarpet\": [{\"marker\": {\"colorbar\": {\"outlinewidth\": 0, \"ticks\": \"\"}}, \"type\": \"scattercarpet\"}], \"scattergeo\": [{\"marker\": {\"colorbar\": {\"outlinewidth\": 0, \"ticks\": \"\"}}, \"type\": \"scattergeo\"}], \"scattergl\": [{\"marker\": {\"colorbar\": {\"outlinewidth\": 0, \"ticks\": \"\"}}, \"type\": \"scattergl\"}], \"scattermapbox\": [{\"marker\": {\"colorbar\": {\"outlinewidth\": 0, \"ticks\": \"\"}}, \"type\": \"scattermapbox\"}], \"scatterpolar\": [{\"marker\": {\"colorbar\": {\"outlinewidth\": 0, \"ticks\": \"\"}}, \"type\": \"scatterpolar\"}], \"scatterpolargl\": [{\"marker\": {\"colorbar\": {\"outlinewidth\": 0, \"ticks\": \"\"}}, \"type\": \"scatterpolargl\"}], \"scatterternary\": [{\"marker\": {\"colorbar\": {\"outlinewidth\": 0, \"ticks\": \"\"}}, \"type\": \"scatterternary\"}], \"surface\": [{\"colorbar\": {\"outlinewidth\": 0, \"ticks\": \"\"}, \"colorscale\": [[0.0, \"#0d0887\"], [0.1111111111111111, \"#46039f\"], [0.2222222222222222, \"#7201a8\"], [0.3333333333333333, \"#9c179e\"], [0.4444444444444444, \"#bd3786\"], [0.5555555555555556, \"#d8576b\"], [0.6666666666666666, \"#ed7953\"], [0.7777777777777778, \"#fb9f3a\"], [0.8888888888888888, \"#fdca26\"], [1.0, \"#f0f921\"]], \"type\": \"surface\"}], \"table\": [{\"cells\": {\"fill\": {\"color\": \"#EBF0F8\"}, \"line\": {\"color\": \"white\"}}, \"header\": {\"fill\": {\"color\": \"#C8D4E3\"}, \"line\": {\"color\": \"white\"}}, \"type\": \"table\"}]}, \"layout\": {\"annotationdefaults\": {\"arrowcolor\": \"#2a3f5f\", \"arrowhead\": 0, \"arrowwidth\": 1}, \"autotypenumbers\": \"strict\", \"coloraxis\": {\"colorbar\": {\"outlinewidth\": 0, \"ticks\": \"\"}}, \"colorscale\": {\"diverging\": [[0, \"#8e0152\"], [0.1, \"#c51b7d\"], [0.2, \"#de77ae\"], [0.3, \"#f1b6da\"], [0.4, \"#fde0ef\"], [0.5, \"#f7f7f7\"], [0.6, \"#e6f5d0\"], [0.7, \"#b8e186\"], [0.8, \"#7fbc41\"], [0.9, \"#4d9221\"], [1, \"#276419\"]], \"sequential\": [[0.0, \"#0d0887\"], [0.1111111111111111, \"#46039f\"], [0.2222222222222222, \"#7201a8\"], [0.3333333333333333, \"#9c179e\"], [0.4444444444444444, \"#bd3786\"], [0.5555555555555556, \"#d8576b\"], [0.6666666666666666, \"#ed7953\"], [0.7777777777777778, \"#fb9f3a\"], [0.8888888888888888, \"#fdca26\"], [1.0, \"#f0f921\"]], \"sequentialminus\": [[0.0, \"#0d0887\"], [0.1111111111111111, \"#46039f\"], [0.2222222222222222, \"#7201a8\"], [0.3333333333333333, \"#9c179e\"], [0.4444444444444444, \"#bd3786\"], [0.5555555555555556, \"#d8576b\"], [0.6666666666666666, \"#ed7953\"], [0.7777777777777778, \"#fb9f3a\"], [0.8888888888888888, \"#fdca26\"], [1.0, \"#f0f921\"]]}, \"colorway\": [\"#636efa\", \"#EF553B\", \"#00cc96\", \"#ab63fa\", \"#FFA15A\", \"#19d3f3\", \"#FF6692\", \"#B6E880\", \"#FF97FF\", \"#FECB52\"], \"font\": {\"color\": \"#2a3f5f\"}, \"geo\": {\"bgcolor\": \"white\", \"lakecolor\": \"white\", \"landcolor\": \"#E5ECF6\", \"showlakes\": true, \"showland\": true, \"subunitcolor\": \"white\"}, \"hoverlabel\": {\"align\": \"left\"}, \"hovermode\": \"closest\", \"mapbox\": {\"style\": \"light\"}, \"paper_bgcolor\": \"white\", \"plot_bgcolor\": \"#E5ECF6\", \"polar\": {\"angularaxis\": {\"gridcolor\": \"white\", \"linecolor\": \"white\", \"ticks\": \"\"}, \"bgcolor\": \"#E5ECF6\", \"radialaxis\": {\"gridcolor\": \"white\", \"linecolor\": \"white\", \"ticks\": \"\"}}, \"scene\": {\"xaxis\": {\"backgroundcolor\": \"#E5ECF6\", \"gridcolor\": \"white\", \"gridwidth\": 2, \"linecolor\": \"white\", \"showbackground\": true, \"ticks\": \"\", \"zerolinecolor\": \"white\"}, \"yaxis\": {\"backgroundcolor\": \"#E5ECF6\", \"gridcolor\": \"white\", \"gridwidth\": 2, \"linecolor\": \"white\", \"showbackground\": true, \"ticks\": \"\", \"zerolinecolor\": \"white\"}, \"zaxis\": {\"backgroundcolor\": \"#E5ECF6\", \"gridcolor\": \"white\", \"gridwidth\": 2, \"linecolor\": \"white\", \"showbackground\": true, \"ticks\": \"\", \"zerolinecolor\": \"white\"}}, \"shapedefaults\": {\"line\": {\"color\": \"#2a3f5f\"}}, \"ternary\": {\"aaxis\": {\"gridcolor\": \"white\", \"linecolor\": \"white\", \"ticks\": \"\"}, \"baxis\": {\"gridcolor\": \"white\", \"linecolor\": \"white\", \"ticks\": \"\"}, \"bgcolor\": \"#E5ECF6\", \"caxis\": {\"gridcolor\": \"white\", \"linecolor\": \"white\", \"ticks\": \"\"}}, \"title\": {\"x\": 0.05}, \"xaxis\": {\"automargin\": true, \"gridcolor\": \"white\", \"linecolor\": \"white\", \"ticks\": \"\", \"title\": {\"standoff\": 15}, \"zerolinecolor\": \"white\", \"zerolinewidth\": 2}, \"yaxis\": {\"automargin\": true, \"gridcolor\": \"white\", \"linecolor\": \"white\", \"ticks\": \"\", \"title\": {\"standoff\": 15}, \"zerolinecolor\": \"white\", \"zerolinewidth\": 2}}}},                        {\"responsive\": true}                    ).then(function(){\n                            \nvar gd = document.getElementById('f6f6e653-1055-4ee0-b642-55996f531ee2');\nvar x = new MutationObserver(function (mutations, observer) {{\n        var display = window.getComputedStyle(gd).display;\n        if (!display || display === 'none') {{\n            console.log([gd, 'removed!']);\n            Plotly.purge(gd);\n            observer.disconnect();\n        }}\n}});\n\n// Listen for the removal of the full notebook cells\nvar notebookContainer = gd.closest('#notebook-container');\nif (notebookContainer) {{\n    x.observe(notebookContainer, {childList: true});\n}}\n\n// Listen for the clearing of the current output cell\nvar outputEl = gd.closest('.output');\nif (outputEl) {{\n    x.observe(outputEl, {childList: true});\n}}\n\n                        })                };                });            </script>        </div>"
     },
     "metadata": {}
    }
   ],
   "source": [
    "import plotly.graph_objects as go\n",
    "import plotly.express as px\n",
    "\n",
    "fig =px.sunburst(\n",
    "    data,\n",
    "    names='names',\n",
    "    parents='parents',\n",
    "    values='values',\n",
    "    color='names',\n",
    "    color_discrete_map={**goal_colors, **target_colors}\n",
    ")\n",
    "#fig.update_layout(uniformtext=dict(minsize=10, mode='show'))\n",
    "fig.show()\n",
    "\n",
    "# fig = go.Figure(go.Sunburst(\n",
    "#     labels=data['names'],\n",
    "#     parents=data['parents'],\n",
    "#     values=data['values']),\n",
    "#     color=data['names'],\n",
    "#     color_discrete_map={**goal_colors, **target_colors}\n",
    "# )\n",
    "# #\n"
   ]
  },
  {
   "cell_type": "code",
   "execution_count": null,
   "metadata": {},
   "outputs": [],
   "source": []
  },
  {
   "cell_type": "code",
   "execution_count": null,
   "metadata": {},
   "outputs": [],
   "source": []
  }
 ],
 "metadata": {
  "kernelspec": {
   "name": "python391jvsc74a57bd03c701ea15ff6b8cd345d7eda6702a5a5acbef34c5d809ba6ada83c604f672a97",
   "display_name": "Python 3.9.1 64-bit ('polmap': conda)"
  },
  "language_info": {
   "codemirror_mode": {
    "name": "ipython",
    "version": 3
   },
   "file_extension": ".py",
   "mimetype": "text/x-python",
   "name": "python",
   "nbconvert_exporter": "python",
   "pygments_lexer": "ipython3",
   "version": "3.9.1"
  }
 },
 "nbformat": 4,
 "nbformat_minor": 4
}