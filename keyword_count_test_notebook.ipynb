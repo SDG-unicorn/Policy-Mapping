{
 "cells": [
  {
   "cell_type": "code",
   "execution_count": null,
   "metadata": {},
   "outputs": [],
   "source": [
    "import re, json, pathlib, logging, time, argparse, pprint\n",
    "import datetime as dt\n",
    "from itertools import chain\n",
    "#\n",
    "from nltk.corpus import stopwords\n",
    "import pandas as pd\n",
    "import numpy as np\n",
    "import nltk as nltk\n",
    "from nltk.corpus import stopwords\n",
    "from whoosh.lang.porter import stem\n",
    "#from googletrans import Translator\n",
    "from pygoogletranslation import Translator\n",
    "\n",
    "import polmap.polmap as plmp\n",
    "\n",
    "\n",
    "##MM imports\n",
    "#from polmap.polmap import make_directories, preprocess_text, doc2text, SDGrefs_mapper # replaced the keyword processing block\n",
    "\n",
    "#import fromRtoPython\n",
    "\n",
    "from docx2python import docx2python\n",
    " \n",
    "#from polmap.polmap import make_directories, preprocess_text, doc2text # replaced the keyword processing block"
   ]
  },
  {
   "cell_type": "code",
   "execution_count": null,
   "metadata": {},
   "outputs": [],
   "source": [
    "colors = [\"#E5243B\",\"#DDA63A\",\"#4C9F38\",\"#C5192D\",\n",
    "\"#FF3A21\",\"#26BDE2\",\"#FCC30B\",\"#A21942\",\n",
    "\"#FD6925\",\"#DD1367\",\"#FD9D24\",\"#BF8B2E\",\n",
    "\"#3F7E44\",\"#0A97D9\",\"#56C02B\",\"#00689D\",\"#19486A\"]\n",
    "\n",
    "sdg_colors = {f'SDG {count.zfill(width)}' : color for count, color in enumerate(colors)}\n",
    "\n",
    "bubble_chart = BubbleChart(area=total['Goal'],\n",
    "                           bubble_spacing=0.1)\n",
    "\n",
    "bubble_chart.collapse()\n",
    "\n",
    "fig, ax = plt.subplots(subplot_kw=dict(aspect=\"equal\"))\n",
    "bubble_chart.plot(\n",
    "    ax, browser_market_share['Goal'], sdg_colors[browser_market_share['Goal']])\n",
    "ax.axis(\"off\")\n",
    "ax.relim()\n",
    "ax.autoscale_view()\n",
    "ax.set_title('Browser market share')\n",
    "\n",
    "plt.show()"
   ]
  },
  {
   "cell_type": "code",
   "execution_count": null,
   "metadata": {},
   "outputs": [],
   "source": [
    "#Expand keywords\n",
    "\n",
    "input = 'keywords/keywords_copia.xlsx'\n",
    "keywords = pd.ExcelFile(input)\n",
    "filename = pathlib.Path(input).stem\n",
    "timestamp =  dt.datetime.now().isoformat(timespec='seconds').replace(':','').replace('T','_T')\n",
    "filename += f'_{timestamp}'\n",
    "\n",
    "output = f'{filename}.xlsx'\n",
    "\n",
    "#sheets = a list of sheets where keywords are\n",
    "#keys_df = [keywords.parse(sheet) for sheet in sheets]\n",
    "keys_dfs = [keywords.parse('Target_keys'), keywords.parse('Goal_keys'), keywords.parse('MOI')]\n",
    "\n",
    "for index, df in enumerate(keys_dfs):\n",
    "    df['Keys']=df['Keys'].apply(lambda keywords: re.sub(';$', '', keywords))\n",
    "    df['Keys']=df['Keys'].apply(lambda keywords: re.sub(';;', ';', keywords))\n",
    "    ex_df=df['Keys'].str.split(';', expand=True)\n",
    "    lab_df=df.drop(columns='Keys')\n",
    "    keys_dfs[index]=lab_df.join(ex_df)\n",
    "    #df['Keys']=df['Keys'].apply(lambda keywords: re.sub(r'[^a-zA-Z0-9; -.]+', ';', keywords))\n",
    "\n",
    "ex_df.head()\n",
    "\n",
    "keys_dfs.append(keywords.parse('developing_countries'))\n",
    "\n",
    "target_df, goal_df, devco_df, devco_names = keys_dfs"
   ]
  },
  {
   "cell_type": "code",
   "execution_count": null,
   "metadata": {},
   "outputs": [],
   "source": [
    "target_df.head()"
   ]
  },
  {
   "cell_type": "code",
   "execution_count": null,
   "metadata": {},
   "outputs": [],
   "source": [
    "ex_target_df=target_df['Keys'].str.split(';', expand=True)\n",
    "lab_target_df=target_df.drop(columns='Keys')\n",
    "lab_target_df.head()"
   ]
  },
  {
   "cell_type": "code",
   "execution_count": null,
   "metadata": {},
   "outputs": [],
   "source": [
    "with pd.ExcelWriter(output, engine='xlsxwriter') as writer: # 'keywords_copy_for_transaltion.xlsx'\n",
    "    target_df.to_excel(writer, sheet_name='Target_keys')\n",
    "    goal_df.to_excel(writer, sheet_name='Goal_keys')\n",
    "    devco_df.to_excel(writer, sheet_name='MOI')\n",
    "    devco_names.to_excel(writer, sheet_name='developing_countries')"
   ]
  },
  {
   "cell_type": "code",
   "execution_count": null,
   "metadata": {},
   "outputs": [],
   "source": [
    "#Load expand keywords\n",
    "\n",
    "input = 'keywords/keywords_expanded.xlsx'\n",
    "\n",
    "keywords = pd.ExcelFile(input)\n",
    "\n",
    "sheets = keywords.sheet_names\n",
    "print(f\"Reading keywords dataset in {input}.\\nSheets: {', '.join(sheets)}\")\n",
    "\n",
    "keywords = {sheet : keywords.parse(sheet, index_col=0) for sheet in sheets}\n",
    "keywords_sheets = ['Target_keys', 'Goal_keys', 'MOI']\n",
    "\n",
    "#remove all from stop_words to keep in keywords\n",
    "stop_words = set(stopwords.words('english'))-set(['no','not','nor'])\n",
    "stop_words.remove('all')\n",
    "\n",
    "for sheet in keywords_sheets:\n",
    "    # keywords[sheet]['Keys'] = keywords[sheet]['Keys'].apply(lambda keywords: re.sub(';$', '', keywords))\n",
    "    # keywords[sheet]['Keys'] = keywords[sheet]['Keys'].apply(lambda keywords: [plmp.preprocess_text(keyword, stop_words) for keyword in keywords.split(';')])\n",
    "    keywords[sheet].iloc[:,2:]=keywords[sheet].iloc[:,2:].applymap(lambda keyword: plmp.preprocess_text(str(keyword), stop_words))"
   ]
  },
  {
   "cell_type": "code",
   "execution_count": null,
   "metadata": {},
   "outputs": [],
   "source": [
    "keywords['Target_keys'].head()"
   ]
  },
  {
   "cell_type": "code",
   "execution_count": null,
   "metadata": {},
   "outputs": [],
   "source": [
    "#Load text\n",
    "\n",
    "input = pathlib.Path('input/52019DC0640_stemmed')\n",
    "\n",
    "files = sorted(input.glob('**/*.*'))\n",
    "\n",
    "print(files)\n",
    "\n",
    "text_ls = {}\n",
    "\n",
    "for _file in files:\n",
    "    with open(_file, 'r') as _f:\n",
    "        text_ls[_file.stem]=_f.read()"
   ]
  },
  {
   "cell_type": "code",
   "execution_count": null,
   "metadata": {},
   "outputs": [],
   "source": [
    "def count_keyword(text, keyword):\n",
    "\n",
    "count = text.count(keyword)\n"
   ]
  },
  {
   "cell_type": "code",
   "execution_count": null,
   "metadata": {},
   "outputs": [],
   "source": [
    "keywords['Target_keys']"
   ]
  },
  {
   "cell_type": "code",
   "execution_count": null,
   "metadata": {},
   "outputs": [],
   "source": [
    "text_df = []\n",
    "\n",
    "texts = list(text_ls.items())\n",
    "\n",
    "keyword_matrix = keywords['Target_keys'].iloc[:,2:]#.to_numpy()\n",
    "count_matrix = keywords['Target_keys'].iloc[:,2:].applymap(lambda keyword: texts[0].count(keyword))#.to_numpy()\n",
    "labels = keywords['Target_keys'].iloc[:,0]\n",
    "\n",
    "\n",
    "for name, text in text_ls.items():\n",
    "    count_df = keywords['Target_keys'].iloc[:,2:].applymap(lambda keyword: text.count(keyword))\n",
    "    #count_matrix = count_df#.to_numpy()\n",
    "    count_df = count_df.join(labels, how='inner')\n",
    "    count_df['Sum_counts'] = count_df.sum(axis=0)\n",
    "    keywords_ = keyword_matrix[count_matrix>0]\n",
    "    #count_df = count_df[count_df['Sum_counts'] > 0]\n",
    "    # #df.replace(0, None, inplace=True)\n",
    "    #df.insert(loc=1, column='Label', value=keywords['Target_keys'].iloc[:,1])\n",
    "    # df.insert(loc=2, coulmn='Count_keys', value=df.apply(lambda x: sum(x),axis=1))\n",
    "    # df.insert(loc=3, column='Diff_keys', value=df.apply(lambda x:count(x),axis=1))\n",
    "    count_df.to_excel(f'test_{name}.xlsx')\n",
    "    np.savetxt(f'test_{name}.csv', count_matrix, delimiter=',', fmt='%i')\n",
    "    np.savetxt(f'test_{name}_keys.csv', keywords_, delimiter=',',fmt='%s')\n",
    "    # np.savetxt('test.csv', count_matrix, delimiter=',')\n",
    "    text_df.append(count_df)\n",
    "\n"
   ]
  },
  {
   "cell_type": "code",
   "execution_count": null,
   "metadata": {},
   "outputs": [],
   "source": [
    "keyword_matrix.head()"
   ]
  },
  {
   "cell_type": "code",
   "execution_count": null,
   "metadata": {},
   "outputs": [],
   "source": [
    "count_matrix.sum()"
   ]
  },
  {
   "cell_type": "code",
   "execution_count": null,
   "metadata": {},
   "outputs": [],
   "source": []
  }
 ],
 "metadata": {
  "kernelspec": {
   "name": "python3",
   "display_name": "Python 3",
   "language": "python"
  },
  "language_info": {
   "codemirror_mode": {
    "name": "ipython",
    "version": 3
   },
   "file_extension": ".py",
   "mimetype": "text/x-python",
   "name": "python",
   "nbconvert_exporter": "python",
   "pygments_lexer": "ipython3",
   "version": "3.9.1-final"
  }
 },
 "nbformat": 4,
 "nbformat_minor": 4
}