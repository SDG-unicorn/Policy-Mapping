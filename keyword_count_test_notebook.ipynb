{
 "cells": [
  {
   "cell_type": "code",
   "execution_count": 1,
   "metadata": {},
   "outputs": [],
   "source": [
    "import re, json, pathlib, logging, time, argparse, pprint \n",
    "import datetime as dt\n",
    "import importlib.resources as rsrc\n",
    "from itertools import chain\n",
    "from operator import itemgetter \n",
    "#\n",
    "from nltk.corpus import stopwords\n",
    "import pandas as pd\n",
    "import numpy as np\n",
    "import nltk as nltk\n",
    "from nltk.corpus import stopwords\n",
    "from whoosh.lang.porter import stem\n",
    "#from googletrans import Translator\n",
    "from pygoogletranslation import Translator\n",
    "import circlify as crcf\n",
    "import matplotlib.pyplot as plt\n",
    "import random\n",
    "\n",
    "import polmap.polmap as plmp\n",
    "import postprocess.postprocess as pspr\n",
    "\n",
    "\n",
    "##MM imports\n",
    "#from polmap.polmap import make_directories, preprocess_text, doc2text, SDGrefs_mapper # replaced the keyword processing block\n",
    "\n",
    "#import fromRtoPython\n",
    "\n",
    "from docx2python import docx2python\n",
    " \n",
    "#from polmap.polmap import make_directories, preprocess_text, doc2text # replaced the keyword processing block"
   ]
  },
  {
   "cell_type": "code",
   "execution_count": 14,
   "metadata": {},
   "outputs": [
    {
     "output_type": "execute_result",
     "data": {
      "text/plain": [
       "                                                Path  \\\n",
       "0  output/DirD_/output/2-doctext/WP_2021_PP_20140...   \n",
       "1  output/DirD_/output/2-doctext/WP_2021_PP_20140...   \n",
       "2  output/DirD_/output/2-doctext/WP_2021_PP_20140...   \n",
       "3  output/DirD_/output/2-doctext/WP_2021_PP_20143...   \n",
       "4  output/DirD_/output/2-doctext/WP_2021_PP_20143...   \n",
       "\n",
       "                                           File    PRJ     PP  \n",
       "0  WP_2021_PP_20140_PRJ_30690_13072021_docx.txt  30690  20140  \n",
       "1  WP_2021_PP_20140_PRJ_30701_13072021_docx.txt  30701  20140  \n",
       "2  WP_2021_PP_20140_PRJ_30743_13072021_docx.txt  30743  20140  \n",
       "3  WP_2021_PP_20143_PRJ_30323_13072021_docx.txt  30323  20143  \n",
       "4  WP_2021_PP_20143_PRJ_30325_13072021_docx.txt  30325  20143  "
      ],
      "text/html": "<div>\n<style scoped>\n    .dataframe tbody tr th:only-of-type {\n        vertical-align: middle;\n    }\n\n    .dataframe tbody tr th {\n        vertical-align: top;\n    }\n\n    .dataframe thead th {\n        text-align: right;\n    }\n</style>\n<table border=\"1\" class=\"dataframe\">\n  <thead>\n    <tr style=\"text-align: right;\">\n      <th></th>\n      <th>Path</th>\n      <th>File</th>\n      <th>PRJ</th>\n      <th>PP</th>\n    </tr>\n  </thead>\n  <tbody>\n    <tr>\n      <th>0</th>\n      <td>output/DirD_/output/2-doctext/WP_2021_PP_20140...</td>\n      <td>WP_2021_PP_20140_PRJ_30690_13072021_docx.txt</td>\n      <td>30690</td>\n      <td>20140</td>\n    </tr>\n    <tr>\n      <th>1</th>\n      <td>output/DirD_/output/2-doctext/WP_2021_PP_20140...</td>\n      <td>WP_2021_PP_20140_PRJ_30701_13072021_docx.txt</td>\n      <td>30701</td>\n      <td>20140</td>\n    </tr>\n    <tr>\n      <th>2</th>\n      <td>output/DirD_/output/2-doctext/WP_2021_PP_20140...</td>\n      <td>WP_2021_PP_20140_PRJ_30743_13072021_docx.txt</td>\n      <td>30743</td>\n      <td>20140</td>\n    </tr>\n    <tr>\n      <th>3</th>\n      <td>output/DirD_/output/2-doctext/WP_2021_PP_20143...</td>\n      <td>WP_2021_PP_20143_PRJ_30323_13072021_docx.txt</td>\n      <td>30323</td>\n      <td>20143</td>\n    </tr>\n    <tr>\n      <th>4</th>\n      <td>output/DirD_/output/2-doctext/WP_2021_PP_20143...</td>\n      <td>WP_2021_PP_20143_PRJ_30325_13072021_docx.txt</td>\n      <td>30325</td>\n      <td>20143</td>\n    </tr>\n  </tbody>\n</table>\n</div>"
     },
     "metadata": {},
     "execution_count": 14
    }
   ],
   "source": [
    "input_dir=pathlib.Path('output/DirD_/output/2-doctext')\n",
    "files = sorted(input_dir.glob('**/*.txt'))\n",
    "file_df=pd.DataFrame(files,columns=['Path'])\n",
    "file_df['File']=file_df['Path'].apply(lambda x: x.name)\n",
    "file_df['PRJ']=file_df['File'].str.extract(r'_PRJ_(\\d{5})')\n",
    "file_df['PP']=file_df['File'].str.extract(r'_PP_(\\d{5})')\n",
    "\n",
    "file_df.head()"
   ]
  },
  {
   "cell_type": "code",
   "execution_count": 22,
   "metadata": {},
   "outputs": [],
   "source": [
    "doc_text={}\n",
    "for file_ in files:\n",
    "    with open(file_, 'r') as f:    \n",
    "        doc_text[file_.name]=f.read()\n",
    "    doc_text[file_.name]=re.findall(r\"SDG\\n\\n([a-zA-z, -]{1,})\\n\", doc_text[file_.name], flags=re.IGNORECASE)"
   ]
  },
  {
   "cell_type": "code",
   "execution_count": 28,
   "metadata": {},
   "outputs": [
    {
     "output_type": "execute_result",
     "data": {
      "text/plain": [
       "                                                Path  \\\n",
       "0  output/DirD_/output/2-doctext/WP_2021_PP_20140...   \n",
       "1  output/DirD_/output/2-doctext/WP_2021_PP_20140...   \n",
       "2  output/DirD_/output/2-doctext/WP_2021_PP_20140...   \n",
       "3  output/DirD_/output/2-doctext/WP_2021_PP_20143...   \n",
       "4  output/DirD_/output/2-doctext/WP_2021_PP_20143...   \n",
       "\n",
       "                                           File    PRJ     PP  \\\n",
       "0  WP_2021_PP_20140_PRJ_30690_13072021_docx.txt  30690  20140   \n",
       "1  WP_2021_PP_20140_PRJ_30701_13072021_docx.txt  30701  20140   \n",
       "2  WP_2021_PP_20140_PRJ_30743_13072021_docx.txt  30743  20140   \n",
       "3  WP_2021_PP_20143_PRJ_30323_13072021_docx.txt  30323  20143   \n",
       "4  WP_2021_PP_20143_PRJ_30325_13072021_docx.txt  30325  20143   \n",
       "\n",
       "                                       SDG  \n",
       "0                           Climate Action  \n",
       "1                           Climate Action  \n",
       "2                           Climate Action  \n",
       "3  Industry, Innovation and Infrastructure  \n",
       "4   Responsible Consumption and Production  "
      ],
      "text/html": "<div>\n<style scoped>\n    .dataframe tbody tr th:only-of-type {\n        vertical-align: middle;\n    }\n\n    .dataframe tbody tr th {\n        vertical-align: top;\n    }\n\n    .dataframe thead th {\n        text-align: right;\n    }\n</style>\n<table border=\"1\" class=\"dataframe\">\n  <thead>\n    <tr style=\"text-align: right;\">\n      <th></th>\n      <th>Path</th>\n      <th>File</th>\n      <th>PRJ</th>\n      <th>PP</th>\n      <th>SDG</th>\n    </tr>\n  </thead>\n  <tbody>\n    <tr>\n      <th>0</th>\n      <td>output/DirD_/output/2-doctext/WP_2021_PP_20140...</td>\n      <td>WP_2021_PP_20140_PRJ_30690_13072021_docx.txt</td>\n      <td>30690</td>\n      <td>20140</td>\n      <td>Climate Action</td>\n    </tr>\n    <tr>\n      <th>1</th>\n      <td>output/DirD_/output/2-doctext/WP_2021_PP_20140...</td>\n      <td>WP_2021_PP_20140_PRJ_30701_13072021_docx.txt</td>\n      <td>30701</td>\n      <td>20140</td>\n      <td>Climate Action</td>\n    </tr>\n    <tr>\n      <th>2</th>\n      <td>output/DirD_/output/2-doctext/WP_2021_PP_20140...</td>\n      <td>WP_2021_PP_20140_PRJ_30743_13072021_docx.txt</td>\n      <td>30743</td>\n      <td>20140</td>\n      <td>Climate Action</td>\n    </tr>\n    <tr>\n      <th>3</th>\n      <td>output/DirD_/output/2-doctext/WP_2021_PP_20143...</td>\n      <td>WP_2021_PP_20143_PRJ_30323_13072021_docx.txt</td>\n      <td>30323</td>\n      <td>20143</td>\n      <td>Industry, Innovation and Infrastructure</td>\n    </tr>\n    <tr>\n      <th>4</th>\n      <td>output/DirD_/output/2-doctext/WP_2021_PP_20143...</td>\n      <td>WP_2021_PP_20143_PRJ_30325_13072021_docx.txt</td>\n      <td>30325</td>\n      <td>20143</td>\n      <td>Responsible Consumption and Production</td>\n    </tr>\n  </tbody>\n</table>\n</div>"
     },
     "metadata": {},
     "execution_count": 28
    }
   ],
   "source": [
    "#for name, value in doc_text.items():\n",
    "    #print(name, value)\n",
    "\n",
    "file_df['SDG']=file_df['File'].apply(lambda x: doc_text[x][0])\n",
    "file_df.head()"
   ]
  },
  {
   "cell_type": "code",
   "execution_count": 24,
   "metadata": {},
   "outputs": [
    {
     "output_type": "execute_result",
     "data": {
      "text/plain": [
       "      PP  PP Acronym    PRJ      PRJ Acronym Policy Area  \\\n",
       "0  20140    LANDCLIM  30690       AFOLU GHGI    1.1 2021   \n",
       "1  20140    LANDCLIM  30701           FORMIT    1.1 2021   \n",
       "2  20140    LANDCLIM  30743  INTEGRATE-AFOLU    1.1 2021   \n",
       "3  20143  SVC-RAWMAT  30323             RMIS    1.5 2021   \n",
       "4  20143  SVC-RAWMAT  30325          SureVAL    1.5 2021   \n",
       "\n",
       "                                           PRJ Title     Unit Main Pol. DG  \\\n",
       "0  GHG inventory monitoring and development in Ag...  JRC.D.1      CLIMA\\n   \n",
       "1  Forest mitigation contribution to climate neut...  JRC.D.1      CLIMA\\n   \n",
       "2  Integrate Agriculture, Forestry and Land Use S...  JRC.D.4      CLIMA\\n   \n",
       "3                   Raw Materials Information System  JRC.D.3       GROW\\n   \n",
       "4  SUstainable and secure sourcing of Raw materia...  JRC.D.3       GROW\\n   \n",
       "\n",
       "                  Fundings  Start date    End date  Status WKF Status  \n",
       "0  CON-AA 35608\\n INS-RS\\n  01/01/2021  31/12/2022  ACTIVE      Draft  \n",
       "1                 INS-RS\\n  01/01/2021  31/12/2022  ACTIVE      Draft  \n",
       "2                 INS-UR\\n  01/01/2021  31/12/2022  ACTIVE      Draft  \n",
       "3  CON-AA 35889\\n INS-RS\\n  01/01/2021  31/12/2022  ACTIVE      Draft  \n",
       "4  CON-AA 35889\\n INS-RS\\n  01/01/2021  31/12/2022  ACTIVE      Draft  "
      ],
      "text/html": "<div>\n<style scoped>\n    .dataframe tbody tr th:only-of-type {\n        vertical-align: middle;\n    }\n\n    .dataframe tbody tr th {\n        vertical-align: top;\n    }\n\n    .dataframe thead th {\n        text-align: right;\n    }\n</style>\n<table border=\"1\" class=\"dataframe\">\n  <thead>\n    <tr style=\"text-align: right;\">\n      <th></th>\n      <th>PP</th>\n      <th>PP Acronym</th>\n      <th>PRJ</th>\n      <th>PRJ Acronym</th>\n      <th>Policy Area</th>\n      <th>PRJ Title</th>\n      <th>Unit</th>\n      <th>Main Pol. DG</th>\n      <th>Fundings</th>\n      <th>Start date</th>\n      <th>End date</th>\n      <th>Status</th>\n      <th>WKF Status</th>\n    </tr>\n  </thead>\n  <tbody>\n    <tr>\n      <th>0</th>\n      <td>20140</td>\n      <td>LANDCLIM</td>\n      <td>30690</td>\n      <td>AFOLU GHGI</td>\n      <td>1.1 2021</td>\n      <td>GHG inventory monitoring and development in Ag...</td>\n      <td>JRC.D.1</td>\n      <td>CLIMA\\n</td>\n      <td>CON-AA 35608\\n INS-RS\\n</td>\n      <td>01/01/2021</td>\n      <td>31/12/2022</td>\n      <td>ACTIVE</td>\n      <td>Draft</td>\n    </tr>\n    <tr>\n      <th>1</th>\n      <td>20140</td>\n      <td>LANDCLIM</td>\n      <td>30701</td>\n      <td>FORMIT</td>\n      <td>1.1 2021</td>\n      <td>Forest mitigation contribution to climate neut...</td>\n      <td>JRC.D.1</td>\n      <td>CLIMA\\n</td>\n      <td>INS-RS\\n</td>\n      <td>01/01/2021</td>\n      <td>31/12/2022</td>\n      <td>ACTIVE</td>\n      <td>Draft</td>\n    </tr>\n    <tr>\n      <th>2</th>\n      <td>20140</td>\n      <td>LANDCLIM</td>\n      <td>30743</td>\n      <td>INTEGRATE-AFOLU</td>\n      <td>1.1 2021</td>\n      <td>Integrate Agriculture, Forestry and Land Use S...</td>\n      <td>JRC.D.4</td>\n      <td>CLIMA\\n</td>\n      <td>INS-UR\\n</td>\n      <td>01/01/2021</td>\n      <td>31/12/2022</td>\n      <td>ACTIVE</td>\n      <td>Draft</td>\n    </tr>\n    <tr>\n      <th>3</th>\n      <td>20143</td>\n      <td>SVC-RAWMAT</td>\n      <td>30323</td>\n      <td>RMIS</td>\n      <td>1.5 2021</td>\n      <td>Raw Materials Information System</td>\n      <td>JRC.D.3</td>\n      <td>GROW\\n</td>\n      <td>CON-AA 35889\\n INS-RS\\n</td>\n      <td>01/01/2021</td>\n      <td>31/12/2022</td>\n      <td>ACTIVE</td>\n      <td>Draft</td>\n    </tr>\n    <tr>\n      <th>4</th>\n      <td>20143</td>\n      <td>SVC-RAWMAT</td>\n      <td>30325</td>\n      <td>SureVAL</td>\n      <td>1.5 2021</td>\n      <td>SUstainable and secure sourcing of Raw materia...</td>\n      <td>JRC.D.3</td>\n      <td>GROW\\n</td>\n      <td>CON-AA 35889\\n INS-RS\\n</td>\n      <td>01/01/2021</td>\n      <td>31/12/2022</td>\n      <td>ACTIVE</td>\n      <td>Draft</td>\n    </tr>\n  </tbody>\n</table>\n</div>"
     },
     "metadata": {},
     "execution_count": 24
    }
   ],
   "source": [
    "dird_df=pd.read_excel('input/Projects_overview.xlsx')\n",
    "dird_df.head()"
   ]
  },
  {
   "cell_type": "code",
   "execution_count": 34,
   "metadata": {},
   "outputs": [],
   "source": [
    "file_df['PRJ']=file_df['PRJ'].astype(str)\n",
    "dird_df['PRJ']=dird_df['PRJ'].astype(str)\n",
    "final=dird_df.merge(file_df[['PRJ','File','SDG']], on='PRJ',how='left')"
   ]
  },
  {
   "cell_type": "code",
   "execution_count": 36,
   "metadata": {},
   "outputs": [],
   "source": [
    "final.head()\n",
    "final.to_excel('dird_project_summary.xlsx')"
   ]
  },
  {
   "cell_type": "code",
   "execution_count": null,
   "metadata": {},
   "outputs": [],
   "source": []
  }
 ],
 "metadata": {
  "kernelspec": {
   "name": "python3",
   "display_name": "Python 3.9.1 64-bit ('polmap': conda)"
  },
  "language_info": {
   "codemirror_mode": {
    "name": "ipython",
    "version": 3
   },
   "file_extension": ".py",
   "mimetype": "text/x-python",
   "name": "python",
   "nbconvert_exporter": "python",
   "pygments_lexer": "ipython3",
   "version": "3.9.1"
  },
  "interpreter": {
   "hash": "3c701ea15ff6b8cd345d7eda6702a5a5acbef34c5d809ba6ada83c604f672a97"
  }
 },
 "nbformat": 4,
 "nbformat_minor": 4
}