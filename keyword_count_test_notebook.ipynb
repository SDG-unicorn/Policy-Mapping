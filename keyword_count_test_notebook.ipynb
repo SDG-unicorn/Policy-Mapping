{
 "cells": [
  {
   "cell_type": "code",
   "execution_count": 1,
   "metadata": {},
   "outputs": [],
   "source": [
    "#make_directories\n",
    "import datetime as dt\n",
    "import pathlib\n",
    "import warnings\n"
   ]
  },
  {
   "cell_type": "code",
   "execution_count": 2,
   "metadata": {},
   "outputs": [],
   "source": [
    "def make_directories(input_directory, out_dir='current'):\n",
    "\n",
    "    current_date = dt.datetime.now().isoformat(timespec='seconds').replace(':','-').replace('T','_T_')\n",
    "\n",
    "    project_title = input_directory.name+'_'+current_date\n",
    "\n",
    "    if out_dir=='current':\n",
    "        out_dir = pathlib.Path.cwd() / 'output' / project_title\n",
    "    elif not isinstance(out_dir, pathlib.Path): #test if out dir is of type path\n",
    "        raise TypeError('out_dir is not Path object')\n",
    "\n",
    "    directory_dict = {\n",
    "        'out_dir' : out_dir ,\n",
    "        'log_dir' : out_dir / 'logs' ,\n",
    "        'results_dir' : out_dir / 'results' ,\n",
    "        'doctext_dir' : out_dir / 'doctext' ,\n",
    "        'doctext_stemmed_dir' : out_dir / 'doctext_stemmed' ,\n",
    "        'processed_keywords_dir' : out_dir / 'processed_keywords' ,\n",
    "    }\n",
    "\n",
    "    \n",
    "    for directory in directory_dict.values():\n",
    "        directory.mkdir(mode=0o777, parents=True, exist_ok=True)\n",
    "\n",
    "    return directory_dict"
   ]
  },
  {
   "cell_type": "code",
   "execution_count": 3,
   "metadata": {},
   "outputs": [
    {
     "output_type": "stream",
     "name": "stdout",
     "text": [
      "True\n"
     ]
    }
   ],
   "source": [
    "input_dir = pathlib.Path.cwd() / 'pdf_re' / 'Test' / 'Eurlex'\n",
    "\n",
    "print(isinstance(input_dir, pathlib.Path))\n",
    "\n",
    "out_dir = make_directories(input_dir)"
   ]
  },
  {
   "cell_type": "code",
   "execution_count": 5,
   "metadata": {},
   "outputs": [
    {
     "output_type": "stream",
     "name": "stdout",
     "text": [
      "out_dir /mnt/d/OneDrive/SDG/Policy-Mapping/output/Eurlex_2021-02-12_T_10-10-08 \n\nlog_dir /mnt/d/OneDrive/SDG/Policy-Mapping/output/Eurlex_2021-02-12_T_10-10-08/logs \n\nresults_dir /mnt/d/OneDrive/SDG/Policy-Mapping/output/Eurlex_2021-02-12_T_10-10-08/results \n\ndoctext_dir /mnt/d/OneDrive/SDG/Policy-Mapping/output/Eurlex_2021-02-12_T_10-10-08/doctext \n\ndoctext_stemmed_dir /mnt/d/OneDrive/SDG/Policy-Mapping/output/Eurlex_2021-02-12_T_10-10-08/doctext_stemmed \n\nprocessed_keywords_dir /mnt/d/OneDrive/SDG/Policy-Mapping/output/Eurlex_2021-02-12_T_10-10-08/processed_keywords \n\n"
     ]
    }
   ],
   "source": [
    "for key, value in out_dir.items():\n",
    "    print(key, value, '\\n')"
   ]
  },
  {
   "cell_type": "code",
   "execution_count": 12,
   "metadata": {},
   "outputs": [
    {
     "output_type": "stream",
     "name": "stdout",
     "text": [
      "<class 'dict_values'>\n"
     ]
    }
   ],
   "source": [
    "print(type(out_dir.values()))\n",
    "out_dir, log_dir, results_dir, doctext_dir, doctext_stemmed_dir, processed_keywords_dir = out_dir.values()"
   ]
  },
  {
   "cell_type": "code",
   "execution_count": 13,
   "metadata": {},
   "outputs": [
    {
     "output_type": "execute_result",
     "data": {
      "text/plain": [
       "PosixPath('/mnt/d/OneDrive/SDG/Policy-Mapping/output/Eurlex_2021-02-12_T_10-10-08/logs')"
      ]
     },
     "metadata": {},
     "execution_count": 13
    }
   ],
   "source": [
    "log_dir"
   ]
  },
  {
   "cell_type": "code",
   "execution_count": 14,
   "metadata": {},
   "outputs": [
    {
     "output_type": "execute_result",
     "data": {
      "text/plain": [
       "PosixPath('/mnt/d/OneDrive/SDG/Policy-Mapping/output/Eurlex_2021-02-12_T_10-10-08/doctext_stemmed')"
      ]
     },
     "metadata": {},
     "execution_count": 14
    }
   ],
   "source": [
    "doctext_stemmed_dir"
   ]
  },
  {
   "cell_type": "code",
   "execution_count": null,
   "metadata": {},
   "outputs": [],
   "source": []
  }
 ],
 "metadata": {
  "kernelspec": {
   "name": "python3",
   "display_name": "Python 3.9.1 64-bit ('polmap': conda)",
   "metadata": {
    "interpreter": {
     "hash": "3c701ea15ff6b8cd345d7eda6702a5a5acbef34c5d809ba6ada83c604f672a97"
    }
   }
  },
  "language_info": {
   "codemirror_mode": {
    "name": "ipython",
    "version": 3
   },
   "file_extension": ".py",
   "mimetype": "text/x-python",
   "name": "python",
   "nbconvert_exporter": "python",
   "pygments_lexer": "ipython3",
   "version": "3.9.1-final"
  }
 },
 "nbformat": 4,
 "nbformat_minor": 4
}