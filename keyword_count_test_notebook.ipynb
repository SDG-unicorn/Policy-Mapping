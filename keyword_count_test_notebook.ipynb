{
 "cells": [
  {
   "cell_type": "code",
   "execution_count": 1,
   "metadata": {},
   "outputs": [],
   "source": [
    "import re, json, pathlib, logging, time, argparse, pprint\n",
    "import datetime as dt\n",
    "from itertools import chain\n",
    "#\n",
    "from nltk.corpus import stopwords\n",
    "import pandas as pd\n",
    "import numpy as np\n",
    "import nltk as nltk\n",
    "from nltk.corpus import stopwords\n",
    "from whoosh.lang.porter import stem\n",
    "#from googletrans import Translator\n",
    "from pygoogletranslation import Translator\n",
    "\n",
    "\n",
    "##MM imports\n",
    "#from polmap.polmap import make_directories, preprocess_text, doc2text, SDGrefs_mapper # replaced the keyword processing block\n",
    "\n",
    "#import fromRtoPython\n",
    "\n",
    "from docx2python import docx2python\n",
    " \n",
    "#from polmap.polmap import make_directories, preprocess_text, doc2text # replaced the keyword processing block"
   ]
  },
  {
   "cell_type": "code",
   "execution_count": null,
   "metadata": {},
   "outputs": [],
   "source": [
    "colors = [\"#E5243B\",\"#DDA63A\",\"#4C9F38\",\"#C5192D\",\n",
    "\"#FF3A21\",\"#26BDE2\",\"#FCC30B\",\"#A21942\",\n",
    "\"#FD6925\",\"#DD1367\",\"#FD9D24\",\"#BF8B2E\",\n",
    "\"#3F7E44\",\"#0A97D9\",\"#56C02B\",\"#00689D\",\"#19486A\"]\n",
    "\n",
    "sdg_colors = {f'SDG {count.zfill(width)}' : color for count, color in enumerate(colors)}\n",
    "\n",
    "bubble_chart = BubbleChart(area=total['Goal'],\n",
    "                           bubble_spacing=0.1)\n",
    "\n",
    "bubble_chart.collapse()\n",
    "\n",
    "fig, ax = plt.subplots(subplot_kw=dict(aspect=\"equal\"))\n",
    "bubble_chart.plot(\n",
    "    ax, browser_market_share['Goal'], sdg_colors[browser_market_share['Goal']])\n",
    "ax.axis(\"off\")\n",
    "ax.relim()\n",
    "ax.autoscale_view()\n",
    "ax.set_title('Browser market share')\n",
    "\n",
    "plt.show()"
   ]
  },
  {
   "cell_type": "code",
   "execution_count": 2,
   "metadata": {},
   "outputs": [],
   "source": [
    "input = 'keywords/keywords_copia.xlsx'\n",
    "keywords = pd.ExcelFile(input)\n",
    "filename = pathlib.Path(input).stem\n",
    "timestamp =  dt.datetime.now().isoformat(timespec='seconds').replace(':','').replace('T','_T')\n",
    "filename += f'_{timestamp}'\n",
    "\n",
    "output = f'{filename}.xlsx'\n",
    "\n",
    "#sheets = a list of sheets where keywords are\n",
    "#keys_df = [keywords.parse(sheet) for sheet in sheets]\n",
    "keys_dfs = [keywords.parse('Target_keys'), keywords.parse('Goal_keys'), keywords.parse('MOI')]\n",
    "\n",
    "for index, df in enumerate(keys_dfs):\n",
    "    df['Keys']=df['Keys'].apply(lambda keywords: re.sub(';$', '', keywords))\n",
    "    df['Keys']=df['Keys'].apply(lambda keywords: re.sub(';;', ';', keywords))\n",
    "    ex_df=df['Keys'].str.split(';', expand=True)\n",
    "    lab_df=df.drop(columns='Keys')\n",
    "    keys_dfs[index]=lab_df.join(ex_df)\n",
    "    #df['Keys']=df['Keys'].apply(lambda keywords: re.sub(r'[^a-zA-Z0-9; -.]+', ';', keywords))\n",
    "\n",
    "ex_df.head()\n",
    "\n",
    "keys_dfs.append(keywords.parse('developing_countries'))\n",
    "\n",
    "target_df, goal_df, devco_df, devco_names = keys_dfs"
   ]
  },
  {
   "cell_type": "code",
   "execution_count": 3,
   "metadata": {},
   "outputs": [
    {
     "output_type": "execute_result",
     "data": {
      "text/plain": [
       "  Target                                    0                          1  \\\n",
       "0    1.1           international poverty line            extreme poverty   \n",
       "1    1.2  severely materially deprived people         low work intensity   \n",
       "2    1.3                          social risk          social protection   \n",
       "3    1.4                       basic services              tenure rights   \n",
       "4    1.5              disaster risk reduction  vulnerability in disaster   \n",
       "\n",
       "                                     2                              3  \\\n",
       "0                       abject poverty               absolute poverty   \n",
       "1                national poverty line               social exclusion   \n",
       "2  rights of persons with disabilities   rights of unemployed persons   \n",
       "3   equal rights to economic resources              control over land   \n",
       "4           affected by extreme events         resilience of the poor   \n",
       "\n",
       "                                 4                         5  \\\n",
       "0                      destitution                    penury   \n",
       "1                   income poverty  combatting child poverty   \n",
       "2          rights of older persons  rights of pregnant women   \n",
       "3            access to inheritance            rights to land   \n",
       "4  resilience of vulnerable people      reduce vulnerability   \n",
       "\n",
       "                               6  \\\n",
       "0             severe deprivation   \n",
       "1        children out of poverty   \n",
       "2  rights of work-injury victims   \n",
       "3           \\naccess to property   \n",
       "4         resilience to disaster   \n",
       "\n",
       "                                                   7  \\\n",
       "0  help people suffering from food and material d...   \n",
       "1                           addressing child poverty   \n",
       "2                                 rights of the poor   \n",
       "3                        access to natural resources   \n",
       "4                                disaster resilience   \n",
       "\n",
       "                          8  ...    47    48    49    50    51    52    53  \\\n",
       "0            extremely poor  ...  None  None  None  None  None  None  None   \n",
       "1        at risk of poverty  ...  None  None  None  None  None  None  None   \n",
       "2  rights of the vulnerable  ...  None  None  None  None  None  None  None   \n",
       "3  access to new technology  ...  None  None  None  None  None  None  None   \n",
       "4         vulnerable people  ...  None  None  None  None  None  None  None   \n",
       "\n",
       "     54    55    56  \n",
       "0  None  None  None  \n",
       "1  None  None  None  \n",
       "2  None  None  None  \n",
       "3  None  None  None  \n",
       "4  None  None  None  \n",
       "\n",
       "[5 rows x 58 columns]"
      ],
      "text/html": "<div>\n<style scoped>\n    .dataframe tbody tr th:only-of-type {\n        vertical-align: middle;\n    }\n\n    .dataframe tbody tr th {\n        vertical-align: top;\n    }\n\n    .dataframe thead th {\n        text-align: right;\n    }\n</style>\n<table border=\"1\" class=\"dataframe\">\n  <thead>\n    <tr style=\"text-align: right;\">\n      <th></th>\n      <th>Target</th>\n      <th>0</th>\n      <th>1</th>\n      <th>2</th>\n      <th>3</th>\n      <th>4</th>\n      <th>5</th>\n      <th>6</th>\n      <th>7</th>\n      <th>8</th>\n      <th>...</th>\n      <th>47</th>\n      <th>48</th>\n      <th>49</th>\n      <th>50</th>\n      <th>51</th>\n      <th>52</th>\n      <th>53</th>\n      <th>54</th>\n      <th>55</th>\n      <th>56</th>\n    </tr>\n  </thead>\n  <tbody>\n    <tr>\n      <th>0</th>\n      <td>1.1</td>\n      <td>international poverty line</td>\n      <td>extreme poverty</td>\n      <td>abject poverty</td>\n      <td>absolute poverty</td>\n      <td>destitution</td>\n      <td>penury</td>\n      <td>severe deprivation</td>\n      <td>help people suffering from food and material d...</td>\n      <td>extremely poor</td>\n      <td>...</td>\n      <td>None</td>\n      <td>None</td>\n      <td>None</td>\n      <td>None</td>\n      <td>None</td>\n      <td>None</td>\n      <td>None</td>\n      <td>None</td>\n      <td>None</td>\n      <td>None</td>\n    </tr>\n    <tr>\n      <th>1</th>\n      <td>1.2</td>\n      <td>severely materially deprived people</td>\n      <td>low work intensity</td>\n      <td>national poverty line</td>\n      <td>social exclusion</td>\n      <td>income poverty</td>\n      <td>combatting child poverty</td>\n      <td>children out of poverty</td>\n      <td>addressing child poverty</td>\n      <td>at risk of poverty</td>\n      <td>...</td>\n      <td>None</td>\n      <td>None</td>\n      <td>None</td>\n      <td>None</td>\n      <td>None</td>\n      <td>None</td>\n      <td>None</td>\n      <td>None</td>\n      <td>None</td>\n      <td>None</td>\n    </tr>\n    <tr>\n      <th>2</th>\n      <td>1.3</td>\n      <td>social risk</td>\n      <td>social protection</td>\n      <td>rights of persons with disabilities</td>\n      <td>rights of unemployed persons</td>\n      <td>rights of older persons</td>\n      <td>rights of pregnant women</td>\n      <td>rights of work-injury victims</td>\n      <td>rights of the poor</td>\n      <td>rights of the vulnerable</td>\n      <td>...</td>\n      <td>None</td>\n      <td>None</td>\n      <td>None</td>\n      <td>None</td>\n      <td>None</td>\n      <td>None</td>\n      <td>None</td>\n      <td>None</td>\n      <td>None</td>\n      <td>None</td>\n    </tr>\n    <tr>\n      <th>3</th>\n      <td>1.4</td>\n      <td>basic services</td>\n      <td>tenure rights</td>\n      <td>equal rights to economic resources</td>\n      <td>control over land</td>\n      <td>access to inheritance</td>\n      <td>rights to land</td>\n      <td>\\naccess to property</td>\n      <td>access to natural resources</td>\n      <td>access to new technology</td>\n      <td>...</td>\n      <td>None</td>\n      <td>None</td>\n      <td>None</td>\n      <td>None</td>\n      <td>None</td>\n      <td>None</td>\n      <td>None</td>\n      <td>None</td>\n      <td>None</td>\n      <td>None</td>\n    </tr>\n    <tr>\n      <th>4</th>\n      <td>1.5</td>\n      <td>disaster risk reduction</td>\n      <td>vulnerability in disaster</td>\n      <td>affected by extreme events</td>\n      <td>resilience of the poor</td>\n      <td>resilience of vulnerable people</td>\n      <td>reduce vulnerability</td>\n      <td>resilience to disaster</td>\n      <td>disaster resilience</td>\n      <td>vulnerable people</td>\n      <td>...</td>\n      <td>None</td>\n      <td>None</td>\n      <td>None</td>\n      <td>None</td>\n      <td>None</td>\n      <td>None</td>\n      <td>None</td>\n      <td>None</td>\n      <td>None</td>\n      <td>None</td>\n    </tr>\n  </tbody>\n</table>\n<p>5 rows × 58 columns</p>\n</div>"
     },
     "metadata": {},
     "execution_count": 3
    }
   ],
   "source": [
    "target_df.head()"
   ]
  },
  {
   "cell_type": "code",
   "execution_count": null,
   "metadata": {},
   "outputs": [],
   "source": [
    "ex_target_df=target_df['Keys'].str.split(';', expand=True)\n",
    "lab_target_df=target_df.drop(columns='Keys')\n",
    "lab_target_df.head()"
   ]
  },
  {
   "cell_type": "code",
   "execution_count": 4,
   "metadata": {},
   "outputs": [],
   "source": [
    "with pd.ExcelWriter(output, engine='xlsxwriter') as writer: # 'keywords_copy_for_transaltion.xlsx'\n",
    "    target_df.to_excel(writer, sheet_name='Target_keys')\n",
    "    goal_df.to_excel(writer, sheet_name='Goal_keys')\n",
    "    devco_df.to_excel(writer, sheet_name='MOI')\n",
    "    devco_names.to_excel(writer, sheet_name='developing_countries')"
   ]
  },
  {
   "cell_type": "code",
   "execution_count": null,
   "metadata": {},
   "outputs": [],
   "source": [
    "print(output)"
   ]
  },
  {
   "cell_type": "code",
   "execution_count": null,
   "metadata": {},
   "outputs": [],
   "source": []
  }
 ],
 "metadata": {
  "kernelspec": {
   "name": "python3",
   "display_name": "Python 3",
   "language": "python"
  },
  "language_info": {
   "codemirror_mode": {
    "name": "ipython",
    "version": 3
   },
   "file_extension": ".py",
   "mimetype": "text/x-python",
   "name": "python",
   "nbconvert_exporter": "python",
   "pygments_lexer": "ipython3",
   "version": "3.9.1-final"
  }
 },
 "nbformat": 4,
 "nbformat_minor": 4
}