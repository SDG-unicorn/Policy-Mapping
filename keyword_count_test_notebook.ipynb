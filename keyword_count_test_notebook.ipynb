{
 "cells": [
  {
   "cell_type": "code",
   "execution_count": 16,
   "metadata": {},
   "outputs": [],
   "source": [
    "import re, json, pathlib, logging, time, argparse, pprint \n",
    "import datetime as dt\n",
    "from itertools import chain\n",
    "from operator import itemgetter \n",
    "#\n",
    "from nltk.corpus import stopwords\n",
    "import pandas as pd\n",
    "import numpy as np\n",
    "import nltk as nltk\n",
    "from nltk.corpus import stopwords\n",
    "from whoosh.lang.porter import stem\n",
    "#from googletrans import Translator\n",
    "from pygoogletranslation import Translator\n",
    "\n",
    "import polmap.polmap as plmp\n",
    "\n",
    "\n",
    "##MM imports\n",
    "#from polmap.polmap import make_directories, preprocess_text, doc2text, SDGrefs_mapper # replaced the keyword processing block\n",
    "\n",
    "#import fromRtoPython\n",
    "\n",
    "from docx2python import docx2python\n",
    " \n",
    "#from polmap.polmap import make_directories, preprocess_text, doc2text # replaced the keyword processing block"
   ]
  },
  {
   "cell_type": "code",
   "execution_count": null,
   "metadata": {},
   "outputs": [],
   "source": [
    "colors = [\"#E5243B\",\"#DDA63A\",\"#4C9F38\",\"#C5192D\",\n",
    "\"#FF3A21\",\"#26BDE2\",\"#FCC30B\",\"#A21942\",\n",
    "\"#FD6925\",\"#DD1367\",\"#FD9D24\",\"#BF8B2E\",\n",
    "\"#3F7E44\",\"#0A97D9\",\"#56C02B\",\"#00689D\",\"#19486A\"]\n",
    "\n",
    "sdg_colors = {f'SDG {count.zfill(width)}' : color for count, color in enumerate(colors)}\n",
    "\n",
    "bubble_chart = BubbleChart(area=total['Goal'],\n",
    "                           bubble_spacing=0.1)\n",
    "\n",
    "bubble_chart.collapse()\n",
    "\n",
    "fig, ax = plt.subplots(subplot_kw=dict(aspect=\"equal\"))\n",
    "bubble_chart.plot(\n",
    "    ax, browser_market_share['Goal'], sdg_colors[browser_market_share['Goal']])\n",
    "ax.axis(\"off\")\n",
    "ax.relim()\n",
    "ax.autoscale_view()\n",
    "ax.set_title('Browser market share')\n",
    "\n",
    "plt.show()"
   ]
  },
  {
   "cell_type": "code",
   "execution_count": null,
   "metadata": {},
   "outputs": [],
   "source": [
    "#Expand keywords\n",
    "\n",
    "input = 'keywords/keywords_copia.xlsx'\n",
    "keywords = pd.ExcelFile(input)\n",
    "filename = pathlib.Path(input).stem\n",
    "timestamp =  dt.datetime.now().isoformat(timespec='seconds').replace(':','').replace('T','_T')\n",
    "filename += f'_{timestamp}'\n",
    "\n",
    "output = f'{filename}.xlsx'\n",
    "\n",
    "#sheets = a list of sheets where keywords are\n",
    "#keys_df = [keywords.parse(sheet) for sheet in sheets]\n",
    "keys_dfs = [keywords.parse('Target_keys'), keywords.parse('Goal_keys'), keywords.parse('MOI')]\n",
    "\n",
    "for index, df in enumerate(keys_dfs):\n",
    "    df['Keys']=df['Keys'].apply(lambda keywords: re.sub(';$', '', keywords))\n",
    "    df['Keys']=df['Keys'].apply(lambda keywords: re.sub(';;', ';', keywords))\n",
    "    ex_df=df['Keys'].str.split(';', expand=True)\n",
    "    lab_df=df.drop(columns='Keys')\n",
    "    keys_dfs[index]=lab_df.join(ex_df)\n",
    "    #df['Keys']=df['Keys'].apply(lambda keywords: re.sub(r'[^a-zA-Z0-9; -.]+', ';', keywords))\n",
    "\n",
    "ex_df.head()\n",
    "\n",
    "keys_dfs.append(keywords.parse('developing_countries'))\n",
    "\n",
    "target_df, goal_df, devco_df, devco_names = keys_dfs"
   ]
  },
  {
   "cell_type": "code",
   "execution_count": null,
   "metadata": {},
   "outputs": [],
   "source": [
    "target_df.head()"
   ]
  },
  {
   "cell_type": "code",
   "execution_count": null,
   "metadata": {},
   "outputs": [],
   "source": [
    "ex_target_df=target_df['Keys'].str.split(';', expand=True)\n",
    "lab_target_df=target_df.drop(columns='Keys')\n",
    "lab_target_df.head()"
   ]
  },
  {
   "cell_type": "code",
   "execution_count": null,
   "metadata": {},
   "outputs": [],
   "source": [
    "with pd.ExcelWriter(output, engine='xlsxwriter') as writer: # 'keywords_copy_for_transaltion.xlsx'\n",
    "    target_df.to_excel(writer, sheet_name='Target_keys')\n",
    "    goal_df.to_excel(writer, sheet_name='Goal_keys')\n",
    "    devco_df.to_excel(writer, sheet_name='MOI')\n",
    "    devco_names.to_excel(writer, sheet_name='developing_countries')"
   ]
  },
  {
   "cell_type": "code",
   "execution_count": null,
   "metadata": {},
   "outputs": [],
   "source": [
    "#Load expand keywords\n",
    "\n",
    "input = 'keywords/keywords_expanded.xlsx'\n",
    "\n",
    "keywords = pd.ExcelFile(input)\n",
    "\n",
    "sheets = keywords.sheet_names\n",
    "print(f\"Reading keywords dataset in {input}.\\nSheets: {', '.join(sheets)}\")\n",
    "\n",
    "keywords = {sheet : keywords.parse(sheet, index_col=0) for sheet in sheets}\n",
    "keywords_sheets = ['Target_keys', 'Goal_keys', 'MOI']\n",
    "\n",
    "#remove all from stop_words to keep in keywords\n",
    "stop_words = set(stopwords.words('english'))-set(['no','not','nor'])\n",
    "stop_words.remove('all')\n",
    "\n",
    "for sheet in keywords_sheets:\n",
    "    # keywords[sheet]['Keys'] = keywords[sheet]['Keys'].apply(lambda keywords: re.sub(';$', '', keywords))\n",
    "    # keywords[sheet]['Keys'] = keywords[sheet]['Keys'].apply(lambda keywords: [plmp.preprocess_text(keyword, stop_words) for keyword in keywords.split(';')])\n",
    "    keywords[sheet].iloc[:,2:]=keywords[sheet].iloc[:,2:].applymap(lambda keyword: plmp.preprocess_text(str(keyword), stop_words))"
   ]
  },
  {
   "cell_type": "code",
   "execution_count": null,
   "metadata": {},
   "outputs": [],
   "source": [
    "keywords['Target_keys'].head()"
   ]
  },
  {
   "cell_type": "code",
   "execution_count": null,
   "metadata": {},
   "outputs": [],
   "source": [
    "#Load text\n",
    "\n",
    "input = pathlib.Path('input/52019DC0640_stemmed')\n",
    "\n",
    "files = sorted(input.glob('**/*.*'))\n",
    "\n",
    "print(files)\n",
    "\n",
    "text_ls = {}\n",
    "\n",
    "for _file in files:\n",
    "    with open(_file, 'r') as _f:\n",
    "        text_ls[_file.stem]=_f.read()"
   ]
  },
  {
   "cell_type": "code",
   "execution_count": null,
   "metadata": {},
   "outputs": [],
   "source": [
    "def count_keyword(text, keyword):\n",
    "\n",
    "count = text.count(keyword)\n"
   ]
  },
  {
   "cell_type": "code",
   "execution_count": null,
   "metadata": {},
   "outputs": [],
   "source": [
    "keywords['Target_keys']"
   ]
  },
  {
   "cell_type": "code",
   "execution_count": null,
   "metadata": {},
   "outputs": [],
   "source": [
    "text_df = []\n",
    "\n",
    "texts = list(text_ls.values())\n",
    "\n",
    "keyword_matrix = keywords['Target_keys'].iloc[:,2:]#.to_numpy()\n",
    "count_matrix = keywords['Target_keys'].iloc[:,2:].applymap(lambda keyword: texts[0].count(keyword))#.to_numpy()\n",
    "labels = keywords['Target_keys'].iloc[:,0]\n",
    "\n",
    "counted_keywords = count_matrix.mask(count_matrix > 0, keyword_matrix)\n",
    "counted_keywords = counted_keywords.apply(lambda keyword : ', '.join(keyword.astype(str)))\n",
    "count_matrix = count_matrix.replace(0, '')\n",
    "counted_keywords.to_excel('key_col.xlsx')\n",
    "count_matrix.to_excel('mask.xlsx')\n",
    "\n",
    "\n",
    "# for name, text in text_ls.items():\n",
    "#     count_df = keywords['Target_keys'].iloc[:,2:].applymap(lambda keyword: text.count(keyword))\n",
    "#     #count_matrix = count_df#.to_numpy()\n",
    "#     count_df = count_df.join(labels, how='inner')\n",
    "#     count_df['Sum_counts'] = count_df.sum(axis=0)\n",
    "#     keywords_ = keyword_matrix[count_matrix>0]\n",
    "#     #count_df = count_df[count_df['Sum_counts'] > 0]\n",
    "#     # #df.replace(0, None, inplace=True)\n",
    "#     #df.insert(loc=1, column='Label', value=keywords['Target_keys'].iloc[:,1])\n",
    "#     # df.insert(loc=2, coulmn='Count_keys', value=df.apply(lambda x: sum(x),axis=1))\n",
    "#     # df.insert(loc=3, column='Diff_keys', value=df.apply(lambda x:count(x),axis=1))\n",
    "#     count_df.to_excel(f'test_{name}.xlsx')\n",
    "#     np.savetxt(f'test_{name}.csv', count_matrix, delimiter=',', fmt='%i')\n",
    "#     np.savetxt(f'test_{name}_keys.csv', keywords_, delimiter=',',fmt='%s')\n",
    "#     # np.savetxt('test.csv', count_matrix, delimiter=',')\n",
    "#     text_df.append(count_df)"
   ]
  },
  {
   "cell_type": "code",
   "execution_count": null,
   "metadata": {},
   "outputs": [],
   "source": [
    "keyword_matrix.head()"
   ]
  },
  {
   "cell_type": "code",
   "execution_count": null,
   "metadata": {},
   "outputs": [],
   "source": [
    "count_matrix=count_matrix.mask(count_matrix > 1, -1)\n",
    "count_matrix.to_excel('mask.xlsx')"
   ]
  },
  {
   "cell_type": "code",
   "execution_count": 24,
   "metadata": {},
   "outputs": [
    {
     "output_type": "stream",
     "name": "stdout",
     "text": [
      "['target_count', 'filtered_target_count', 'undetected_targets', 'goal_count', 'goal_overview', 'total_count_(goals_+_targets)']\n"
     ]
    }
   ],
   "source": [
    "input = 'output/results_green_deal_test.xlsx'\n",
    "\n",
    "result_df = pd.ExcelFile(input)\n",
    "\n",
    "print(result_df.sheet_names)\n",
    "\n",
    "targets, goals, total = result_df.parse('target_count'), result_df.parse('goal_overview'), result_df.parse('total_count_(goals_+_targets)')\n",
    "\n",
    "# print(result_df.sheet_names)"
   ]
  },
  {
   "cell_type": "code",
   "execution_count": 37,
   "metadata": {},
   "outputs": [
    {
     "output_type": "execute_result",
     "data": {
      "text/plain": [
       "                                                                  Unnamed: 0  \\\n",
       "Policy                                             Goal   Target               \n",
       "52019DC0640/CELEX_52019DC0640_EN_TXT.html          SDG 10 10.3            82   \n",
       "                                                          10.b            88   \n",
       "                                                   SDG 11 11.2            91   \n",
       "                                                          11.3            92   \n",
       "                                                          11.a            97   \n",
       "...                                                                      ...   \n",
       "52019DC0640/cellar_b828d165-1c22-11ea-8c1f-01aa... SDG 13 13.2           112   \n",
       "                                                   SDG 15 15.5           130   \n",
       "                                                   SDG 7  7.2             56   \n",
       "                                                          7.3             57   \n",
       "                                                   SDG 9  9.1             72   \n",
       "\n",
       "                                                                  Target_ID  \\\n",
       "Policy                                             Goal   Target              \n",
       "52019DC0640/CELEX_52019DC0640_EN_TXT.html          SDG 10 10.3           83   \n",
       "                                                          10.b           89   \n",
       "                                                   SDG 11 11.2           92   \n",
       "                                                          11.3           93   \n",
       "                                                          11.a           98   \n",
       "...                                                                     ...   \n",
       "52019DC0640/cellar_b828d165-1c22-11ea-8c1f-01aa... SDG 13 13.2          113   \n",
       "                                                   SDG 15 15.5          131   \n",
       "                                                   SDG 7  7.2            57   \n",
       "                                                          7.3            58   \n",
       "                                                   SDG 9  9.1            73   \n",
       "\n",
       "                                                                  Target_Count  \\\n",
       "Policy                                             Goal   Target                 \n",
       "52019DC0640/CELEX_52019DC0640_EN_TXT.html          SDG 10 10.3               1   \n",
       "                                                          10.b               1   \n",
       "                                                   SDG 11 11.2               6   \n",
       "                                                          11.3               2   \n",
       "                                                          11.a               1   \n",
       "...                                                                        ...   \n",
       "52019DC0640/cellar_b828d165-1c22-11ea-8c1f-01aa... SDG 13 13.2               4   \n",
       "                                                   SDG 15 15.5               1   \n",
       "                                                   SDG 7  7.2                1   \n",
       "                                                          7.3                2   \n",
       "                                                   SDG 9  9.1                1   \n",
       "\n",
       "                                                                  Textlength  \\\n",
       "Policy                                             Goal   Target               \n",
       "52019DC0640/CELEX_52019DC0640_EN_TXT.html          SDG 10 10.3         54614   \n",
       "                                                          10.b         54614   \n",
       "                                                   SDG 11 11.2         54614   \n",
       "                                                          11.3         54614   \n",
       "                                                          11.a         54614   \n",
       "...                                                                      ...   \n",
       "52019DC0640/cellar_b828d165-1c22-11ea-8c1f-01aa... SDG 13 13.2          3710   \n",
       "                                                   SDG 15 15.5          3710   \n",
       "                                                   SDG 7  7.2           3710   \n",
       "                                                          7.3           3710   \n",
       "                                                   SDG 9  9.1           3710   \n",
       "\n",
       "                                                                  Tgt_nr.keys  \n",
       "Policy                                             Goal   Target               \n",
       "52019DC0640/CELEX_52019DC0640_EN_TXT.html          SDG 10 10.3              1  \n",
       "                                                          10.b              1  \n",
       "                                                   SDG 11 11.2              4  \n",
       "                                                          11.3              2  \n",
       "                                                          11.a              1  \n",
       "...                                                                       ...  \n",
       "52019DC0640/cellar_b828d165-1c22-11ea-8c1f-01aa... SDG 13 13.2              3  \n",
       "                                                   SDG 15 15.5              1  \n",
       "                                                   SDG 7  7.2               1  \n",
       "                                                          7.3               2  \n",
       "                                                   SDG 9  9.1               1  \n",
       "\n",
       "[126 rows x 5 columns]"
      ],
      "text/html": "<div>\n<style scoped>\n    .dataframe tbody tr th:only-of-type {\n        vertical-align: middle;\n    }\n\n    .dataframe tbody tr th {\n        vertical-align: top;\n    }\n\n    .dataframe thead th {\n        text-align: right;\n    }\n</style>\n<table border=\"1\" class=\"dataframe\">\n  <thead>\n    <tr style=\"text-align: right;\">\n      <th></th>\n      <th></th>\n      <th></th>\n      <th>Unnamed: 0</th>\n      <th>Target_ID</th>\n      <th>Target_Count</th>\n      <th>Textlength</th>\n      <th>Tgt_nr.keys</th>\n    </tr>\n    <tr>\n      <th>Policy</th>\n      <th>Goal</th>\n      <th>Target</th>\n      <th></th>\n      <th></th>\n      <th></th>\n      <th></th>\n      <th></th>\n    </tr>\n  </thead>\n  <tbody>\n    <tr>\n      <th rowspan=\"5\" valign=\"top\">52019DC0640/CELEX_52019DC0640_EN_TXT.html</th>\n      <th rowspan=\"2\" valign=\"top\">SDG 10</th>\n      <th>10.3</th>\n      <td>82</td>\n      <td>83</td>\n      <td>1</td>\n      <td>54614</td>\n      <td>1</td>\n    </tr>\n    <tr>\n      <th>10.b</th>\n      <td>88</td>\n      <td>89</td>\n      <td>1</td>\n      <td>54614</td>\n      <td>1</td>\n    </tr>\n    <tr>\n      <th rowspan=\"3\" valign=\"top\">SDG 11</th>\n      <th>11.2</th>\n      <td>91</td>\n      <td>92</td>\n      <td>6</td>\n      <td>54614</td>\n      <td>4</td>\n    </tr>\n    <tr>\n      <th>11.3</th>\n      <td>92</td>\n      <td>93</td>\n      <td>2</td>\n      <td>54614</td>\n      <td>2</td>\n    </tr>\n    <tr>\n      <th>11.a</th>\n      <td>97</td>\n      <td>98</td>\n      <td>1</td>\n      <td>54614</td>\n      <td>1</td>\n    </tr>\n    <tr>\n      <th>...</th>\n      <th>...</th>\n      <th>...</th>\n      <td>...</td>\n      <td>...</td>\n      <td>...</td>\n      <td>...</td>\n      <td>...</td>\n    </tr>\n    <tr>\n      <th rowspan=\"5\" valign=\"top\">52019DC0640/cellar_b828d165-1c22-11ea-8c1f-01aa75ed71a1.0002.02_DOC_2.pdf</th>\n      <th>SDG 13</th>\n      <th>13.2</th>\n      <td>112</td>\n      <td>113</td>\n      <td>4</td>\n      <td>3710</td>\n      <td>3</td>\n    </tr>\n    <tr>\n      <th>SDG 15</th>\n      <th>15.5</th>\n      <td>130</td>\n      <td>131</td>\n      <td>1</td>\n      <td>3710</td>\n      <td>1</td>\n    </tr>\n    <tr>\n      <th rowspan=\"2\" valign=\"top\">SDG 7</th>\n      <th>7.2</th>\n      <td>56</td>\n      <td>57</td>\n      <td>1</td>\n      <td>3710</td>\n      <td>1</td>\n    </tr>\n    <tr>\n      <th>7.3</th>\n      <td>57</td>\n      <td>58</td>\n      <td>2</td>\n      <td>3710</td>\n      <td>2</td>\n    </tr>\n    <tr>\n      <th>SDG 9</th>\n      <th>9.1</th>\n      <td>72</td>\n      <td>73</td>\n      <td>1</td>\n      <td>3710</td>\n      <td>1</td>\n    </tr>\n  </tbody>\n</table>\n<p>126 rows × 5 columns</p>\n</div>"
     },
     "metadata": {},
     "execution_count": 37
    }
   ],
   "source": [
    "targets.rename(columns={'Count':'Target_Count', 'Num_keys':'Tgt_nr.keys'}, inplace=True) \n",
    "targets.groupby(['Policy','Goal','Target']).sum()\n",
    "dat_target_join_keys = raw_df.groupby(['Policy', 'Target'])[\"Keyword\"].apply(lambda x : \" - \".join(x.astype(str))).reset_index()"
   ]
  },
  {
   "cell_type": "code",
   "execution_count": 27,
   "metadata": {},
   "outputs": [
    {
     "output_type": "execute_result",
     "data": {
      "text/plain": [
       "   Unnamed: 0 Target    Goal  Target_ID  \\\n",
       "0           7    2.1   SDG 2          8   \n",
       "1          60    8.1   SDG 8         61   \n",
       "2          62    8.3   SDG 8         63   \n",
       "3         130   15.5  SDG 15        131   \n",
       "4          72    9.1   SDG 9         73   \n",
       "\n",
       "                                      Policy  Count  \\\n",
       "0  52019DC0640/CELEX_52019DC0640_EN_TXT.html      2   \n",
       "1  52019DC0640/CELEX_52019DC0640_EN_TXT.html      6   \n",
       "2  52019DC0640/CELEX_52019DC0640_EN_TXT.html      1   \n",
       "3  52019DC0640/CELEX_52019DC0640_EN_TXT.html     10   \n",
       "4  52019DC0640/CELEX_52019DC0640_EN_TXT.html      3   \n",
       "\n",
       "                                             Keyword  Textlength  Num_keys  \n",
       "0                         food insecur  -  food all        54614         2  \n",
       "1   econom growth  -  inclus growth  -  sustain g...       54614         3  \n",
       "2                                       support sme        54614         1  \n",
       "3               biodivers loss  -  restor biodivers        54614         2  \n",
       "4                                   inland waterwai        54614         1  "
      ],
      "text/html": "<div>\n<style scoped>\n    .dataframe tbody tr th:only-of-type {\n        vertical-align: middle;\n    }\n\n    .dataframe tbody tr th {\n        vertical-align: top;\n    }\n\n    .dataframe thead th {\n        text-align: right;\n    }\n</style>\n<table border=\"1\" class=\"dataframe\">\n  <thead>\n    <tr style=\"text-align: right;\">\n      <th></th>\n      <th>Unnamed: 0</th>\n      <th>Target</th>\n      <th>Goal</th>\n      <th>Target_ID</th>\n      <th>Policy</th>\n      <th>Count</th>\n      <th>Keyword</th>\n      <th>Textlength</th>\n      <th>Num_keys</th>\n    </tr>\n  </thead>\n  <tbody>\n    <tr>\n      <th>0</th>\n      <td>7</td>\n      <td>2.1</td>\n      <td>SDG 2</td>\n      <td>8</td>\n      <td>52019DC0640/CELEX_52019DC0640_EN_TXT.html</td>\n      <td>2</td>\n      <td>food insecur  -  food all</td>\n      <td>54614</td>\n      <td>2</td>\n    </tr>\n    <tr>\n      <th>1</th>\n      <td>60</td>\n      <td>8.1</td>\n      <td>SDG 8</td>\n      <td>61</td>\n      <td>52019DC0640/CELEX_52019DC0640_EN_TXT.html</td>\n      <td>6</td>\n      <td>econom growth  -  inclus growth  -  sustain g...</td>\n      <td>54614</td>\n      <td>3</td>\n    </tr>\n    <tr>\n      <th>2</th>\n      <td>62</td>\n      <td>8.3</td>\n      <td>SDG 8</td>\n      <td>63</td>\n      <td>52019DC0640/CELEX_52019DC0640_EN_TXT.html</td>\n      <td>1</td>\n      <td>support sme</td>\n      <td>54614</td>\n      <td>1</td>\n    </tr>\n    <tr>\n      <th>3</th>\n      <td>130</td>\n      <td>15.5</td>\n      <td>SDG 15</td>\n      <td>131</td>\n      <td>52019DC0640/CELEX_52019DC0640_EN_TXT.html</td>\n      <td>10</td>\n      <td>biodivers loss  -  restor biodivers</td>\n      <td>54614</td>\n      <td>2</td>\n    </tr>\n    <tr>\n      <th>4</th>\n      <td>72</td>\n      <td>9.1</td>\n      <td>SDG 9</td>\n      <td>73</td>\n      <td>52019DC0640/CELEX_52019DC0640_EN_TXT.html</td>\n      <td>3</td>\n      <td>inland waterwai</td>\n      <td>54614</td>\n      <td>1</td>\n    </tr>\n  </tbody>\n</table>\n</div>"
     },
     "metadata": {},
     "execution_count": 27
    }
   ],
   "source": [
    "targets.head"
   ]
  },
  {
   "cell_type": "code",
   "execution_count": 34,
   "metadata": {},
   "outputs": [
    {
     "output_type": "execute_result",
     "data": {
      "text/plain": [
       "                                                           Unnamed: 0  Count  \\\n",
       "Policy                                             Goal                        \n",
       "52019DC0640/CELEX_52019DC0640_EN_TXT.html          SDG 12           0      5   \n",
       "                                                   SDG 13           1     67   \n",
       "                                                   SDG 15           2      2   \n",
       "                                                   SDG 17           3      3   \n",
       "                                                   SDG 3            4      2   \n",
       "                                                   SDG 4            5      1   \n",
       "                                                   SDG 7            6      2   \n",
       "52019DC0640/cellar_b828d165-1c22-11ea-8c1f-01aa... SDG 12           7      4   \n",
       "                                                   SDG 13           8     63   \n",
       "                                                   SDG 15           9      2   \n",
       "                                                   SDG 17          10      3   \n",
       "                                                   SDG 3           11      1   \n",
       "                                                   SDG 4           12      1   \n",
       "                                                   SDG 7           13      2   \n",
       "52019DC0640/cellar_b828d165-1c22-11ea-8c1f-01aa... SDG 12          14      1   \n",
       "                                                   SDG 13          15      3   \n",
       "52019DC0640/cellar_b828d165-1c22-11ea-8c1f-01aa... SDG 12          16      4   \n",
       "                                                   SDG 13          17     64   \n",
       "                                                   SDG 15          18      2   \n",
       "                                                   SDG 17          19      3   \n",
       "                                                   SDG 3           20      2   \n",
       "                                                   SDG 4           21      1   \n",
       "                                                   SDG 7           22      2   \n",
       "52019DC0640/cellar_b828d165-1c22-11ea-8c1f-01aa... SDG 12          23      1   \n",
       "                                                   SDG 13          24      3   \n",
       "\n",
       "                                                           Textlength  \\\n",
       "Policy                                             Goal                 \n",
       "52019DC0640/CELEX_52019DC0640_EN_TXT.html          SDG 12       54614   \n",
       "                                                   SDG 13       54614   \n",
       "                                                   SDG 15       54614   \n",
       "                                                   SDG 17       54614   \n",
       "                                                   SDG 3        54614   \n",
       "                                                   SDG 4        54614   \n",
       "                                                   SDG 7        54614   \n",
       "52019DC0640/cellar_b828d165-1c22-11ea-8c1f-01aa... SDG 12       52010   \n",
       "                                                   SDG 13       52010   \n",
       "                                                   SDG 15       52010   \n",
       "                                                   SDG 17       52010   \n",
       "                                                   SDG 3        52010   \n",
       "                                                   SDG 4        52010   \n",
       "                                                   SDG 7        52010   \n",
       "52019DC0640/cellar_b828d165-1c22-11ea-8c1f-01aa... SDG 12        3516   \n",
       "                                                   SDG 13        3516   \n",
       "52019DC0640/cellar_b828d165-1c22-11ea-8c1f-01aa... SDG 12       51071   \n",
       "                                                   SDG 13       51071   \n",
       "                                                   SDG 15       51071   \n",
       "                                                   SDG 17       51071   \n",
       "                                                   SDG 3        51071   \n",
       "                                                   SDG 4        51071   \n",
       "                                                   SDG 7        51071   \n",
       "52019DC0640/cellar_b828d165-1c22-11ea-8c1f-01aa... SDG 12        3710   \n",
       "                                                   SDG 13        3710   \n",
       "\n",
       "                                                           Num_keys  \n",
       "Policy                                             Goal              \n",
       "52019DC0640/CELEX_52019DC0640_EN_TXT.html          SDG 12         1  \n",
       "                                                   SDG 13         6  \n",
       "                                                   SDG 15         1  \n",
       "                                                   SDG 17         1  \n",
       "                                                   SDG 3          2  \n",
       "                                                   SDG 4          1  \n",
       "                                                   SDG 7          1  \n",
       "52019DC0640/cellar_b828d165-1c22-11ea-8c1f-01aa... SDG 12         1  \n",
       "                                                   SDG 13         6  \n",
       "                                                   SDG 15         1  \n",
       "                                                   SDG 17         1  \n",
       "                                                   SDG 3          1  \n",
       "                                                   SDG 4          1  \n",
       "                                                   SDG 7          1  \n",
       "52019DC0640/cellar_b828d165-1c22-11ea-8c1f-01aa... SDG 12         1  \n",
       "                                                   SDG 13         2  \n",
       "52019DC0640/cellar_b828d165-1c22-11ea-8c1f-01aa... SDG 12         1  \n",
       "                                                   SDG 13         6  \n",
       "                                                   SDG 15         1  \n",
       "                                                   SDG 17         1  \n",
       "                                                   SDG 3          2  \n",
       "                                                   SDG 4          1  \n",
       "                                                   SDG 7          1  \n",
       "52019DC0640/cellar_b828d165-1c22-11ea-8c1f-01aa... SDG 12         1  \n",
       "                                                   SDG 13         2  "
      ],
      "text/html": "<div>\n<style scoped>\n    .dataframe tbody tr th:only-of-type {\n        vertical-align: middle;\n    }\n\n    .dataframe tbody tr th {\n        vertical-align: top;\n    }\n\n    .dataframe thead th {\n        text-align: right;\n    }\n</style>\n<table border=\"1\" class=\"dataframe\">\n  <thead>\n    <tr style=\"text-align: right;\">\n      <th></th>\n      <th></th>\n      <th>Unnamed: 0</th>\n      <th>Count</th>\n      <th>Textlength</th>\n      <th>Num_keys</th>\n    </tr>\n    <tr>\n      <th>Policy</th>\n      <th>Goal</th>\n      <th></th>\n      <th></th>\n      <th></th>\n      <th></th>\n    </tr>\n  </thead>\n  <tbody>\n    <tr>\n      <th rowspan=\"7\" valign=\"top\">52019DC0640/CELEX_52019DC0640_EN_TXT.html</th>\n      <th>SDG 12</th>\n      <td>0</td>\n      <td>5</td>\n      <td>54614</td>\n      <td>1</td>\n    </tr>\n    <tr>\n      <th>SDG 13</th>\n      <td>1</td>\n      <td>67</td>\n      <td>54614</td>\n      <td>6</td>\n    </tr>\n    <tr>\n      <th>SDG 15</th>\n      <td>2</td>\n      <td>2</td>\n      <td>54614</td>\n      <td>1</td>\n    </tr>\n    <tr>\n      <th>SDG 17</th>\n      <td>3</td>\n      <td>3</td>\n      <td>54614</td>\n      <td>1</td>\n    </tr>\n    <tr>\n      <th>SDG 3</th>\n      <td>4</td>\n      <td>2</td>\n      <td>54614</td>\n      <td>2</td>\n    </tr>\n    <tr>\n      <th>SDG 4</th>\n      <td>5</td>\n      <td>1</td>\n      <td>54614</td>\n      <td>1</td>\n    </tr>\n    <tr>\n      <th>SDG 7</th>\n      <td>6</td>\n      <td>2</td>\n      <td>54614</td>\n      <td>1</td>\n    </tr>\n    <tr>\n      <th rowspan=\"7\" valign=\"top\">52019DC0640/cellar_b828d165-1c22-11ea-8c1f-01aa75ed71a1.0002.01_DOC_1.doc</th>\n      <th>SDG 12</th>\n      <td>7</td>\n      <td>4</td>\n      <td>52010</td>\n      <td>1</td>\n    </tr>\n    <tr>\n      <th>SDG 13</th>\n      <td>8</td>\n      <td>63</td>\n      <td>52010</td>\n      <td>6</td>\n    </tr>\n    <tr>\n      <th>SDG 15</th>\n      <td>9</td>\n      <td>2</td>\n      <td>52010</td>\n      <td>1</td>\n    </tr>\n    <tr>\n      <th>SDG 17</th>\n      <td>10</td>\n      <td>3</td>\n      <td>52010</td>\n      <td>1</td>\n    </tr>\n    <tr>\n      <th>SDG 3</th>\n      <td>11</td>\n      <td>1</td>\n      <td>52010</td>\n      <td>1</td>\n    </tr>\n    <tr>\n      <th>SDG 4</th>\n      <td>12</td>\n      <td>1</td>\n      <td>52010</td>\n      <td>1</td>\n    </tr>\n    <tr>\n      <th>SDG 7</th>\n      <td>13</td>\n      <td>2</td>\n      <td>52010</td>\n      <td>1</td>\n    </tr>\n    <tr>\n      <th rowspan=\"2\" valign=\"top\">52019DC0640/cellar_b828d165-1c22-11ea-8c1f-01aa75ed71a1.0002.01_DOC_2.doc</th>\n      <th>SDG 12</th>\n      <td>14</td>\n      <td>1</td>\n      <td>3516</td>\n      <td>1</td>\n    </tr>\n    <tr>\n      <th>SDG 13</th>\n      <td>15</td>\n      <td>3</td>\n      <td>3516</td>\n      <td>2</td>\n    </tr>\n    <tr>\n      <th rowspan=\"7\" valign=\"top\">52019DC0640/cellar_b828d165-1c22-11ea-8c1f-01aa75ed71a1.0002.02_DOC_1.pdf</th>\n      <th>SDG 12</th>\n      <td>16</td>\n      <td>4</td>\n      <td>51071</td>\n      <td>1</td>\n    </tr>\n    <tr>\n      <th>SDG 13</th>\n      <td>17</td>\n      <td>64</td>\n      <td>51071</td>\n      <td>6</td>\n    </tr>\n    <tr>\n      <th>SDG 15</th>\n      <td>18</td>\n      <td>2</td>\n      <td>51071</td>\n      <td>1</td>\n    </tr>\n    <tr>\n      <th>SDG 17</th>\n      <td>19</td>\n      <td>3</td>\n      <td>51071</td>\n      <td>1</td>\n    </tr>\n    <tr>\n      <th>SDG 3</th>\n      <td>20</td>\n      <td>2</td>\n      <td>51071</td>\n      <td>2</td>\n    </tr>\n    <tr>\n      <th>SDG 4</th>\n      <td>21</td>\n      <td>1</td>\n      <td>51071</td>\n      <td>1</td>\n    </tr>\n    <tr>\n      <th>SDG 7</th>\n      <td>22</td>\n      <td>2</td>\n      <td>51071</td>\n      <td>1</td>\n    </tr>\n    <tr>\n      <th rowspan=\"2\" valign=\"top\">52019DC0640/cellar_b828d165-1c22-11ea-8c1f-01aa75ed71a1.0002.02_DOC_2.pdf</th>\n      <th>SDG 12</th>\n      <td>23</td>\n      <td>1</td>\n      <td>3710</td>\n      <td>1</td>\n    </tr>\n    <tr>\n      <th>SDG 13</th>\n      <td>24</td>\n      <td>3</td>\n      <td>3710</td>\n      <td>2</td>\n    </tr>\n  </tbody>\n</table>\n</div>"
     },
     "metadata": {},
     "execution_count": 34
    }
   ],
   "source": [
    "goals.rename(columns = {'Count':'Goal_Count', 'Goal_nr.keys'}, inplace = True) \n",
    "goals.groupby(['Policy','Goal']).sum()"
   ]
  },
  {
   "cell_type": "code",
   "execution_count": null,
   "metadata": {},
   "outputs": [],
   "source": []
  }
 ],
 "metadata": {
  "kernelspec": {
   "name": "python3",
   "display_name": "Python 3",
   "language": "python"
  },
  "language_info": {
   "codemirror_mode": {
    "name": "ipython",
    "version": 3
   },
   "file_extension": ".py",
   "mimetype": "text/x-python",
   "name": "python",
   "nbconvert_exporter": "python",
   "pygments_lexer": "ipython3",
   "version": "3.9.1-final"
  }
 },
 "nbformat": 4,
 "nbformat_minor": 4
}