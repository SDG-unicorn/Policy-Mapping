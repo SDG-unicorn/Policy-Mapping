{
 "cells": [
  {
   "cell_type": "code",
   "execution_count": 1,
   "metadata": {},
   "outputs": [],
   "source": [
    "import re, json, pathlib, logging, time, argparse, pprint\n",
    "import datetime as dt\n",
    "from itertools import chain\n",
    "#\n",
    "from nltk.corpus import stopwords\n",
    "import pandas as pd\n",
    "import numpy as np\n",
    "import nltk as nltk\n",
    "from nltk.corpus import stopwords\n",
    "from whoosh.lang.porter import stem\n",
    "#from googletrans import Translator\n",
    "from pygoogletranslation import Translator\n",
    "\n",
    "\n",
    "##MM imports\n",
    "#from polmap.polmap import make_directories, preprocess_text, doc2text, SDGrefs_mapper # replaced the keyword processing block\n",
    "\n",
    "#import fromRtoPython\n",
    "\n",
    "from docx2python import docx2python\n",
    " \n",
    "#from polmap.polmap import make_directories, preprocess_text, doc2text # replaced the keyword processing block"
   ]
  },
  {
   "cell_type": "code",
   "execution_count": null,
   "metadata": {},
   "outputs": [],
   "source": [
    "Goal_dict={f'SDG {number}' : str(number).zfill(2) for number in range(1,17,1)}\n",
    "\n",
    "print (Goal_dict)"
   ]
  },
  {
   "cell_type": "code",
   "execution_count": null,
   "metadata": {},
   "outputs": [],
   "source": [
    "TEI_mapping = pathlib.Path.cwd() / 'output' / 'SA_and_Kenya_TEI_2021-02-18_T114717' / 'results' / 'mapping_SA_and_Kenya_TEI_2021-02-18_T114717.xlsx'\n",
    "\n",
    "targets = pd.read_excel(TEI_mapping, index_col=0, sheet_name= 'Target_raw_count')\n",
    "goals = pd.read_excel(TEI_mapping, index_col=0, sheet_name= 'Goal_raw_count')\n",
    "targets['Goal'] = targets['Target'].apply(lambda x: str('SDG '+x.split('.')[0]))\n",
    "targets.drop(labels='Target', axis=1, inplace=True)\n",
    "targets = targets[['Policy', 'Goal', 'Keyword', 'Count', 'Textlength']]\n",
    "total = pd.concat([targets, goals])\n",
    "total = total.groupby(['Policy','Goal']).sum()\n",
    "\n",
    "total.to_csv('TEI_by_goal.csv')\n",
    "total.to_json('TEI_by_goal.json')\n",
    "\n",
    "total.head(34)"
   ]
  },
  {
   "cell_type": "code",
   "execution_count": null,
   "metadata": {},
   "outputs": [],
   "source": [
    "colors = [\"#E5243B\",\"#DDA63A\",\"#4C9F38\",\"#C5192D\",\n",
    "\"#FF3A21\",\"#26BDE2\",\"#FCC30B\",\"#A21942\",\n",
    "\"#FD6925\",\"#DD1367\",\"#FD9D24\",\"#BF8B2E\",\n",
    "\"#3F7E44\",\"#0A97D9\",\"#56C02B\",\"#00689D\",\"#19486A\"]\n",
    "\n",
    "sdg_colors = {f'SDG {count}' : color for count, color in enumerate(colors)}\n",
    "\n",
    "bubble_chart = BubbleChart(area=total['Goal'],\n",
    "                           bubble_spacing=0.1)\n",
    "\n",
    "bubble_chart.collapse()\n",
    "\n",
    "fig, ax = plt.subplots(subplot_kw=dict(aspect=\"equal\"))\n",
    "bubble_chart.plot(\n",
    "    ax, browser_market_share['Goal'], sdg_colors[browser_market_share['Goal']])\n",
    "ax.axis(\"off\")\n",
    "ax.relim()\n",
    "ax.autoscale_view()\n",
    "ax.set_title('Browser market share')\n",
    "\n",
    "plt.show()"
   ]
  },
  {
   "cell_type": "code",
   "execution_count": null,
   "metadata": {},
   "outputs": [],
   "source": [
    "target_1_1 = ['international poverty line',\n",
    " 'extreme poverty',\n",
    " 'abject poverty',\n",
    " 'absolute poverty',\n",
    " 'destitution',\n",
    " 'penury',\n",
    " 'severe deprivation',\n",
    " 'help people suffering from food and material deprivation',\n",
    " 'extremely poor',\n",
    " 'incidence of poverty',\n",
    " 'Households in poverty',\n",
    " '']\n",
    "\n",
    "def ggl_translator(an_object, dest_lang='it'):\n",
    "    if isinstance(an_object, (str, bytes, bytearray)):\n",
    "        translation = translator.translate(an_object, dest=dest_lang).text\n",
    "    elif an_object is None:\n",
    "        translation = None\n",
    "    else: \n",
    "        translation = f'Not translated: input is of type {type(an_object)}'\n",
    "    return translation\n",
    "\n",
    "# def translate_text_with_model(text, target='it', model=\"nmt\"):\n",
    "#     \"\"\"Translates text into the target language.\n",
    "\n",
    "#     Make sure your project is allowlisted.\n",
    "\n",
    "#     Target must be an ISO 639-1 language code.\n",
    "#     See https://g.co/cloud/translate/v2/translate-reference#supported_languages\n",
    "#     \"\"\"\n",
    "#     import six\n",
    "#     from google.cloud import translate_v2 as translate\n",
    "\n",
    "#     translate_client = translate.Client()\n",
    "\n",
    "#     if isinstance(text, six.binary_type):\n",
    "#         text = text.decode(\"utf-8\")\n",
    "\n",
    "#     # Text can also be a sequence of strings, in which case this method\n",
    "#     # will return a sequence of results for each text.\n",
    "#     result = translate_client.translate(text, target_language=target, model=model)\n",
    "\n",
    "#     print(u\"Text: {}\".format(result[\"input\"]))\n",
    "#     print(u\"Translation: {}\".format(result[\"translatedText\"]))\n",
    "#     print(u\"Detected source language: {}\".format(result[\"detectedSourceLanguage\"]))\n",
    "\n",
    "# tgt_keys = tgt_keys.apply(lambda keyword: translator.translate(keyword, dest='it').text if keyword is not None else None)\n",
    "# target_1_1 = target_1_1.apply(lambda key: translate_text_with_model(key))\n",
    "#translator.translate(target_1_1[:2], dest='it').text"
   ]
  },
  {
   "cell_type": "code",
   "execution_count": null,
   "metadata": {},
   "outputs": [],
   "source": [
    "translator = Translator(retry=3, sleep=5)\n",
    "translator.translate('안녕하세요.',  dest='it').text"
   ]
  },
  {
   "cell_type": "code",
   "execution_count": null,
   "metadata": {},
   "outputs": [],
   "source": [
    "translations = translator.translate('The quick brown fox runs on the road and gets hit by a car', dest='it').text\n",
    "print(translations)"
   ]
  },
  {
   "cell_type": "code",
   "execution_count": null,
   "metadata": {},
   "outputs": [],
   "source": [
    "t = (translator.translate(target_1_1, dest=\"it\"))\n",
    "for _t in t:\n",
    "    print(_t.text)"
   ]
  },
  {
   "cell_type": "code",
   "execution_count": 7,
   "metadata": {},
   "outputs": [
    {
     "output_type": "error",
     "ename": "ValueError",
     "evalue": "too many values to unpack (expected 3)",
     "traceback": [
      "\u001b[0;31m---------------------------------------------------------------------------\u001b[0m",
      "\u001b[0;31mValueError\u001b[0m                                Traceback (most recent call last)",
      "\u001b[0;32m<ipython-input-7-db30c66f56dd>\u001b[0m in \u001b[0;36m<module>\u001b[0;34m\u001b[0m\n\u001b[1;32m      1\u001b[0m \u001b[0mtargets\u001b[0m\u001b[0;34m=\u001b[0m \u001b[0mpd\u001b[0m\u001b[0;34m.\u001b[0m\u001b[0mread_excel\u001b[0m\u001b[0;34m(\u001b[0m\u001b[0;34m'keywords/keywords.xlsx'\u001b[0m\u001b[0;34m,\u001b[0m \u001b[0msheet_name\u001b[0m\u001b[0;34m=\u001b[0m\u001b[0;34m'Target_keys'\u001b[0m\u001b[0;34m)\u001b[0m\u001b[0;34m\u001b[0m\u001b[0;34m\u001b[0m\u001b[0m\n\u001b[0;32m----> 2\u001b[0;31m \u001b[0;32mfor\u001b[0m \u001b[0m_\u001b[0m\u001b[0;34m,\u001b[0m \u001b[0mtarget\u001b[0m\u001b[0;34m,\u001b[0m \u001b[0mkey_list\u001b[0m \u001b[0;32min\u001b[0m \u001b[0mtargets\u001b[0m\u001b[0;34m[\u001b[0m\u001b[0;34m[\u001b[0m\u001b[0;34m'Target'\u001b[0m\u001b[0;34m,\u001b[0m \u001b[0;34m'Keys'\u001b[0m\u001b[0;34m]\u001b[0m\u001b[0;34m]\u001b[0m\u001b[0;34m:\u001b[0m\u001b[0;34m\u001b[0m\u001b[0;34m\u001b[0m\u001b[0m\n\u001b[0m\u001b[1;32m      3\u001b[0m     \u001b[0mprint\u001b[0m\u001b[0;34m(\u001b[0m\u001b[0mtarget\u001b[0m\u001b[0;34m)\u001b[0m\u001b[0;34m\u001b[0m\u001b[0;34m\u001b[0m\u001b[0m\n",
      "\u001b[0;31mValueError\u001b[0m: too many values to unpack (expected 3)"
     ]
    }
   ],
   "source": [
    "targets= pd.read_excel('keywords/keywords.xlsx', sheet_name='Target_keys')\n",
    "for _, target, key_list in targets[['Target', 'Keys']]:\n",
    "    print(target)"
   ]
  },
  {
   "cell_type": "code",
   "execution_count": null,
   "metadata": {},
   "outputs": [],
   "source": []
  }
 ],
 "metadata": {
  "kernelspec": {
   "name": "python3",
   "display_name": "Python 3",
   "language": "python"
  },
  "language_info": {
   "codemirror_mode": {
    "name": "ipython",
    "version": 3
   },
   "file_extension": ".py",
   "mimetype": "text/x-python",
   "name": "python",
   "nbconvert_exporter": "python",
   "pygments_lexer": "ipython3",
   "version": "3.9.1-final"
  }
 },
 "nbformat": 4,
 "nbformat_minor": 4
}