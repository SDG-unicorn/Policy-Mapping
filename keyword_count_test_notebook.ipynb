{
 "cells": [
  {
   "cell_type": "code",
   "execution_count": 4,
   "metadata": {},
   "outputs": [],
   "source": [
    "#Python standard library imports\n",
    "import datetime as dt\n",
    "import pathlib\n",
    "import re\n",
    "#Scientific Python ecosystem imports\n",
    "import pandas as pd\n",
    "import numpy as np\n",
    "#Text mining packages\n",
    "import nltk as nltk\n",
    "from whoosh.lang.porter import stem\n",
    "#MM Import\n",
    "import datetime as dt\n",
    "import pathlib\n",
    "import logging\n",
    "import copy\n",
    "import unicodedata\n",
    "\n",
    "from docx2python import docx2python\n",
    "from bs4 import BeautifulSoup\n",
    "import html2text\n",
    "import urllib.request\n",
    "\n",
    "from polmap.polmap import preprocess_text, doc2text # replaced the keyword processing block\n",
    "\n",
    "from collections import OrderedDict"
   ]
  },
  {
   "cell_type": "code",
   "execution_count": 5,
   "metadata": {},
   "outputs": [],
   "source": [
    "def prepare_keywords(a_string, stop_words, exception_dict=None, regex_dict=None):\n",
    "    \"\"\"\n",
    "    Prepare text for mapping.\n",
    "    \"\"\"\n",
    "    text_string = a_string\n",
    "\n",
    "    if text_string==None: #this should be moved to the prepare keywords wrapper function\n",
    "        return None\n",
    "    # if text_string is not str:\n",
    "    #     raise TypeError('text_string is not a string') \n",
    "    #     #How to return the name of the variable passed by user with format?\n",
    "    # Get error when using it with apply and lambda in pandas\n",
    "    \n",
    "    if exception_dict==None:\n",
    "        exception_dict = {\"aids\": \"ai&ds&\",\n",
    "                          \"productivity\": \"pro&ductivity&\",\n",
    "                          \"remittances\" : \"remit&tance&\"                 \n",
    "                          }\n",
    "    elif exception_dict is not dict:\n",
    "        raise TypeError('exception_dict is not of type dict')\n",
    "    \n",
    "\n",
    "    if regex_dict == None:\n",
    "        regex_dict = OrderedDict([(r'[^a-zA-Z-. ]+', ''), (r'([\\w-]+)', r' \\1 ')])\n",
    "    elif not isinstance(regex_dict, OrderedDict):\n",
    "        raise TypeError('regex_dict is not of type Ordered dict')\n",
    "        \n",
    "\n",
    "    #remove all from stop_words to keep in keywords.\n",
    "    # Review scoping rules in python, this fails with:\n",
    "    # NameError: name 'stop_words' is not defined when called in lambda function\n",
    "    # I would expect the variable to always exist whenever calling the function, but it does not.\n",
    "    #if stop_words==None:\n",
    "    #    stop_words = set(nltk.corpus.stopwords.words(\"english\"))\n",
    "    #    stop_words.remove(\"all\")\n",
    "\n",
    "       \n",
    "    #text_string = text_string.replace('\\xa0',' ') #Remove some weird \\xa0 characters\n",
    "\n",
    "    text_string = text_string.lower().strip()\n",
    "\n",
    "    for pattern, substitution in regex_dict.items():\n",
    "        text_string = re.sub(pattern, substitution, text_string)\n",
    "    \n",
    "    #text_string = re.sub(r'([\\w-]+)', r' \\1 ', text_string) #Equivalent to center, adds leading and trailing space to the captured group\n",
    "    \n",
    "    text_string = text_string.replace(' rd ', ' R&D ')\n",
    "    \n",
    "    text_string = re.sub(r'([a-zA-z-]{3,}|ph)', r'\\1', text_string)\n",
    "    \n",
    "    # not sure this is working the way intended, \n",
    "    # if the plan was to drop two characters words,\n",
    "    # it is not  as we are however counting also spaces.\n",
    "    # an easy fix would be to move it before the centering of the terms\n",
    "    \n",
    "    for key, value in exception_dict.items(): #Protect exceptions from stemming\n",
    "        text_string = text_string.replace(key, value)\n",
    "    \n",
    "    for word in stop_words: #Remove stopwords\n",
    "        text_string = text_string.replace(' '+word+' ', '') \n",
    "    \n",
    "    text_string = re.sub(r'[a-zA-z&-]+', #Find words wirth regex. It can be improved by capturing pattern between word boundaries.\n",
    "    lambda rgx_word: ' '+stem(rgx_word.group())+' ', #Stem words, however stemming is skipped if string contains space.\n",
    "    text_string)\n",
    "        \n",
    "    for key, value in exception_dict.items(): #Restore words from exception protection\n",
    "        text_string = text_string.replace(value, key)\n",
    "    \n",
    "    text_string = ' '+text_string+' '\n",
    "    \n",
    "    text_string = re.sub(r' {2,}', r' ', text_string)\n",
    "        \n",
    "    return text_string"
   ]
  },
  {
   "cell_type": "code",
   "execution_count": 20,
   "metadata": {},
   "outputs": [],
   "source": [
    "######################################\n",
    "########### 2) MM Read the list of keywords and apply the prepare_keyords text processing function from polmap\n",
    "\n",
    "keys = pd.read_excel('keys_update_27012020.xlsx', sheet_name = 'Target_keys' ) #MM 'keys_from_RAKE-GBV_DB_SB_v3.xlsx', sheet_name= 'Sheet1'\n",
    "\n",
    "stop_words = set(nltk.corpus.stopwords.words(\"english\"))\n",
    "stop_words.remove(\"all\")\n",
    "\n",
    "raw_keywords_df=keys['Keys'].str.split(';', expand=True)\n",
    "\n",
    "keys['Keys']=keys['Keys'].apply(lambda keywords: [preprocess_text(keyword, stop_words) for keyword in keywords.split(';')[:-1]])\n",
    "\n",
    "\n"
   ]
  },
  {
   "cell_type": "code",
   "execution_count": 21,
   "metadata": {},
   "outputs": [
    {
     "output_type": "execute_result",
     "data": {
      "text/plain": [
       "[' intern poverti line ',\n",
       " ' extrem poverti ',\n",
       " ' abject poverti ',\n",
       " ' absolut poverti ',\n",
       " ' destitut ',\n",
       " ' penuri ',\n",
       " ' sever depriv ',\n",
       " ' help peopl suffer food materi depriv ',\n",
       " ' extrem poor ',\n",
       " ' incid poverti ',\n",
       " ' household poverti ']"
      ]
     },
     "metadata": {},
     "execution_count": 21
    }
   ],
   "source": [
    "keys['Keys'][0]"
   ]
  },
  {
   "cell_type": "code",
   "execution_count": 7,
   "metadata": {},
   "outputs": [
    {
     "output_type": "stream",
     "name": "stdout",
     "text": [
      "{'herself', 't', 'needn', 'your', 'aren', 'between', 'our', 'yourself', 'i', \"wasn't\", 'by', 'some', 'if', 'but', \"hadn't\", 'into', 'o', \"isn't\", 'this', \"you've\", 'a', 'them', 'him', 'through', 'under', 'or', 'were', 'having', 'there', 'is', 're', 'they', 'once', 'who', 'he', 'to', 'are', 'she', 'own', 'can', 'at', 'has', 'y', 'doesn', 'above', 'out', \"shan't\", 'which', \"doesn't\", \"she's\", 'because', 'very', 'these', 'll', 'so', 'until', 'as', \"should've\", \"you'll\", 'here', 'don', 'my', 'himself', 's', 'been', 'itself', \"haven't\", 'doing', 'his', \"don't\", 'yours', 'weren', \"didn't\", 'its', 'do', 'no', 'what', 'when', 'myself', 'again', 'couldn', \"needn't\", 'won', 'against', 'why', 'ain', 'her', 'same', 'mightn', 'isn', 'ourselves', 'ours', 'most', 'wouldn', 'have', 'haven', 'more', 'be', 'over', 'before', 'me', \"it's\", 'the', 'wasn', 'hasn', 'it', 'shan', 'off', 'now', 've', 'whom', 'we', 'not', 'up', 'that', 'themselves', 'on', 'was', 'an', 'below', 'ma', \"that'll\", 'other', \"mightn't\", 'from', 'nor', \"shouldn't\", 'theirs', \"mustn't\", 'after', 'about', 'such', 'only', 'just', \"you'd\", 'and', 'few', 'does', 'didn', \"wouldn't\", 'for', \"won't\", 'd', 'mustn', \"aren't\", 'then', 'of', 'hers', 'while', 'with', 'than', 'down', 'should', 'am', 'hadn', 'further', \"couldn't\", 'in', \"you're\", 'where', 'had', 'during', 'you', 'being', 'will', 'both', 'their', 'yourselves', 'did', 'any', \"weren't\", 'those', 'too', 'how', \"hasn't\", 'each', 'shouldn', 'm'}\n"
     ]
    }
   ],
   "source": [
    "print(stop_words)"
   ]
  },
  {
   "cell_type": "code",
   "execution_count": 8,
   "metadata": {},
   "outputs": [],
   "source": [
    "keywords = keys['Keys'].apply(pd.Series)\n",
    "\n",
    "keywords.replace(to_replace={'':None, np.NaN:None}, inplace=True)\n"
   ]
  },
  {
   "cell_type": "code",
   "execution_count": 9,
   "metadata": {},
   "outputs": [
    {
     "output_type": "execute_result",
     "data": {
      "text/plain": [
       "  0    1    2    3    4    5    6    7    8    9     ...  1909  1910  1911  \\\n",
       "0        n         e    r    n                       ...  None  None  None   \n",
       "1        e    v    e    r    e    l                  ...  None  None  None   \n",
       "2             c              l         r             ...  None  None  None   \n",
       "3   b                   c              e    r    v   ...  None  None  None   \n",
       "4                                 e    r         r   ...  None  None  None   \n",
       "\n",
       "   1912  1913  1914  1915  1916  1917  1918  \n",
       "0  None  None  None  None  None  None  None  \n",
       "1  None  None  None  None  None  None  None  \n",
       "2  None  None  None  None  None  None  None  \n",
       "3  None  None  None  None  None  None  None  \n",
       "4  None  None  None  None  None  None  None  \n",
       "\n",
       "[5 rows x 1919 columns]"
      ],
      "text/html": "<div>\n<style scoped>\n    .dataframe tbody tr th:only-of-type {\n        vertical-align: middle;\n    }\n\n    .dataframe tbody tr th {\n        vertical-align: top;\n    }\n\n    .dataframe thead th {\n        text-align: right;\n    }\n</style>\n<table border=\"1\" class=\"dataframe\">\n  <thead>\n    <tr style=\"text-align: right;\">\n      <th></th>\n      <th>0</th>\n      <th>1</th>\n      <th>2</th>\n      <th>3</th>\n      <th>4</th>\n      <th>5</th>\n      <th>6</th>\n      <th>7</th>\n      <th>8</th>\n      <th>9</th>\n      <th>...</th>\n      <th>1909</th>\n      <th>1910</th>\n      <th>1911</th>\n      <th>1912</th>\n      <th>1913</th>\n      <th>1914</th>\n      <th>1915</th>\n      <th>1916</th>\n      <th>1917</th>\n      <th>1918</th>\n    </tr>\n  </thead>\n  <tbody>\n    <tr>\n      <th>0</th>\n      <td></td>\n      <td>n</td>\n      <td></td>\n      <td>e</td>\n      <td>r</td>\n      <td>n</td>\n      <td></td>\n      <td></td>\n      <td></td>\n      <td></td>\n      <td>...</td>\n      <td>None</td>\n      <td>None</td>\n      <td>None</td>\n      <td>None</td>\n      <td>None</td>\n      <td>None</td>\n      <td>None</td>\n      <td>None</td>\n      <td>None</td>\n      <td>None</td>\n    </tr>\n    <tr>\n      <th>1</th>\n      <td></td>\n      <td>e</td>\n      <td>v</td>\n      <td>e</td>\n      <td>r</td>\n      <td>e</td>\n      <td>l</td>\n      <td></td>\n      <td></td>\n      <td></td>\n      <td>...</td>\n      <td>None</td>\n      <td>None</td>\n      <td>None</td>\n      <td>None</td>\n      <td>None</td>\n      <td>None</td>\n      <td>None</td>\n      <td>None</td>\n      <td>None</td>\n      <td>None</td>\n    </tr>\n    <tr>\n      <th>2</th>\n      <td></td>\n      <td></td>\n      <td>c</td>\n      <td></td>\n      <td></td>\n      <td>l</td>\n      <td></td>\n      <td>r</td>\n      <td></td>\n      <td></td>\n      <td>...</td>\n      <td>None</td>\n      <td>None</td>\n      <td>None</td>\n      <td>None</td>\n      <td>None</td>\n      <td>None</td>\n      <td>None</td>\n      <td>None</td>\n      <td>None</td>\n      <td>None</td>\n    </tr>\n    <tr>\n      <th>3</th>\n      <td>b</td>\n      <td></td>\n      <td></td>\n      <td></td>\n      <td>c</td>\n      <td></td>\n      <td></td>\n      <td>e</td>\n      <td>r</td>\n      <td>v</td>\n      <td>...</td>\n      <td>None</td>\n      <td>None</td>\n      <td>None</td>\n      <td>None</td>\n      <td>None</td>\n      <td>None</td>\n      <td>None</td>\n      <td>None</td>\n      <td>None</td>\n      <td>None</td>\n    </tr>\n    <tr>\n      <th>4</th>\n      <td></td>\n      <td></td>\n      <td></td>\n      <td></td>\n      <td></td>\n      <td></td>\n      <td>e</td>\n      <td>r</td>\n      <td></td>\n      <td>r</td>\n      <td>...</td>\n      <td>None</td>\n      <td>None</td>\n      <td>None</td>\n      <td>None</td>\n      <td>None</td>\n      <td>None</td>\n      <td>None</td>\n      <td>None</td>\n      <td>None</td>\n      <td>None</td>\n    </tr>\n  </tbody>\n</table>\n<p>5 rows × 1919 columns</p>\n</div>"
     },
     "metadata": {},
     "execution_count": 9
    }
   ],
   "source": [
    "keywords.head()"
   ]
  },
  {
   "cell_type": "code",
   "execution_count": 10,
   "metadata": {},
   "outputs": [],
   "source": [
    "raw_keywords_df.replace(to_replace={'':None, np.NaN:None}, inplace=True)\n",
    "raw_keywords_df.drop(labels=57, axis=1, inplace=True)\n"
   ]
  },
  {
   "cell_type": "code",
   "execution_count": 11,
   "metadata": {},
   "outputs": [],
   "source": [
    "\n",
    "processed_keywords_df=raw_keywords_df.applymap(lambda x: prepare_keywords(x, stop_words))\n",
    "processed_keywords_df.replace(to_replace={'':None, np.NaN:None}, inplace=True)\n"
   ]
  },
  {
   "cell_type": "code",
   "execution_count": 12,
   "metadata": {},
   "outputs": [
    {
     "output_type": "error",
     "ename": "ValueError",
     "evalue": "Can only compare identically-labeled DataFrame objects",
     "traceback": [
      "\u001b[0;31m---------------------------------------------------------------------------\u001b[0m",
      "\u001b[0;31mValueError\u001b[0m                                Traceback (most recent call last)",
      "\u001b[0;32m<ipython-input-12-fddd79f12bb1>\u001b[0m in \u001b[0;36m<module>\u001b[0;34m\u001b[0m\n\u001b[0;32m----> 1\u001b[0;31m \u001b[0mnew_vs_standard\u001b[0m\u001b[0;34m=\u001b[0m\u001b[0mprocessed_keywords_df\u001b[0m\u001b[0;34m.\u001b[0m\u001b[0mcompare\u001b[0m\u001b[0;34m(\u001b[0m\u001b[0mkeywords\u001b[0m\u001b[0;34m,\u001b[0m \u001b[0mkeep_shape\u001b[0m\u001b[0;34m=\u001b[0m\u001b[0;32mTrue\u001b[0m\u001b[0;34m)\u001b[0m\u001b[0;34m\u001b[0m\u001b[0;34m\u001b[0m\u001b[0m\n\u001b[0m\u001b[1;32m      2\u001b[0m \u001b[0mraw_vs_new\u001b[0m \u001b[0;34m=\u001b[0m \u001b[0mraw_keywords_df\u001b[0m\u001b[0;34m.\u001b[0m\u001b[0mcompare\u001b[0m\u001b[0;34m(\u001b[0m\u001b[0mprocessed_keywords_df\u001b[0m\u001b[0;34m,\u001b[0m \u001b[0mkeep_shape\u001b[0m\u001b[0;34m=\u001b[0m\u001b[0;32mTrue\u001b[0m\u001b[0;34m)\u001b[0m\u001b[0;34m\u001b[0m\u001b[0;34m\u001b[0m\u001b[0m\n\u001b[1;32m      3\u001b[0m \u001b[0mraw_vs_standard\u001b[0m \u001b[0;34m=\u001b[0m \u001b[0mraw_keywords_df\u001b[0m\u001b[0;34m.\u001b[0m\u001b[0mcompare\u001b[0m\u001b[0;34m(\u001b[0m\u001b[0mkeywords\u001b[0m\u001b[0;34m,\u001b[0m \u001b[0mkeep_shape\u001b[0m\u001b[0;34m=\u001b[0m\u001b[0;32mTrue\u001b[0m\u001b[0;34m)\u001b[0m\u001b[0;34m\u001b[0m\u001b[0;34m\u001b[0m\u001b[0m\n\u001b[1;32m      4\u001b[0m \u001b[0;31m#comparison[1][1]='=IF(AND(ISBLANK(New_preprocessing!B2),ISBLANK(Standard_processing!B2)),\"\",IF(New_preprocessing!C2=Standard_preprocessing!C2,TRUE,FALSE))'\u001b[0m\u001b[0;34m\u001b[0m\u001b[0;34m\u001b[0m\u001b[0;34m\u001b[0m\u001b[0m\n",
      "\u001b[0;32m~/miniconda3/envs/polmap/lib/python3.9/site-packages/pandas/core/frame.py\u001b[0m in \u001b[0;36mcompare\u001b[0;34m(self, other, align_axis, keep_shape, keep_equal)\u001b[0m\n\u001b[1;32m   6210\u001b[0m         \u001b[0mkeep_equal\u001b[0m\u001b[0;34m:\u001b[0m \u001b[0mbool\u001b[0m \u001b[0;34m=\u001b[0m \u001b[0;32mFalse\u001b[0m\u001b[0;34m,\u001b[0m\u001b[0;34m\u001b[0m\u001b[0;34m\u001b[0m\u001b[0m\n\u001b[1;32m   6211\u001b[0m     ) -> DataFrame:\n\u001b[0;32m-> 6212\u001b[0;31m         return super().compare(\n\u001b[0m\u001b[1;32m   6213\u001b[0m             \u001b[0mother\u001b[0m\u001b[0;34m=\u001b[0m\u001b[0mother\u001b[0m\u001b[0;34m,\u001b[0m\u001b[0;34m\u001b[0m\u001b[0;34m\u001b[0m\u001b[0m\n\u001b[1;32m   6214\u001b[0m             \u001b[0malign_axis\u001b[0m\u001b[0;34m=\u001b[0m\u001b[0malign_axis\u001b[0m\u001b[0;34m,\u001b[0m\u001b[0;34m\u001b[0m\u001b[0;34m\u001b[0m\u001b[0m\n",
      "\u001b[0;32m~/miniconda3/envs/polmap/lib/python3.9/site-packages/pandas/core/generic.py\u001b[0m in \u001b[0;36mcompare\u001b[0;34m(self, other, align_axis, keep_shape, keep_equal)\u001b[0m\n\u001b[1;32m   8649\u001b[0m             )\n\u001b[1;32m   8650\u001b[0m \u001b[0;34m\u001b[0m\u001b[0m\n\u001b[0;32m-> 8651\u001b[0;31m         \u001b[0mmask\u001b[0m \u001b[0;34m=\u001b[0m \u001b[0;34m~\u001b[0m\u001b[0;34m(\u001b[0m\u001b[0;34m(\u001b[0m\u001b[0mself\u001b[0m \u001b[0;34m==\u001b[0m \u001b[0mother\u001b[0m\u001b[0;34m)\u001b[0m \u001b[0;34m|\u001b[0m \u001b[0;34m(\u001b[0m\u001b[0mself\u001b[0m\u001b[0;34m.\u001b[0m\u001b[0misna\u001b[0m\u001b[0;34m(\u001b[0m\u001b[0;34m)\u001b[0m \u001b[0;34m&\u001b[0m \u001b[0mother\u001b[0m\u001b[0;34m.\u001b[0m\u001b[0misna\u001b[0m\u001b[0;34m(\u001b[0m\u001b[0;34m)\u001b[0m\u001b[0;34m)\u001b[0m\u001b[0;34m)\u001b[0m\u001b[0;34m\u001b[0m\u001b[0;34m\u001b[0m\u001b[0m\n\u001b[0m\u001b[1;32m   8652\u001b[0m         \u001b[0mkeys\u001b[0m \u001b[0;34m=\u001b[0m \u001b[0;34m[\u001b[0m\u001b[0;34m\"self\"\u001b[0m\u001b[0;34m,\u001b[0m \u001b[0;34m\"other\"\u001b[0m\u001b[0;34m]\u001b[0m\u001b[0;34m\u001b[0m\u001b[0;34m\u001b[0m\u001b[0m\n\u001b[1;32m   8653\u001b[0m \u001b[0;34m\u001b[0m\u001b[0m\n",
      "\u001b[0;32m~/miniconda3/envs/polmap/lib/python3.9/site-packages/pandas/core/ops/common.py\u001b[0m in \u001b[0;36mnew_method\u001b[0;34m(self, other)\u001b[0m\n\u001b[1;32m     63\u001b[0m         \u001b[0mother\u001b[0m \u001b[0;34m=\u001b[0m \u001b[0mitem_from_zerodim\u001b[0m\u001b[0;34m(\u001b[0m\u001b[0mother\u001b[0m\u001b[0;34m)\u001b[0m\u001b[0;34m\u001b[0m\u001b[0;34m\u001b[0m\u001b[0m\n\u001b[1;32m     64\u001b[0m \u001b[0;34m\u001b[0m\u001b[0m\n\u001b[0;32m---> 65\u001b[0;31m         \u001b[0;32mreturn\u001b[0m \u001b[0mmethod\u001b[0m\u001b[0;34m(\u001b[0m\u001b[0mself\u001b[0m\u001b[0;34m,\u001b[0m \u001b[0mother\u001b[0m\u001b[0;34m)\u001b[0m\u001b[0;34m\u001b[0m\u001b[0;34m\u001b[0m\u001b[0m\n\u001b[0m\u001b[1;32m     66\u001b[0m \u001b[0;34m\u001b[0m\u001b[0m\n\u001b[1;32m     67\u001b[0m     \u001b[0;32mreturn\u001b[0m \u001b[0mnew_method\u001b[0m\u001b[0;34m\u001b[0m\u001b[0;34m\u001b[0m\u001b[0m\n",
      "\u001b[0;32m~/miniconda3/envs/polmap/lib/python3.9/site-packages/pandas/core/arraylike.py\u001b[0m in \u001b[0;36m__eq__\u001b[0;34m(self, other)\u001b[0m\n\u001b[1;32m     27\u001b[0m     \u001b[0;34m@\u001b[0m\u001b[0munpack_zerodim_and_defer\u001b[0m\u001b[0;34m(\u001b[0m\u001b[0;34m\"__eq__\"\u001b[0m\u001b[0;34m)\u001b[0m\u001b[0;34m\u001b[0m\u001b[0;34m\u001b[0m\u001b[0m\n\u001b[1;32m     28\u001b[0m     \u001b[0;32mdef\u001b[0m \u001b[0m__eq__\u001b[0m\u001b[0;34m(\u001b[0m\u001b[0mself\u001b[0m\u001b[0;34m,\u001b[0m \u001b[0mother\u001b[0m\u001b[0;34m)\u001b[0m\u001b[0;34m:\u001b[0m\u001b[0;34m\u001b[0m\u001b[0;34m\u001b[0m\u001b[0m\n\u001b[0;32m---> 29\u001b[0;31m         \u001b[0;32mreturn\u001b[0m \u001b[0mself\u001b[0m\u001b[0;34m.\u001b[0m\u001b[0m_cmp_method\u001b[0m\u001b[0;34m(\u001b[0m\u001b[0mother\u001b[0m\u001b[0;34m,\u001b[0m \u001b[0moperator\u001b[0m\u001b[0;34m.\u001b[0m\u001b[0meq\u001b[0m\u001b[0;34m)\u001b[0m\u001b[0;34m\u001b[0m\u001b[0;34m\u001b[0m\u001b[0m\n\u001b[0m\u001b[1;32m     30\u001b[0m \u001b[0;34m\u001b[0m\u001b[0m\n\u001b[1;32m     31\u001b[0m     \u001b[0;34m@\u001b[0m\u001b[0munpack_zerodim_and_defer\u001b[0m\u001b[0;34m(\u001b[0m\u001b[0;34m\"__ne__\"\u001b[0m\u001b[0;34m)\u001b[0m\u001b[0;34m\u001b[0m\u001b[0;34m\u001b[0m\u001b[0m\n",
      "\u001b[0;32m~/miniconda3/envs/polmap/lib/python3.9/site-packages/pandas/core/frame.py\u001b[0m in \u001b[0;36m_cmp_method\u001b[0;34m(self, other, op)\u001b[0m\n\u001b[1;32m   5963\u001b[0m         \u001b[0maxis\u001b[0m \u001b[0;34m=\u001b[0m \u001b[0;36m1\u001b[0m  \u001b[0;31m# only relevant for Series other case\u001b[0m\u001b[0;34m\u001b[0m\u001b[0;34m\u001b[0m\u001b[0m\n\u001b[1;32m   5964\u001b[0m \u001b[0;34m\u001b[0m\u001b[0m\n\u001b[0;32m-> 5965\u001b[0;31m         \u001b[0mself\u001b[0m\u001b[0;34m,\u001b[0m \u001b[0mother\u001b[0m \u001b[0;34m=\u001b[0m \u001b[0mops\u001b[0m\u001b[0;34m.\u001b[0m\u001b[0malign_method_FRAME\u001b[0m\u001b[0;34m(\u001b[0m\u001b[0mself\u001b[0m\u001b[0;34m,\u001b[0m \u001b[0mother\u001b[0m\u001b[0;34m,\u001b[0m \u001b[0maxis\u001b[0m\u001b[0;34m,\u001b[0m \u001b[0mflex\u001b[0m\u001b[0;34m=\u001b[0m\u001b[0;32mFalse\u001b[0m\u001b[0;34m,\u001b[0m \u001b[0mlevel\u001b[0m\u001b[0;34m=\u001b[0m\u001b[0;32mNone\u001b[0m\u001b[0;34m)\u001b[0m\u001b[0;34m\u001b[0m\u001b[0;34m\u001b[0m\u001b[0m\n\u001b[0m\u001b[1;32m   5966\u001b[0m \u001b[0;34m\u001b[0m\u001b[0m\n\u001b[1;32m   5967\u001b[0m         \u001b[0;31m# See GH#4537 for discussion of scalar op behavior\u001b[0m\u001b[0;34m\u001b[0m\u001b[0;34m\u001b[0m\u001b[0;34m\u001b[0m\u001b[0m\n",
      "\u001b[0;32m~/miniconda3/envs/polmap/lib/python3.9/site-packages/pandas/core/ops/__init__.py\u001b[0m in \u001b[0;36malign_method_FRAME\u001b[0;34m(left, right, axis, flex, level)\u001b[0m\n\u001b[1;32m    267\u001b[0m                 \u001b[0mleft\u001b[0m\u001b[0;34m,\u001b[0m \u001b[0mright\u001b[0m \u001b[0;34m=\u001b[0m \u001b[0mleft\u001b[0m\u001b[0;34m.\u001b[0m\u001b[0malign\u001b[0m\u001b[0;34m(\u001b[0m\u001b[0mright\u001b[0m\u001b[0;34m,\u001b[0m \u001b[0mjoin\u001b[0m\u001b[0;34m=\u001b[0m\u001b[0;34m\"outer\"\u001b[0m\u001b[0;34m,\u001b[0m \u001b[0mlevel\u001b[0m\u001b[0;34m=\u001b[0m\u001b[0mlevel\u001b[0m\u001b[0;34m,\u001b[0m \u001b[0mcopy\u001b[0m\u001b[0;34m=\u001b[0m\u001b[0;32mFalse\u001b[0m\u001b[0;34m)\u001b[0m\u001b[0;34m\u001b[0m\u001b[0;34m\u001b[0m\u001b[0m\n\u001b[1;32m    268\u001b[0m             \u001b[0;32melse\u001b[0m\u001b[0;34m:\u001b[0m\u001b[0;34m\u001b[0m\u001b[0;34m\u001b[0m\u001b[0m\n\u001b[0;32m--> 269\u001b[0;31m                 raise ValueError(\n\u001b[0m\u001b[1;32m    270\u001b[0m                     \u001b[0;34m\"Can only compare identically-labeled DataFrame objects\"\u001b[0m\u001b[0;34m\u001b[0m\u001b[0;34m\u001b[0m\u001b[0m\n\u001b[1;32m    271\u001b[0m                 )\n",
      "\u001b[0;31mValueError\u001b[0m: Can only compare identically-labeled DataFrame objects"
     ]
    }
   ],
   "source": [
    "new_vs_standard=processed_keywords_df.compare(keywords, keep_shape=True)\n",
    "raw_vs_new = raw_keywords_df.compare(processed_keywords_df, keep_shape=True)\n",
    "raw_vs_standard = raw_keywords_df.compare(keywords, keep_shape=True)\n",
    "#comparison[1][1]='=IF(AND(ISBLANK(New_preprocessing!B2),ISBLANK(Standard_processing!B2)),\"\",IF(New_preprocessing!C2=Standard_preprocessing!C2,TRUE,FALSE))'\n"
   ]
  },
  {
   "cell_type": "code",
   "execution_count": null,
   "metadata": {},
   "outputs": [],
   "source": [
    "keywords.head()"
   ]
  },
  {
   "cell_type": "code",
   "execution_count": null,
   "metadata": {},
   "outputs": [],
   "source": [
    "processed_keywords_df.head()"
   ]
  },
  {
   "cell_type": "code",
   "execution_count": null,
   "metadata": {},
   "outputs": [],
   "source": [
    "raw_keywords_df.head()"
   ]
  },
  {
   "cell_type": "code",
   "execution_count": null,
   "metadata": {},
   "outputs": [],
   "source": [
    "with pd.ExcelWriter('updated_processed_keywords_test.xlsx', engine='xlsxwriter') as writer:\n",
    "    raw_keywords_df.to_excel(writer, sheet_name='Raw_keywords')\n",
    "    processed_keywords_df.to_excel(writer, sheet_name='New_preprocessing')\n",
    "    keywords.to_excel(writer, sheet_name='Standard_preprocessing')\n",
    "    new_vs_standard.to_excel(writer, sheet_name='New_vs_Standard')\n",
    "    raw_vs_new.to_excel(writer, sheet_name='Raw_vs_New')\n",
    "    raw_vs_standard.to_excel(writer, sheet_name='Raw_vs_Standard')\n"
   ]
  },
  {
   "cell_type": "code",
   "execution_count": null,
   "metadata": {},
   "outputs": [],
   "source": [
    "regex_dict = OrderedDict([(r'[^a-zA-Z- ]+', ''), (r'([\\w-]+)', r' \\1 ')])"
   ]
  },
  {
   "cell_type": "code",
   "execution_count": null,
   "metadata": {},
   "outputs": [],
   "source": [
    "for key, value in regex_dict.items():\n",
    "    print(key, value)"
   ]
  },
  {
   "cell_type": "code",
   "execution_count": null,
   "metadata": {},
   "outputs": [],
   "source": [
    "regex_dict is OrderedDict"
   ]
  },
  {
   "cell_type": "code",
   "execution_count": null,
   "metadata": {},
   "outputs": [],
   "source": [
    "not isinstance(regex_dict, OrderedDict)"
   ]
  },
  {
   "cell_type": "code",
   "execution_count": null,
   "metadata": {},
   "outputs": [],
   "source": []
  }
 ],
 "metadata": {
  "kernelspec": {
   "name": "python3",
   "display_name": "Python 3.9.1 64-bit ('polmap': conda)",
   "metadata": {
    "interpreter": {
     "hash": "3c701ea15ff6b8cd345d7eda6702a5a5acbef34c5d809ba6ada83c604f672a97"
    }
   }
  },
  "language_info": {
   "codemirror_mode": {
    "name": "ipython",
    "version": 3
   },
   "file_extension": ".py",
   "mimetype": "text/x-python",
   "name": "python",
   "nbconvert_exporter": "python",
   "pygments_lexer": "ipython3",
   "version": "3.9.1-final"
  }
 },
 "nbformat": 4,
 "nbformat_minor": 4
}