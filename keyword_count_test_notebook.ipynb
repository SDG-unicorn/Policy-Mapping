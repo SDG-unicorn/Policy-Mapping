{
 "cells": [
  {
   "cell_type": "code",
   "execution_count": null,
   "metadata": {},
   "outputs": [],
   "source": [
    "#Python standard library imports\n",
    "import datetime as dt\n",
    "import pathlib\n",
    "import re\n",
    "#Scientific Python ecosystem imports\n",
    "import pandas as pd\n",
    "#Text mining packages\n",
    "import nltk as nltk\n",
    "#from whoosh  import stem\n",
    "#MM Import\n",
    "import datetime as dt\n",
    "import pathlib\n",
    "import logging\n",
    "\n",
    "from docx2python import docx2python\n",
    "\n",
    "from polmap.polmap import preprocess_text, doc2text # replaced the keyword processing block"
   ]
  },
  {
   "cell_type": "code",
   "execution_count": null,
   "metadata": {},
   "outputs": [],
   "source": [
    "## 1.a) Read all files in input directory and select allowed filetypes\n",
    "\n",
    "input_dir = pathlib.Path.cwd() / 'pdf_re' / 'Test' #MM let user provide an input dir\n",
    "input_folder_name = input_dir.name\n",
    "\n",
    "allowed_filetypes=['.pdf','.html','.mhtml','.doc','.docx']\n",
    "\n",
    "files = sorted(input_dir.glob('**/*.*'))\n",
    "files = [ file for file in files if file.suffix in allowed_filetypes]\n",
    "#MM assert files==False and log assertion error."
   ]
  },
  {
   "cell_type": "code",
   "execution_count": null,
   "metadata": {},
   "outputs": [],
   "source": [
    "## 1.b) Create output folder structure based on input name, date and time of exectution\n",
    "\n",
    "date = dt.datetime.now().date().isoformat() #def make_directories(project='TEI'): #MM start func definition\n",
    "hour = dt.datetime.now().time().isoformat(timespec='seconds').replace(':', '')\n",
    "current_date = '_'+date+'_T'+hour\n",
    "\n",
    "project_title = input_folder_name+str(current_date) \n",
    "\n",
    "out_dir = pathlib.Path.cwd() / 'output' / project_title #Beginning of try block\n",
    "log_dir = out_dir / 'logs'\n",
    "results_dir = out_dir / 'results'\n",
    "docs2txt_dir = out_dir / 'docs2txt'\n",
    "stemmed_doctext_dir = out_dir / 'docs2txt_stemmed'\n",
    "\n",
    "dir_dict = { directory: directory.mkdir(mode=0o777, parents=True, exist_ok=True) for directory in [out_dir, log_dir, results_dir, docs2txt_dir, ] } "
   ]
  },
  {
   "cell_type": "code",
   "execution_count": null,
   "metadata": {},
   "outputs": [],
   "source": [
    "PDFtext = []\n",
    "counter = 0\n",
    "for doc_path in files:\n",
    "    counter += 1\n",
    "    try:\n",
    "        policy_text=[]\n",
    "        doc_text = doc2text(doc_path)\n",
    "        while '\\n\\n\\n\\n' in doc_text : doc_text = doc_text.replace('\\n\\n\\n\\n', '\\n\\n\\n') #docx2python specific fix. would probably fit better elsewhere\n",
    "        policy_text.append(doc_text)\n",
    "        doctext_ = doc_path.parts[doc_path.parts.index(input_dir.name)+1:]\n",
    "        doctext_name =  docs2txt_dir.joinpath(*doctext_)\n",
    "        doctext_name.parent.mkdir(mode=0o777, parents=True, exist_ok=True)\n",
    "        doctext_name = doctext_name.parent.joinpath(doctext_name.stem+'.txt')\n",
    "        with open(doctext_name, 'w') as file_:\n",
    "           file_.write(doc_text)\n",
    "        PDFtext.append(['/'.join(doctext_),' ; '.join(policy_text)])\n",
    "    except Exception as excptn: #MM I'd log errors as described in https://realpython.com/python-logging/, we need to test this.\n",
    "        logging.exception('{doc_file} raised exception {exception} \\n\\n'.format(doc_file=doc_item.name, exception=excptn))\n"
   ]
  },
  {
   "cell_type": "code",
   "execution_count": null,
   "metadata": {},
   "outputs": [],
   "source": [
    "print(PDFtext[0])"
   ]
  },
  {
   "cell_type": "code",
   "execution_count": null,
   "metadata": {},
   "outputs": [],
   "source": []
  }
 ],
 "metadata": {
  "kernelspec": {
   "name": "python3",
   "display_name": "Python 3.9.1 64-bit ('polmap': conda)",
   "metadata": {
    "interpreter": {
     "hash": "3c701ea15ff6b8cd345d7eda6702a5a5acbef34c5d809ba6ada83c604f672a97"
    }
   }
  },
  "language_info": {
   "codemirror_mode": {
    "name": "ipython",
    "version": 3
   },
   "file_extension": ".py",
   "mimetype": "text/x-python",
   "name": "python",
   "nbconvert_exporter": "python",
   "pygments_lexer": "ipython3",
   "version": "3.9.1-final"
  }
 },
 "nbformat": 4,
 "nbformat_minor": 4
}