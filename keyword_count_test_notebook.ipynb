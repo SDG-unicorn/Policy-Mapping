{
 "cells": [
  {
   "cell_type": "code",
   "execution_count": 1,
   "metadata": {},
   "outputs": [],
   "source": [
    "import re, json, pathlib, logging, time, argparse, pprint \n",
    "import datetime as dt\n",
    "import importlib.resources as rsrc\n",
    "from itertools import chain\n",
    "from operator import itemgetter \n",
    "#\n",
    "from nltk.corpus import stopwords\n",
    "import pandas as pd\n",
    "import numpy as np\n",
    "import nltk as nltk\n",
    "from nltk.corpus import stopwords\n",
    "from whoosh.lang.porter import stem\n",
    "#from googletrans import Translator\n",
    "from pygoogletranslation import Translator\n",
    "import circlify as crcf\n",
    "import matplotlib.pyplot as plt\n",
    "import random\n",
    "\n",
    "import polmap.polmap as plmp\n",
    "import postprocess.postprocess as pspr\n",
    "import keyword\n",
    "\n",
    "\n",
    "##MM imports\n",
    "#from polmap.polmap import make_directories, preprocess_text, doc2text, SDGrefs_mapper # replaced the keyword processing block\n",
    "\n",
    "#import fromRtoPython\n",
    "\n",
    "from docx2python import docx2python\n",
    " \n",
    "#from polmap.polmap import make_directories, preprocess_text, doc2text # replaced the keyword processing block"
   ]
  },
  {
   "cell_type": "code",
   "execution_count": 2,
   "metadata": {},
   "outputs": [],
   "source": [
    "pd.set_option('display.max_rows', None)\n",
    "pd.set_option('display.max_columns', None)\n",
    "pd.set_option('display.width', None)\n",
    "pd.set_option('display.max_colwidth', None)"
   ]
  },
  {
   "cell_type": "code",
   "execution_count": 3,
   "metadata": {},
   "outputs": [
    {
     "output_type": "stream",
     "name": "stdout",
     "text": [
      "0.4346187114715576\n"
     ]
    },
    {
     "output_type": "execute_result",
     "data": {
      "text/plain": [
       "        Goal Target                            0  \\\n",
       "Index                                              \n",
       "1      SDG 1    1.0      sustain develop goal 1    \n",
       "2      SDG 1    1.1         intern poverti line    \n",
       "3      SDG 1    1.2   sever materi depriv peopl    \n",
       "4      SDG 1    1.3                 social risk    \n",
       "5      SDG 1    1.4                 tenur right    \n",
       "\n",
       "                                  1                      2  \\\n",
       "Index                                                        \n",
       "1                            sdg 1            end poverti    \n",
       "2                   extrem poverti         abject poverti    \n",
       "3                  low work intens    nation poverti line    \n",
       "4                   social protect    right person disabl    \n",
       "5       equal right econom resourc           control land    \n",
       "\n",
       "                             3                     4                       5  \\\n",
       "Index                                                                          \n",
       "1               reduc poverti         fight poverti      end global poverti    \n",
       "2             absolut poverti              destitut                  penuri    \n",
       "3               social exclus         incom poverti    combat child poverti    \n",
       "4       right unemploy person    right older person    right pregnant women    \n",
       "5              access inherit            right land         access properti    \n",
       "\n",
       "                                6                                       7  \\\n",
       "Index                                                                       \n",
       "1                 poverti reduct                          poverti depriv    \n",
       "2                   sever depriv    help peopl suffer food materi depriv    \n",
       "3               children poverti                   address child poverti    \n",
       "4       right work-injuri victim                              right poor    \n",
       "5           access natur resourc                    access new technolog    \n",
       "\n",
       "                             8                      9                   10  \\\n",
       "Index                                                                        \n",
       "1             combact poverti           erad poverti        tackl poverti    \n",
       "2                 extrem poor          incid poverti    household poverti    \n",
       "3                risk poverti    fight child poverti         poverti rate    \n",
       "4                right vulner           hire subsidi         social secur    \n",
       "5       access financi servic        access microfin          access good    \n",
       "\n",
       "                     11                12                   13  \\\n",
       "Index                                                            \n",
       "1       poverti allevi    allevi poverti                   NaN   \n",
       "2                   NaN               NaN                  NaN   \n",
       "3         live poverti                NaN                  NaN   \n",
       "4        child benefit    matern benefit     support unemploy    \n",
       "5        access servic    properti right    access basic good    \n",
       "\n",
       "                                14                       15  \\\n",
       "Index                                                         \n",
       "1                              NaN                      NaN   \n",
       "2                              NaN                      NaN   \n",
       "3                              NaN                      NaN   \n",
       "4       support peopl without job    benefit person disabl    \n",
       "5                  basic good all      access basic servic    \n",
       "\n",
       "                                 16                      17  \\\n",
       "Index                                                         \n",
       "1                               NaN                     NaN   \n",
       "2                               NaN                     NaN   \n",
       "3                               NaN                     NaN   \n",
       "4       benefit victim work injuri    benefit older person    \n",
       "5          deliveri essenti servic     equal access servic    \n",
       "\n",
       "                                  18                19                  20  \\\n",
       "Index                                                                        \n",
       "1                                NaN               NaN                 NaN   \n",
       "2                                NaN               NaN                 NaN   \n",
       "3                                NaN               NaN                 NaN   \n",
       "4                    famili benefit    matern protect    unemploy support    \n",
       "5       provid essenti basic servic                NaN                 NaN   \n",
       "\n",
       "                            21              22                23  \\\n",
       "Index                                                              \n",
       "1                          NaN             NaN               NaN   \n",
       "2                          NaN             NaN               NaN   \n",
       "3                          NaN             NaN               NaN   \n",
       "4       employ injuri benefit    sick benefit    disabl pension    \n",
       "5                          NaN             NaN               NaN   \n",
       "\n",
       "                     24   25   26   27   28   29   30   31   32   33   34  \\\n",
       "Index                                                                       \n",
       "1                   NaN  NaN  NaN  NaN  NaN  NaN  NaN  NaN  NaN  NaN  NaN   \n",
       "2                   NaN  NaN  NaN  NaN  NaN  NaN  NaN  NaN  NaN  NaN  NaN   \n",
       "3                   NaN  NaN  NaN  NaN  NaN  NaN  NaN  NaN  NaN  NaN  NaN   \n",
       "4       old-ag pension   NaN  NaN  NaN  NaN  NaN  NaN  NaN  NaN  NaN  NaN   \n",
       "5                   NaN  NaN  NaN  NaN  NaN  NaN  NaN  NaN  NaN  NaN  NaN   \n",
       "\n",
       "        35   36   37   38   39   40   41   42   43   44   45   46   47   48  \\\n",
       "Index                                                                         \n",
       "1      NaN  NaN  NaN  NaN  NaN  NaN  NaN  NaN  NaN  NaN  NaN  NaN  NaN  NaN   \n",
       "2      NaN  NaN  NaN  NaN  NaN  NaN  NaN  NaN  NaN  NaN  NaN  NaN  NaN  NaN   \n",
       "3      NaN  NaN  NaN  NaN  NaN  NaN  NaN  NaN  NaN  NaN  NaN  NaN  NaN  NaN   \n",
       "4      NaN  NaN  NaN  NaN  NaN  NaN  NaN  NaN  NaN  NaN  NaN  NaN  NaN  NaN   \n",
       "5      NaN  NaN  NaN  NaN  NaN  NaN  NaN  NaN  NaN  NaN  NaN  NaN  NaN  NaN   \n",
       "\n",
       "        49   50   51   52   53   54   55   56  \n",
       "Index                                          \n",
       "1      NaN  NaN  NaN  NaN  NaN  NaN  NaN  NaN  \n",
       "2      NaN  NaN  NaN  NaN  NaN  NaN  NaN  NaN  \n",
       "3      NaN  NaN  NaN  NaN  NaN  NaN  NaN  NaN  \n",
       "4      NaN  NaN  NaN  NaN  NaN  NaN  NaN  NaN  \n",
       "5      NaN  NaN  NaN  NaN  NaN  NaN  NaN  NaN  "
      ],
      "text/html": "<div>\n<style scoped>\n    .dataframe tbody tr th:only-of-type {\n        vertical-align: middle;\n    }\n\n    .dataframe tbody tr th {\n        vertical-align: top;\n    }\n\n    .dataframe thead th {\n        text-align: right;\n    }\n</style>\n<table border=\"1\" class=\"dataframe\">\n  <thead>\n    <tr style=\"text-align: right;\">\n      <th></th>\n      <th>Goal</th>\n      <th>Target</th>\n      <th>0</th>\n      <th>1</th>\n      <th>2</th>\n      <th>3</th>\n      <th>4</th>\n      <th>5</th>\n      <th>6</th>\n      <th>7</th>\n      <th>8</th>\n      <th>9</th>\n      <th>10</th>\n      <th>11</th>\n      <th>12</th>\n      <th>13</th>\n      <th>14</th>\n      <th>15</th>\n      <th>16</th>\n      <th>17</th>\n      <th>18</th>\n      <th>19</th>\n      <th>20</th>\n      <th>21</th>\n      <th>22</th>\n      <th>23</th>\n      <th>24</th>\n      <th>25</th>\n      <th>26</th>\n      <th>27</th>\n      <th>28</th>\n      <th>29</th>\n      <th>30</th>\n      <th>31</th>\n      <th>32</th>\n      <th>33</th>\n      <th>34</th>\n      <th>35</th>\n      <th>36</th>\n      <th>37</th>\n      <th>38</th>\n      <th>39</th>\n      <th>40</th>\n      <th>41</th>\n      <th>42</th>\n      <th>43</th>\n      <th>44</th>\n      <th>45</th>\n      <th>46</th>\n      <th>47</th>\n      <th>48</th>\n      <th>49</th>\n      <th>50</th>\n      <th>51</th>\n      <th>52</th>\n      <th>53</th>\n      <th>54</th>\n      <th>55</th>\n      <th>56</th>\n    </tr>\n    <tr>\n      <th>Index</th>\n      <th></th>\n      <th></th>\n      <th></th>\n      <th></th>\n      <th></th>\n      <th></th>\n      <th></th>\n      <th></th>\n      <th></th>\n      <th></th>\n      <th></th>\n      <th></th>\n      <th></th>\n      <th></th>\n      <th></th>\n      <th></th>\n      <th></th>\n      <th></th>\n      <th></th>\n      <th></th>\n      <th></th>\n      <th></th>\n      <th></th>\n      <th></th>\n      <th></th>\n      <th></th>\n      <th></th>\n      <th></th>\n      <th></th>\n      <th></th>\n      <th></th>\n      <th></th>\n      <th></th>\n      <th></th>\n      <th></th>\n      <th></th>\n      <th></th>\n      <th></th>\n      <th></th>\n      <th></th>\n      <th></th>\n      <th></th>\n      <th></th>\n      <th></th>\n      <th></th>\n      <th></th>\n      <th></th>\n      <th></th>\n      <th></th>\n      <th></th>\n      <th></th>\n      <th></th>\n      <th></th>\n      <th></th>\n      <th></th>\n      <th></th>\n      <th></th>\n      <th></th>\n      <th></th>\n    </tr>\n  </thead>\n  <tbody>\n    <tr>\n      <th>1</th>\n      <td>SDG 1</td>\n      <td>1.0</td>\n      <td>sustain develop goal 1</td>\n      <td>sdg 1</td>\n      <td>end poverti</td>\n      <td>reduc poverti</td>\n      <td>fight poverti</td>\n      <td>end global poverti</td>\n      <td>poverti reduct</td>\n      <td>poverti depriv</td>\n      <td>combact poverti</td>\n      <td>erad poverti</td>\n      <td>tackl poverti</td>\n      <td>poverti allevi</td>\n      <td>allevi poverti</td>\n      <td>NaN</td>\n      <td>NaN</td>\n      <td>NaN</td>\n      <td>NaN</td>\n      <td>NaN</td>\n      <td>NaN</td>\n      <td>NaN</td>\n      <td>NaN</td>\n      <td>NaN</td>\n      <td>NaN</td>\n      <td>NaN</td>\n      <td>NaN</td>\n      <td>NaN</td>\n      <td>NaN</td>\n      <td>NaN</td>\n      <td>NaN</td>\n      <td>NaN</td>\n      <td>NaN</td>\n      <td>NaN</td>\n      <td>NaN</td>\n      <td>NaN</td>\n      <td>NaN</td>\n      <td>NaN</td>\n      <td>NaN</td>\n      <td>NaN</td>\n      <td>NaN</td>\n      <td>NaN</td>\n      <td>NaN</td>\n      <td>NaN</td>\n      <td>NaN</td>\n      <td>NaN</td>\n      <td>NaN</td>\n      <td>NaN</td>\n      <td>NaN</td>\n      <td>NaN</td>\n      <td>NaN</td>\n      <td>NaN</td>\n      <td>NaN</td>\n      <td>NaN</td>\n      <td>NaN</td>\n      <td>NaN</td>\n      <td>NaN</td>\n      <td>NaN</td>\n      <td>NaN</td>\n    </tr>\n    <tr>\n      <th>2</th>\n      <td>SDG 1</td>\n      <td>1.1</td>\n      <td>intern poverti line</td>\n      <td>extrem poverti</td>\n      <td>abject poverti</td>\n      <td>absolut poverti</td>\n      <td>destitut</td>\n      <td>penuri</td>\n      <td>sever depriv</td>\n      <td>help peopl suffer food materi depriv</td>\n      <td>extrem poor</td>\n      <td>incid poverti</td>\n      <td>household poverti</td>\n      <td>NaN</td>\n      <td>NaN</td>\n      <td>NaN</td>\n      <td>NaN</td>\n      <td>NaN</td>\n      <td>NaN</td>\n      <td>NaN</td>\n      <td>NaN</td>\n      <td>NaN</td>\n      <td>NaN</td>\n      <td>NaN</td>\n      <td>NaN</td>\n      <td>NaN</td>\n      <td>NaN</td>\n      <td>NaN</td>\n      <td>NaN</td>\n      <td>NaN</td>\n      <td>NaN</td>\n      <td>NaN</td>\n      <td>NaN</td>\n      <td>NaN</td>\n      <td>NaN</td>\n      <td>NaN</td>\n      <td>NaN</td>\n      <td>NaN</td>\n      <td>NaN</td>\n      <td>NaN</td>\n      <td>NaN</td>\n      <td>NaN</td>\n      <td>NaN</td>\n      <td>NaN</td>\n      <td>NaN</td>\n      <td>NaN</td>\n      <td>NaN</td>\n      <td>NaN</td>\n      <td>NaN</td>\n      <td>NaN</td>\n      <td>NaN</td>\n      <td>NaN</td>\n      <td>NaN</td>\n      <td>NaN</td>\n      <td>NaN</td>\n      <td>NaN</td>\n      <td>NaN</td>\n      <td>NaN</td>\n      <td>NaN</td>\n    </tr>\n    <tr>\n      <th>3</th>\n      <td>SDG 1</td>\n      <td>1.2</td>\n      <td>sever materi depriv peopl</td>\n      <td>low work intens</td>\n      <td>nation poverti line</td>\n      <td>social exclus</td>\n      <td>incom poverti</td>\n      <td>combat child poverti</td>\n      <td>children poverti</td>\n      <td>address child poverti</td>\n      <td>risk poverti</td>\n      <td>fight child poverti</td>\n      <td>poverti rate</td>\n      <td>live poverti</td>\n      <td>NaN</td>\n      <td>NaN</td>\n      <td>NaN</td>\n      <td>NaN</td>\n      <td>NaN</td>\n      <td>NaN</td>\n      <td>NaN</td>\n      <td>NaN</td>\n      <td>NaN</td>\n      <td>NaN</td>\n      <td>NaN</td>\n      <td>NaN</td>\n      <td>NaN</td>\n      <td>NaN</td>\n      <td>NaN</td>\n      <td>NaN</td>\n      <td>NaN</td>\n      <td>NaN</td>\n      <td>NaN</td>\n      <td>NaN</td>\n      <td>NaN</td>\n      <td>NaN</td>\n      <td>NaN</td>\n      <td>NaN</td>\n      <td>NaN</td>\n      <td>NaN</td>\n      <td>NaN</td>\n      <td>NaN</td>\n      <td>NaN</td>\n      <td>NaN</td>\n      <td>NaN</td>\n      <td>NaN</td>\n      <td>NaN</td>\n      <td>NaN</td>\n      <td>NaN</td>\n      <td>NaN</td>\n      <td>NaN</td>\n      <td>NaN</td>\n      <td>NaN</td>\n      <td>NaN</td>\n      <td>NaN</td>\n      <td>NaN</td>\n      <td>NaN</td>\n      <td>NaN</td>\n      <td>NaN</td>\n    </tr>\n    <tr>\n      <th>4</th>\n      <td>SDG 1</td>\n      <td>1.3</td>\n      <td>social risk</td>\n      <td>social protect</td>\n      <td>right person disabl</td>\n      <td>right unemploy person</td>\n      <td>right older person</td>\n      <td>right pregnant women</td>\n      <td>right work-injuri victim</td>\n      <td>right poor</td>\n      <td>right vulner</td>\n      <td>hire subsidi</td>\n      <td>social secur</td>\n      <td>child benefit</td>\n      <td>matern benefit</td>\n      <td>support unemploy</td>\n      <td>support peopl without job</td>\n      <td>benefit person disabl</td>\n      <td>benefit victim work injuri</td>\n      <td>benefit older person</td>\n      <td>famili benefit</td>\n      <td>matern protect</td>\n      <td>unemploy support</td>\n      <td>employ injuri benefit</td>\n      <td>sick benefit</td>\n      <td>disabl pension</td>\n      <td>old-ag pension</td>\n      <td>NaN</td>\n      <td>NaN</td>\n      <td>NaN</td>\n      <td>NaN</td>\n      <td>NaN</td>\n      <td>NaN</td>\n      <td>NaN</td>\n      <td>NaN</td>\n      <td>NaN</td>\n      <td>NaN</td>\n      <td>NaN</td>\n      <td>NaN</td>\n      <td>NaN</td>\n      <td>NaN</td>\n      <td>NaN</td>\n      <td>NaN</td>\n      <td>NaN</td>\n      <td>NaN</td>\n      <td>NaN</td>\n      <td>NaN</td>\n      <td>NaN</td>\n      <td>NaN</td>\n      <td>NaN</td>\n      <td>NaN</td>\n      <td>NaN</td>\n      <td>NaN</td>\n      <td>NaN</td>\n      <td>NaN</td>\n      <td>NaN</td>\n      <td>NaN</td>\n      <td>NaN</td>\n      <td>NaN</td>\n    </tr>\n    <tr>\n      <th>5</th>\n      <td>SDG 1</td>\n      <td>1.4</td>\n      <td>tenur right</td>\n      <td>equal right econom resourc</td>\n      <td>control land</td>\n      <td>access inherit</td>\n      <td>right land</td>\n      <td>access properti</td>\n      <td>access natur resourc</td>\n      <td>access new technolog</td>\n      <td>access financi servic</td>\n      <td>access microfin</td>\n      <td>access good</td>\n      <td>access servic</td>\n      <td>properti right</td>\n      <td>access basic good</td>\n      <td>basic good all</td>\n      <td>access basic servic</td>\n      <td>deliveri essenti servic</td>\n      <td>equal access servic</td>\n      <td>provid essenti basic servic</td>\n      <td>NaN</td>\n      <td>NaN</td>\n      <td>NaN</td>\n      <td>NaN</td>\n      <td>NaN</td>\n      <td>NaN</td>\n      <td>NaN</td>\n      <td>NaN</td>\n      <td>NaN</td>\n      <td>NaN</td>\n      <td>NaN</td>\n      <td>NaN</td>\n      <td>NaN</td>\n      <td>NaN</td>\n      <td>NaN</td>\n      <td>NaN</td>\n      <td>NaN</td>\n      <td>NaN</td>\n      <td>NaN</td>\n      <td>NaN</td>\n      <td>NaN</td>\n      <td>NaN</td>\n      <td>NaN</td>\n      <td>NaN</td>\n      <td>NaN</td>\n      <td>NaN</td>\n      <td>NaN</td>\n      <td>NaN</td>\n      <td>NaN</td>\n      <td>NaN</td>\n      <td>NaN</td>\n      <td>NaN</td>\n      <td>NaN</td>\n      <td>NaN</td>\n      <td>NaN</td>\n      <td>NaN</td>\n      <td>NaN</td>\n      <td>NaN</td>\n    </tr>\n  </tbody>\n</table>\n</div>"
     },
     "metadata": {},
     "execution_count": 3
    }
   ],
   "source": [
    "with rsrc.path(\"keywords\", \"keywords_expanded_manually_reordered.xlsx\") as res_path:\n",
    "    keywords_path = res_path\n",
    "\n",
    "keywords = pd.read_excel(res_path, index_col=0)\n",
    "\n",
    "stop_words = set(stopwords.words('english'))-set(['no','not','nor'])\n",
    "stop_words.remove('all')\n",
    "\n",
    "keywd_cols = sorted(set(keywords.columns.to_list()) - set(['Goal', 'Target']))\n",
    "\n",
    "def stem_text(my_keyword):\n",
    "    my_keyword = plmp.preprocess_text(str(my_keyword), stop_words)\n",
    "    return my_keyword\n",
    "\n",
    "applymap_time = time.time()\n",
    "keywords[keywd_cols]= keywords[keywd_cols].applymap(stem_text, na_action='ignore')\n",
    "labels = keywords[['Goal', 'Target']]\n",
    "print(time.time()-applymap_time)\n",
    "\n",
    "# apply_time = time.time()\n",
    "# keywords[keywd_cols]= keywords[keywd_cols].apply(plmp.preprocess_text, args=(stop_words,), axis=0)\n",
    "\n",
    "\n",
    "keywords.head()\n",
    "\n"
   ]
  },
  {
   "cell_type": "code",
   "execution_count": 5,
   "metadata": {},
   "outputs": [
    {
     "output_type": "stream",
     "name": "stdout",
     "text": [
      "[PosixPath('input/52019DC0640_stemmed/CELEX_52019DC0640_EN_TXT_html_stemmed.txt'), PosixPath('input/52019DC0640_stemmed/cellar_b828d165-1c22-11ea-8c1f-01aa75ed71a1_0002_01_DOC_1_doc_stemmed.txt'), PosixPath('input/52019DC0640_stemmed/cellar_b828d165-1c22-11ea-8c1f-01aa75ed71a1_0002_01_DOC_2_doc_stemmed.txt'), PosixPath('input/52019DC0640_stemmed/cellar_b828d165-1c22-11ea-8c1f-01aa75ed71a1_0002_02_DOC_1_pdf_stemmed.txt'), PosixPath('input/52019DC0640_stemmed/cellar_b828d165-1c22-11ea-8c1f-01aa75ed71a1_0002_02_DOC_2_pdf_stemmed.txt')]\n"
     ]
    }
   ],
   "source": [
    "#Load text\n",
    "\n",
    "input = pathlib.Path('input/52019DC0640_stemmed')\n",
    "\n",
    "files = sorted(input.glob('**/*.*'))\n",
    "\n",
    "print(files)\n",
    "\n",
    "text_ls = {}\n",
    "\n",
    "for _file in files:\n",
    "    with open(_file, 'r') as _f:\n",
    "        text_ls[_file.stem]=_f.read()"
   ]
  },
  {
   "cell_type": "code",
   "execution_count": 6,
   "metadata": {},
   "outputs": [
    {
     "output_type": "stream",
     "name": "stdout",
     "text": [
      "True\n"
     ]
    }
   ],
   "source": [
    "keywd_cols\n",
    "mh=list(range(57))\n",
    "print(mh==keywd_cols)"
   ]
  },
  {
   "cell_type": "code",
   "execution_count": 7,
   "metadata": {},
   "outputs": [],
   "source": [
    "text_df = []\n",
    "\n",
    "texts = list(text_ls.values())\n",
    "\n",
    "keyword_matrix = keywords[keywd_cols]#.to_numpy()\n",
    "\n",
    "count_matrix = keyword_matrix.applymap(lambda keyword: texts[0].count(keyword), na_action='ignore')#.to_numpy()\n",
    "\n",
    "detected_keywords = keyword_matrix[count_matrix > 0]\n",
    "count_matrix.fillna(0, inplace=True)\n",
    "detected_keywords.fillna('', inplace=True)\n",
    "count_matrix.replace({0: None}, inplace=True) \n",
    "\n",
    "count_matrix=pd.merge(labels, count_matrix, left_index=True, right_index=True)\n",
    "detected_keywords=pd.merge(labels, detected_keywords, left_index=True, right_index=True)\n",
    "#detected_keywords.replace(np.nan, None , inplace=True)\n",
    "\n",
    "\n",
    "# labels = keywords['Target_keys'].iloc[:,0]\n",
    "\n",
    "# counted_keywords = count_matrix.mask(count_matrix > 0, keyword_matrix)\n",
    "# counted_keywords = counted_keywords.apply(lambda keyword : ', '.join(keyword.astype(str)))\n",
    "# count_matrix = count_matrix.replace(0, '')\n",
    "# counted_keywords.to_excel('key_col.xlsx')\n",
    "# count_matrix.to_excel('mask.xlsx')"
   ]
  },
  {
   "cell_type": "code",
   "execution_count": 8,
   "metadata": {},
   "outputs": [
    {
     "output_type": "execute_result",
     "data": {
      "text/plain": [
       "                                0                             1   \\\n",
       "Index                                                              \n",
       "1          sustain develop goal 1                         sdg 1    \n",
       "2             intern poverti line                extrem poverti    \n",
       "3       sever materi depriv peopl               low work intens    \n",
       "4                     social risk                social protect    \n",
       "5                     tenur right    equal right econom resourc    \n",
       "\n",
       "                          2                        3                     4   \\\n",
       "Index                                                                         \n",
       "1               end poverti            reduc poverti         fight poverti    \n",
       "2            abject poverti          absolut poverti              destitut    \n",
       "3       nation poverti line            social exclus         incom poverti    \n",
       "4       right person disabl    right unemploy person    right older person    \n",
       "5              control land           access inherit            right land    \n",
       "\n",
       "                           5                           6   \\\n",
       "Index                                                       \n",
       "1         end global poverti              poverti reduct    \n",
       "2                     penuri                sever depriv    \n",
       "3       combat child poverti            children poverti    \n",
       "4       right pregnant women    right work-injuri victim    \n",
       "5            access properti        access natur resourc    \n",
       "\n",
       "                                           7                        8   \\\n",
       "Index                                                                    \n",
       "1                             poverti depriv          combact poverti    \n",
       "2       help peopl suffer food materi depriv              extrem poor    \n",
       "3                      address child poverti             risk poverti    \n",
       "4                                 right poor             right vulner    \n",
       "5                       access new technolog    access financi servic    \n",
       "\n",
       "                          9                    10                11  \\\n",
       "Index                                                                 \n",
       "1              erad poverti        tackl poverti    poverti allevi    \n",
       "2             incid poverti    household poverti                NaN   \n",
       "3       fight child poverti         poverti rate      live poverti    \n",
       "4              hire subsidi         social secur     child benefit    \n",
       "5           access microfin          access good     access servic    \n",
       "\n",
       "                     12                   13                           14  \\\n",
       "Index                                                                       \n",
       "1       allevi poverti                   NaN                          NaN   \n",
       "2                   NaN                  NaN                          NaN   \n",
       "3                   NaN                  NaN                          NaN   \n",
       "4       matern benefit     support unemploy    support peopl without job    \n",
       "5       properti right    access basic good               basic good all    \n",
       "\n",
       "                            15                            16  \\\n",
       "Index                                                          \n",
       "1                          NaN                           NaN   \n",
       "2                          NaN                           NaN   \n",
       "3                          NaN                           NaN   \n",
       "4       benefit person disabl    benefit victim work injuri    \n",
       "5         access basic servic       deliveri essenti servic    \n",
       "\n",
       "                           17                             18  \\\n",
       "Index                                                          \n",
       "1                         NaN                            NaN   \n",
       "2                         NaN                            NaN   \n",
       "3                         NaN                            NaN   \n",
       "4       benefit older person                 famili benefit    \n",
       "5        equal access servic    provid essenti basic servic    \n",
       "\n",
       "                     19                  20                       21  \\\n",
       "Index                                                                  \n",
       "1                   NaN                 NaN                      NaN   \n",
       "2                   NaN                 NaN                      NaN   \n",
       "3                   NaN                 NaN                      NaN   \n",
       "4       matern protect    unemploy support    employ injuri benefit    \n",
       "5                   NaN                 NaN                      NaN   \n",
       "\n",
       "                   22                23                24   25   26   27   28  \\\n",
       "Index                                                                           \n",
       "1                 NaN               NaN               NaN  NaN  NaN  NaN  NaN   \n",
       "2                 NaN               NaN               NaN  NaN  NaN  NaN  NaN   \n",
       "3                 NaN               NaN               NaN  NaN  NaN  NaN  NaN   \n",
       "4       sick benefit    disabl pension    old-ag pension   NaN  NaN  NaN  NaN   \n",
       "5                 NaN               NaN               NaN  NaN  NaN  NaN  NaN   \n",
       "\n",
       "        29   30   31   32   33   34   35   36   37   38   39   40   41   42  \\\n",
       "Index                                                                         \n",
       "1      NaN  NaN  NaN  NaN  NaN  NaN  NaN  NaN  NaN  NaN  NaN  NaN  NaN  NaN   \n",
       "2      NaN  NaN  NaN  NaN  NaN  NaN  NaN  NaN  NaN  NaN  NaN  NaN  NaN  NaN   \n",
       "3      NaN  NaN  NaN  NaN  NaN  NaN  NaN  NaN  NaN  NaN  NaN  NaN  NaN  NaN   \n",
       "4      NaN  NaN  NaN  NaN  NaN  NaN  NaN  NaN  NaN  NaN  NaN  NaN  NaN  NaN   \n",
       "5      NaN  NaN  NaN  NaN  NaN  NaN  NaN  NaN  NaN  NaN  NaN  NaN  NaN  NaN   \n",
       "\n",
       "        43   44   45   46   47   48   49   50   51   52   53   54   55   56  \n",
       "Index                                                                        \n",
       "1      NaN  NaN  NaN  NaN  NaN  NaN  NaN  NaN  NaN  NaN  NaN  NaN  NaN  NaN  \n",
       "2      NaN  NaN  NaN  NaN  NaN  NaN  NaN  NaN  NaN  NaN  NaN  NaN  NaN  NaN  \n",
       "3      NaN  NaN  NaN  NaN  NaN  NaN  NaN  NaN  NaN  NaN  NaN  NaN  NaN  NaN  \n",
       "4      NaN  NaN  NaN  NaN  NaN  NaN  NaN  NaN  NaN  NaN  NaN  NaN  NaN  NaN  \n",
       "5      NaN  NaN  NaN  NaN  NaN  NaN  NaN  NaN  NaN  NaN  NaN  NaN  NaN  NaN  "
      ],
      "text/html": "<div>\n<style scoped>\n    .dataframe tbody tr th:only-of-type {\n        vertical-align: middle;\n    }\n\n    .dataframe tbody tr th {\n        vertical-align: top;\n    }\n\n    .dataframe thead th {\n        text-align: right;\n    }\n</style>\n<table border=\"1\" class=\"dataframe\">\n  <thead>\n    <tr style=\"text-align: right;\">\n      <th></th>\n      <th>0</th>\n      <th>1</th>\n      <th>2</th>\n      <th>3</th>\n      <th>4</th>\n      <th>5</th>\n      <th>6</th>\n      <th>7</th>\n      <th>8</th>\n      <th>9</th>\n      <th>10</th>\n      <th>11</th>\n      <th>12</th>\n      <th>13</th>\n      <th>14</th>\n      <th>15</th>\n      <th>16</th>\n      <th>17</th>\n      <th>18</th>\n      <th>19</th>\n      <th>20</th>\n      <th>21</th>\n      <th>22</th>\n      <th>23</th>\n      <th>24</th>\n      <th>25</th>\n      <th>26</th>\n      <th>27</th>\n      <th>28</th>\n      <th>29</th>\n      <th>30</th>\n      <th>31</th>\n      <th>32</th>\n      <th>33</th>\n      <th>34</th>\n      <th>35</th>\n      <th>36</th>\n      <th>37</th>\n      <th>38</th>\n      <th>39</th>\n      <th>40</th>\n      <th>41</th>\n      <th>42</th>\n      <th>43</th>\n      <th>44</th>\n      <th>45</th>\n      <th>46</th>\n      <th>47</th>\n      <th>48</th>\n      <th>49</th>\n      <th>50</th>\n      <th>51</th>\n      <th>52</th>\n      <th>53</th>\n      <th>54</th>\n      <th>55</th>\n      <th>56</th>\n    </tr>\n    <tr>\n      <th>Index</th>\n      <th></th>\n      <th></th>\n      <th></th>\n      <th></th>\n      <th></th>\n      <th></th>\n      <th></th>\n      <th></th>\n      <th></th>\n      <th></th>\n      <th></th>\n      <th></th>\n      <th></th>\n      <th></th>\n      <th></th>\n      <th></th>\n      <th></th>\n      <th></th>\n      <th></th>\n      <th></th>\n      <th></th>\n      <th></th>\n      <th></th>\n      <th></th>\n      <th></th>\n      <th></th>\n      <th></th>\n      <th></th>\n      <th></th>\n      <th></th>\n      <th></th>\n      <th></th>\n      <th></th>\n      <th></th>\n      <th></th>\n      <th></th>\n      <th></th>\n      <th></th>\n      <th></th>\n      <th></th>\n      <th></th>\n      <th></th>\n      <th></th>\n      <th></th>\n      <th></th>\n      <th></th>\n      <th></th>\n      <th></th>\n      <th></th>\n      <th></th>\n      <th></th>\n      <th></th>\n      <th></th>\n      <th></th>\n      <th></th>\n      <th></th>\n      <th></th>\n    </tr>\n  </thead>\n  <tbody>\n    <tr>\n      <th>1</th>\n      <td>sustain develop goal 1</td>\n      <td>sdg 1</td>\n      <td>end poverti</td>\n      <td>reduc poverti</td>\n      <td>fight poverti</td>\n      <td>end global poverti</td>\n      <td>poverti reduct</td>\n      <td>poverti depriv</td>\n      <td>combact poverti</td>\n      <td>erad poverti</td>\n      <td>tackl poverti</td>\n      <td>poverti allevi</td>\n      <td>allevi poverti</td>\n      <td>NaN</td>\n      <td>NaN</td>\n      <td>NaN</td>\n      <td>NaN</td>\n      <td>NaN</td>\n      <td>NaN</td>\n      <td>NaN</td>\n      <td>NaN</td>\n      <td>NaN</td>\n      <td>NaN</td>\n      <td>NaN</td>\n      <td>NaN</td>\n      <td>NaN</td>\n      <td>NaN</td>\n      <td>NaN</td>\n      <td>NaN</td>\n      <td>NaN</td>\n      <td>NaN</td>\n      <td>NaN</td>\n      <td>NaN</td>\n      <td>NaN</td>\n      <td>NaN</td>\n      <td>NaN</td>\n      <td>NaN</td>\n      <td>NaN</td>\n      <td>NaN</td>\n      <td>NaN</td>\n      <td>NaN</td>\n      <td>NaN</td>\n      <td>NaN</td>\n      <td>NaN</td>\n      <td>NaN</td>\n      <td>NaN</td>\n      <td>NaN</td>\n      <td>NaN</td>\n      <td>NaN</td>\n      <td>NaN</td>\n      <td>NaN</td>\n      <td>NaN</td>\n      <td>NaN</td>\n      <td>NaN</td>\n      <td>NaN</td>\n      <td>NaN</td>\n      <td>NaN</td>\n    </tr>\n    <tr>\n      <th>2</th>\n      <td>intern poverti line</td>\n      <td>extrem poverti</td>\n      <td>abject poverti</td>\n      <td>absolut poverti</td>\n      <td>destitut</td>\n      <td>penuri</td>\n      <td>sever depriv</td>\n      <td>help peopl suffer food materi depriv</td>\n      <td>extrem poor</td>\n      <td>incid poverti</td>\n      <td>household poverti</td>\n      <td>NaN</td>\n      <td>NaN</td>\n      <td>NaN</td>\n      <td>NaN</td>\n      <td>NaN</td>\n      <td>NaN</td>\n      <td>NaN</td>\n      <td>NaN</td>\n      <td>NaN</td>\n      <td>NaN</td>\n      <td>NaN</td>\n      <td>NaN</td>\n      <td>NaN</td>\n      <td>NaN</td>\n      <td>NaN</td>\n      <td>NaN</td>\n      <td>NaN</td>\n      <td>NaN</td>\n      <td>NaN</td>\n      <td>NaN</td>\n      <td>NaN</td>\n      <td>NaN</td>\n      <td>NaN</td>\n      <td>NaN</td>\n      <td>NaN</td>\n      <td>NaN</td>\n      <td>NaN</td>\n      <td>NaN</td>\n      <td>NaN</td>\n      <td>NaN</td>\n      <td>NaN</td>\n      <td>NaN</td>\n      <td>NaN</td>\n      <td>NaN</td>\n      <td>NaN</td>\n      <td>NaN</td>\n      <td>NaN</td>\n      <td>NaN</td>\n      <td>NaN</td>\n      <td>NaN</td>\n      <td>NaN</td>\n      <td>NaN</td>\n      <td>NaN</td>\n      <td>NaN</td>\n      <td>NaN</td>\n      <td>NaN</td>\n    </tr>\n    <tr>\n      <th>3</th>\n      <td>sever materi depriv peopl</td>\n      <td>low work intens</td>\n      <td>nation poverti line</td>\n      <td>social exclus</td>\n      <td>incom poverti</td>\n      <td>combat child poverti</td>\n      <td>children poverti</td>\n      <td>address child poverti</td>\n      <td>risk poverti</td>\n      <td>fight child poverti</td>\n      <td>poverti rate</td>\n      <td>live poverti</td>\n      <td>NaN</td>\n      <td>NaN</td>\n      <td>NaN</td>\n      <td>NaN</td>\n      <td>NaN</td>\n      <td>NaN</td>\n      <td>NaN</td>\n      <td>NaN</td>\n      <td>NaN</td>\n      <td>NaN</td>\n      <td>NaN</td>\n      <td>NaN</td>\n      <td>NaN</td>\n      <td>NaN</td>\n      <td>NaN</td>\n      <td>NaN</td>\n      <td>NaN</td>\n      <td>NaN</td>\n      <td>NaN</td>\n      <td>NaN</td>\n      <td>NaN</td>\n      <td>NaN</td>\n      <td>NaN</td>\n      <td>NaN</td>\n      <td>NaN</td>\n      <td>NaN</td>\n      <td>NaN</td>\n      <td>NaN</td>\n      <td>NaN</td>\n      <td>NaN</td>\n      <td>NaN</td>\n      <td>NaN</td>\n      <td>NaN</td>\n      <td>NaN</td>\n      <td>NaN</td>\n      <td>NaN</td>\n      <td>NaN</td>\n      <td>NaN</td>\n      <td>NaN</td>\n      <td>NaN</td>\n      <td>NaN</td>\n      <td>NaN</td>\n      <td>NaN</td>\n      <td>NaN</td>\n      <td>NaN</td>\n    </tr>\n    <tr>\n      <th>4</th>\n      <td>social risk</td>\n      <td>social protect</td>\n      <td>right person disabl</td>\n      <td>right unemploy person</td>\n      <td>right older person</td>\n      <td>right pregnant women</td>\n      <td>right work-injuri victim</td>\n      <td>right poor</td>\n      <td>right vulner</td>\n      <td>hire subsidi</td>\n      <td>social secur</td>\n      <td>child benefit</td>\n      <td>matern benefit</td>\n      <td>support unemploy</td>\n      <td>support peopl without job</td>\n      <td>benefit person disabl</td>\n      <td>benefit victim work injuri</td>\n      <td>benefit older person</td>\n      <td>famili benefit</td>\n      <td>matern protect</td>\n      <td>unemploy support</td>\n      <td>employ injuri benefit</td>\n      <td>sick benefit</td>\n      <td>disabl pension</td>\n      <td>old-ag pension</td>\n      <td>NaN</td>\n      <td>NaN</td>\n      <td>NaN</td>\n      <td>NaN</td>\n      <td>NaN</td>\n      <td>NaN</td>\n      <td>NaN</td>\n      <td>NaN</td>\n      <td>NaN</td>\n      <td>NaN</td>\n      <td>NaN</td>\n      <td>NaN</td>\n      <td>NaN</td>\n      <td>NaN</td>\n      <td>NaN</td>\n      <td>NaN</td>\n      <td>NaN</td>\n      <td>NaN</td>\n      <td>NaN</td>\n      <td>NaN</td>\n      <td>NaN</td>\n      <td>NaN</td>\n      <td>NaN</td>\n      <td>NaN</td>\n      <td>NaN</td>\n      <td>NaN</td>\n      <td>NaN</td>\n      <td>NaN</td>\n      <td>NaN</td>\n      <td>NaN</td>\n      <td>NaN</td>\n      <td>NaN</td>\n    </tr>\n    <tr>\n      <th>5</th>\n      <td>tenur right</td>\n      <td>equal right econom resourc</td>\n      <td>control land</td>\n      <td>access inherit</td>\n      <td>right land</td>\n      <td>access properti</td>\n      <td>access natur resourc</td>\n      <td>access new technolog</td>\n      <td>access financi servic</td>\n      <td>access microfin</td>\n      <td>access good</td>\n      <td>access servic</td>\n      <td>properti right</td>\n      <td>access basic good</td>\n      <td>basic good all</td>\n      <td>access basic servic</td>\n      <td>deliveri essenti servic</td>\n      <td>equal access servic</td>\n      <td>provid essenti basic servic</td>\n      <td>NaN</td>\n      <td>NaN</td>\n      <td>NaN</td>\n      <td>NaN</td>\n      <td>NaN</td>\n      <td>NaN</td>\n      <td>NaN</td>\n      <td>NaN</td>\n      <td>NaN</td>\n      <td>NaN</td>\n      <td>NaN</td>\n      <td>NaN</td>\n      <td>NaN</td>\n      <td>NaN</td>\n      <td>NaN</td>\n      <td>NaN</td>\n      <td>NaN</td>\n      <td>NaN</td>\n      <td>NaN</td>\n      <td>NaN</td>\n      <td>NaN</td>\n      <td>NaN</td>\n      <td>NaN</td>\n      <td>NaN</td>\n      <td>NaN</td>\n      <td>NaN</td>\n      <td>NaN</td>\n      <td>NaN</td>\n      <td>NaN</td>\n      <td>NaN</td>\n      <td>NaN</td>\n      <td>NaN</td>\n      <td>NaN</td>\n      <td>NaN</td>\n      <td>NaN</td>\n      <td>NaN</td>\n      <td>NaN</td>\n      <td>NaN</td>\n    </tr>\n  </tbody>\n</table>\n</div>"
     },
     "metadata": {},
     "execution_count": 8
    }
   ],
   "source": [
    "keyword_matrix.head()"
   ]
  },
  {
   "cell_type": "code",
   "execution_count": 13,
   "metadata": {},
   "outputs": [
    {
     "output_type": "execute_result",
     "data": {
      "text/plain": [
       "        Goal Target     0     1     2     3     4     5     6     7     8  \\\n",
       "Index                                                                       \n",
       "1      SDG 1    1.0  None  None  None  None  None  None  None  None  None   \n",
       "2      SDG 1    1.1  None  None  None  None  None  None  None  None  None   \n",
       "3      SDG 1    1.2  None  None  None  None  None  None  None  None  None   \n",
       "4      SDG 1    1.3  None  None  None  None  None  None  None  None  None   \n",
       "5      SDG 1    1.4  None  None  None  None  None  None  None  None  None   \n",
       "6      SDG 1    1.5  None  None  None  None  None  None  None  None  None   \n",
       "7      SDG 1    1.a  None  None  None  None  None  None  None  None  None   \n",
       "8      SDG 1    1.b  None  None  None  None  None  None  None  None  None   \n",
       "9      SDG 2    2.0  None  None  None  None  None  None  None  None  None   \n",
       "10     SDG 2    2.1  None  None  None  None  None  None  None  None   1.0   \n",
       "\n",
       "          9    10    11    12    13    14    15    16    17    18    19    20  \\\n",
       "Index                                                                           \n",
       "1      None  None  None  None  None  None  None  None  None  None  None  None   \n",
       "2      None  None  None  None  None  None  None  None  None  None  None  None   \n",
       "3      None  None  None  None  None  None  None  None  None  None  None  None   \n",
       "4      None  None  None  None  None  None  None  None  None  None  None  None   \n",
       "5      None  None  None  None  None  None  None  None  None  None  None  None   \n",
       "6      None  None  None  None  None  None  None  None  None  None  None  None   \n",
       "7      None  None  None  None  None  None  None  None  None  None  None  None   \n",
       "8      None  None  None  None  None  None  None  None  None  None  None  None   \n",
       "9      None  None  None  None  None  None  None  None  None  None  None  None   \n",
       "10      1.0  None  None  None  None  None  None  None  None  None  None  None   \n",
       "\n",
       "         21    22    23    24    25    26    27    28    29    30    31    32  \\\n",
       "Index                                                                           \n",
       "1      None  None  None  None  None  None  None  None  None  None  None  None   \n",
       "2      None  None  None  None  None  None  None  None  None  None  None  None   \n",
       "3      None  None  None  None  None  None  None  None  None  None  None  None   \n",
       "4      None  None  None  None  None  None  None  None  None  None  None  None   \n",
       "5      None  None  None  None  None  None  None  None  None  None  None  None   \n",
       "6      None  None  None  None  None  None  None  None  None  None  None  None   \n",
       "7      None  None  None  None  None  None  None  None  None  None  None  None   \n",
       "8      None  None  None  None  None  None  None  None  None  None  None  None   \n",
       "9      None  None  None  None  None  None  None  None  None  None  None  None   \n",
       "10     None  None  None  None  None  None  None  None  None  None  None  None   \n",
       "\n",
       "         33    34    35    36    37    38    39    40    41    42    43    44  \\\n",
       "Index                                                                           \n",
       "1      None  None  None  None  None  None  None  None  None  None  None  None   \n",
       "2      None  None  None  None  None  None  None  None  None  None  None  None   \n",
       "3      None  None  None  None  None  None  None  None  None  None  None  None   \n",
       "4      None  None  None  None  None  None  None  None  None  None  None  None   \n",
       "5      None  None  None  None  None  None  None  None  None  None  None  None   \n",
       "6      None  None  None  None  None  None  None  None  None  None  None  None   \n",
       "7      None  None  None  None  None  None  None  None  None  None  None  None   \n",
       "8      None  None  None  None  None  None  None  None  None  None  None  None   \n",
       "9      None  None  None  None  None  None  None  None  None  None  None  None   \n",
       "10     None  None  None  None  None  None  None  None  None  None  None  None   \n",
       "\n",
       "         45    46    47    48    49    50    51    52    53    54    55    56  \n",
       "Index                                                                          \n",
       "1      None  None  None  None  None  None  None  None  None  None  None  None  \n",
       "2      None  None  None  None  None  None  None  None  None  None  None  None  \n",
       "3      None  None  None  None  None  None  None  None  None  None  None  None  \n",
       "4      None  None  None  None  None  None  None  None  None  None  None  None  \n",
       "5      None  None  None  None  None  None  None  None  None  None  None  None  \n",
       "6      None  None  None  None  None  None  None  None  None  None  None  None  \n",
       "7      None  None  None  None  None  None  None  None  None  None  None  None  \n",
       "8      None  None  None  None  None  None  None  None  None  None  None  None  \n",
       "9      None  None  None  None  None  None  None  None  None  None  None  None  \n",
       "10     None  None  None  None  None  None  None  None  None  None  None  None  "
      ],
      "text/html": "<div>\n<style scoped>\n    .dataframe tbody tr th:only-of-type {\n        vertical-align: middle;\n    }\n\n    .dataframe tbody tr th {\n        vertical-align: top;\n    }\n\n    .dataframe thead th {\n        text-align: right;\n    }\n</style>\n<table border=\"1\" class=\"dataframe\">\n  <thead>\n    <tr style=\"text-align: right;\">\n      <th></th>\n      <th>Goal</th>\n      <th>Target</th>\n      <th>0</th>\n      <th>1</th>\n      <th>2</th>\n      <th>3</th>\n      <th>4</th>\n      <th>5</th>\n      <th>6</th>\n      <th>7</th>\n      <th>8</th>\n      <th>9</th>\n      <th>10</th>\n      <th>11</th>\n      <th>12</th>\n      <th>13</th>\n      <th>14</th>\n      <th>15</th>\n      <th>16</th>\n      <th>17</th>\n      <th>18</th>\n      <th>19</th>\n      <th>20</th>\n      <th>21</th>\n      <th>22</th>\n      <th>23</th>\n      <th>24</th>\n      <th>25</th>\n      <th>26</th>\n      <th>27</th>\n      <th>28</th>\n      <th>29</th>\n      <th>30</th>\n      <th>31</th>\n      <th>32</th>\n      <th>33</th>\n      <th>34</th>\n      <th>35</th>\n      <th>36</th>\n      <th>37</th>\n      <th>38</th>\n      <th>39</th>\n      <th>40</th>\n      <th>41</th>\n      <th>42</th>\n      <th>43</th>\n      <th>44</th>\n      <th>45</th>\n      <th>46</th>\n      <th>47</th>\n      <th>48</th>\n      <th>49</th>\n      <th>50</th>\n      <th>51</th>\n      <th>52</th>\n      <th>53</th>\n      <th>54</th>\n      <th>55</th>\n      <th>56</th>\n    </tr>\n    <tr>\n      <th>Index</th>\n      <th></th>\n      <th></th>\n      <th></th>\n      <th></th>\n      <th></th>\n      <th></th>\n      <th></th>\n      <th></th>\n      <th></th>\n      <th></th>\n      <th></th>\n      <th></th>\n      <th></th>\n      <th></th>\n      <th></th>\n      <th></th>\n      <th></th>\n      <th></th>\n      <th></th>\n      <th></th>\n      <th></th>\n      <th></th>\n      <th></th>\n      <th></th>\n      <th></th>\n      <th></th>\n      <th></th>\n      <th></th>\n      <th></th>\n      <th></th>\n      <th></th>\n      <th></th>\n      <th></th>\n      <th></th>\n      <th></th>\n      <th></th>\n      <th></th>\n      <th></th>\n      <th></th>\n      <th></th>\n      <th></th>\n      <th></th>\n      <th></th>\n      <th></th>\n      <th></th>\n      <th></th>\n      <th></th>\n      <th></th>\n      <th></th>\n      <th></th>\n      <th></th>\n      <th></th>\n      <th></th>\n      <th></th>\n      <th></th>\n      <th></th>\n      <th></th>\n      <th></th>\n      <th></th>\n    </tr>\n  </thead>\n  <tbody>\n    <tr>\n      <th>1</th>\n      <td>SDG 1</td>\n      <td>1.0</td>\n      <td>None</td>\n      <td>None</td>\n      <td>None</td>\n      <td>None</td>\n      <td>None</td>\n      <td>None</td>\n      <td>None</td>\n      <td>None</td>\n      <td>None</td>\n      <td>None</td>\n      <td>None</td>\n      <td>None</td>\n      <td>None</td>\n      <td>None</td>\n      <td>None</td>\n      <td>None</td>\n      <td>None</td>\n      <td>None</td>\n      <td>None</td>\n      <td>None</td>\n      <td>None</td>\n      <td>None</td>\n      <td>None</td>\n      <td>None</td>\n      <td>None</td>\n      <td>None</td>\n      <td>None</td>\n      <td>None</td>\n      <td>None</td>\n      <td>None</td>\n      <td>None</td>\n      <td>None</td>\n      <td>None</td>\n      <td>None</td>\n      <td>None</td>\n      <td>None</td>\n      <td>None</td>\n      <td>None</td>\n      <td>None</td>\n      <td>None</td>\n      <td>None</td>\n      <td>None</td>\n      <td>None</td>\n      <td>None</td>\n      <td>None</td>\n      <td>None</td>\n      <td>None</td>\n      <td>None</td>\n      <td>None</td>\n      <td>None</td>\n      <td>None</td>\n      <td>None</td>\n      <td>None</td>\n      <td>None</td>\n      <td>None</td>\n      <td>None</td>\n      <td>None</td>\n    </tr>\n    <tr>\n      <th>2</th>\n      <td>SDG 1</td>\n      <td>1.1</td>\n      <td>None</td>\n      <td>None</td>\n      <td>None</td>\n      <td>None</td>\n      <td>None</td>\n      <td>None</td>\n      <td>None</td>\n      <td>None</td>\n      <td>None</td>\n      <td>None</td>\n      <td>None</td>\n      <td>None</td>\n      <td>None</td>\n      <td>None</td>\n      <td>None</td>\n      <td>None</td>\n      <td>None</td>\n      <td>None</td>\n      <td>None</td>\n      <td>None</td>\n      <td>None</td>\n      <td>None</td>\n      <td>None</td>\n      <td>None</td>\n      <td>None</td>\n      <td>None</td>\n      <td>None</td>\n      <td>None</td>\n      <td>None</td>\n      <td>None</td>\n      <td>None</td>\n      <td>None</td>\n      <td>None</td>\n      <td>None</td>\n      <td>None</td>\n      <td>None</td>\n      <td>None</td>\n      <td>None</td>\n      <td>None</td>\n      <td>None</td>\n      <td>None</td>\n      <td>None</td>\n      <td>None</td>\n      <td>None</td>\n      <td>None</td>\n      <td>None</td>\n      <td>None</td>\n      <td>None</td>\n      <td>None</td>\n      <td>None</td>\n      <td>None</td>\n      <td>None</td>\n      <td>None</td>\n      <td>None</td>\n      <td>None</td>\n      <td>None</td>\n      <td>None</td>\n    </tr>\n    <tr>\n      <th>3</th>\n      <td>SDG 1</td>\n      <td>1.2</td>\n      <td>None</td>\n      <td>None</td>\n      <td>None</td>\n      <td>None</td>\n      <td>None</td>\n      <td>None</td>\n      <td>None</td>\n      <td>None</td>\n      <td>None</td>\n      <td>None</td>\n      <td>None</td>\n      <td>None</td>\n      <td>None</td>\n      <td>None</td>\n      <td>None</td>\n      <td>None</td>\n      <td>None</td>\n      <td>None</td>\n      <td>None</td>\n      <td>None</td>\n      <td>None</td>\n      <td>None</td>\n      <td>None</td>\n      <td>None</td>\n      <td>None</td>\n      <td>None</td>\n      <td>None</td>\n      <td>None</td>\n      <td>None</td>\n      <td>None</td>\n      <td>None</td>\n      <td>None</td>\n      <td>None</td>\n      <td>None</td>\n      <td>None</td>\n      <td>None</td>\n      <td>None</td>\n      <td>None</td>\n      <td>None</td>\n      <td>None</td>\n      <td>None</td>\n      <td>None</td>\n      <td>None</td>\n      <td>None</td>\n      <td>None</td>\n      <td>None</td>\n      <td>None</td>\n      <td>None</td>\n      <td>None</td>\n      <td>None</td>\n      <td>None</td>\n      <td>None</td>\n      <td>None</td>\n      <td>None</td>\n      <td>None</td>\n      <td>None</td>\n      <td>None</td>\n    </tr>\n    <tr>\n      <th>4</th>\n      <td>SDG 1</td>\n      <td>1.3</td>\n      <td>None</td>\n      <td>None</td>\n      <td>None</td>\n      <td>None</td>\n      <td>None</td>\n      <td>None</td>\n      <td>None</td>\n      <td>None</td>\n      <td>None</td>\n      <td>None</td>\n      <td>None</td>\n      <td>None</td>\n      <td>None</td>\n      <td>None</td>\n      <td>None</td>\n      <td>None</td>\n      <td>None</td>\n      <td>None</td>\n      <td>None</td>\n      <td>None</td>\n      <td>None</td>\n      <td>None</td>\n      <td>None</td>\n      <td>None</td>\n      <td>None</td>\n      <td>None</td>\n      <td>None</td>\n      <td>None</td>\n      <td>None</td>\n      <td>None</td>\n      <td>None</td>\n      <td>None</td>\n      <td>None</td>\n      <td>None</td>\n      <td>None</td>\n      <td>None</td>\n      <td>None</td>\n      <td>None</td>\n      <td>None</td>\n      <td>None</td>\n      <td>None</td>\n      <td>None</td>\n      <td>None</td>\n      <td>None</td>\n      <td>None</td>\n      <td>None</td>\n      <td>None</td>\n      <td>None</td>\n      <td>None</td>\n      <td>None</td>\n      <td>None</td>\n      <td>None</td>\n      <td>None</td>\n      <td>None</td>\n      <td>None</td>\n      <td>None</td>\n      <td>None</td>\n    </tr>\n    <tr>\n      <th>5</th>\n      <td>SDG 1</td>\n      <td>1.4</td>\n      <td>None</td>\n      <td>None</td>\n      <td>None</td>\n      <td>None</td>\n      <td>None</td>\n      <td>None</td>\n      <td>None</td>\n      <td>None</td>\n      <td>None</td>\n      <td>None</td>\n      <td>None</td>\n      <td>None</td>\n      <td>None</td>\n      <td>None</td>\n      <td>None</td>\n      <td>None</td>\n      <td>None</td>\n      <td>None</td>\n      <td>None</td>\n      <td>None</td>\n      <td>None</td>\n      <td>None</td>\n      <td>None</td>\n      <td>None</td>\n      <td>None</td>\n      <td>None</td>\n      <td>None</td>\n      <td>None</td>\n      <td>None</td>\n      <td>None</td>\n      <td>None</td>\n      <td>None</td>\n      <td>None</td>\n      <td>None</td>\n      <td>None</td>\n      <td>None</td>\n      <td>None</td>\n      <td>None</td>\n      <td>None</td>\n      <td>None</td>\n      <td>None</td>\n      <td>None</td>\n      <td>None</td>\n      <td>None</td>\n      <td>None</td>\n      <td>None</td>\n      <td>None</td>\n      <td>None</td>\n      <td>None</td>\n      <td>None</td>\n      <td>None</td>\n      <td>None</td>\n      <td>None</td>\n      <td>None</td>\n      <td>None</td>\n      <td>None</td>\n      <td>None</td>\n    </tr>\n    <tr>\n      <th>6</th>\n      <td>SDG 1</td>\n      <td>1.5</td>\n      <td>None</td>\n      <td>None</td>\n      <td>None</td>\n      <td>None</td>\n      <td>None</td>\n      <td>None</td>\n      <td>None</td>\n      <td>None</td>\n      <td>None</td>\n      <td>None</td>\n      <td>None</td>\n      <td>None</td>\n      <td>None</td>\n      <td>None</td>\n      <td>None</td>\n      <td>None</td>\n      <td>None</td>\n      <td>None</td>\n      <td>None</td>\n      <td>None</td>\n      <td>None</td>\n      <td>None</td>\n      <td>None</td>\n      <td>None</td>\n      <td>None</td>\n      <td>None</td>\n      <td>None</td>\n      <td>None</td>\n      <td>None</td>\n      <td>None</td>\n      <td>None</td>\n      <td>None</td>\n      <td>None</td>\n      <td>None</td>\n      <td>None</td>\n      <td>None</td>\n      <td>None</td>\n      <td>None</td>\n      <td>None</td>\n      <td>None</td>\n      <td>None</td>\n      <td>None</td>\n      <td>None</td>\n      <td>None</td>\n      <td>None</td>\n      <td>None</td>\n      <td>None</td>\n      <td>None</td>\n      <td>None</td>\n      <td>None</td>\n      <td>None</td>\n      <td>None</td>\n      <td>None</td>\n      <td>None</td>\n      <td>None</td>\n      <td>None</td>\n      <td>None</td>\n    </tr>\n    <tr>\n      <th>7</th>\n      <td>SDG 1</td>\n      <td>1.a</td>\n      <td>None</td>\n      <td>None</td>\n      <td>None</td>\n      <td>None</td>\n      <td>None</td>\n      <td>None</td>\n      <td>None</td>\n      <td>None</td>\n      <td>None</td>\n      <td>None</td>\n      <td>None</td>\n      <td>None</td>\n      <td>None</td>\n      <td>None</td>\n      <td>None</td>\n      <td>None</td>\n      <td>None</td>\n      <td>None</td>\n      <td>None</td>\n      <td>None</td>\n      <td>None</td>\n      <td>None</td>\n      <td>None</td>\n      <td>None</td>\n      <td>None</td>\n      <td>None</td>\n      <td>None</td>\n      <td>None</td>\n      <td>None</td>\n      <td>None</td>\n      <td>None</td>\n      <td>None</td>\n      <td>None</td>\n      <td>None</td>\n      <td>None</td>\n      <td>None</td>\n      <td>None</td>\n      <td>None</td>\n      <td>None</td>\n      <td>None</td>\n      <td>None</td>\n      <td>None</td>\n      <td>None</td>\n      <td>None</td>\n      <td>None</td>\n      <td>None</td>\n      <td>None</td>\n      <td>None</td>\n      <td>None</td>\n      <td>None</td>\n      <td>None</td>\n      <td>None</td>\n      <td>None</td>\n      <td>None</td>\n      <td>None</td>\n      <td>None</td>\n      <td>None</td>\n    </tr>\n    <tr>\n      <th>8</th>\n      <td>SDG 1</td>\n      <td>1.b</td>\n      <td>None</td>\n      <td>None</td>\n      <td>None</td>\n      <td>None</td>\n      <td>None</td>\n      <td>None</td>\n      <td>None</td>\n      <td>None</td>\n      <td>None</td>\n      <td>None</td>\n      <td>None</td>\n      <td>None</td>\n      <td>None</td>\n      <td>None</td>\n      <td>None</td>\n      <td>None</td>\n      <td>None</td>\n      <td>None</td>\n      <td>None</td>\n      <td>None</td>\n      <td>None</td>\n      <td>None</td>\n      <td>None</td>\n      <td>None</td>\n      <td>None</td>\n      <td>None</td>\n      <td>None</td>\n      <td>None</td>\n      <td>None</td>\n      <td>None</td>\n      <td>None</td>\n      <td>None</td>\n      <td>None</td>\n      <td>None</td>\n      <td>None</td>\n      <td>None</td>\n      <td>None</td>\n      <td>None</td>\n      <td>None</td>\n      <td>None</td>\n      <td>None</td>\n      <td>None</td>\n      <td>None</td>\n      <td>None</td>\n      <td>None</td>\n      <td>None</td>\n      <td>None</td>\n      <td>None</td>\n      <td>None</td>\n      <td>None</td>\n      <td>None</td>\n      <td>None</td>\n      <td>None</td>\n      <td>None</td>\n      <td>None</td>\n      <td>None</td>\n      <td>None</td>\n    </tr>\n    <tr>\n      <th>9</th>\n      <td>SDG 2</td>\n      <td>2.0</td>\n      <td>None</td>\n      <td>None</td>\n      <td>None</td>\n      <td>None</td>\n      <td>None</td>\n      <td>None</td>\n      <td>None</td>\n      <td>None</td>\n      <td>None</td>\n      <td>None</td>\n      <td>None</td>\n      <td>None</td>\n      <td>None</td>\n      <td>None</td>\n      <td>None</td>\n      <td>None</td>\n      <td>None</td>\n      <td>None</td>\n      <td>None</td>\n      <td>None</td>\n      <td>None</td>\n      <td>None</td>\n      <td>None</td>\n      <td>None</td>\n      <td>None</td>\n      <td>None</td>\n      <td>None</td>\n      <td>None</td>\n      <td>None</td>\n      <td>None</td>\n      <td>None</td>\n      <td>None</td>\n      <td>None</td>\n      <td>None</td>\n      <td>None</td>\n      <td>None</td>\n      <td>None</td>\n      <td>None</td>\n      <td>None</td>\n      <td>None</td>\n      <td>None</td>\n      <td>None</td>\n      <td>None</td>\n      <td>None</td>\n      <td>None</td>\n      <td>None</td>\n      <td>None</td>\n      <td>None</td>\n      <td>None</td>\n      <td>None</td>\n      <td>None</td>\n      <td>None</td>\n      <td>None</td>\n      <td>None</td>\n      <td>None</td>\n      <td>None</td>\n      <td>None</td>\n    </tr>\n    <tr>\n      <th>10</th>\n      <td>SDG 2</td>\n      <td>2.1</td>\n      <td>None</td>\n      <td>None</td>\n      <td>None</td>\n      <td>None</td>\n      <td>None</td>\n      <td>None</td>\n      <td>None</td>\n      <td>None</td>\n      <td>1.0</td>\n      <td>1.0</td>\n      <td>None</td>\n      <td>None</td>\n      <td>None</td>\n      <td>None</td>\n      <td>None</td>\n      <td>None</td>\n      <td>None</td>\n      <td>None</td>\n      <td>None</td>\n      <td>None</td>\n      <td>None</td>\n      <td>None</td>\n      <td>None</td>\n      <td>None</td>\n      <td>None</td>\n      <td>None</td>\n      <td>None</td>\n      <td>None</td>\n      <td>None</td>\n      <td>None</td>\n      <td>None</td>\n      <td>None</td>\n      <td>None</td>\n      <td>None</td>\n      <td>None</td>\n      <td>None</td>\n      <td>None</td>\n      <td>None</td>\n      <td>None</td>\n      <td>None</td>\n      <td>None</td>\n      <td>None</td>\n      <td>None</td>\n      <td>None</td>\n      <td>None</td>\n      <td>None</td>\n      <td>None</td>\n      <td>None</td>\n      <td>None</td>\n      <td>None</td>\n      <td>None</td>\n      <td>None</td>\n      <td>None</td>\n      <td>None</td>\n      <td>None</td>\n      <td>None</td>\n      <td>None</td>\n    </tr>\n  </tbody>\n</table>\n</div>"
     },
     "metadata": {},
     "execution_count": 13
    }
   ],
   "source": [
    "count_matrix.head(10)"
   ]
  },
  {
   "cell_type": "code",
   "execution_count": null,
   "metadata": {},
   "outputs": [],
   "source": []
  },
  {
   "cell_type": "code",
   "execution_count": 15,
   "metadata": {},
   "outputs": [
    {
     "output_type": "execute_result",
     "data": {
      "text/plain": [
       "      0  1  2  3  4  5  6  7               8           9  10 11 12 13 14 15  \\\n",
       "Index                                                                         \n",
       "1                                                                             \n",
       "2                                                                             \n",
       "3                                                                             \n",
       "4                                                                             \n",
       "5                                                                             \n",
       "6                                                                             \n",
       "7                                                                             \n",
       "8                                                                             \n",
       "9                                                                             \n",
       "10                              food insecur    food all                      \n",
       "\n",
       "      16 17 18 19 20 21 22 23 24 25 26 27 28 29 30 31 32 33 34 35 36 37 38 39  \\\n",
       "Index                                                                           \n",
       "1                                                                               \n",
       "2                                                                               \n",
       "3                                                                               \n",
       "4                                                                               \n",
       "5                                                                               \n",
       "6                                                                               \n",
       "7                                                                               \n",
       "8                                                                               \n",
       "9                                                                               \n",
       "10                                                                              \n",
       "\n",
       "      40 41 42 43 44 45 46 47 48 49 50 51 52 53 54 55 56  \n",
       "Index                                                     \n",
       "1                                                         \n",
       "2                                                         \n",
       "3                                                         \n",
       "4                                                         \n",
       "5                                                         \n",
       "6                                                         \n",
       "7                                                         \n",
       "8                                                         \n",
       "9                                                         \n",
       "10                                                        "
      ],
      "text/html": "<div>\n<style scoped>\n    .dataframe tbody tr th:only-of-type {\n        vertical-align: middle;\n    }\n\n    .dataframe tbody tr th {\n        vertical-align: top;\n    }\n\n    .dataframe thead th {\n        text-align: right;\n    }\n</style>\n<table border=\"1\" class=\"dataframe\">\n  <thead>\n    <tr style=\"text-align: right;\">\n      <th></th>\n      <th>0</th>\n      <th>1</th>\n      <th>2</th>\n      <th>3</th>\n      <th>4</th>\n      <th>5</th>\n      <th>6</th>\n      <th>7</th>\n      <th>8</th>\n      <th>9</th>\n      <th>10</th>\n      <th>11</th>\n      <th>12</th>\n      <th>13</th>\n      <th>14</th>\n      <th>15</th>\n      <th>16</th>\n      <th>17</th>\n      <th>18</th>\n      <th>19</th>\n      <th>20</th>\n      <th>21</th>\n      <th>22</th>\n      <th>23</th>\n      <th>24</th>\n      <th>25</th>\n      <th>26</th>\n      <th>27</th>\n      <th>28</th>\n      <th>29</th>\n      <th>30</th>\n      <th>31</th>\n      <th>32</th>\n      <th>33</th>\n      <th>34</th>\n      <th>35</th>\n      <th>36</th>\n      <th>37</th>\n      <th>38</th>\n      <th>39</th>\n      <th>40</th>\n      <th>41</th>\n      <th>42</th>\n      <th>43</th>\n      <th>44</th>\n      <th>45</th>\n      <th>46</th>\n      <th>47</th>\n      <th>48</th>\n      <th>49</th>\n      <th>50</th>\n      <th>51</th>\n      <th>52</th>\n      <th>53</th>\n      <th>54</th>\n      <th>55</th>\n      <th>56</th>\n    </tr>\n    <tr>\n      <th>Index</th>\n      <th></th>\n      <th></th>\n      <th></th>\n      <th></th>\n      <th></th>\n      <th></th>\n      <th></th>\n      <th></th>\n      <th></th>\n      <th></th>\n      <th></th>\n      <th></th>\n      <th></th>\n      <th></th>\n      <th></th>\n      <th></th>\n      <th></th>\n      <th></th>\n      <th></th>\n      <th></th>\n      <th></th>\n      <th></th>\n      <th></th>\n      <th></th>\n      <th></th>\n      <th></th>\n      <th></th>\n      <th></th>\n      <th></th>\n      <th></th>\n      <th></th>\n      <th></th>\n      <th></th>\n      <th></th>\n      <th></th>\n      <th></th>\n      <th></th>\n      <th></th>\n      <th></th>\n      <th></th>\n      <th></th>\n      <th></th>\n      <th></th>\n      <th></th>\n      <th></th>\n      <th></th>\n      <th></th>\n      <th></th>\n      <th></th>\n      <th></th>\n      <th></th>\n      <th></th>\n      <th></th>\n      <th></th>\n      <th></th>\n      <th></th>\n      <th></th>\n    </tr>\n  </thead>\n  <tbody>\n    <tr>\n      <th>1</th>\n      <td></td>\n      <td></td>\n      <td></td>\n      <td></td>\n      <td></td>\n      <td></td>\n      <td></td>\n      <td></td>\n      <td></td>\n      <td></td>\n      <td></td>\n      <td></td>\n      <td></td>\n      <td></td>\n      <td></td>\n      <td></td>\n      <td></td>\n      <td></td>\n      <td></td>\n      <td></td>\n      <td></td>\n      <td></td>\n      <td></td>\n      <td></td>\n      <td></td>\n      <td></td>\n      <td></td>\n      <td></td>\n      <td></td>\n      <td></td>\n      <td></td>\n      <td></td>\n      <td></td>\n      <td></td>\n      <td></td>\n      <td></td>\n      <td></td>\n      <td></td>\n      <td></td>\n      <td></td>\n      <td></td>\n      <td></td>\n      <td></td>\n      <td></td>\n      <td></td>\n      <td></td>\n      <td></td>\n      <td></td>\n      <td></td>\n      <td></td>\n      <td></td>\n      <td></td>\n      <td></td>\n      <td></td>\n      <td></td>\n      <td></td>\n      <td></td>\n    </tr>\n    <tr>\n      <th>2</th>\n      <td></td>\n      <td></td>\n      <td></td>\n      <td></td>\n      <td></td>\n      <td></td>\n      <td></td>\n      <td></td>\n      <td></td>\n      <td></td>\n      <td></td>\n      <td></td>\n      <td></td>\n      <td></td>\n      <td></td>\n      <td></td>\n      <td></td>\n      <td></td>\n      <td></td>\n      <td></td>\n      <td></td>\n      <td></td>\n      <td></td>\n      <td></td>\n      <td></td>\n      <td></td>\n      <td></td>\n      <td></td>\n      <td></td>\n      <td></td>\n      <td></td>\n      <td></td>\n      <td></td>\n      <td></td>\n      <td></td>\n      <td></td>\n      <td></td>\n      <td></td>\n      <td></td>\n      <td></td>\n      <td></td>\n      <td></td>\n      <td></td>\n      <td></td>\n      <td></td>\n      <td></td>\n      <td></td>\n      <td></td>\n      <td></td>\n      <td></td>\n      <td></td>\n      <td></td>\n      <td></td>\n      <td></td>\n      <td></td>\n      <td></td>\n      <td></td>\n    </tr>\n    <tr>\n      <th>3</th>\n      <td></td>\n      <td></td>\n      <td></td>\n      <td></td>\n      <td></td>\n      <td></td>\n      <td></td>\n      <td></td>\n      <td></td>\n      <td></td>\n      <td></td>\n      <td></td>\n      <td></td>\n      <td></td>\n      <td></td>\n      <td></td>\n      <td></td>\n      <td></td>\n      <td></td>\n      <td></td>\n      <td></td>\n      <td></td>\n      <td></td>\n      <td></td>\n      <td></td>\n      <td></td>\n      <td></td>\n      <td></td>\n      <td></td>\n      <td></td>\n      <td></td>\n      <td></td>\n      <td></td>\n      <td></td>\n      <td></td>\n      <td></td>\n      <td></td>\n      <td></td>\n      <td></td>\n      <td></td>\n      <td></td>\n      <td></td>\n      <td></td>\n      <td></td>\n      <td></td>\n      <td></td>\n      <td></td>\n      <td></td>\n      <td></td>\n      <td></td>\n      <td></td>\n      <td></td>\n      <td></td>\n      <td></td>\n      <td></td>\n      <td></td>\n      <td></td>\n    </tr>\n    <tr>\n      <th>4</th>\n      <td></td>\n      <td></td>\n      <td></td>\n      <td></td>\n      <td></td>\n      <td></td>\n      <td></td>\n      <td></td>\n      <td></td>\n      <td></td>\n      <td></td>\n      <td></td>\n      <td></td>\n      <td></td>\n      <td></td>\n      <td></td>\n      <td></td>\n      <td></td>\n      <td></td>\n      <td></td>\n      <td></td>\n      <td></td>\n      <td></td>\n      <td></td>\n      <td></td>\n      <td></td>\n      <td></td>\n      <td></td>\n      <td></td>\n      <td></td>\n      <td></td>\n      <td></td>\n      <td></td>\n      <td></td>\n      <td></td>\n      <td></td>\n      <td></td>\n      <td></td>\n      <td></td>\n      <td></td>\n      <td></td>\n      <td></td>\n      <td></td>\n      <td></td>\n      <td></td>\n      <td></td>\n      <td></td>\n      <td></td>\n      <td></td>\n      <td></td>\n      <td></td>\n      <td></td>\n      <td></td>\n      <td></td>\n      <td></td>\n      <td></td>\n      <td></td>\n    </tr>\n    <tr>\n      <th>5</th>\n      <td></td>\n      <td></td>\n      <td></td>\n      <td></td>\n      <td></td>\n      <td></td>\n      <td></td>\n      <td></td>\n      <td></td>\n      <td></td>\n      <td></td>\n      <td></td>\n      <td></td>\n      <td></td>\n      <td></td>\n      <td></td>\n      <td></td>\n      <td></td>\n      <td></td>\n      <td></td>\n      <td></td>\n      <td></td>\n      <td></td>\n      <td></td>\n      <td></td>\n      <td></td>\n      <td></td>\n      <td></td>\n      <td></td>\n      <td></td>\n      <td></td>\n      <td></td>\n      <td></td>\n      <td></td>\n      <td></td>\n      <td></td>\n      <td></td>\n      <td></td>\n      <td></td>\n      <td></td>\n      <td></td>\n      <td></td>\n      <td></td>\n      <td></td>\n      <td></td>\n      <td></td>\n      <td></td>\n      <td></td>\n      <td></td>\n      <td></td>\n      <td></td>\n      <td></td>\n      <td></td>\n      <td></td>\n      <td></td>\n      <td></td>\n      <td></td>\n    </tr>\n    <tr>\n      <th>6</th>\n      <td></td>\n      <td></td>\n      <td></td>\n      <td></td>\n      <td></td>\n      <td></td>\n      <td></td>\n      <td></td>\n      <td></td>\n      <td></td>\n      <td></td>\n      <td></td>\n      <td></td>\n      <td></td>\n      <td></td>\n      <td></td>\n      <td></td>\n      <td></td>\n      <td></td>\n      <td></td>\n      <td></td>\n      <td></td>\n      <td></td>\n      <td></td>\n      <td></td>\n      <td></td>\n      <td></td>\n      <td></td>\n      <td></td>\n      <td></td>\n      <td></td>\n      <td></td>\n      <td></td>\n      <td></td>\n      <td></td>\n      <td></td>\n      <td></td>\n      <td></td>\n      <td></td>\n      <td></td>\n      <td></td>\n      <td></td>\n      <td></td>\n      <td></td>\n      <td></td>\n      <td></td>\n      <td></td>\n      <td></td>\n      <td></td>\n      <td></td>\n      <td></td>\n      <td></td>\n      <td></td>\n      <td></td>\n      <td></td>\n      <td></td>\n      <td></td>\n    </tr>\n    <tr>\n      <th>7</th>\n      <td></td>\n      <td></td>\n      <td></td>\n      <td></td>\n      <td></td>\n      <td></td>\n      <td></td>\n      <td></td>\n      <td></td>\n      <td></td>\n      <td></td>\n      <td></td>\n      <td></td>\n      <td></td>\n      <td></td>\n      <td></td>\n      <td></td>\n      <td></td>\n      <td></td>\n      <td></td>\n      <td></td>\n      <td></td>\n      <td></td>\n      <td></td>\n      <td></td>\n      <td></td>\n      <td></td>\n      <td></td>\n      <td></td>\n      <td></td>\n      <td></td>\n      <td></td>\n      <td></td>\n      <td></td>\n      <td></td>\n      <td></td>\n      <td></td>\n      <td></td>\n      <td></td>\n      <td></td>\n      <td></td>\n      <td></td>\n      <td></td>\n      <td></td>\n      <td></td>\n      <td></td>\n      <td></td>\n      <td></td>\n      <td></td>\n      <td></td>\n      <td></td>\n      <td></td>\n      <td></td>\n      <td></td>\n      <td></td>\n      <td></td>\n      <td></td>\n    </tr>\n    <tr>\n      <th>8</th>\n      <td></td>\n      <td></td>\n      <td></td>\n      <td></td>\n      <td></td>\n      <td></td>\n      <td></td>\n      <td></td>\n      <td></td>\n      <td></td>\n      <td></td>\n      <td></td>\n      <td></td>\n      <td></td>\n      <td></td>\n      <td></td>\n      <td></td>\n      <td></td>\n      <td></td>\n      <td></td>\n      <td></td>\n      <td></td>\n      <td></td>\n      <td></td>\n      <td></td>\n      <td></td>\n      <td></td>\n      <td></td>\n      <td></td>\n      <td></td>\n      <td></td>\n      <td></td>\n      <td></td>\n      <td></td>\n      <td></td>\n      <td></td>\n      <td></td>\n      <td></td>\n      <td></td>\n      <td></td>\n      <td></td>\n      <td></td>\n      <td></td>\n      <td></td>\n      <td></td>\n      <td></td>\n      <td></td>\n      <td></td>\n      <td></td>\n      <td></td>\n      <td></td>\n      <td></td>\n      <td></td>\n      <td></td>\n      <td></td>\n      <td></td>\n      <td></td>\n    </tr>\n    <tr>\n      <th>9</th>\n      <td></td>\n      <td></td>\n      <td></td>\n      <td></td>\n      <td></td>\n      <td></td>\n      <td></td>\n      <td></td>\n      <td></td>\n      <td></td>\n      <td></td>\n      <td></td>\n      <td></td>\n      <td></td>\n      <td></td>\n      <td></td>\n      <td></td>\n      <td></td>\n      <td></td>\n      <td></td>\n      <td></td>\n      <td></td>\n      <td></td>\n      <td></td>\n      <td></td>\n      <td></td>\n      <td></td>\n      <td></td>\n      <td></td>\n      <td></td>\n      <td></td>\n      <td></td>\n      <td></td>\n      <td></td>\n      <td></td>\n      <td></td>\n      <td></td>\n      <td></td>\n      <td></td>\n      <td></td>\n      <td></td>\n      <td></td>\n      <td></td>\n      <td></td>\n      <td></td>\n      <td></td>\n      <td></td>\n      <td></td>\n      <td></td>\n      <td></td>\n      <td></td>\n      <td></td>\n      <td></td>\n      <td></td>\n      <td></td>\n      <td></td>\n      <td></td>\n    </tr>\n    <tr>\n      <th>10</th>\n      <td></td>\n      <td></td>\n      <td></td>\n      <td></td>\n      <td></td>\n      <td></td>\n      <td></td>\n      <td></td>\n      <td>food insecur</td>\n      <td>food all</td>\n      <td></td>\n      <td></td>\n      <td></td>\n      <td></td>\n      <td></td>\n      <td></td>\n      <td></td>\n      <td></td>\n      <td></td>\n      <td></td>\n      <td></td>\n      <td></td>\n      <td></td>\n      <td></td>\n      <td></td>\n      <td></td>\n      <td></td>\n      <td></td>\n      <td></td>\n      <td></td>\n      <td></td>\n      <td></td>\n      <td></td>\n      <td></td>\n      <td></td>\n      <td></td>\n      <td></td>\n      <td></td>\n      <td></td>\n      <td></td>\n      <td></td>\n      <td></td>\n      <td></td>\n      <td></td>\n      <td></td>\n      <td></td>\n      <td></td>\n      <td></td>\n      <td></td>\n      <td></td>\n      <td></td>\n      <td></td>\n      <td></td>\n      <td></td>\n      <td></td>\n      <td></td>\n      <td></td>\n    </tr>\n  </tbody>\n</table>\n</div>"
     },
     "metadata": {},
     "execution_count": 15
    }
   ],
   "source": [
    "#detected_keywords.head(10)\n",
    "detected_keywords[range(57)].head(10)"
   ]
  },
  {
   "cell_type": "code",
   "execution_count": 18,
   "metadata": {},
   "outputs": [
    {
     "output_type": "stream",
     "name": "stdout",
     "text": [
      "1.2.0\n"
     ]
    }
   ],
   "source": [
    "detected_keywords.iterrows()"
   ]
  },
  {
   "cell_type": "code",
   "execution_count": null,
   "metadata": {},
   "outputs": [],
   "source": [
    "\n",
    "def mark_text(document_text, detected_keywords_df):\n",
    "\n",
    "marked_text = doc_text \n",
    "\n",
    "for index, row in detected_keywords_df.iterrows()\n",
    "\n",
    "    label = row['Target'] if row['Target'].split('.')[-1] != 0 else row['Goal']\n",
    "\n",
    "    for keyword in row[range(57)]:\n",
    "        if keyword:\n",
    "            marked_text = marked_text.replace(f'>{label}>{keyword.upper()}<<')\n",
    "\n",
    "return marked_text"
   ]
  },
  {
   "cell_type": "code",
   "execution_count": null,
   "metadata": {},
   "outputs": [],
   "source": [
    "def mark_text(pd_row, doc_text, keywd_cols=list(range(57))):\n",
    "    label = pd_row['Target']\n",
    "    flag = label.split('.')[-1]\n",
    "    flag = 'SDG' if flag=='0' else 'Target'\n",
    "    for keywd in pd_row[keywd_cols]:\n",
    "        print(keywd)\n",
    "        doc_text=doc_text.replace(keywd, f'< {flag} {label} <{keywd.upper()}>>')\n",
    "        if flag=='SDG':\n",
    "            doc_text=doc_text.replace('.0','') \n",
    "    return doc_text\n",
    "\n"
   ]
  },
  {
   "cell_type": "code",
   "execution_count": 17,
   "metadata": {},
   "outputs": [
    {
     "output_type": "stream",
     "name": "stdout",
     "text": [
      " european commissionbrussel 11 . 12 . 2019 com 2019 640 finalcommun commissionth european green deal 1 . introduct - turn urgent challeng uniqu opportunitythi commun set european green deal european union eu citizen . reset commiss commit tackl climat environmental-relat challeng gener defin task . atmospher warm climat chang pass year . on million eight million speci planet risk lost . forest ocean pollut destroi 1 . european green deal respons challeng . new growth strategi aim transform eu intoa fair prosper societi modern resource-effici competit economi no net emiss greenhous gase 2050 econom growth decoupl resourc us . also aim protect conserv enhanc eu natur capit protect health well-b citizen environment-relat risk impact . time transit must inclus . must put peopl first pai attent region industri worker face greatest challeng . sinc bring substanti chang activ public particip confid transit paramount polici work accept . new pact need bring togeth citizen all divers nation region local author civil societi industri work close eu institut consult bodi . eu collect abil transform economi societi put sustain path . build strength global leader climat environment measur consum protect worker right . deliv addit reduct emiss challeng . requir massiv public invest increas effort direct privat capit toward climat environment action avoid lock-in unsustain practic . eu must forefront coordinat intern effort toward build coher financi system support sustain solut . upfront invest also opportun put europ firmli new path sustain inclus growth . european green deal acceler underpin transit need all sector . environment ambit green deal not achiev europ act alon . driver climat chang biodivers loss global not limit nation border . eu us influenc expertis financi resourc mobilis neighbour partner join sustain path . eu continu lead intern effort want build allianc like-mind . also recognis need maintain secur suppli competit even other unwil act . commun present initi roadmap kei polici measur need achiev european green deal . updat need evolv polici respons formulat . all eu action polici contribut european green deal object . challeng complex interlink . polici respons must bold comprehens seek maximis benefit health qualiti life resili competit . requir intens coordin exploit avail synergi across all polici area 2 . green deal integr part commiss strategi implement unit nation 2030 agenda sustain develop goal 3 prioriti announc presid von der leyen polit guidelin 4 . part green deal commiss refocu european semest process macroeconom coordin integr unit nation sustain develop goal put sustain well-b citizen centr econom polici sustain develop goal heart eu policymak action . figur illustr variou element green deal . figur 1 european green deal 2 . transform eu economi sustain futur 2 . 1 . design set deepli transform policiesto deliv european green deal need rethink polici clean energi suppli across economi industri product consumpt large-scal infrastructur transport food agricultur construct taxat social benefit . achiev aim essenti increas valu given protect restor natur ecosystem sustain us resourc improv human health . transform chang need potenti benefici eu economi societi natur environ . eu also promot invest necessari digit transform tool essenti enabl chang . all area action strongli interlink mutual reinforc care attent paid potenti trade-off econom environment social object . green deal make consist us all polici lever regul standardis invest innov nation reform dialogu social partner intern cooper . european pillar social right guid action ensur no on left behind . new measur not enough achiev european green deal object . addit launch new initi commiss work member state step eu effort ensur current legisl polici relev green deal enforc effect implement . 2 . 1 . 1 . increas eu climat ambit 2030 2050 the commiss alreadi set clear vision achiev climat neutral 20505 . vision form basi long-term strategi eu submit unit nation framework convent climat chang earli 2020 . set clearli condit effect fair transit provid predict investor ensur transit irrevers commiss propos first european climat law march 2020 . enshrin 2050 climat neutral object legisl . climat law also ensur all eu polici contribut climat neutral object all sector plai part . eu alreadi start modernis transform economi aim climat neutral . 1990 2018 reduc greenhous ga emiss 23 economi grew 61 . howev current polici reduc greenhous ga emiss 60 2050 . much remain done start ambiti climat action come decad . summer 2020 commiss present impact assess plan increas eu greenhous ga emiss reduct target 2030 least 50 toward 55 compar 1990 level respons wai . deliv addit greenhous ga emiss reduct commiss june 2021 review propos revis necessari all relev climate-relat polici instrument . compris emiss trade system 6 includ possibl extens european emiss trade new sector member state target reduc emiss sector outsid emiss trade system 7 regul land us land us chang forestri 8 . commiss propos amend climat law updat accordingli . polici reform help ensur effect carbon price throughout economi . encourag chang consum busi behaviour facilit increas sustain public privat invest . differ price instrument must complement jointli provid coher polici framework . ensur taxat align climat object also essenti . commiss propos revis energi taxat direct 9 focus environment issu propos us provis treati allow european parliament council adopt propos area ordinari legisl procedur qualifi major vote rather unanim . long mani intern partner not share ambit eu risk carbon leakag either product transferr eu countri lower ambit emiss reduct eu product replac carbon-intens import . risk materialis no reduct global emiss frustrat effort eu industri meet global climat object pari agreement . differ level ambit worldwid persist eu increas climat ambit commiss propos carbon border adjust mechan select sector reduc risk carbon leakag . would ensur price import reflect accur carbon content . measur design compli world trade organ rule intern oblig eu . would altern measur 10 address risk carbon leakag eu emiss trade system . commiss adopt new ambiti eu strategi adapt climat chang . essenti climat chang continu creat signific stress europ spite mitig effort . strengthen effort climate-proof resili build prevent prepared crucial . work climat adapt continu influenc public privat invest includ nature-bas solut . import ensur across eu investor insur busi citi citizen abl access data develop instrument integr climat chang risk manag practic . 2 . 1 . 2 . suppli clean afford secur energyfurth decarbonis energi system critic reach climat object 2030 2050 . product us energi across econom sector account 75 eu greenhous ga emiss . energi effici must prioritis . power sector must develop base larg renew sourc complement rapid phase coal decarbonis ga . time eu energi suppli need secur afford consum busi . happen essenti ensur european energi market fulli integrat interconnect digitalis respect technolog neutral . member state present revis energi climat plan end 2019 . line regul govern energi union climat action 11 plan set ambiti nation contribut eu-wid target . commiss assess ambit plan need addit measur level ambit not suffici . feed process increas climat ambit 2030 commiss review propos revis necessari relev energi legisl june 2021 . member state begin updat nation energi climat plan 2023 reflect new climat ambit . commiss continu ensur all relev legisl rigor enforc . clean energi transit involv benefit consum . renew energi sourc essenti role . increas offshor wind product essenti build region cooper member state . smart integr renew energi effici sustain solut across sector help achiev decarbonis lowest possibl cost . therapid decreas cost renew combin improv design support polici alreadi reduc impact household energi bill renew deployment . commiss present mid- 2020 measur help achiev smart integr . parallel decarbonis ga sector facilitat includ via enhanc support develop decarbonis gase via forward-look design competit decarbonis ga market address issu energy-relat methan emiss . risk energi poverti must address household cannot afford kei energi servic ensur basic standard live . effect programm financ scheme household renov hous reduc energi bill help environ . 2020 commiss produc guidanc assist member state address issu energi poverti . transit climat neutral also requir smart infrastructur . increas cross-bord region cooper help achiev benefit clean energi transit afford price . regulatori framework energi infrastructur includ ten- regul 12 need review ensur consist climat neutral object . framework foster deployment innov technolog infrastructur smart grid hydrogen network carbon captur storag utilis energi storag also enabl sector integr . exist infrastructur asset requir upgrad remain fit purpos climat resili . 2 . 1 . 3 . mobilis industri clean circular economyachiev climat neutral circular economi requir full mobilis industri . take 25 year gener transform industri sector all valu chain . readi 2050 decis action need taken next five year . 1970 2017 annual global extract materi tripl continu grow 13 pose major global risk . half total greenhous ga emiss 90 biodivers loss water stress come resourc extract process materi fuel food . eu industri start shift stillaccount 20 eu greenhous ga emiss . remain linear depend throughput new materi extract trade process good final dispos wast emiss . 12 materi us come recycl 14 . transit opportun expand sustain job-intens econom activ . signific potenti global market low-emiss technolog sustain product servic . likewis circular economi offer great potenti new activ job . howev transform take place slow pace progress neither widespread nor uniform . european green deal support acceler eu industri transit sustain model inclus growth . march 2020 commiss adopt eu industri strategi address twin challeng green digit transform . europ must leverag potenti digit transform kei enabl reach green deal object . togeth industri strategi new circular economi action plan help modernis eu economi draw benefit opportun circular economi domest global . kei aim new polici framework stimul develop lead market climat neutral circular product eu beyond . energy-intens industri steel chemic cement indispens europ economi suppli sever kei valu chain . decarbonis modernis sector essenti . recommend publish high level group energy-intens industri show industri commit object 15 . circular economi action plan includ sustain product polici support circular design all product base common methodolog principl . prioritis reduc reus materi recycl . foster new busi model set minimum requir prevent environment harm product place eu market . extend produc respons also strengthen . circular economi action plan guid transit all sector action focu particular resource-intens sector textil construct electron plastic . commiss follow 2018 plastic strategi focus among thing measur tackl intention add micro plastic unintent releas plastic exampl textil tyre abras . commiss develop requir ensur all packag eu market reusabl recyclable econom viabl manner 2030 develop regulatori framework biodegrad bio-bas plastic implement measur singl us plastic . circular economi action plan also includ measur encourag busi offer allow consum choos reusabl durabl repair product . analys need right repair curb built-in obsolesc devic particular electron . consum polici help empow consum make inform choic plai activ role ecolog transit . new busi model base rent share good servic plai role long truli sustain afford . reliabl compar verifi inform also plai import part enabl buyer make sustain decis reduc risk green wash . compani make green claim substanti standard methodolog assess impact environ . commiss step regulatori non-regulatori effort tackl fals green claim . digitalis also help improv avail inform characterist product sold eu . instanc electron product passport could provid inform product origin composit repair dismantl possibl end life handl . public author includ eu institut lead exampl ensur procur green . commiss propos legisl guidanc green public purchas . sustain product polici also potenti reduc wast significantli . wast cannot avoid econom valu must recov impact environ climat chang avoid minimis . requir new legisl includ target measur tackl over-packag wast gener . parallel eu compani benefit robust integrat singl market secondari raw materi by-product . requir deeper cooper across valu chain case circular plastic allianc . commiss consid legal requir boost market secondari raw materi mandatori recycl content instanc packag vehicl construct materi batteri . simplifi wast manag citizen ensur cleaner secondari materi busi commiss also propos eu model separ wast collect . commiss view eu stop export wast outsid eu therefor revisit rule wast shipment illeg export . access resourc also strateg secur question europ ambit deliv green deal . ensur suppli sustain raw materi particular critic raw materi necessari clean technolog digit space defenc applic diversifi suppli primari secondari sourc therefor on pre-requisit make transit happen . eu industri need climat resourc frontrunn develop first commerci applic breakthrough technolog kei industri sector 2030 . prioriti area includ clean hydrogen fuel cell altern fuel energi storag carbon captur storag utilis . exampl commiss support clean steel breakthrough technolog lead zero-carbon steel make process 2030 explor whether part fund liquidat european coal steel commun us . broadli eu emiss trade system innov fund help deploi large-scal innov project . promot new form collabor industri invest strateg valu chain essenti . commiss continu implement strateg action plan batteri support european batteri allianc . propos legisl 2020 ensur safe circular sustain batteri valu chain all batteri includ suppli grow market electr vehicl . commiss also support initi lead allianc large-scal pool resourc exampl form import project common european interest target time-bound state aid help build new innov valu chain . digit technolog critic enabl attain sustain goal green deal mani differ sector . commiss explor measur ensur digit technolog artifici intellig 5 g cloud edg comput internet thing acceler maximis impact polici deal climat chang protect environ . digitalis also present new opportun distanc monitor air water pollut monitor optimis energi natur resourc us . time europ need digit sector put sustain heart . commiss also consid measur improv energi effici circular economi perform sector broadband network data centr ict devic . commiss assess need transpar environment impact electron commun servic stringent measur deploi new network benefit support take-back scheme incentivis peopl return unwant devic mobil phone tablet charger . 2 . 1 . 4 . build renovat energi resourc effici waythe construct us renov build requir signific amount energi miner resourc e . g . sand gravel cement . build also account 40 energi consum . todai annual renov rate build stock vari 0 . 4 1 . 2 member state . rate need least doubl reach eu energi effici climat object . parallel 50 million consum struggl keep home adequ warm . address twin challeng energi effici afford eu member state engag renov wave public privat build . increas renov rate challeng renov lower energi bill reduc energi poverti . also boost construct sector opportun support sme local job . commiss rigor enforc legisl relat energi perform build . start assess 2020 member state nation long-term renov strategi 16 . commiss also launch work possibl includ emiss build european emiss trade part broader effort ensur rel price differ energi sourc provid right signal energi effici . addit commiss review construct product regul 17 . ensur design new renovat build all stage line need circular economi lead increas digitalis climate-proof build stock . parallel commiss propos work stakehold new initi renov 2020 . includ open platform bring togeth build construct sector architect engin local author address barrier renov . initi also includ innov financ scheme investeu . could target hous associ energi servic compani could roll renov includ energi perform contract . essenti aim would organis renov effort larger block benefit better financ condit economi scale . commiss also work lift nation regulatori barrier inhibit energi effici invest rent multi-ownership build . particular attent paid renov social hous help household struggl pai energi bill . focu also put renovat school hospit monei save build effici monei avail support educ public health . 2 . 1 . 5 . accelerat shift sustain smart mobilitytransport account quarter eu greenhous ga emiss still grow . achiev climat neutral 90 reduct transport emiss need 2050 . road rail aviat waterborn transport all contribut reduct . achiev sustain transport mean putt user first provid afford access healthier cleaner altern current mobil habit . commiss adopt strategi sustain smart mobil 2020 address challeng tackl all emiss sourc . multimod transport need strong boost . increas effici transport system . matter prioriti substanti part 75 inland freight carri todai road shift onto rail inland waterwai . requir measur manag better increas capac railwai inland waterwai commiss propos 2021 . commiss also consid withdraw present new propos revis combin transport direct 18 turn effect tool support multimod freight oper involv rail waterborn transport includ short-sea shipp . aviat work adopt commiss propos truli singl european sky need restart help achiev signific reduct aviat emiss . automat connect multimod mobil plai increas role togeth smart traffic manag system enabl digitalis . theeu transport system infrastructur made fit support new sustain mobil servic reduc congest pollut especi urban area . commiss help develop smart system traffic manag mobil servic solut fund instrument connect europ facil . price transport must reflect impact environ health . fossil-fuel subsidi end context revis energi taxat direct commiss look close current tax exempt includ aviat maritim fuel best close loophol . similarli commiss propos extend european emiss trade maritim sector reduc eu emiss trade system allow allocat free airlin . coordinat action global level notabl intern civil aviat organ intern maritim organ . commiss also give fresh polit consider achiev effect road price eu . call european parliament council maintain high level ambit commiss origin propos eurovignett direct 19 readi withdraw necessari propos altern measur . eu parallel ramp-up product deployment sustain altern transport fuel . 2025 1 million public recharg refuel station need 13 million zero- low-emiss vehicl expect european road . commiss support deployment public recharg refuel point persist gap exist notabl long-dist travel less dens populat area launch quickli possibl new fund call support . step complement measur taken nation level . commiss consid legisl option boost product uptak sustain altern fuel differ transport mode . commiss also review altern fuel infrastructur direct 20 tent regul acceler deployment zero- low-emiss vehicl vessel . transport becom drastic less pollut especi citi . combin measur address emiss urban congest improv public transport . commiss propos stringent air pollut emiss standard combustion-engin vehicl . commiss also propos revis june 2021 legisl co 2 emiss perform standard car van ensur clear pathwai 2025 onward toward zero-emiss mobil . parallel consid appli european emiss trade road transport complement exist futur co 2 emiss perform standard vehicl . take action relat maritim transport includ regul access pollut ship eu port oblig dock ship us shore-sid electr . similarli air qualiti improv near airport tackl emiss pollut aeroplan airport oper . 2 . 1 . 6 . farm fork design fair healthi environmentally-friendli food systemeuropean food famou safe nutriti high qualiti . also becom global standard sustain . although transit sustain system start feed fast-grow world popul remain challeng current product pattern . food product still result air water soil pollut contribut loss biodivers climat chang consum excess amount natur resourc import part food wast . time low qualiti diet contribut obes diseas cancer . new opportun all oper food valu chain . new technolog scientif discoveri combin increas public awar demand sustain food benefit all stakehold . commiss present farm fork strategi spring 2020 launch broad stakehold debat cover all stage food chain pave wai formulat sustain food polici . european farmer fishermen kei manag transit . farm fork strategi strengthen effort tackl climat chang protect environ preserv biodivers . common agricultur common fisheri polici remain kei tool support effort ensur decent live farmer fishermen famili . commiss propos common agricultur polici 2021 2027 stipul least 40 common agricultur polici overal budget least 30 maritim fisheri fund would contribut climat action . commiss work european parliament council achiev least level ambit propos . given start revis common agricultur polici like delai beginn 2022 commiss work member state stakehold ensur outset nation strateg plan agricultur fulli reflect ambit green deal farm fork strategi . commiss ensur strateg plan assess robust climat environment criteria . plan lead us sustain practic precis agricultur organ farm agro-ecolog agro-forestri stricter anim welfar standard . shift focu complianc perform measur eco-schem reward farmer improv environment climat perform includ manag store carbon soil improv nutrient manag improv water qualiti reduc emiss . commiss work member state develop potenti sustain seafood sourc low-carbon food . strateg plan need reflect increas level ambit toreduc significantli us risk chemic pesticid well us fertilis antibiot . commiss identifi measur includ legisl need bring reduct base stakehold dialogu . area organ farm also need increas europ . eu need develop innov wai protect harvest pest diseas consid potenti role new innov techniqu improv sustain food system ensur safe . farm fork strategi also contribut achiev circular economi . aim reduc environment impact food process retail sector take action transport storag packag food wast . includ action combat food fraud includ strengthen enforc investig capac eu level launch process identifi new innov food feed product seafood base alga . lastli farm fork strategi strive stimul sustain food consumpt promot afford healthi food all . import food not compli relev eu environment standard not allow eu market . commiss propos action help consum choos healthi sustain diet reduc food wast . commiss explor new wai give consum better inform includ digit mean detail food come nutrit valu environment footprint . farm fork strategi also contain propos improv posit farmer valu chain . 2 . 1 . 7 . preserv restor ecosystem biodiversityecosystem provid essenti servic food fresh water clean air shelter . mitig natur disast pest diseas help regul climat . howev eu not meet import environment object 2020 aichi target convent biolog divers . eu global partner need halt biodivers loss . intergovernment science-polici platform biodivers ecosystem servic 2019 global assess report 21 show worldwid eros biodivers caus primarili chang land sea us direct exploit natur resourc climat chang third import driver biodivers loss . confer parti convent biolog divers kunm china octob 2020 opportun world adopt robust global framework halt biodivers loss . ensur eu plai kei role commiss present biodivers strategi march 2020 tobe follow specif action 2021 . strategi outlin eu posit confer parti global target protect biodivers well commit address main caus biodivers loss eu underpinn measur object address main caus biodivers loss . biodivers strategi identifi specif measur meet object . could includ quantifi object increas coverag protect biodiversity-rich land sea area build natura 2000 network . member state also reinforc cross-bord cooper protect restor effect area cover natura 2000 network . commiss identifi measur includ legisl would help member state improv restor damag ecosystem good ecolog statu includ carbon-rich ecosystem . biodivers strategi also includ propos green european citi increas biodivers urban space . commiss consid draft natur restor plan look provid fund help member state reach aim . all eu polici contribut preserv restor europ natur capit 22 . farm fork strategi outlin section 2 . 1 . 6 address us pesticid fertilis agricultur . work continu common fisheri polici reduc advers impact fish ecosystem especi sensit area . commiss also support connect well-manag marin protect area . forestecosystem increas pressur result climat chang . eu forest area need improv qualiti quantiti eu reach climat neutral healthi environ . sustain re- afforest restor degrad forest increas absorpt co 2 improv resili forest promot circular bio-economi . build 2030 biodivers strategi commiss prepar new eu forest strategi cover whole forest cycle promot mani servic forest provid . new eu forest strategi kei object effect afforest forest preserv restor europ help increas absorpt co 2 reduc incid extent forest fire promot bio-economi full respect ecolog principl favour biodivers . nation strateg plan common agricultur polici incentivis forest manag preserv grow manag forest sustain . build commun stepp eu action protect restor world forest 23 commiss take measur regulatori otherwis promot import product valu chain not involv deforest forest degrad . sustain blue economi plai central role alleviat multipl demand eu land resourc tackl climat chang . role ocean mitigat adapt climat chang increasingli recognis . sector contribut improv us aquat marin resourcesand exampl promot product us new sourc protein reliev pressur agricultur land . gener last solut climat chang requir greater attent nature-bas solut includ healthi resili sea ocean . commiss analys find intern panel climat chang special report ocean 24 propos measur maritim area . includ wai manag maritim space sustain notabl help tap grow potenti offshor renew energi . commiss also take zero-toler approach illeg unreport unregulat fish . 2020 unit nation ocean confer portug opportun eu highlight import action ocean issu . 2 . 1 . 8 . zero pollut ambit toxic-fre environmentcreat toxic-fre environ requir action prevent pollut generat well measur clean remedi . protect europ citizen ecosystem eu need better monitor report prevent remedi pollut air water soil consum product . achiev eu member state need look systematicalli all polici regul . address interlink challeng commiss adopt 2021 zero pollut action plan air water soil . natur function ground surfac water must restor . essenti preserv restor biodivers lake river wetland estuari prevent limit damag flood . implement farm fork strategi reduc pollut excess nutrient . addit commiss propos measur address pollut urban runoff new particularli harm sourc pollut micro plastic chemic includ pharmaceut . also need address combin effect differ pollut . commiss draw lesson learnt evalu current air qualiti legisl 25 . itwil also propos strengthen provis monitor 26 model air qualiti plan help local author achiev cleaner air . commiss notabl propos revis air qualiti standard align close world health organ recommend . commiss review eu measur address pollut larg industri instal . look sector scope legisl make fulli consist climat energi circular economi polici . commiss also work member state improv prevent industri accid . ensur toxic-fre environ commiss present chemic strategi sustain . help protect citizen environ better hazard chemic encourag innov develop safe sustain altern . all parti includ industri work togeth combin better health environment protect increas global competit . achiev simplifi strengthen legal framework . commiss review us better eu agenc scientif bodi move toward process on substanc on assess provid greater transpar prioritis action deal chemic . parallel regulatori framework need rapidli reflect scientif evid risk pose endocrin disruptor hazard chemic product includ import combin effect differ chemic persist chemic . 2 . 2 . mainstream sustain all eu polici 2 . 2 . 1 . pursu green financ invest ensur transitionto achiev ambit set european green deal signific invest need . commiss estimat achiev current 2030 climat energi target requir 260 billion addit annual invest 27 1 . 5 2018 gdp 28 . flow invest need sustain time . magnitud invest challeng requir mobilis public privat sector . commiss present sustain europ invest plan help meet addit fund need . combin dedicat financ support sustain invest propos improv enabl framework conduc green invest . time essenti prepar pipelin sustain project . technic assist advisori servic help project promot identifi prepar project access sourc financ . eu budget plai kei role . commiss propos 25 target climat mainstream across all eu programm . eu budget also contribut achiev climat object revenu side . commiss propos new revenu stream resourc on base non-recycl plastic-packag wast . second revenu stream could involv allocat 20 revenu auction eu emiss trade system eu budget . least 30 investeu fund contribut fight climat chang . moreov project subject sustain proof screen contribut make climat environment social object . investeu also offer member state option us eu budgetari guarante e . g . deliv climate-relat cohes polici object territori region . investeu also strengthen cooper nation promot bank institut encourag overal green activ deliv eu polici object . moreov part revis eu emiss trade system commiss review role innov modernis fund not financ eu long-term budget . ambit strengthen role effect deploi innov climat neutral solut across eu . revis eu emiss trade system alloc addit revenu allow eu budget view strengthen financ transit also consid . commiss also work european invest bank eib group nation promot bank institut well intern financi institut . eib set target doubl climat target 25 50 2025 thu becom europ climat bank . part sustain europ invest plan commiss propos transit mechan includ transit fundto leav no on behind . transit succe conduct fair inclus wai . vulner expos harm effect climat chang environment degrad . time manag transit lead signific structur chang busi model skill requir rel price . citizen depend social geograph circumst affect differ wai . not all member state region citi start transit point capac respond . challeng requir strong polici respons all level . transit mechanismwil focu region sector affect transit depend fossil fuel carbon-intens process . draw sourc fund eu budget well eib group leverag necessari privat public resourc . support link promot transit toward low-carbon climate-resili activ . also strive protect citizen worker vulner transit provid access re-skil programm job new econom sector energy-effici hous . commiss work member state region help put place territori transit plan . mechan come addit substanti contribut eu budget all programm directli relev transit well fund european region develop fund european social fund plu . order bring answer long-term financ need transit commiss continu explor relev partner part sustain europ invest plan addit sourc could mobilis innov wai . need social transit must also reflect polici eu nation level . includ invest provid afford solut affect carbon price polici exampl public transport well measur address energi poverti promot re-skil . coher climat environ polici holist approach often precondit ensur perceiv fair illustrat debat taxat variou mode transport . compani worker activ social dialogu help anticip successfulli manag chang . european semest process macroeconom coordin support nation polici issu . privat sector kei financ green transit . long-term signal need direct financi capit flow green invest avoid strand asset . commiss present renew sustain financ strategi third quarter 2020 focu number action . first strategi strengthen foundat sustain invest . requir notabl european parliament council adopt taxonomi classifi environment sustain activ . sustain embedd corpor govern framework mani compani still focu much short-term financi perform compar long-term develop sustain aspect . time compani financi institut need increas disclosur climat environment data investor fulli inform sustain invest . end commiss review non-financi report direct . ensur appropri manag environment risk mitig opportun reduc relat transact cost commiss also support busi stakehold develop standardis natur capit account practic within eu internation . second increas opportun provid investor compani make easier identifi sustain invest ensur credibl . could done via clear label retail invest product develop eu green bond standard facilit sustain invest conveni wai . third climat environment risk manag integrat financi system . mean better integrat risk eu prudenti framework assess suitabl exist capit requir green asset . also examin financi system help increas resili climat environment risk particular come physical risk damag aris natur catastroph . 2 . 2 . 2 . green nation budget send right price signalsn budget plai kei role transit . greater us green budget tool help redirect public invest consumpt taxat green prioriti awai harm subsidi . commiss work member state screen benchmark green budget practic . make easier assess extent annual budget medium-term fiscal plan take environment consider risk account learn best practic . review european econom govern framework includ refer green public invest context qualiti public financ . inform debat improv eu fiscal govern . outcom debat form basi possibl futur step includ treat green invest within eu fiscal ruleswhil preserv safeguard risk debt sustain . well-design tax reform boost econom growth resili climat shock help contribut fairer societi transit . plai direct role send right price signal provid right incent sustain behaviour produc user consum . nation level european green deal creat context broad-bas tax reform remov subsidi fossil fuel shift tax burden labour pollut take account social consider . need ensur rapid adopt commiss propos valu add tax vat rate current tabl council member state make target us vat rate reflect increas environment ambit exampl support organ fruit veget . evalu underwai relev state aid guidelin includ environment energi state aid guidelin . guidelin revis 2021 reflect polici object european green deal support cost-effect transit climat neutral 2050 facilit phase fossil fuel particular pollut ensur level-plai field intern market . revis also opportun address market barrier deployment clean product . 2 . 2 . 3 . mobilis research foster innovationnew technolog sustain solut disrupt innov critic achiev object european green deal . keep competit advantag clean technolog eu need increas significantli large-scal deployment demonstr new technolog across sector across singl market build new innov valu chain . challeng beyond mean individu member state . horizon europ synergi eu programm plai pivot role leverag nation public privat invest . least 35 budget horizon europ fund new solut climat relev implement green deal . full rang instrument avail horizon europ programm support research innov effort need . four green deal mission help deliv large-scal chang area adapt climat chang ocean citi soil . mission bring togeth wide rang stakehold includ region citizen . partnership industri member state support research innov transport includ batteri clean hydrogen low-carbon steel make circular bio-bas sector built environ . knowledg innov commun run european institut innov technolog continu promot collabor among higher educ institut research organis compani climat chang sustain energi food futur smart environmentally-friendli integrat urban transport . european innov council dedic fund equiti invest busi acceler servic high potenti start-up sme achiev breakthrough green deal innov scale rapidli global market . convent approach not suffici . emphasis experiment work across sector disciplin eu research innov agenda take systemic approach need achiev aim green deal . horizon europ programm also involv local commun work toward sustain futur initi seek combin societ pull technolog push . access interoper data heart data-driven innov . data combin digit infrastructur e . g . supercomput cloud ultra-fast network artifici intellig solut facilit evidence-bas decis expand capac understand tackl environment challeng . commiss support work unlock full benefit digit transform support ecolog transit . immedi prioriti boost eu abil predict manag environment disast . commiss bring togeth european scientif industri excel develop high precis digit model earth . 2 . 2 . 4 . activat educ trainingschool train institut univers well place engag pupil parent wider commun chang need success transit . commiss prepar european compet framework help develop assess knowledg skill attitud climat chang sustain develop . also provid support materi facilit exchang good practic eu network teacher-train programm . commiss work provid member state new financi resourc make school build oper sustain . strengthen collabor european invest bank creat stronger link structur fund new financi instrument aim leverag 3 billion invest school infrastructur 2020 . pro-act re-skil upskil necessari reap benefit ecolog transit . propos european social fund plai import role help europ workforc acquir skill need transfer declin sector grow sector adapt new process . skill agenda youth guarante updat enhanc employable green economi . 2 . 2 . 5 . green oath no harmal eu action polici pull togeth help eu achiev success transit toward sustain futur . commiss better regul tool provid solid basi . base public consult identif environment social econom impact analys sme affect innov foster hinder impact assess contribut make effici polici choic minimum cost line object green deal . evalu also systematicalli assess coher current legisl new prioriti . support work identifi remedi inconsist current legisl commiss invit stakehold us avail platform 29 simplifi legisl identifi problemat case . commiss consid suggest prepar evalu impact assess legisl propos european green deal . addit build result recent stock take better regul policyth commiss improv wai better regul guidelin support tool address sustain innov issu . object ensur all green deal initi achiev object effect least burdensom wai all eu initi live green oath no harm . end explanatori memorandum accompani all legisl propos delegat act includ specif section explain initi uphold principl . 3 . eu globallead global challeng climat chang environment degrad requir global respons . eu continu promot implement ambiti environ climat energi polici across world . develop stronger green deal diplomaci focus convinc support other take share promot sustain develop . sett credibl exampl following-up diplomaci trade polici develop support extern polici eu effect advoc . commiss high repres work close member state mobilis all diplomat channel bilater multilater includ unit nation g 7 g 20 world trade organ relev intern fora . eu continu ensur pari agreement remain indispens multilater framework tackl climat chang . eu share global emiss fall compar action increas effort region critic address global climat challeng meaning wai . debat climat ambit intensifi come month line pari agreement provis regular stocktak updat . confer parti glasgow 2020 import mileston global stocktak 2023 . assess progress toward achiev long-term goal . current stand clear level global ambit insuffici 30 . eu engag intens all partner increas collect effort help revis implement nation determin contribut devis ambiti long-term strategi . build eu increas ambit outlin section 2 . parallel eu step bilater engag partner countri necessari establish innov form engag . eu continu engag economi g 20 respons 80 global greenhous ga emiss . stepp level climat action taken intern partner requir tailor-mad geograph strategi reflect differ context local need exampl current futur big emitt least develop countri small island develop state . eu also work global partner develop intern carbon market kei tool creat econom incent climat action . eu put emphasi support immedi neighbour . ecolog transit europ fulli effect eu immedi neighbourhood also take effect action . work underwai green agenda western balkan . commiss high representativear also envisag number strong environ energi climat partnership southern neighbourhood within eastern partnership . 2020 eu-china summit beij leipzig opportun reinforc partnership eu china climat environment issu notabl ahead kunm biodivers confer confer parti glasgow . likewis forthcom comprehens strategi africa 2020 summit african union eu make climat environment issu kei strand relat two contin . particular africa-europ allianc sustain invest job seek unlock africa potenti make rapid progress toward green circular economi includ sustain energi food system smart citi . eu strengthen engag africa wider deployment trade sustain clean energi . renew energi energi effici exampl clean cook kei close energi access gap africa deliv requir reduct co 2 . eu launch naturafrica initi tackl biodivers loss creat network protect area protect wildlif offer opportun green sector local popul . gener eu us diplomat financi tool ensur green allianc part relat africa partner countri region particularli latin america caribbean asia pacif . eu also reinforc current initi engag third countri cross-cutt climat environ issu . mai includ end global fossil fuel subsidi line g 20 commit phasing-out financ multilater institut fossil fuel infrastructur strengthen sustain financ phase all new coal plant construct action reduc methan emiss . eu also recognis global climat environment challeng signific threat multipli sourc instabl . ecolog transit reshap geopolit includ global econom trade secur interest . creat challeng number state societi . eu work all partner increas climat environment resili prevent challeng becom sourc conflict food insecur popul displac forc migrat support transit global . climat polici implic becom integr part eu think action extern issu includ context common secur defenc polici . trade polici support eu ecolog transit . serv platform engag trade partner climat environment action . commit sustain continu strengthen eu trade agreement particular regard enhanc climat chang action . commiss also stepp effort implement enforc sustain develop commit eu trade agreement effort enhanc appoint chief trade enforc offic . climat chang specif eu recent agreement all includ bind commit parti ratifi effect implement pari agreement . commiss propos make respect pari agreement essenti element all futur comprehens trade agreement . eu trade polici facilit trade invest green good servic promot climate-friendli public procur . trade polici also need ensur undistort fair trade invest raw materi eu economi need green transit . help address harm practic illeg logg enhanc regulatori cooper promot eu standard remov non-tariff barrier renew energi sector . all chemic materi food product place european market must fulli compli relev eu regul standard . eu us expertis green regul encourag partner design similar rule ambiti eu rule thu facilitat trade enhanc environ protect climat mitig countri . world largest singl market eu set standard appli across global valu chain . commiss continu work new standard sustain growth us econom weight shape intern standard line eu environment climat ambit . work facilit trade environment good servic bilater multilater forum support open attract eu global market sustain product . work global partner ensur eu resourc secur reliabl access strateg raw materi . eu intern cooper partnership polici continu help channel public privat fund achiev transit . eu member state remain world lead donor develop assist provid 40 world public climat financ . public fund not suffic eu member state coordin support engag partner bridg fund gap mobilis privat financ . commiss propos neighbourhood develop intern cooper instrument propos alloc target 25 budget climate-relat object . commiss also support commit made nation public financi resourc improv invest climat achiev contribut privat sector . work need accompani opportun de-risk invest sustain develop tool fund guarante blend financ . mobilis intern investor eu also remain forefront effort set financi system support global sustain growth . eu build intern platform sustain financ recent establish coordin effort environment sustain financ initi taxonomi disclosur standard label . commiss also encourag discuss intern fora particular g 7 g 20 . 4 . time act - togeth european climat pactth involv commit public all stakehold crucial success european green deal . recent polit event show game-chang polici work citizen fulli involv design . peopl concern job heat home make end meet eu institut engag green deal succe deliv last chang . citizen remain drive forc transit . commiss launch european climat pact march 2020 focu three wai engag public climat action . first encourag inform share inspir foster public understand threat challeng climat chang environment degrad counter . us multipl channel tool includ event member state model commiss on-go citizen dialogu . second real virtual space peopl express idea creativ work togeth ambiti action individu collect level . particip would encourag commit specif climat action goal . third commiss work build capac facilit grassroot initi climat chang environment protect . inform guidanc educ modul could help exchang good practic . commiss ensur green transit featur promin debat futur europ . climat pact build commiss on-go seri citizen dialogu citizen assembl across eu role social dialogu committe . continu work empow region local commun includ energi commun . urban dimens cohes polici strengthen propos european urban initi provid assist citi help make best us opportun develop sustain urban develop strategi . eu coven mayor continu central forc . commiss work continu provid assist citi region want commit ambiti pledg climat energi polici . remain essenti platform share good practic implement chang local . commiss also keen reduc environment impact institut employer . present comprehens action plan 2020 implement object green deal becom climat neutral 2030 . call all institut bodi agenc eu work come forward similar ambiti measur . addit climat pact commiss member state work ensur all avail plann tool european green deal us coher . import nation energi climat plan propos strateg nation plan implement common agricultur polici . commiss ensur fit purpos member state implement effect us tool european semest appropri . european fund includ rural develop help rural area har opportun circular bio-economi . commiss reflect long-term vision rural area . pai particular attent role outermost region european green deal take account vulner climat chang natur disast uniqu asset biodivers renew energi sourc . commiss take forward work clean energi eu island initi develop long-term framework acceler clean energi transit all eu island . commiss member state must also ensur polici legisl enforc deliv effect . environment implement review plai critic role mapp situat member state . commiss also present new environment action programm complement european green deal includ new monitor mechan ensur europ remain track meet environment object . commiss also launch dashboard monitor progress all european green deal object . commiss consid revis aarhu regul improv access toadministr judici review eu level citizen ngo concern legal decis effect environ . commiss also take action improv access justic nation court all member state . commiss also promot action eu member state intern commun step effort environment crime . european green deal launch new growth strategi eu . support transit eu fair prosper societi respond challeng pose climat chang environment degrad improv qualiti life current futur gener . commiss invit european parliament european council endors european green deal give full weight measur contain . 1 sourc intergovernment panel climat chang ipcc special report impact global warm 1 . 5 c ii intergovernment science-polici platform biodivers ecosystem servic 2019 global assess report biodivers ecosystem servic iii intern resourc panel global resourc outlook 2019 natur resourc futur want iv european environ agenc european environ state outlook 2020 knowledg transit sustain europ 2 in line find 2020 european environ state outlook 2020 knowledg transit sustain europ european environ agenc 3 httpssustainabledevelop . un . orgpost 2015 transformingourworld 4 see polit guidelin presid elect ursula von der leyen polit guidelin next commiss 2019 - 2024 union strive agenda europ 5 a clean planet all - european strateg long-term vision prosper modern competit climat neutral economi com 2018 7736 consolidat version direct 200387 ec european parliament council establish scheme greenhous ga emiss allow trade within commun amend council direct 9661 ec 7 regul eu 2018842 bind annual greenhous ga emiss reduct member state 2021 2030 contribut climat action meet commit pari agreement amend regul eu no 52520138 regul eu 2018841 inclus greenhous ga emiss remov land us land us chang forestri 2030 climat energi framework amend regul eu no 5252013 decis no 5292013 eu 9 council direct 200396 ec restructur commun framework taxat energi product electr 10 such free alloc emiss allow compens increas electr cost 11 regul eu 20181999 govern energi union climat action 12 trans-european network - energi ten- regul 13 global resourc outlook 2019 natur resourc futur want intern resourc panel . 14 httpsec . europa . eueurostattgmt . dotabtableinit 1 languageenpcodeceisrm 030 plugin 1 15 httpsec . europa . eucommissionpresscornerdetailenip 19635316 as part requir energi perform build direct 17 regul eu no 3052011 lai harmonis condit market construct product repeal council direct 89106 eec 18 propos direct amend direct 92106 eec establish common rule certain type combin transport good member state com 2017 64819 propos direct amend direct 199962 ec charg heavi good vehicl us certain infrastructur com 201727520 direct 201494 eu deployment altern fuel infrastructur 21 httpsipb . netnewsipbes-global-assessment-preview 22 eu guidelin swd 2019305 final eu guidanc integrat ecosystem servic decision-mak 23 com 2019352 final 24 special report ocean cryosphere chang climat 25 fit check ambient air qualiti direct swd 2019 42726 includ make us new monitor opportun provid digitalis 27 commun unit deliv energi union climat action - sett foundat success clean energi transit com 2019 28528 these estim conserv not consid instanc invest need climat adapt environment challeng biodivers . also exclud public invest need address social cost transit cost inact 29 have sai lighten load websit httpsec . europa . euinfolawbetter-regulationlighten-load 30 unit nation environ emiss gap report 2019 european commissionbrussel 11 . 12 . 2019 com 2019 640 finalannexto commun commiss european parliament european council council european econom social committe committe regionsth european green dealannex commun european green dealroadmap - kei actionsactionsind timet 1 climat ambitionpropos european climat law enshrin 2050 climat neutral object march 2020 comprehens plan increas eu 2030 climat target least 50 toward 55 respons waysummer 2020 propos revis relev legisl measur deliv increas climat ambit follow review emiss trade system direct effort share regul land us land us chang forestri regul energi effici direct renew energi direct co 2 emiss perform standard car vansjun 2021 propos revis energi taxat directivejun 2021 propos carbon border adjust mechan select sector 2021 new eu strategi adapt climat chang 20202021 clean afford secur energyassess final nation energi climat plansjun 2020 strategi smart sector integr 2020 renov wave initi build sector 2020 evalu review trans-european network energi regul 2020 strategi offshor wind 2020 industri strategi clean circular economyeu industri strategymarch 2020 circular economi action plan includ sustain product initi particular focu resourc intens sector textil construct electron plasticsmarch 2020 initi stimul lead market climat neutral circular product energi intens industri sectorsfrom 2020 propos support zero carbon steel-mak process 20302020 legisl batteri support strateg action plan batteri circular economyoctob 2020 propos legisl wast reformsfrom 2020 sustain smart mobilitystrategi sustain smart mobil 2020 fund call support deployment public recharg refuel point part altern fuel infrastructurefrom 2020 assess legisl option boost product suppli sustain altern fuel differ transport modesfrom 2020 revis propos direct combin transport 2021 review altern fuel infrastructur direct tran european network transport regul 2021 initi increas better manag capac railwai inland waterwai 2021 propos stringent air pollut emiss standard combustion-engin vehicl 2021 green common agricultur polici farm fork strategyexamin draft nation strateg plan refer ambit european green deal farm fork strategi 2020 - 2021 farm fork strategymeasur includ legisl significantli reduc us risk chemic pesticid well us fertil antibioticsspr 20202021 preserv protect biodiversityeu biodivers strategi 2030 march 2020 measur address main driver biodivers lossfrom 2021 new eu forest strategi 2020 measur support deforestation-fre valu chainsfrom 2020 toward zero-pollut ambit toxic free environmentchem strategi sustain summer 2020 zero pollut action plan water air soil 2021 revis measur address pollut larg industri instal 2021 mainstream sustain all eu policiespropos transit mechan includ transit fund sustain europ invest planjanuari 2020 renew sustain financ strategyautumn 2020 review non-financi report direct 2020 initi screen benchmark green budget practic member state eufrom 2020 review relev state aid guidelin includ environ energi state aid guidelin 2021 align all new commiss initi line object green deal promot innovationfrom 2020 stakehold identifi remedi incoher legisl reduc effect deliv european green dealfrom 2020 integr sustain develop goal european semesterfrom 2020 the eu global leadereu continu lead intern climat biodivers negoti strengthen intern polici frameworkfrom 2019 strengthen eu green deal diplomaci cooper member statesfrom 2020 bilater effort induc partner act ensur compar action polici 2020 green agenda western balkansfrom 2020 work togeth european climat pactlaunch european climat pactmarch 2020 propos 8 th environment action programm 20201 the commiss work programm 2020 provid clariti time relev action announc 2020 \n\nTextlenght: 54736\n"
     ]
    }
   ],
   "source": [
    "print(texts[0])"
   ]
  },
  {
   "cell_type": "code",
   "execution_count": null,
   "metadata": {},
   "outputs": [],
   "source": [
    "test_str = \"\"\"\n",
    " introduct - turn urgent challeng uniqu opportun \n",
    "\n",
    " commun set european green deal european union eu citizen . reset commiss commit tackl climat environmental-rel challeng gener defin task . atmospher warm climat chang pass year . tackl poverti . one million eight million speci planet risk lost . forest ocean pollut destroyed----footnot 2 ---- . \n",
    "\n",
    "end poverti \n",
    "\n",
    " european green deal respons challeng . erad poverti . new growth strategi aim transform eu fair prosper societi , modern , resource-effici competit economi no net emiss greenhous gase 2050 econom growth decoupl resourc use . \n",
    "\"\"\"\n",
    "# test_keywd = keywords.iloc[0,:]\n",
    "# marked_test = mark_text(test_str, test_keywd, keywd_cols=list(range(13)))"
   ]
  },
  {
   "cell_type": "code",
   "execution_count": null,
   "metadata": {},
   "outputs": [],
   "source": [
    "print(marked_test)"
   ]
  },
  {
   "cell_type": "code",
   "execution_count": null,
   "metadata": {},
   "outputs": [],
   "source": []
  },
  {
   "cell_type": "code",
   "execution_count": null,
   "metadata": {},
   "outputs": [],
   "source": [
    "df = pd.read_excel('output/The_EU_Green_Deal_/output/6-results/results_.xlsx', sheet_name='priorities', index_col=0)\n",
    "\n",
    "pp_colors={'Human Development':'#FECA4D',\n",
    "'Growth Jobs':'#FABE13',\n",
    "'Green Deal':'#73936F',\n",
    "'Partnership':'#1A6835',\n",
    "'Digital':'#72ABDC',\n",
    "'Governance':'#E2809B',\n",
    "'Digitalisation':'#4D9CD5',\n",
    "'Migration':'#DE6189'\n",
    "}\n",
    "\n",
    "df.rename(columns = {'priority':'name', 'Count':'size'}, inplace = True)\n",
    "df['goal_color']=df['name'].map(pp_colors)\n",
    "df.to_dict('index')\n"
   ]
  },
  {
   "cell_type": "code",
   "execution_count": null,
   "metadata": {},
   "outputs": [],
   "source": [
    "#Expand keywords\n",
    "\n",
    "input = 'keywords/keywords_copia.xlsx'\n",
    "keywords = pd.ExcelFile(input)\n",
    "filename = pathlib.Path(input).stem\n",
    "timestamp =  dt.datetime.now().isoformat(timespec='seconds').replace(':','').replace('T','_T')\n",
    "filename += f'_{timestamp}'\n",
    "\n",
    "output = f'{filename}.xlsx'\n",
    "\n",
    "#sheets = a list of sheets where keywords are\n",
    "#keys_df = [keywords.parse(sheet) for sheet in sheets]\n",
    "keys_dfs = [keywords.parse('Target_keys'), keywords.parse('Goal_keys'), keywords.parse('MOI')]\n",
    "\n",
    "for index, df in enumerate(keys_dfs):\n",
    "    df['Keys']=df['Keys'].apply(lambda keywords: re.sub(';$', '', keywords))\n",
    "    df['Keys']=df['Keys'].apply(lambda keywords: re.sub(';;', ';', keywords))\n",
    "    ex_df=df['Keys'].str.split(';', expand=True)\n",
    "    lab_df=df.drop(columns='Keys')\n",
    "    keys_dfs[index]=lab_df.join(ex_df)\n",
    "    #df['Keys']=df['Keys'].apply(lambda keywords: re.sub(r'[^a-zA-Z0-9; -.]+', ';', keywords))\n",
    "\n",
    "ex_df.head()\n",
    "\n",
    "keys_dfs.append(keywords.parse('developing_countries'))\n",
    "\n",
    "target_df, goal_df, devco_df, devco_names = keys_dfs"
   ]
  },
  {
   "cell_type": "code",
   "execution_count": null,
   "metadata": {},
   "outputs": [],
   "source": [
    "target_df.head()"
   ]
  },
  {
   "cell_type": "code",
   "execution_count": null,
   "metadata": {},
   "outputs": [],
   "source": [
    "ex_target_df=target_df['Keys'].str.split(';', expand=True)\n",
    "lab_target_df=target_df.drop(columns='Keys')\n",
    "lab_target_df.head()"
   ]
  },
  {
   "cell_type": "code",
   "execution_count": null,
   "metadata": {},
   "outputs": [],
   "source": [
    "with pd.ExcelWriter(output, engine='xlsxwriter') as writer: # 'keywords_copy_for_transaltion.xlsx'\n",
    "    target_df.to_excel(writer, sheet_name='Target_keys')\n",
    "    goal_df.to_excel(writer, sheet_name='Goal_keys')\n",
    "    devco_df.to_excel(writer, sheet_name='MOI')\n",
    "    devco_names.to_excel(writer, sheet_name='developing_countries')"
   ]
  },
  {
   "cell_type": "code",
   "execution_count": null,
   "metadata": {},
   "outputs": [],
   "source": [
    "#Load expand keywords\n",
    "\n",
    "input = 'keywords/keywords_expanded.xlsx'\n",
    "\n",
    "keywords = pd.ExcelFile(input)\n",
    "\n",
    "sheets = keywords.sheet_names\n",
    "print(f\"Reading keywords dataset in {input}.\\nSheets: {', '.join(sheets)}\")\n",
    "\n",
    "keywords = {sheet : keywords.parse(sheet, index_col=0) for sheet in sheets}\n",
    "keywords_sheets = ['Target_keys', 'Goal_keys', 'MOI']\n",
    "\n",
    "#remove all from stop_words to keep in keywords\n",
    "stop_words = set(stopwords.words('english'))-set(['no','not','nor'])\n",
    "stop_words.remove('all')\n",
    "\n",
    "for sheet in keywords_sheets:\n",
    "    # keywords[sheet]['Keys'] = keywords[sheet]['Keys'].apply(lambda keywords: re.sub(';$', '', keywords))\n",
    "    # keywords[sheet]['Keys'] = keywords[sheet]['Keys'].apply(lambda keywords: [plmp.preprocess_text(keyword, stop_words) for keyword in keywords.split(';')])\n",
    "    keywords[sheet].iloc[:,2:]=keywords[sheet].iloc[:,2:].applymap(lambda keyword: plmp.preprocess_text(str(keyword), stop_words))"
   ]
  },
  {
   "cell_type": "code",
   "execution_count": null,
   "metadata": {},
   "outputs": [],
   "source": [
    "keywords['Target_keys'].head()"
   ]
  },
  {
   "cell_type": "code",
   "execution_count": null,
   "metadata": {},
   "outputs": [],
   "source": [
    "#Load text\n",
    "\n",
    "input = pathlib.Path('input/52019DC0640_stemmed')\n",
    "\n",
    "files = sorted(input.glob('**/*.*'))\n",
    "\n",
    "print(files)\n",
    "\n",
    "text_ls = {}\n",
    "\n",
    "for _file in files:\n",
    "    with open(_file, 'r') as _f:\n",
    "        text_ls[_file.stem]=_f.read()"
   ]
  },
  {
   "cell_type": "code",
   "execution_count": null,
   "metadata": {},
   "outputs": [],
   "source": [
    "def count_keyword(text, keyword):\n",
    "\n",
    "count = text.count(keyword)\n"
   ]
  },
  {
   "cell_type": "code",
   "execution_count": null,
   "metadata": {},
   "outputs": [],
   "source": [
    "keywords['Target_keys']"
   ]
  },
  {
   "cell_type": "code",
   "execution_count": null,
   "metadata": {},
   "outputs": [],
   "source": [
    "text_df = []\n",
    "\n",
    "texts = list(text_ls.values())\n",
    "\n",
    "keyword_matrix = keywords['Target_keys'].iloc[:,2:]#.to_numpy()\n",
    "count_matrix = keywords['Target_keys'].iloc[:,2:].applymap(lambda keyword: texts[0].count(keyword))#.to_numpy()\n",
    "labels = keywords['Target_keys'].iloc[:,0]\n",
    "\n",
    "counted_keywords = count_matrix.mask(count_matrix > 0, keyword_matrix)\n",
    "counted_keywords = counted_keywords.apply(lambda keyword : ', '.join(keyword.astype(str)))\n",
    "count_matrix = count_matrix.replace(0, '')\n",
    "counted_keywords.to_excel('key_col.xlsx')\n",
    "count_matrix.to_excel('mask.xlsx')\n",
    "\n",
    "\n",
    "# for name, text in text_ls.items():\n",
    "#     count_df = keywords['Target_keys'].iloc[:,2:].applymap(lambda keyword: text.count(keyword))\n",
    "#     #count_matrix = count_df#.to_numpy()\n",
    "#     count_df = count_df.join(labels, how='inner')\n",
    "#     count_df['Sum_counts'] = count_df.sum(axis=0)\n",
    "#     keywords_ = keyword_matrix[count_matrix>0]\n",
    "#     #count_df = count_df[count_df['Sum_counts'] > 0]\n",
    "#     # #df.replace(0, None, inplace=True)\n",
    "#     #df.insert(loc=1, column='Label', value=keywords['Target_keys'].iloc[:,1])\n",
    "#     # df.insert(loc=2, coulmn='Count_keys', value=df.apply(lambda x: sum(x),axis=1))\n",
    "#     # df.insert(loc=3, column='Diff_keys', value=df.apply(lambda x:count(x),axis=1))\n",
    "#     count_df.to_excel(f'test_{name}.xlsx')\n",
    "#     np.savetxt(f'test_{name}.csv', count_matrix, delimiter=',', fmt='%i')\n",
    "#     np.savetxt(f'test_{name}_keys.csv', keywords_, delimiter=',',fmt='%s')\n",
    "#     # np.savetxt('test.csv', count_matrix, delimiter=',')\n",
    "#     text_df.append(count_df)"
   ]
  },
  {
   "cell_type": "code",
   "execution_count": null,
   "metadata": {},
   "outputs": [],
   "source": [
    "keyword_matrix.head()"
   ]
  },
  {
   "cell_type": "code",
   "execution_count": null,
   "metadata": {},
   "outputs": [],
   "source": [
    "count_matrix=count_matrix.mask(count_matrix > 1, -1)\n",
    "count_matrix.to_excel('mask.xlsx')"
   ]
  },
  {
   "cell_type": "code",
   "execution_count": null,
   "metadata": {},
   "outputs": [],
   "source": [
    "input = 'output/results_green_deal_test.xlsx'\n",
    "\n",
    "result_df = pd.ExcelFile(input)\n",
    "\n",
    "print(result_df.sheet_names)\n",
    "\n",
    "targets, goals, total = result_df.parse('target_count'), result_df.parse('goal_overview'), result_df.parse('total_count_(goals_+_targets)')\n",
    "\n",
    "# print(result_df.sheet_names)"
   ]
  },
  {
   "cell_type": "code",
   "execution_count": null,
   "metadata": {},
   "outputs": [],
   "source": [
    "targets.rename(columns={'Count':'Target_Count', 'Num_keys':'Tgt_nr.keys'}, inplace=True) \n",
    "targets.groupby(['Policy','Goal','Target']).sum()\n",
    "dat_target_join_keys = raw_df.groupby(['Policy', 'Target'])[\"Keyword\"].apply(lambda x : \" - \".join(x.astype(str))).reset_index()"
   ]
  },
  {
   "cell_type": "code",
   "execution_count": null,
   "metadata": {},
   "outputs": [],
   "source": [
    "targets.head"
   ]
  },
  {
   "cell_type": "code",
   "execution_count": null,
   "metadata": {},
   "outputs": [],
   "source": [
    "goals.rename(columns = {'Count':'Goal_Count', 'Goal_nr.keys'}, inplace = True) \n",
    "goals.groupby(['Policy','Goal']).sum()"
   ]
  },
  {
   "cell_type": "code",
   "execution_count": null,
   "metadata": {},
   "outputs": [],
   "source": []
  }
 ],
 "metadata": {
  "kernelspec": {
   "name": "python3",
   "display_name": "Python 3.9.1 64-bit ('polmap': conda)"
  },
  "language_info": {
   "codemirror_mode": {
    "name": "ipython",
    "version": 3
   },
   "file_extension": ".py",
   "mimetype": "text/x-python",
   "name": "python",
   "nbconvert_exporter": "python",
   "pygments_lexer": "ipython3",
   "version": "3.9.1"
  },
  "interpreter": {
   "hash": "3c701ea15ff6b8cd345d7eda6702a5a5acbef34c5d809ba6ada83c604f672a97"
  }
 },
 "nbformat": 4,
 "nbformat_minor": 4
}