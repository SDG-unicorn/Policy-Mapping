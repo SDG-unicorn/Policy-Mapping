{
 "cells": [
  {
   "cell_type": "code",
   "execution_count": null,
   "metadata": {},
   "outputs": [],
   "source": [
    "#Python standard library imports\n",
    "import datetime as dt\n",
    "import pathlib\n",
    "import re\n",
    "#Scientific Python ecosystem imports\n",
    "import pandas as pd\n",
    "#Text mining packages\n",
    "import nltk as nltk\n",
    "#from whoosh  import stem\n",
    "#MM Import\n",
    "import datetime as dt\n",
    "import pathlib\n",
    "import logging\n",
    "\n",
    "from docx2python import docx2python\n",
    "\n",
    "from polmap.polmap import prepare_keywords, doc2text # replaced the keyword processing block"
   ]
  },
  {
   "cell_type": "code",
   "execution_count": null,
   "metadata": {},
   "outputs": [],
   "source": [
    "#Set Options for pandas visualization\n",
    "pd.set_option('max_columns', None)\n",
    "pd.set_option('max_colwidth', None)\n",
    "pd.set_option('max_rows', None)\n",
    "pd.set_option('max_colwidth', None)\n",
    "pd.set_option('max_seq_item', None)\n",
    "pd.set_option('precision', 3)"
   ]
  },
  {
   "cell_type": "code",
   "execution_count": null,
   "metadata": {},
   "outputs": [],
   "source": [
    "#Create output folders\n",
    "date = dt.datetime.now().date().isoformat()\n",
    "time = dt.datetime.now().time().isoformat(timespec='seconds').replace(':', '')\n",
    "current_date = '_'+date+'_T'+time\n",
    "\n",
    "project_title = 'Export_Projects_Overview_08012021_162543'+str(current_date)\n",
    "\n",
    "out_dir = pathlib.Path.cwd() / 'output' / project_title \n",
    "log_dir = out_dir / 'logs'\n",
    "results_dir = out_dir / 'results'\n",
    "docs2txt_dir = out_dir / 'docs2txt'\n",
    "\n",
    "dir_dict = { directory: directory.mkdir(mode=0o777, parents=True, exist_ok=True) for directory in [out_dir, log_dir, results_dir] }"
   ]
  },
  {
   "cell_type": "code",
   "execution_count": null,
   "metadata": {},
   "outputs": [],
   "source": [
    "#Create logifle for run\n",
    "log_file = log_dir / 'mapping_{}.log'.format(project_title)\n",
    "log_file.touch(mode=0o666)\n",
    "logging.basicConfig(filename=log_file, filemode='a', level=logging.WARNING)"
   ]
  },
  {
   "cell_type": "code",
   "execution_count": null,
   "metadata": {},
   "outputs": [],
   "source": [
    "#Define input dir\n",
    "input_dir = pathlib.Path.cwd() / 'pdf_re' / 'Export_Projects_Overview_08012021_162543' #MM let user provide an input dir\n",
    "input_folder_name = input_dir.name\n",
    "\n",
    "allowed_filetypes=['.pdf','.html','.mhtml','.doc','.docx']\n",
    "\n",
    "files = sorted(input_dir.glob('**/*.*'))\n",
    "files = [ file for file in files if file.suffix in allowed_filetypes]"
   ]
  },
  {
   "cell_type": "code",
   "execution_count": null,
   "metadata": {},
   "outputs": [],
   "source": [
    "class PdfConverter:\n",
    "   def __init__(self, file_path):\n",
    "       self.file_path = file_path\n",
    "# convert pdf file to a string which has space among words\n",
    "   def convert_pdf_to_txt(self):\n",
    "       rsrcmgr = PDFResourceManager()\n",
    "       retstr = StringIO()\n",
    "       laparams = LAParams()\n",
    "       logging.propagate = False\n",
    "       logging.getLogger().setLevel(logging.ERROR)\n",
    "       device = TextConverter(rsrcmgr, retstr, laparams=laparams)\n",
    "       fp = open(self.file_path, 'rb')\n",
    "       interpreter = PDFPageInterpreter(rsrcmgr, device)\n",
    "       password = \"\"\n",
    "       maxpages = 0\n",
    "       caching = True\n",
    "       pagenos = set()\n",
    "       for page in PDFPage.get_pages(fp, pagenos, maxpages=maxpages, password=password, caching=caching, check_extractable=True):\n",
    "           interpreter.process_page(page)\n",
    "       fp.close()\n",
    "       device.close()\n",
    "       str = retstr.getvalue()\n",
    "       retstr.close()\n",
    "       return str"
   ]
  },
  {
   "cell_type": "code",
   "execution_count": null,
   "metadata": {},
   "outputs": [],
   "source": [
    "PDFtext = []\n",
    "counter = 0\n",
    "for doc_item in files:\n",
    "    print(doc_item)\n",
    "    counter += 1\n",
    "    try:\n",
    "        policy_text=[]\n",
    "        doc_text = doc2text(doc_item)\n",
    "        while '\\n\\n\\n\\n' in doc_text : doc_text = doc_text.replace('\\n\\n\\n\\n', '\\n\\n\\n')\n",
    "        policy_text.append(doc_text)\n",
    "        doc_item_name = '/'.join(doc_item.parts[doc_item.parts.index(input_dir.name)+1:]) #the path string of each file, including all parent directories except that are subdirectories of the input directory. It basically capture the directory tree \n",
    "        doc_filename = docs2txt_dir.joinpath(doc_item.parts[-2])\n",
    "        doc_filename.mkdir(mode=0o777, parents=True, exist_ok=True)\n",
    "        doc_filename = doc_filename.joinpath(doc_item.stem+'.txt')\n",
    "        with open(doc_filename, 'w') as doctext:\n",
    "           doctext.write(doc_text)\n",
    "        PDFtext.append([doc_item_name,' ; '.join(policy_text)])\n",
    "    except Exception as excptn: #MM I'd log errors as described in https://realpython.com/python-logging/, we need to test this.\n",
    "        logging.exception('{doc_file} raised exception {exception} \\n\\n'.format(doc_file=doc_item.name, exception=excptn))"
   ]
  },
  {
   "cell_type": "code",
   "execution_count": null,
   "metadata": {},
   "outputs": [],
   "source": []
  }
 ],
 "metadata": {
  "kernelspec": {
   "display_name": "Python 3",
   "language": "python",
   "name": "python3"
  },
  "language_info": {
   "codemirror_mode": {
    "name": "ipython",
    "version": 3
   },
   "file_extension": ".py",
   "mimetype": "text/x-python",
   "name": "python",
   "nbconvert_exporter": "python",
   "pygments_lexer": "ipython3",
   "version": "3.8.5-final"
  }
 },
 "nbformat": 4,
 "nbformat_minor": 4
}