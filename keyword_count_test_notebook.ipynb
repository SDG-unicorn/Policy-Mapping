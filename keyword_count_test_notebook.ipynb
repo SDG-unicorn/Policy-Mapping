{
 "cells": [
  {
   "cell_type": "code",
   "execution_count": 15,
   "metadata": {},
   "outputs": [],
   "source": [
    "import re, json, pathlib, logging, time, argparse, pprint, math \n",
    "import datetime as dt\n",
    "import importlib.resources as rsrc\n",
    "from itertools import chain\n",
    "from operator import itemgetter \n",
    "#\n",
    "from nltk.corpus import stopwords\n",
    "import pandas as pd\n",
    "import numpy as np\n",
    "import nltk as nltk\n",
    "from nltk.corpus import stopwords\n",
    "from whoosh.lang.porter import stem\n",
    "#from googletrans import Translator\n",
    "from pygoogletranslation import Translator\n",
    "import circlify as crcf\n",
    "import matplotlib.pyplot as plt\n",
    "import random\n",
    "\n",
    "import polmap.polmap as plmp\n",
    "import postprocess.postprocess as pspr\n",
    "import keyword\n",
    "\n",
    "\n",
    "##MM imports\n",
    "#from polmap.polmap import make_directories, preprocess_text, doc2text, SDGrefs_mapper # replaced the keyword processing block\n",
    "\n",
    "#import fromRtoPython\n",
    "\n",
    "from docx2python import docx2python\n",
    " \n",
    "#from polmap.polmap import make_directories, preprocess_text, doc2text # replaced the keyword processing block\n",
    "pd.set_option('display.max_rows', None)\n",
    "pd.set_option('display.max_columns', None)\n",
    "pd.set_option('display.width', None)\n",
    "pd.set_option('display.max_colwidth', None)"
   ]
  },
  {
   "cell_type": "code",
   "execution_count": 29,
   "metadata": {},
   "outputs": [
    {
     "output_type": "execute_result",
     "data": {
      "text/plain": [
       "    Goal Target  Sum_of_keys  Count_of_keys list_of_keys  \\\n",
       "0  SDG 1    1.0            0              0          NaN   \n",
       "1  SDG 1    1.1            0              0          NaN   \n",
       "2  SDG 1    1.2            0              0          NaN   \n",
       "3  SDG 1    1.3            0              0          NaN   \n",
       "4  SDG 1    1.4            0              0          NaN   \n",
       "\n",
       "                                                                                                                                                                                                                                                                                                                        target_description  \\\n",
       "0                                                                                                                                                                                                                                                                                                                                      NaN   \n",
       "1                                                                                                                                                                                                               By 2030, eradicate extreme poverty for all people everywhere, currently measured as people living on less than $1.25 a day   \n",
       "2                                                                                                                                                                        By 2030, reduce at least by half the proportion of men, women and children of all ages living in poverty in all its dimensions according to national definitions    \n",
       "3                                                                                                                                                              Implement nationally appropriate social protection systems and measures for all, including floors, and by 2030 achieve substantial coverage of the poor and the vulnerable    \n",
       "4  By 2030, ensure that all men and women, in particular the poor and the vulnerable, have equal rights to economic resources, as well as access to basic services, ownership and control over land and other forms of property, inheritance, natural resources, appropriate new technology and financial services, including microfinance   \n",
       "\n",
       "  goal_description goal_color      MAIN_priority       SEC_priority  \n",
       "0              NaN        NaN                NaN                NaN  \n",
       "1       No poverty    #e5243b                NaN  Human Development  \n",
       "2       No poverty    #e5243b                NaN  Human Development  \n",
       "3       No poverty    #e5243b  Human Development                NaN  \n",
       "4       No poverty    #e5243b                NaN  Human Development  "
      ],
      "text/html": "<div>\n<style scoped>\n    .dataframe tbody tr th:only-of-type {\n        vertical-align: middle;\n    }\n\n    .dataframe tbody tr th {\n        vertical-align: top;\n    }\n\n    .dataframe thead th {\n        text-align: right;\n    }\n</style>\n<table border=\"1\" class=\"dataframe\">\n  <thead>\n    <tr style=\"text-align: right;\">\n      <th></th>\n      <th>Goal</th>\n      <th>Target</th>\n      <th>Sum_of_keys</th>\n      <th>Count_of_keys</th>\n      <th>list_of_keys</th>\n      <th>target_description</th>\n      <th>goal_description</th>\n      <th>goal_color</th>\n      <th>MAIN_priority</th>\n      <th>SEC_priority</th>\n    </tr>\n  </thead>\n  <tbody>\n    <tr>\n      <th>0</th>\n      <td>SDG 1</td>\n      <td>1.0</td>\n      <td>0</td>\n      <td>0</td>\n      <td>NaN</td>\n      <td>NaN</td>\n      <td>NaN</td>\n      <td>NaN</td>\n      <td>NaN</td>\n      <td>NaN</td>\n    </tr>\n    <tr>\n      <th>1</th>\n      <td>SDG 1</td>\n      <td>1.1</td>\n      <td>0</td>\n      <td>0</td>\n      <td>NaN</td>\n      <td>By 2030, eradicate extreme poverty for all people everywhere, currently measured as people living on less than $1.25 a day</td>\n      <td>No poverty</td>\n      <td>#e5243b</td>\n      <td>NaN</td>\n      <td>Human Development</td>\n    </tr>\n    <tr>\n      <th>2</th>\n      <td>SDG 1</td>\n      <td>1.2</td>\n      <td>0</td>\n      <td>0</td>\n      <td>NaN</td>\n      <td>By 2030, reduce at least by half the proportion of men, women and children of all ages living in poverty in all its dimensions according to national definitions</td>\n      <td>No poverty</td>\n      <td>#e5243b</td>\n      <td>NaN</td>\n      <td>Human Development</td>\n    </tr>\n    <tr>\n      <th>3</th>\n      <td>SDG 1</td>\n      <td>1.3</td>\n      <td>0</td>\n      <td>0</td>\n      <td>NaN</td>\n      <td>Implement nationally appropriate social protection systems and measures for all, including floors, and by 2030 achieve substantial coverage of the poor and the vulnerable</td>\n      <td>No poverty</td>\n      <td>#e5243b</td>\n      <td>Human Development</td>\n      <td>NaN</td>\n    </tr>\n    <tr>\n      <th>4</th>\n      <td>SDG 1</td>\n      <td>1.4</td>\n      <td>0</td>\n      <td>0</td>\n      <td>NaN</td>\n      <td>By 2030, ensure that all men and women, in particular the poor and the vulnerable, have equal rights to economic resources, as well as access to basic services, ownership and control over land and other forms of property, inheritance, natural resources, appropriate new technology and financial services, including microfinance</td>\n      <td>No poverty</td>\n      <td>#e5243b</td>\n      <td>NaN</td>\n      <td>Human Development</td>\n    </tr>\n  </tbody>\n</table>\n</div>"
     },
     "metadata": {},
     "execution_count": 29
    }
   ],
   "source": [
    "results_df = pd.read_excel('output/SDGS_61_Green_Deal_Test/output/6-results/mapping_.xlsx', sheet_name='Summary', index_col=0)\n",
    "pp_def = pd.read_excel('keywords/goal_target_list.xlsx')\n",
    "results_df[\"Target\"]=results_df[\"Target\"].astype(str)\n",
    "pp_def[\"Target\"]=pp_def[\"Target\"].astype(str)\n",
    "results_df=pd.merge(results_df, pp_def, on='Target', how='left')\n",
    "results_df=results_df.drop(['Goal_y','goal_id','Unnamed: 0','tar_ID'],axis=1)\n",
    "results_df=results_df.rename(columns={\"Goal_x\": \"Goal\"})\n",
    "results_df.head()"
   ]
  },
  {
   "cell_type": "code",
   "execution_count": 48,
   "metadata": {},
   "outputs": [
    {
     "output_type": "execute_result",
     "data": {
      "text/plain": [
       "             priority    Goal  Sum_of_keys  Count_of_keys\n",
       "0      Digitalisation  SDG 12            0              0\n",
       "1      Digitalisation  SDG 14            0              0\n",
       "2      Digitalisation  SDG 17            0              0\n",
       "3      Digitalisation   SDG 2            0              0\n",
       "4      Digitalisation   SDG 4            1              1\n",
       "5      Digitalisation   SDG 5            0              0\n",
       "6      Digitalisation   SDG 8            0              0\n",
       "7      Digitalisation   SDG 9           10              4\n",
       "8          Governance  SDG 10            1              1\n",
       "9          Governance  SDG 11            3              3\n",
       "10         Governance  SDG 12            2              2\n",
       "11         Governance  SDG 13            0              0\n",
       "12         Governance  SDG 14            0              0\n",
       "13         Governance  SDG 15           12              8\n",
       "14         Governance  SDG 16            1              1\n",
       "15         Governance  SDG 17            1              1\n",
       "16         Governance   SDG 4            0              0\n",
       "17         Governance   SDG 5            0              0\n",
       "18         Governance   SDG 6            0              0\n",
       "19         Governance   SDG 8            1              1\n",
       "20         Green Deal  SDG 11           13              8\n",
       "21         Green Deal  SDG 12           35             15\n",
       "22         Green Deal  SDG 13           46             20\n",
       "23         Green Deal  SDG 14            5              5\n",
       "24         Green Deal  SDG 15           29             14\n",
       "25         Green Deal   SDG 2            5              4\n",
       "26         Green Deal   SDG 3            0              0\n",
       "27         Green Deal   SDG 6            3              3\n",
       "28         Green Deal   SDG 7           26              6\n",
       "29         Green Deal   SDG 8            1              1\n",
       "30         Green Deal   SDG 9            4              3\n",
       "31        Growth Jobs  SDG 10            0              0\n",
       "32        Growth Jobs  SDG 11            0              0\n",
       "33        Growth Jobs  SDG 14            0              0\n",
       "34        Growth Jobs  SDG 15            0              0\n",
       "35        Growth Jobs  SDG 17            3              2\n",
       "36        Growth Jobs   SDG 2            6              5\n",
       "37        Growth Jobs   SDG 5            0              0\n",
       "38        Growth Jobs   SDG 7           10              2\n",
       "39        Growth Jobs   SDG 8            8              5\n",
       "40        Growth Jobs   SDG 9           18              9\n",
       "41  Human Development   SDG 1            0              0\n",
       "42  Human Development  SDG 10            1              1\n",
       "43  Human Development  SDG 11           10              5\n",
       "44  Human Development   SDG 2            3              3\n",
       "45  Human Development   SDG 3            1              1\n",
       "46  Human Development   SDG 4            1              1\n",
       "47  Human Development   SDG 5            0              0\n",
       "48  Human Development   SDG 6            0              0\n",
       "49  Human Development   SDG 7            4              4\n",
       "50          Migration  SDG 10            0              0"
      ],
      "text/html": "<div>\n<style scoped>\n    .dataframe tbody tr th:only-of-type {\n        vertical-align: middle;\n    }\n\n    .dataframe tbody tr th {\n        vertical-align: top;\n    }\n\n    .dataframe thead th {\n        text-align: right;\n    }\n</style>\n<table border=\"1\" class=\"dataframe\">\n  <thead>\n    <tr style=\"text-align: right;\">\n      <th></th>\n      <th>priority</th>\n      <th>Goal</th>\n      <th>Sum_of_keys</th>\n      <th>Count_of_keys</th>\n    </tr>\n  </thead>\n  <tbody>\n    <tr>\n      <th>0</th>\n      <td>Digitalisation</td>\n      <td>SDG 12</td>\n      <td>0</td>\n      <td>0</td>\n    </tr>\n    <tr>\n      <th>1</th>\n      <td>Digitalisation</td>\n      <td>SDG 14</td>\n      <td>0</td>\n      <td>0</td>\n    </tr>\n    <tr>\n      <th>2</th>\n      <td>Digitalisation</td>\n      <td>SDG 17</td>\n      <td>0</td>\n      <td>0</td>\n    </tr>\n    <tr>\n      <th>3</th>\n      <td>Digitalisation</td>\n      <td>SDG 2</td>\n      <td>0</td>\n      <td>0</td>\n    </tr>\n    <tr>\n      <th>4</th>\n      <td>Digitalisation</td>\n      <td>SDG 4</td>\n      <td>1</td>\n      <td>1</td>\n    </tr>\n    <tr>\n      <th>5</th>\n      <td>Digitalisation</td>\n      <td>SDG 5</td>\n      <td>0</td>\n      <td>0</td>\n    </tr>\n    <tr>\n      <th>6</th>\n      <td>Digitalisation</td>\n      <td>SDG 8</td>\n      <td>0</td>\n      <td>0</td>\n    </tr>\n    <tr>\n      <th>7</th>\n      <td>Digitalisation</td>\n      <td>SDG 9</td>\n      <td>10</td>\n      <td>4</td>\n    </tr>\n    <tr>\n      <th>8</th>\n      <td>Governance</td>\n      <td>SDG 10</td>\n      <td>1</td>\n      <td>1</td>\n    </tr>\n    <tr>\n      <th>9</th>\n      <td>Governance</td>\n      <td>SDG 11</td>\n      <td>3</td>\n      <td>3</td>\n    </tr>\n    <tr>\n      <th>10</th>\n      <td>Governance</td>\n      <td>SDG 12</td>\n      <td>2</td>\n      <td>2</td>\n    </tr>\n    <tr>\n      <th>11</th>\n      <td>Governance</td>\n      <td>SDG 13</td>\n      <td>0</td>\n      <td>0</td>\n    </tr>\n    <tr>\n      <th>12</th>\n      <td>Governance</td>\n      <td>SDG 14</td>\n      <td>0</td>\n      <td>0</td>\n    </tr>\n    <tr>\n      <th>13</th>\n      <td>Governance</td>\n      <td>SDG 15</td>\n      <td>12</td>\n      <td>8</td>\n    </tr>\n    <tr>\n      <th>14</th>\n      <td>Governance</td>\n      <td>SDG 16</td>\n      <td>1</td>\n      <td>1</td>\n    </tr>\n    <tr>\n      <th>15</th>\n      <td>Governance</td>\n      <td>SDG 17</td>\n      <td>1</td>\n      <td>1</td>\n    </tr>\n    <tr>\n      <th>16</th>\n      <td>Governance</td>\n      <td>SDG 4</td>\n      <td>0</td>\n      <td>0</td>\n    </tr>\n    <tr>\n      <th>17</th>\n      <td>Governance</td>\n      <td>SDG 5</td>\n      <td>0</td>\n      <td>0</td>\n    </tr>\n    <tr>\n      <th>18</th>\n      <td>Governance</td>\n      <td>SDG 6</td>\n      <td>0</td>\n      <td>0</td>\n    </tr>\n    <tr>\n      <th>19</th>\n      <td>Governance</td>\n      <td>SDG 8</td>\n      <td>1</td>\n      <td>1</td>\n    </tr>\n    <tr>\n      <th>20</th>\n      <td>Green Deal</td>\n      <td>SDG 11</td>\n      <td>13</td>\n      <td>8</td>\n    </tr>\n    <tr>\n      <th>21</th>\n      <td>Green Deal</td>\n      <td>SDG 12</td>\n      <td>35</td>\n      <td>15</td>\n    </tr>\n    <tr>\n      <th>22</th>\n      <td>Green Deal</td>\n      <td>SDG 13</td>\n      <td>46</td>\n      <td>20</td>\n    </tr>\n    <tr>\n      <th>23</th>\n      <td>Green Deal</td>\n      <td>SDG 14</td>\n      <td>5</td>\n      <td>5</td>\n    </tr>\n    <tr>\n      <th>24</th>\n      <td>Green Deal</td>\n      <td>SDG 15</td>\n      <td>29</td>\n      <td>14</td>\n    </tr>\n    <tr>\n      <th>25</th>\n      <td>Green Deal</td>\n      <td>SDG 2</td>\n      <td>5</td>\n      <td>4</td>\n    </tr>\n    <tr>\n      <th>26</th>\n      <td>Green Deal</td>\n      <td>SDG 3</td>\n      <td>0</td>\n      <td>0</td>\n    </tr>\n    <tr>\n      <th>27</th>\n      <td>Green Deal</td>\n      <td>SDG 6</td>\n      <td>3</td>\n      <td>3</td>\n    </tr>\n    <tr>\n      <th>28</th>\n      <td>Green Deal</td>\n      <td>SDG 7</td>\n      <td>26</td>\n      <td>6</td>\n    </tr>\n    <tr>\n      <th>29</th>\n      <td>Green Deal</td>\n      <td>SDG 8</td>\n      <td>1</td>\n      <td>1</td>\n    </tr>\n    <tr>\n      <th>30</th>\n      <td>Green Deal</td>\n      <td>SDG 9</td>\n      <td>4</td>\n      <td>3</td>\n    </tr>\n    <tr>\n      <th>31</th>\n      <td>Growth Jobs</td>\n      <td>SDG 10</td>\n      <td>0</td>\n      <td>0</td>\n    </tr>\n    <tr>\n      <th>32</th>\n      <td>Growth Jobs</td>\n      <td>SDG 11</td>\n      <td>0</td>\n      <td>0</td>\n    </tr>\n    <tr>\n      <th>33</th>\n      <td>Growth Jobs</td>\n      <td>SDG 14</td>\n      <td>0</td>\n      <td>0</td>\n    </tr>\n    <tr>\n      <th>34</th>\n      <td>Growth Jobs</td>\n      <td>SDG 15</td>\n      <td>0</td>\n      <td>0</td>\n    </tr>\n    <tr>\n      <th>35</th>\n      <td>Growth Jobs</td>\n      <td>SDG 17</td>\n      <td>3</td>\n      <td>2</td>\n    </tr>\n    <tr>\n      <th>36</th>\n      <td>Growth Jobs</td>\n      <td>SDG 2</td>\n      <td>6</td>\n      <td>5</td>\n    </tr>\n    <tr>\n      <th>37</th>\n      <td>Growth Jobs</td>\n      <td>SDG 5</td>\n      <td>0</td>\n      <td>0</td>\n    </tr>\n    <tr>\n      <th>38</th>\n      <td>Growth Jobs</td>\n      <td>SDG 7</td>\n      <td>10</td>\n      <td>2</td>\n    </tr>\n    <tr>\n      <th>39</th>\n      <td>Growth Jobs</td>\n      <td>SDG 8</td>\n      <td>8</td>\n      <td>5</td>\n    </tr>\n    <tr>\n      <th>40</th>\n      <td>Growth Jobs</td>\n      <td>SDG 9</td>\n      <td>18</td>\n      <td>9</td>\n    </tr>\n    <tr>\n      <th>41</th>\n      <td>Human Development</td>\n      <td>SDG 1</td>\n      <td>0</td>\n      <td>0</td>\n    </tr>\n    <tr>\n      <th>42</th>\n      <td>Human Development</td>\n      <td>SDG 10</td>\n      <td>1</td>\n      <td>1</td>\n    </tr>\n    <tr>\n      <th>43</th>\n      <td>Human Development</td>\n      <td>SDG 11</td>\n      <td>10</td>\n      <td>5</td>\n    </tr>\n    <tr>\n      <th>44</th>\n      <td>Human Development</td>\n      <td>SDG 2</td>\n      <td>3</td>\n      <td>3</td>\n    </tr>\n    <tr>\n      <th>45</th>\n      <td>Human Development</td>\n      <td>SDG 3</td>\n      <td>1</td>\n      <td>1</td>\n    </tr>\n    <tr>\n      <th>46</th>\n      <td>Human Development</td>\n      <td>SDG 4</td>\n      <td>1</td>\n      <td>1</td>\n    </tr>\n    <tr>\n      <th>47</th>\n      <td>Human Development</td>\n      <td>SDG 5</td>\n      <td>0</td>\n      <td>0</td>\n    </tr>\n    <tr>\n      <th>48</th>\n      <td>Human Development</td>\n      <td>SDG 6</td>\n      <td>0</td>\n      <td>0</td>\n    </tr>\n    <tr>\n      <th>49</th>\n      <td>Human Development</td>\n      <td>SDG 7</td>\n      <td>4</td>\n      <td>4</td>\n    </tr>\n    <tr>\n      <th>50</th>\n      <td>Migration</td>\n      <td>SDG 10</td>\n      <td>0</td>\n      <td>0</td>\n    </tr>\n  </tbody>\n</table>\n</div>"
     },
     "metadata": {},
     "execution_count": 48
    }
   ],
   "source": [
    "main_df=results_df.groupby(by=['MAIN_priority','Goal']).sum().reset_index()\n",
    "main_df.rename(columns={'MAIN_priority': 'priority'}, inplace=True)\n",
    "sec_df=results_df.groupby(by=['SEC_priority','Goal']).sum().reset_index()\n",
    "sec_df.rename(columns={'SEC_priority': 'priority'}, inplace=True)\n",
    "priorities_df = main_df.append(sec_df, ignore_index=True)\n",
    "priorities_df = priorities_df.groupby(by=['priority','Goal']).sum().reset_index()\n",
    "priorities_df.head(100)"
   ]
  },
  {
   "cell_type": "code",
   "execution_count": 62,
   "metadata": {},
   "outputs": [
    {
     "output_type": "stream",
     "name": "stdout",
     "text": [
      "11\n21\n167\n45\n20\n"
     ]
    }
   ],
   "source": [
    "polpri_bubbledict={\"name\": \"sdgs\", \"children\": None}\n",
    "polpri_ls=[]\n",
    "\n",
    "polpri=priorities_df.groupby(by=[\"priority\"]).sum()\n",
    "\n",
    "for polpri, count in zip(polpri.index.tolist(), polpri['Sum_of_keys']):\n",
    "    polpri_dict={}\n",
    "    if count > 0:\n",
    "        polpri_dict[\"name\"]=polpri\n",
    "        polpri_dict[\"size\"]=count\n",
    "        polpri_dict[\"children\"] = None\n",
    "        polpri_ls.append(polpri_dict)\n",
    "    else:\n",
    "        continue\n",
    "\n",
    "for polpri in polpri_ls:\n",
    "    goal_ls=[]\n",
    "\n",
    "    if polpri[\"size\"] >0 :\n",
    "        print(polpri[\"size\"])\n",
    "        goaldf = priorities_df[priorities_df.priority == polpri[\"name\"]]\n",
    "\n",
    "        for goal, count in zip(goaldf['Goal'], goaldf['Sum_of_keys']):\n",
    "            goal_dict={}\n",
    "            if count > 0:\n",
    "                goal_dict[\"name\"]=goal\n",
    "                goal_dict[\"size\"]=count\n",
    "                goal_dict[\"children\"] = None\n",
    "                goal_ls.append(goal_dict)                    \n",
    "            else:\n",
    "                continue\n",
    "\n",
    "    polpri['children']=goal_ls\n",
    "\n",
    "polpri_bubbledict['children']=polpri_ls\n",
    "\n",
    "with open('polpri_bubbleplot.json',mode='w', encoding='utf-8') as f:\n",
    "    json.dump(polpri_bubbledict, f)\n",
    "    \n"
   ]
  },
  {
   "cell_type": "code",
   "execution_count": null,
   "metadata": {},
   "outputs": [],
   "source": [
    "df = pd.read_excel('output/The_EU_Green_Deal_/output/6-results/results_.xlsx', sheet_name='priorities', index_col=0)\n",
    "\n",
    "pp_colors={'Human Development':'#FECA4D',\n",
    "'Growth Jobs':'#FABE13',\n",
    "'Green Deal':'#73936F',\n",
    "'Partnership':'#1A6835',\n",
    "'Digital':'#72ABDC',\n",
    "'Governance':'#E2809B',\n",
    "'Digitalisation':'#4D9CD5',\n",
    "'Migration':'#DE6189'\n",
    "}\n",
    "\n",
    "df.rename(columns = {'priority':'name', 'Count':'size'}, inplace = True)\n",
    "df['goal_color']=df['name'].map(pp_colors)\n",
    "df.to_dict('index')\n"
   ]
  },
  {
   "cell_type": "code",
   "execution_count": null,
   "metadata": {},
   "outputs": [],
   "source": [
    "input = 'output/results_green_deal_test.xlsx'\n",
    "\n",
    "result_df = pd.ExcelFile(input)\n",
    "\n",
    "print(result_df.sheet_names)\n",
    "\n",
    "targets, goals, total = result_df.parse('target_count'), result_df.parse('goal_overview'), result_df.parse('total_count_(goals_+_targets)')\n",
    "\n",
    "# print(result_df.sheet_names)"
   ]
  },
  {
   "cell_type": "code",
   "execution_count": null,
   "metadata": {},
   "outputs": [],
   "source": [
    "targets.rename(columns={'Count':'Target_Count', 'Num_keys':'Tgt_nr.keys'}, inplace=True) \n",
    "targets.groupby(['Policy','Goal','Target']).sum()\n",
    "dat_target_join_keys = raw_df.groupby(['Policy', 'Target'])[\"Keyword\"].apply(lambda x : \" - \".join(x.astype(str))).reset_index()"
   ]
  },
  {
   "cell_type": "code",
   "execution_count": null,
   "metadata": {},
   "outputs": [],
   "source": [
    "targets.head"
   ]
  },
  {
   "cell_type": "code",
   "execution_count": null,
   "metadata": {},
   "outputs": [],
   "source": [
    "goals.rename(columns = {'Count':'Goal_Count', 'Goal_nr.keys'}, inplace = True) \n",
    "goals.groupby(['Policy','Goal']).sum()"
   ]
  },
  {
   "cell_type": "code",
   "execution_count": null,
   "metadata": {},
   "outputs": [],
   "source": []
  }
 ],
 "metadata": {
  "kernelspec": {
   "name": "python3",
   "display_name": "Python 3.9.1 64-bit ('polmap': conda)"
  },
  "language_info": {
   "codemirror_mode": {
    "name": "ipython",
    "version": 3
   },
   "file_extension": ".py",
   "mimetype": "text/x-python",
   "name": "python",
   "nbconvert_exporter": "python",
   "pygments_lexer": "ipython3",
   "version": "3.9.1"
  },
  "interpreter": {
   "hash": "3c701ea15ff6b8cd345d7eda6702a5a5acbef34c5d809ba6ada83c604f672a97"
  }
 },
 "nbformat": 4,
 "nbformat_minor": 4
}