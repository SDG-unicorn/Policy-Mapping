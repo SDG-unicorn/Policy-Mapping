{
 "cells": [
  {
   "cell_type": "code",
   "execution_count": 2,
   "metadata": {},
   "outputs": [],
   "source": [
    "import re, json, pathlib, logging, time, argparse, pprint , pickle\n",
    "import datetime as dt\n",
    "import importlib.resources as rsrc\n",
    "from itertools import chain\n",
    "from operator import itemgetter \n",
    "#\n",
    "from nltk.corpus import stopwords\n",
    "import pandas as pd\n",
    "import numpy as np\n",
    "import nltk as nltk\n",
    "from nltk.corpus import stopwords\n",
    "from whoosh.lang.porter import stem\n",
    "#from googletrans import Translator\n",
    "from pygoogletranslation import Translator\n",
    "import circlify as crcf\n",
    "import matplotlib.pyplot as plt\n",
    "import random\n",
    "\n",
    "import polmap.polmap as plmp\n",
    "import postprocess.postprocess as pspr\n",
    "\n",
    "\n",
    "##MM imports\n",
    "#from polmap.polmap import make_directories, preprocess_text, doc2text, SDGrefs_mapper # replaced the keyword processing block\n",
    "\n",
    "#import fromRtoPython\n",
    "\n",
    "from docx2python import docx2python\n",
    " \n",
    "#from polmap.polmap import make_directories, preprocess_text, doc2text # replaced the keyword processing block"
   ]
  },
  {
   "cell_type": "code",
   "execution_count": null,
   "metadata": {},
   "outputs": [],
   "source": [
    "test = ['1.0','1.1','1.2','1.3','1.4','1.5','1.a','1.b']\n",
    "print(test)\n",
    "print(sorted(test))"
   ]
  },
  {
   "cell_type": "code",
   "execution_count": 45,
   "metadata": {},
   "outputs": [
    {
     "output_type": "execute_result",
     "data": {
      "text/plain": [
       "      Goal Target                                        0  \\\n",
       "0    SDG 1    1.0           Sustainable Development Goal 1   \n",
       "1    SDG 1    1.1               international poverty line   \n",
       "2    SDG 1    1.2      severely materially deprived people   \n",
       "3    SDG 1    1.3                              social risk   \n",
       "4    SDG 1    1.4                            tenure rights   \n",
       "..     ...    ...                                      ...   \n",
       "181  SDG 9    9.4                   upgrade infrastructure   \n",
       "182  SDG 9    9.5                innovative infrastructure   \n",
       "183  SDG 9    9.a  international support to infrastructure   \n",
       "184  SDG 9    9.b         research in developing countries   \n",
       "185  SDG 9    9.c                          internet access   \n",
       "\n",
       "                                            1  \\\n",
       "0                                       SDG 1   \n",
       "1                             extreme poverty   \n",
       "2                          low work intensity   \n",
       "3                           social protection   \n",
       "4          equal rights to economic resources   \n",
       "..                                        ...   \n",
       "181            sustainable industrial process   \n",
       "182                       innovative industry   \n",
       "183  development assistance to infrastructure   \n",
       "184        innovation in developing countries   \n",
       "185               universal acces to internet   \n",
       "\n",
       "                                                  2  \\\n",
       "0                                       end poverty   \n",
       "1                                    abject poverty   \n",
       "2                             national poverty line   \n",
       "3               rights of persons with disabilities   \n",
       "4                                 control over land   \n",
       "..                                              ...   \n",
       "181                                    retrofitting   \n",
       "182                           indsutrial innovation   \n",
       "183          infrastructure in developing countries   \n",
       "184  technology development in developing countries   \n",
       "185                access to information technology   \n",
       "\n",
       "                                                     3  \\\n",
       "0                                       reduce poverty   \n",
       "1                                     absolute poverty   \n",
       "2                                     social exclusion   \n",
       "3                         rights of unemployed persons   \n",
       "4                                access to inheritance   \n",
       "..                                                 ...   \n",
       "181                                           retrofit   \n",
       "182                                industry technology   \n",
       "183  infrastructure development in developing count...   \n",
       "184               technologies in developing countries   \n",
       "185                                      access to ICT   \n",
       "\n",
       "                                       4  \\\n",
       "0                  fight against poverty   \n",
       "1                            destitution   \n",
       "2                         income poverty   \n",
       "3                rights of older persons   \n",
       "4                         rights to land   \n",
       "..                                   ...   \n",
       "181              resource-use efficiency   \n",
       "182             research and development   \n",
       "183  developing countries infrastructure   \n",
       "184     industry in developing countries   \n",
       "185   access to communication technology   \n",
       "\n",
       "                                                     5  \\\n",
       "0                                   end global poverty   \n",
       "1                                               penury   \n",
       "2                             combatting child poverty   \n",
       "3                             rights of pregnant women   \n",
       "4                                 \\naccess to property   \n",
       "..                                                 ...   \n",
       "181                    upgrade existing infrastructure   \n",
       "182                                                R&D   \n",
       "183           oda for rural infrastructure development   \n",
       "184  industrial diversification in developing count...   \n",
       "185                                   network coverage   \n",
       "\n",
       "                                                     6  \\\n",
       "0                                    poverty reduction   \n",
       "1                                   severe deprivation   \n",
       "2                              children out of poverty   \n",
       "3                        rights of work-injury victims   \n",
       "4                          access to natural resources   \n",
       "..                                                 ...   \n",
       "181                                 clean technologies   \n",
       "182                              innovative technology   \n",
       "183  official development assistance for rural infr...   \n",
       "184      research and development developing countries   \n",
       "185                                    access internet   \n",
       "\n",
       "                                                     7  ...   47   48   49  \\\n",
       "0                              poverty and deprivation  ...  NaN  NaN  NaN   \n",
       "1    help people suffering from food and material d...  ...  NaN  NaN  NaN   \n",
       "2                             addressing child poverty  ...  NaN  NaN  NaN   \n",
       "3                                   rights of the poor  ...  NaN  NaN  NaN   \n",
       "4                             access to new technology  ...  NaN  NaN  NaN   \n",
       "..                                                 ...  ...  ...  ...  ...   \n",
       "181                          low-emission technologies  ...  NaN  NaN  NaN   \n",
       "182                                   green technology  ...  NaN  NaN  NaN   \n",
       "183                                                NaN  ...  NaN  NaN  NaN   \n",
       "184      developing countries research and development  ...  NaN  NaN  NaN   \n",
       "185                                         ict access  ...  NaN  NaN  NaN   \n",
       "\n",
       "      50   51   52   53   54   55   56  \n",
       "0    NaN  NaN  NaN  NaN  NaN  NaN  NaN  \n",
       "1    NaN  NaN  NaN  NaN  NaN  NaN  NaN  \n",
       "2    NaN  NaN  NaN  NaN  NaN  NaN  NaN  \n",
       "3    NaN  NaN  NaN  NaN  NaN  NaN  NaN  \n",
       "4    NaN  NaN  NaN  NaN  NaN  NaN  NaN  \n",
       "..   ...  ...  ...  ...  ...  ...  ...  \n",
       "181  NaN  NaN  NaN  NaN  NaN  NaN  NaN  \n",
       "182  NaN  NaN  NaN  NaN  NaN  NaN  NaN  \n",
       "183  NaN  NaN  NaN  NaN  NaN  NaN  NaN  \n",
       "184  NaN  NaN  NaN  NaN  NaN  NaN  NaN  \n",
       "185  NaN  NaN  NaN  NaN  NaN  NaN  NaN  \n",
       "\n",
       "[186 rows x 59 columns]"
      ],
      "text/html": "<div>\n<style scoped>\n    .dataframe tbody tr th:only-of-type {\n        vertical-align: middle;\n    }\n\n    .dataframe tbody tr th {\n        vertical-align: top;\n    }\n\n    .dataframe thead th {\n        text-align: right;\n    }\n</style>\n<table border=\"1\" class=\"dataframe\">\n  <thead>\n    <tr style=\"text-align: right;\">\n      <th></th>\n      <th>Goal</th>\n      <th>Target</th>\n      <th>0</th>\n      <th>1</th>\n      <th>2</th>\n      <th>3</th>\n      <th>4</th>\n      <th>5</th>\n      <th>6</th>\n      <th>7</th>\n      <th>...</th>\n      <th>47</th>\n      <th>48</th>\n      <th>49</th>\n      <th>50</th>\n      <th>51</th>\n      <th>52</th>\n      <th>53</th>\n      <th>54</th>\n      <th>55</th>\n      <th>56</th>\n    </tr>\n  </thead>\n  <tbody>\n    <tr>\n      <th>0</th>\n      <td>SDG 1</td>\n      <td>1.0</td>\n      <td>Sustainable Development Goal 1</td>\n      <td>SDG 1</td>\n      <td>end poverty</td>\n      <td>reduce poverty</td>\n      <td>fight against poverty</td>\n      <td>end global poverty</td>\n      <td>poverty reduction</td>\n      <td>poverty and deprivation</td>\n      <td>...</td>\n      <td>NaN</td>\n      <td>NaN</td>\n      <td>NaN</td>\n      <td>NaN</td>\n      <td>NaN</td>\n      <td>NaN</td>\n      <td>NaN</td>\n      <td>NaN</td>\n      <td>NaN</td>\n      <td>NaN</td>\n    </tr>\n    <tr>\n      <th>1</th>\n      <td>SDG 1</td>\n      <td>1.1</td>\n      <td>international poverty line</td>\n      <td>extreme poverty</td>\n      <td>abject poverty</td>\n      <td>absolute poverty</td>\n      <td>destitution</td>\n      <td>penury</td>\n      <td>severe deprivation</td>\n      <td>help people suffering from food and material d...</td>\n      <td>...</td>\n      <td>NaN</td>\n      <td>NaN</td>\n      <td>NaN</td>\n      <td>NaN</td>\n      <td>NaN</td>\n      <td>NaN</td>\n      <td>NaN</td>\n      <td>NaN</td>\n      <td>NaN</td>\n      <td>NaN</td>\n    </tr>\n    <tr>\n      <th>2</th>\n      <td>SDG 1</td>\n      <td>1.2</td>\n      <td>severely materially deprived people</td>\n      <td>low work intensity</td>\n      <td>national poverty line</td>\n      <td>social exclusion</td>\n      <td>income poverty</td>\n      <td>combatting child poverty</td>\n      <td>children out of poverty</td>\n      <td>addressing child poverty</td>\n      <td>...</td>\n      <td>NaN</td>\n      <td>NaN</td>\n      <td>NaN</td>\n      <td>NaN</td>\n      <td>NaN</td>\n      <td>NaN</td>\n      <td>NaN</td>\n      <td>NaN</td>\n      <td>NaN</td>\n      <td>NaN</td>\n    </tr>\n    <tr>\n      <th>3</th>\n      <td>SDG 1</td>\n      <td>1.3</td>\n      <td>social risk</td>\n      <td>social protection</td>\n      <td>rights of persons with disabilities</td>\n      <td>rights of unemployed persons</td>\n      <td>rights of older persons</td>\n      <td>rights of pregnant women</td>\n      <td>rights of work-injury victims</td>\n      <td>rights of the poor</td>\n      <td>...</td>\n      <td>NaN</td>\n      <td>NaN</td>\n      <td>NaN</td>\n      <td>NaN</td>\n      <td>NaN</td>\n      <td>NaN</td>\n      <td>NaN</td>\n      <td>NaN</td>\n      <td>NaN</td>\n      <td>NaN</td>\n    </tr>\n    <tr>\n      <th>4</th>\n      <td>SDG 1</td>\n      <td>1.4</td>\n      <td>tenure rights</td>\n      <td>equal rights to economic resources</td>\n      <td>control over land</td>\n      <td>access to inheritance</td>\n      <td>rights to land</td>\n      <td>\\naccess to property</td>\n      <td>access to natural resources</td>\n      <td>access to new technology</td>\n      <td>...</td>\n      <td>NaN</td>\n      <td>NaN</td>\n      <td>NaN</td>\n      <td>NaN</td>\n      <td>NaN</td>\n      <td>NaN</td>\n      <td>NaN</td>\n      <td>NaN</td>\n      <td>NaN</td>\n      <td>NaN</td>\n    </tr>\n    <tr>\n      <th>...</th>\n      <td>...</td>\n      <td>...</td>\n      <td>...</td>\n      <td>...</td>\n      <td>...</td>\n      <td>...</td>\n      <td>...</td>\n      <td>...</td>\n      <td>...</td>\n      <td>...</td>\n      <td>...</td>\n      <td>...</td>\n      <td>...</td>\n      <td>...</td>\n      <td>...</td>\n      <td>...</td>\n      <td>...</td>\n      <td>...</td>\n      <td>...</td>\n      <td>...</td>\n      <td>...</td>\n    </tr>\n    <tr>\n      <th>181</th>\n      <td>SDG 9</td>\n      <td>9.4</td>\n      <td>upgrade infrastructure</td>\n      <td>sustainable industrial process</td>\n      <td>retrofitting</td>\n      <td>retrofit</td>\n      <td>resource-use efficiency</td>\n      <td>upgrade existing infrastructure</td>\n      <td>clean technologies</td>\n      <td>low-emission technologies</td>\n      <td>...</td>\n      <td>NaN</td>\n      <td>NaN</td>\n      <td>NaN</td>\n      <td>NaN</td>\n      <td>NaN</td>\n      <td>NaN</td>\n      <td>NaN</td>\n      <td>NaN</td>\n      <td>NaN</td>\n      <td>NaN</td>\n    </tr>\n    <tr>\n      <th>182</th>\n      <td>SDG 9</td>\n      <td>9.5</td>\n      <td>innovative infrastructure</td>\n      <td>innovative industry</td>\n      <td>indsutrial innovation</td>\n      <td>industry technology</td>\n      <td>research and development</td>\n      <td>R&amp;D</td>\n      <td>innovative technology</td>\n      <td>green technology</td>\n      <td>...</td>\n      <td>NaN</td>\n      <td>NaN</td>\n      <td>NaN</td>\n      <td>NaN</td>\n      <td>NaN</td>\n      <td>NaN</td>\n      <td>NaN</td>\n      <td>NaN</td>\n      <td>NaN</td>\n      <td>NaN</td>\n    </tr>\n    <tr>\n      <th>183</th>\n      <td>SDG 9</td>\n      <td>9.a</td>\n      <td>international support to infrastructure</td>\n      <td>development assistance to infrastructure</td>\n      <td>infrastructure in developing countries</td>\n      <td>infrastructure development in developing count...</td>\n      <td>developing countries infrastructure</td>\n      <td>oda for rural infrastructure development</td>\n      <td>official development assistance for rural infr...</td>\n      <td>NaN</td>\n      <td>...</td>\n      <td>NaN</td>\n      <td>NaN</td>\n      <td>NaN</td>\n      <td>NaN</td>\n      <td>NaN</td>\n      <td>NaN</td>\n      <td>NaN</td>\n      <td>NaN</td>\n      <td>NaN</td>\n      <td>NaN</td>\n    </tr>\n    <tr>\n      <th>184</th>\n      <td>SDG 9</td>\n      <td>9.b</td>\n      <td>research in developing countries</td>\n      <td>innovation in developing countries</td>\n      <td>technology development in developing countries</td>\n      <td>technologies in developing countries</td>\n      <td>industry in developing countries</td>\n      <td>industrial diversification in developing count...</td>\n      <td>research and development developing countries</td>\n      <td>developing countries research and development</td>\n      <td>...</td>\n      <td>NaN</td>\n      <td>NaN</td>\n      <td>NaN</td>\n      <td>NaN</td>\n      <td>NaN</td>\n      <td>NaN</td>\n      <td>NaN</td>\n      <td>NaN</td>\n      <td>NaN</td>\n      <td>NaN</td>\n    </tr>\n    <tr>\n      <th>185</th>\n      <td>SDG 9</td>\n      <td>9.c</td>\n      <td>internet access</td>\n      <td>universal acces to internet</td>\n      <td>access to information technology</td>\n      <td>access to ICT</td>\n      <td>access to communication technology</td>\n      <td>network coverage</td>\n      <td>access internet</td>\n      <td>ict access</td>\n      <td>...</td>\n      <td>NaN</td>\n      <td>NaN</td>\n      <td>NaN</td>\n      <td>NaN</td>\n      <td>NaN</td>\n      <td>NaN</td>\n      <td>NaN</td>\n      <td>NaN</td>\n      <td>NaN</td>\n      <td>NaN</td>\n    </tr>\n  </tbody>\n</table>\n<p>186 rows × 59 columns</p>\n</div>"
     },
     "metadata": {},
     "execution_count": 45
    }
   ],
   "source": [
    "goals = pd.read_excel('keywords/keywords_expanded.xlsx', sheet_name='Goal_keys')\n",
    "targets = pd.read_excel('keywords/keywords_expanded.xlsx', sheet_name='Target_keys')\n",
    "goals['Target'] = goals['Goal'].str.replace('SDG ', '')\n",
    "goals['Target'] = goals['Target'].apply(lambda x: f'{x}.0')\n",
    "targets['Goal'] = targets['Target'].apply(lambda x: f\"SDG {x.split('.')[0]}\")\n",
    "keywords = pd.concat([goals, targets])\n",
    "columns=list(keywords.columns.values)\n",
    "for x in ['Unnamed: 0', 'Goal', 'Target']:\n",
    "    columns.remove(x)\n",
    "columns=['Goal','Target'] + columns\n",
    "keywords = keywords.reindex(columns=columns)\n",
    "keywords.sort_values(by=['Goal','Target'], inplace = True)\n",
    "keywords.reset_index(inplace=True,drop=True)\n",
    "keywords.to_excel('keywords/keywords_expanded_reordered.xlsx')\n",
    "keywords.head(200)\n"
   ]
  },
  {
   "cell_type": "code",
   "execution_count": null,
   "metadata": {},
   "outputs": [],
   "source": []
  },
  {
   "cell_type": "code",
   "execution_count": null,
   "metadata": {},
   "outputs": [],
   "source": [
    "#Expand keywords\n",
    "\n",
    "input = 'keywords/keywords_copia.xlsx'\n",
    "keywords = pd.ExcelFile(input)\n",
    "filename = pathlib.Path(input).stem\n",
    "timestamp =  dt.datetime.now().isoformat(timespec='seconds').replace(':','').replace('T','_T')\n",
    "filename += f'_{timestamp}'\n",
    "\n",
    "output = f'{filename}.xlsx'\n",
    "\n",
    "#sheets = a list of sheets where keywords are\n",
    "#keys_df = [keywords.parse(sheet) for sheet in sheets]\n",
    "keys_dfs = [keywords.parse('Target_keys'), keywords.parse('Goal_keys'), keywords.parse('MOI')]\n",
    "\n",
    "for index, df in enumerate(keys_dfs):\n",
    "    df['Keys']=df['Keys'].apply(lambda keywords: re.sub(';$', '', keywords))\n",
    "    df['Keys']=df['Keys'].apply(lambda keywords: re.sub(';;', ';', keywords))\n",
    "    ex_df=df['Keys'].str.split(';', expand=True)\n",
    "    lab_df=df.drop(columns='Keys')\n",
    "    keys_dfs[index]=lab_df.join(ex_df)\n",
    "    #df['Keys']=df['Keys'].apply(lambda keywords: re.sub(r'[^a-zA-Z0-9; -.]+', ';', keywords))\n",
    "\n",
    "ex_df.head()\n",
    "\n",
    "keys_dfs.append(keywords.parse('developing_countries'))\n",
    "\n",
    "target_df, goal_df, devco_df, devco_names = keys_dfs"
   ]
  },
  {
   "cell_type": "code",
   "execution_count": null,
   "metadata": {},
   "outputs": [],
   "source": [
    "target_df.head()"
   ]
  },
  {
   "cell_type": "code",
   "execution_count": null,
   "metadata": {},
   "outputs": [],
   "source": [
    "ex_target_df=target_df['Keys'].str.split(';', expand=True)\n",
    "lab_target_df=target_df.drop(columns='Keys')\n",
    "lab_target_df.head()"
   ]
  },
  {
   "cell_type": "code",
   "execution_count": null,
   "metadata": {},
   "outputs": [],
   "source": [
    "with pd.ExcelWriter(output, engine='xlsxwriter') as writer: # 'keywords_copy_for_transaltion.xlsx'\n",
    "    target_df.to_excel(writer, sheet_name='Target_keys')\n",
    "    goal_df.to_excel(writer, sheet_name='Goal_keys')\n",
    "    devco_df.to_excel(writer, sheet_name='MOI')\n",
    "    devco_names.to_excel(writer, sheet_name='developing_countries')"
   ]
  },
  {
   "cell_type": "code",
   "execution_count": null,
   "metadata": {},
   "outputs": [],
   "source": [
    "#Load expand keywords\n",
    "\n",
    "input = 'keywords/keywords_expanded.xlsx'\n",
    "\n",
    "keywords = pd.ExcelFile(input)\n",
    "\n",
    "sheets = keywords.sheet_names\n",
    "print(f\"Reading keywords dataset in {input}.\\nSheets: {', '.join(sheets)}\")\n",
    "\n",
    "keywords = {sheet : keywords.parse(sheet, index_col=0) for sheet in sheets}\n",
    "keywords_sheets = ['Target_keys', 'Goal_keys', 'MOI']\n",
    "\n",
    "#remove all from stop_words to keep in keywords\n",
    "stop_words = set(stopwords.words('english'))-set(['no','not','nor'])\n",
    "stop_words.remove('all')\n",
    "\n",
    "for sheet in keywords_sheets:\n",
    "    # keywords[sheet]['Keys'] = keywords[sheet]['Keys'].apply(lambda keywords: re.sub(';$', '', keywords))\n",
    "    # keywords[sheet]['Keys'] = keywords[sheet]['Keys'].apply(lambda keywords: [plmp.preprocess_text(keyword, stop_words) for keyword in keywords.split(';')])\n",
    "    keywords[sheet].iloc[:,2:]=keywords[sheet].iloc[:,2:].applymap(lambda keyword: plmp.preprocess_text(str(keyword), stop_words))"
   ]
  },
  {
   "cell_type": "code",
   "execution_count": null,
   "metadata": {},
   "outputs": [],
   "source": [
    "keywords['Target_keys'].head()"
   ]
  },
  {
   "cell_type": "code",
   "execution_count": null,
   "metadata": {},
   "outputs": [],
   "source": [
    "#Load text\n",
    "\n",
    "input = pathlib.Path('input/52019DC0640_stemmed')\n",
    "\n",
    "files = sorted(input.glob('**/*.*'))\n",
    "\n",
    "print(files)\n",
    "\n",
    "text_ls = {}\n",
    "\n",
    "for _file in files:\n",
    "    with open(_file, 'r') as _f:\n",
    "        text_ls[_file.stem]=_f.read()"
   ]
  },
  {
   "cell_type": "code",
   "execution_count": null,
   "metadata": {},
   "outputs": [],
   "source": [
    "def count_keyword(text, keyword):\n",
    "\n",
    "count = text.count(keyword)\n"
   ]
  },
  {
   "cell_type": "code",
   "execution_count": null,
   "metadata": {},
   "outputs": [],
   "source": [
    "keywords['Target_keys']"
   ]
  },
  {
   "cell_type": "code",
   "execution_count": null,
   "metadata": {},
   "outputs": [],
   "source": [
    "text_df = []\n",
    "\n",
    "texts = list(text_ls.values())\n",
    "\n",
    "keyword_matrix = keywords['Target_keys'].iloc[:,2:]#.to_numpy()\n",
    "count_matrix = keywords['Target_keys'].iloc[:,2:].applymap(lambda keyword: texts[0].count(keyword))#.to_numpy()\n",
    "labels = keywords['Target_keys'].iloc[:,0]\n",
    "\n",
    "counted_keywords = count_matrix.mask(count_matrix > 0, keyword_matrix)\n",
    "counted_keywords = counted_keywords.apply(lambda keyword : ', '.join(keyword.astype(str)))\n",
    "count_matrix = count_matrix.replace(0, '')\n",
    "counted_keywords.to_excel('key_col.xlsx')\n",
    "count_matrix.to_excel('mask.xlsx')\n",
    "\n",
    "\n",
    "# for name, text in text_ls.items():\n",
    "#     count_df = keywords['Target_keys'].iloc[:,2:].applymap(lambda keyword: text.count(keyword))\n",
    "#     #count_matrix = count_df#.to_numpy()\n",
    "#     count_df = count_df.join(labels, how='inner')\n",
    "#     count_df['Sum_counts'] = count_df.sum(axis=0)\n",
    "#     keywords_ = keyword_matrix[count_matrix>0]\n",
    "#     #count_df = count_df[count_df['Sum_counts'] > 0]\n",
    "#     # #df.replace(0, None, inplace=True)\n",
    "#     #df.insert(loc=1, column='Label', value=keywords['Target_keys'].iloc[:,1])\n",
    "#     # df.insert(loc=2, coulmn='Count_keys', value=df.apply(lambda x: sum(x),axis=1))\n",
    "#     # df.insert(loc=3, column='Diff_keys', value=df.apply(lambda x:count(x),axis=1))\n",
    "#     count_df.to_excel(f'test_{name}.xlsx')\n",
    "#     np.savetxt(f'test_{name}.csv', count_matrix, delimiter=',', fmt='%i')\n",
    "#     np.savetxt(f'test_{name}_keys.csv', keywords_, delimiter=',',fmt='%s')\n",
    "#     # np.savetxt('test.csv', count_matrix, delimiter=',')\n",
    "#     text_df.append(count_df)"
   ]
  },
  {
   "cell_type": "code",
   "execution_count": null,
   "metadata": {},
   "outputs": [],
   "source": [
    "keyword_matrix.head()"
   ]
  },
  {
   "cell_type": "code",
   "execution_count": null,
   "metadata": {},
   "outputs": [],
   "source": [
    "count_matrix=count_matrix.mask(count_matrix > 1, -1)\n",
    "count_matrix.to_excel('mask.xlsx')"
   ]
  },
  {
   "cell_type": "code",
   "execution_count": null,
   "metadata": {},
   "outputs": [],
   "source": [
    "input = 'output/results_green_deal_test.xlsx'\n",
    "\n",
    "result_df = pd.ExcelFile(input)\n",
    "\n",
    "print(result_df.sheet_names)\n",
    "\n",
    "targets, goals, total = result_df.parse('target_count'), result_df.parse('goal_overview'), result_df.parse('total_count_(goals_+_targets)')\n",
    "\n",
    "# print(result_df.sheet_names)"
   ]
  },
  {
   "cell_type": "code",
   "execution_count": null,
   "metadata": {},
   "outputs": [],
   "source": [
    "targets.rename(columns={'Count':'Target_Count', 'Num_keys':'Tgt_nr.keys'}, inplace=True) \n",
    "targets.groupby(['Policy','Goal','Target']).sum()\n",
    "dat_target_join_keys = raw_df.groupby(['Policy', 'Target'])[\"Keyword\"].apply(lambda x : \" - \".join(x.astype(str))).reset_index()"
   ]
  },
  {
   "cell_type": "code",
   "execution_count": null,
   "metadata": {},
   "outputs": [],
   "source": [
    "targets.head"
   ]
  },
  {
   "cell_type": "code",
   "execution_count": null,
   "metadata": {},
   "outputs": [],
   "source": [
    "goals.rename(columns = {'Count':'Goal_Count', 'Goal_nr.keys'}, inplace = True) \n",
    "goals.groupby(['Policy','Goal']).sum()"
   ]
  },
  {
   "cell_type": "code",
   "execution_count": null,
   "metadata": {},
   "outputs": [],
   "source": []
  }
 ],
 "metadata": {
  "kernelspec": {
   "name": "python391jvsc74a57bd03c701ea15ff6b8cd345d7eda6702a5a5acbef34c5d809ba6ada83c604f672a97",
   "display_name": "Python 3.9.1 64-bit ('polmap': conda)"
  },
  "language_info": {
   "codemirror_mode": {
    "name": "ipython",
    "version": 3
   },
   "file_extension": ".py",
   "mimetype": "text/x-python",
   "name": "python",
   "nbconvert_exporter": "python",
   "pygments_lexer": "ipython3",
   "version": "3.9.1"
  }
 },
 "nbformat": 4,
 "nbformat_minor": 4
}