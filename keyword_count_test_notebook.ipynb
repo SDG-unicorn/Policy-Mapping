{
 "cells": [
  {
   "cell_type": "code",
   "execution_count": 1,
   "metadata": {},
   "outputs": [],
   "source": [
    "import re, json, pathlib, logging, time, argparse, pprint, math \n",
    "import datetime as dt\n",
    "import importlib.resources as rsrc\n",
    "from itertools import chain\n",
    "from operator import itemgetter \n",
    "#\n",
    "from nltk.corpus import stopwords\n",
    "import pandas as pd\n",
    "import numpy as np\n",
    "import nltk as nltk\n",
    "from nltk.corpus import stopwords\n",
    "from whoosh.lang.porter import stem\n",
    "#from googletrans import Translator\n",
    "from pygoogletranslation import Translator\n",
    "import circlify as crcf\n",
    "import matplotlib.pyplot as plt\n",
    "import random\n",
    "\n",
    "import polmap.polmap as plmp\n",
    "import postprocess.postprocess as pspr\n",
    "import keyword\n",
    "\n",
    "\n",
    "##MM imports\n",
    "#from polmap.polmap import make_directories, preprocess_text, doc2text, SDGrefs_mapper # replaced the keyword processing block\n",
    "\n",
    "#import fromRtoPython\n",
    "\n",
    "from docx2python import docx2python\n",
    " \n",
    "#from polmap.polmap import make_directories, preprocess_text, doc2text # replaced the keyword processing block\n",
    "pd.set_option('display.max_rows', None)\n",
    "pd.set_option('display.max_columns', None)\n",
    "pd.set_option('display.width', None)\n",
    "pd.set_option('display.max_colwidth', None)"
   ]
  },
  {
   "cell_type": "code",
   "execution_count": 14,
   "metadata": {},
   "outputs": [
    {
     "output_type": "execute_result",
     "data": {
      "text/plain": [
       "        Goal Target  Sum_of_keys  Count_of_keys  \\\n",
       "Index                                             \n",
       "9      SDG 2    2.0            0              0   \n",
       "10     SDG 2    2.1            2              2   \n",
       "11     SDG 2    2.2            1              1   \n",
       "12     SDG 2    2.3            1              1   \n",
       "13     SDG 2    2.4            5              4   \n",
       "14     SDG 2    2.5            0              0   \n",
       "15     SDG 2    2.a            0              0   \n",
       "16     SDG 2    2.b            0              0   \n",
       "17     SDG 2    2.c            0              0   \n",
       "\n",
       "                                                                                     list_of_keys  \n",
       "Index                                                                                              \n",
       "9                                                                                             NaN  \n",
       "10                                                                      food insecur ,  food all   \n",
       "11                                                                          healthi sustain diet   \n",
       "12                                                                            decent live farmer   \n",
       "13      organ farm ,  environmentally-friendli food system ,  agro-ecolog ,  sustain food system   \n",
       "14                                                                                            NaN  \n",
       "15                                                                                            NaN  \n",
       "16                                                                                            NaN  \n",
       "17                                                                                            NaN  "
      ],
      "text/html": "<div>\n<style scoped>\n    .dataframe tbody tr th:only-of-type {\n        vertical-align: middle;\n    }\n\n    .dataframe tbody tr th {\n        vertical-align: top;\n    }\n\n    .dataframe thead th {\n        text-align: right;\n    }\n</style>\n<table border=\"1\" class=\"dataframe\">\n  <thead>\n    <tr style=\"text-align: right;\">\n      <th></th>\n      <th>Goal</th>\n      <th>Target</th>\n      <th>Sum_of_keys</th>\n      <th>Count_of_keys</th>\n      <th>list_of_keys</th>\n    </tr>\n    <tr>\n      <th>Index</th>\n      <th></th>\n      <th></th>\n      <th></th>\n      <th></th>\n      <th></th>\n    </tr>\n  </thead>\n  <tbody>\n    <tr>\n      <th>9</th>\n      <td>SDG 2</td>\n      <td>2.0</td>\n      <td>0</td>\n      <td>0</td>\n      <td>NaN</td>\n    </tr>\n    <tr>\n      <th>10</th>\n      <td>SDG 2</td>\n      <td>2.1</td>\n      <td>2</td>\n      <td>2</td>\n      <td>food insecur ,  food all</td>\n    </tr>\n    <tr>\n      <th>11</th>\n      <td>SDG 2</td>\n      <td>2.2</td>\n      <td>1</td>\n      <td>1</td>\n      <td>healthi sustain diet</td>\n    </tr>\n    <tr>\n      <th>12</th>\n      <td>SDG 2</td>\n      <td>2.3</td>\n      <td>1</td>\n      <td>1</td>\n      <td>decent live farmer</td>\n    </tr>\n    <tr>\n      <th>13</th>\n      <td>SDG 2</td>\n      <td>2.4</td>\n      <td>5</td>\n      <td>4</td>\n      <td>organ farm ,  environmentally-friendli food system ,  agro-ecolog ,  sustain food system</td>\n    </tr>\n    <tr>\n      <th>14</th>\n      <td>SDG 2</td>\n      <td>2.5</td>\n      <td>0</td>\n      <td>0</td>\n      <td>NaN</td>\n    </tr>\n    <tr>\n      <th>15</th>\n      <td>SDG 2</td>\n      <td>2.a</td>\n      <td>0</td>\n      <td>0</td>\n      <td>NaN</td>\n    </tr>\n    <tr>\n      <th>16</th>\n      <td>SDG 2</td>\n      <td>2.b</td>\n      <td>0</td>\n      <td>0</td>\n      <td>NaN</td>\n    </tr>\n    <tr>\n      <th>17</th>\n      <td>SDG 2</td>\n      <td>2.c</td>\n      <td>0</td>\n      <td>0</td>\n      <td>NaN</td>\n    </tr>\n  </tbody>\n</table>\n</div>"
     },
     "metadata": {},
     "execution_count": 14
    }
   ],
   "source": [
    "results_df = pd.read_excel('output/SDGS_61_Green_Deal_Test/output/6-results/mapping_.xlsx', sheet_name='Summary', index_col=0)\n",
    "results_df[results_df.Goal == 'SDG 2'].head(20)"
   ]
  },
  {
   "cell_type": "code",
   "execution_count": 20,
   "metadata": {},
   "outputs": [
    {
     "output_type": "stream",
     "name": "stdout",
     "text": [
      "{'name': 'sdgs', 'children': [{'name': 'SDG 10', 'size': 2, 'children': [{'name': 'Target 10.0', 'size': 0}, {'name': 'Target 10.1', 'size': 0}, {'name': 'Target 10.2', 'size': 0}, {'name': 'Target 10.3', 'size': 1}, {'name': 'Target 10.4', 'size': 0}, {'name': 'Target 10.5', 'size': 0}, {'name': 'Target 10.6', 'size': 0}, {'name': 'Target 10.7', 'size': 0}, {'name': 'Target 10.a', 'size': 0}, {'name': 'Target 10.b', 'size': 1}, {'name': 'Target 10.c', 'size': 0}]}, {'name': 'SDG 11', 'size': 14, 'children': [{'name': 'Target 11.0', 'size': 0}, {'name': 'Target 11.1', 'size': 0}, {'name': 'Target 11.2', 'size': 10}, {'name': 'Target 11.3', 'size': 2}, {'name': 'Target 11.4', 'size': 0}, {'name': 'Target 11.5', 'size': 0}, {'name': 'Target 11.6', 'size': 1}, {'name': 'Target 11.7', 'size': 0}, {'name': 'Target 11.a', 'size': 1}, {'name': 'Target 11.b', 'size': 0}, {'name': 'Target 11.c', 'size': 0}]}, {'name': 'SDG 12', 'size': 40, 'children': [{'name': 'Target 12.0', 'size': 5}, {'name': 'Target 12.1', 'size': 0}, {'name': 'Target 12.2', 'size': 1}, {'name': 'Target 12.3', 'size': 4}, {'name': 'Target 12.4', 'size': 3}, {'name': 'Target 12.5', 'size': 20}, {'name': 'Target 12.6', 'size': 0}, {'name': 'Target 12.7', 'size': 1}, {'name': 'Target 12.8', 'size': 4}, {'name': 'Target 12.a', 'size': 0}, {'name': 'Target 12.b', 'size': 0}, {'name': 'Target 12.c', 'size': 2}]}, {'name': 'SDG 13', 'size': 109, 'children': [{'name': 'Target 13.0', 'size': 63}, {'name': 'Target 13.1', 'size': 10}, {'name': 'Target 13.2', 'size': 35}, {'name': 'Target 13.3', 'size': 1}, {'name': 'Target 13.a', 'size': 0}, {'name': 'Target 13.b', 'size': 0}]}, {'name': 'SDG 14', 'size': 5, 'children': [{'name': 'Target 14.0', 'size': 0}, {'name': 'Target 14.1', 'size': 0}, {'name': 'Target 14.2', 'size': 1}, {'name': 'Target 14.3', 'size': 1}, {'name': 'Target 14.4', 'size': 2}, {'name': 'Target 14.5', 'size': 1}, {'name': 'Target 14.6', 'size': 0}, {'name': 'Target 14.7', 'size': 0}, {'name': 'Target 14.a', 'size': 0}, {'name': 'Target 14.b', 'size': 0}, {'name': 'Target 14.c', 'size': 0}]}, {'name': 'SDG 15', 'size': 31, 'children': [{'name': 'Target 15.0', 'size': 2}, {'name': 'Target 15.1', 'size': 2}, {'name': 'Target 15.2', 'size': 7}, {'name': 'Target 15.3', 'size': 4}, {'name': 'Target 15.4', 'size': 0}, {'name': 'Target 15.5', 'size': 11}, {'name': 'Target 15.6', 'size': 0}, {'name': 'Target 15.7', 'size': 0}, {'name': 'Target 15.8', 'size': 0}, {'name': 'Target 15.9', 'size': 4}, {'name': 'Target 15.a', 'size': 0}, {'name': 'Target 15.b', 'size': 0}, {'name': 'Target 15.c', 'size': 1}]}, {'name': 'SDG 16', 'size': 1, 'children': [{'name': 'Target 16.0', 'size': 0}, {'name': 'Target 16.1', 'size': 0}, {'name': 'Target 16.2', 'size': 0}, {'name': 'Target 16.3', 'size': 1}, {'name': 'Target 16.4', 'size': 0}, {'name': 'Target 16.5', 'size': 0}, {'name': 'Target 16.6', 'size': 0}, {'name': 'Target 16.7', 'size': 0}, {'name': 'Target 16.8', 'size': 0}, {'name': 'Target 16.9', 'size': 0}, {'name': 'Target 16.10', 'size': 0}, {'name': 'Target 16.a', 'size': 0}, {'name': 'Target 16.b', 'size': 0}]}, {'name': 'SDG 17', 'size': 6, 'children': [{'name': 'Target 17.0', 'size': 3}, {'name': 'Target 17.1', 'size': 0}, {'name': 'Target 17.2', 'size': 0}, {'name': 'Target 17.3', 'size': 0}, {'name': 'Target 17.4', 'size': 0}, {'name': 'Target 17.5', 'size': 0}, {'name': 'Target 17.6', 'size': 0}, {'name': 'Target 17.7', 'size': 0}, {'name': 'Target 17.8', 'size': 0}, {'name': 'Target 17.9', 'size': 0}, {'name': 'Target 17.10', 'size': 1}, {'name': 'Target 17.11', 'size': 0}, {'name': 'Target 17.12', 'size': 0}, {'name': 'Target 17.13', 'size': 2}, {'name': 'Target 17.14', 'size': 0}, {'name': 'Target 17.15', 'size': 0}, {'name': 'Target 17.16', 'size': 0}, {'name': 'Target 17.17', 'size': 0}, {'name': 'Target 17.18', 'size': 0}, {'name': 'Target 17.19', 'size': 0}]}, {'name': 'SDG 2', 'size': 9, 'children': [{'name': 'Target 2.0', 'size': 0}, {'name': 'Target 2.1', 'size': 2}, {'name': 'Target 2.2', 'size': 1}, {'name': 'Target 2.3', 'size': 1}, {'name': 'Target 2.4', 'size': 5}, {'name': 'Target 2.5', 'size': 0}, {'name': 'Target 2.a', 'size': 0}, {'name': 'Target 2.b', 'size': 0}, {'name': 'Target 2.c', 'size': 0}]}, {'name': 'SDG 3', 'size': 1, 'children': [{'name': 'Target 3.0', 'size': 0}, {'name': 'Target 3.1', 'size': 0}, {'name': 'Target 3.2', 'size': 0}, {'name': 'Target 3.3', 'size': 0}, {'name': 'Target 3.4', 'size': 0}, {'name': 'Target 3.5', 'size': 0}, {'name': 'Target 3.6', 'size': 0}, {'name': 'Target 3.7', 'size': 0}, {'name': 'Target 3.8', 'size': 0}, {'name': 'Target 3.9', 'size': 0}, {'name': 'Target 3.a', 'size': 0}, {'name': 'Target 3.b', 'size': 0}, {'name': 'Target 3.c', 'size': 0}, {'name': 'Target 3.d', 'size': 1}]}, {'name': 'SDG 4', 'size': 2, 'children': [{'name': 'Target 4.0', 'size': 1}, {'name': 'Target 4.1', 'size': 0}, {'name': 'Target 4.2', 'size': 0}, {'name': 'Target 4.3', 'size': 0}, {'name': 'Target 4.4', 'size': 1}, {'name': 'Target 4.5', 'size': 0}, {'name': 'Target 4.6', 'size': 0}, {'name': 'Target 4.7', 'size': 0}, {'name': 'Target 4.a', 'size': 0}, {'name': 'Target 4.b', 'size': 0}, {'name': 'Target 4.c', 'size': 0}]}, {'name': 'SDG 6', 'size': 3, 'children': [{'name': 'Target 6.0', 'size': 0}, {'name': 'Target 6.1', 'size': 0}, {'name': 'Target 6.2', 'size': 0}, {'name': 'Target 6.3', 'size': 2}, {'name': 'Target 6.4', 'size': 1}, {'name': 'Target 6.5', 'size': 0}, {'name': 'Target 6.6', 'size': 0}, {'name': 'Target 6.a', 'size': 0}, {'name': 'Target 6.b', 'size': 0}]}, {'name': 'SDG 7', 'size': 32, 'children': [{'name': 'Target 7.0', 'size': 2}, {'name': 'Target 7.1', 'size': 4}, {'name': 'Target 7.2', 'size': 16}, {'name': 'Target 7.3', 'size': 10}, {'name': 'Target 7.a', 'size': 0}, {'name': 'Target 7.b', 'size': 0}]}, {'name': 'SDG 8', 'size': 9, 'children': [{'name': 'Target 8.0', 'size': 0}, {'name': 'Target 8.1', 'size': 6}, {'name': 'Target 8.2', 'size': 0}, {'name': 'Target 8.3', 'size': 1}, {'name': 'Target 8.4', 'size': 1}, {'name': 'Target 8.5', 'size': 0}, {'name': 'Target 8.6', 'size': 0}, {'name': 'Target 8.7', 'size': 0}, {'name': 'Target 8.8', 'size': 1}, {'name': 'Target 8.9', 'size': 0}, {'name': 'Target 8.10', 'size': 0}, {'name': 'Target 8.a', 'size': 0}, {'name': 'Target 8.b', 'size': 0}]}, {'name': 'SDG 9', 'size': 18, 'children': [{'name': 'Target 9.0', 'size': 0}, {'name': 'Target 9.1', 'size': 4}, {'name': 'Target 9.2', 'size': 0}, {'name': 'Target 9.3', 'size': 0}, {'name': 'Target 9.4', 'size': 4}, {'name': 'Target 9.5', 'size': 10}, {'name': 'Target 9.a', 'size': 0}, {'name': 'Target 9.b', 'size': 0}, {'name': 'Target 9.c', 'size': 0}]}]}\n"
     ]
    }
   ],
   "source": [
    "def make_bubbleplot(results_df):\n",
    "    #Later on, think about a way to make bubbleplot for PP\n",
    "    sdg_bubbledict={\"name\": \"sdgs\", \"children\": None}\n",
    "    goal_ls=[]\n",
    "\n",
    "    goals=results_df.groupby(by=[\"Goal\"]).sum()\n",
    "\n",
    "    for goal, count in zip(goals.index.tolist(), goals['Sum_of_keys']):\n",
    "        goal_dict={}\n",
    "        if count > 0:\n",
    "            goal_dict[\"name\"]=goal\n",
    "            goal_dict[\"size\"]=count\n",
    "            goal_dict[\"children\"] = None\n",
    "            goal_ls.append(goal_dict)\n",
    "        else:\n",
    "            continue\n",
    "\n",
    "\n",
    "    for goal in goal_ls:\n",
    "        target_ls=[]\n",
    "        if goal[\"size\"] >0:\n",
    "            targetdf = results_df[results_df.Goal == goal[\"name\"]] \n",
    "            for target, count in zip(targetdf['Target'], targetdf['Sum_of_keys']):\n",
    "                target_dict={}\n",
    "                target_dict[\"name\"]=f'Target {target}'\n",
    "                target_dict[\"size\"]=count\n",
    "                target_ls.append(target_dict)\n",
    "            goal['children']=target_ls\n",
    "        else:\n",
    "            continue\n",
    "\n",
    "    sdg_bubbledict['children']=goal_ls\n",
    "\n",
    "return sdg_bubbledict\n",
    "\n",
    "with open('sdg_bubbles_sdgs61.json', mode='w', encoding='utf-8') as f:\n",
    "    json.dump(sdg_bubbledict, f)\n",
    "\n",
    "# targets=results_df[results_df.Goal=='SDG 1']\n",
    "# targets.head(15)\n",
    "# for target, count in zip(targets['Target'], targets['Sum_of_keys']):\n",
    "#     print(target, count)"
   ]
  },
  {
   "cell_type": "code",
   "execution_count": null,
   "metadata": {},
   "outputs": [],
   "source": []
  },
  {
   "cell_type": "code",
   "execution_count": null,
   "metadata": {},
   "outputs": [],
   "source": [
    "df = pd.read_excel('output/The_EU_Green_Deal_/output/6-results/results_.xlsx', sheet_name='priorities', index_col=0)\n",
    "\n",
    "pp_colors={'Human Development':'#FECA4D',\n",
    "'Growth Jobs':'#FABE13',\n",
    "'Green Deal':'#73936F',\n",
    "'Partnership':'#1A6835',\n",
    "'Digital':'#72ABDC',\n",
    "'Governance':'#E2809B',\n",
    "'Digitalisation':'#4D9CD5',\n",
    "'Migration':'#DE6189'\n",
    "}\n",
    "\n",
    "df.rename(columns = {'priority':'name', 'Count':'size'}, inplace = True)\n",
    "df['goal_color']=df['name'].map(pp_colors)\n",
    "df.to_dict('index')\n"
   ]
  },
  {
   "cell_type": "code",
   "execution_count": null,
   "metadata": {},
   "outputs": [],
   "source": [
    "input = 'output/results_green_deal_test.xlsx'\n",
    "\n",
    "result_df = pd.ExcelFile(input)\n",
    "\n",
    "print(result_df.sheet_names)\n",
    "\n",
    "targets, goals, total = result_df.parse('target_count'), result_df.parse('goal_overview'), result_df.parse('total_count_(goals_+_targets)')\n",
    "\n",
    "# print(result_df.sheet_names)"
   ]
  },
  {
   "cell_type": "code",
   "execution_count": null,
   "metadata": {},
   "outputs": [],
   "source": [
    "targets.rename(columns={'Count':'Target_Count', 'Num_keys':'Tgt_nr.keys'}, inplace=True) \n",
    "targets.groupby(['Policy','Goal','Target']).sum()\n",
    "dat_target_join_keys = raw_df.groupby(['Policy', 'Target'])[\"Keyword\"].apply(lambda x : \" - \".join(x.astype(str))).reset_index()"
   ]
  },
  {
   "cell_type": "code",
   "execution_count": null,
   "metadata": {},
   "outputs": [],
   "source": [
    "targets.head"
   ]
  },
  {
   "cell_type": "code",
   "execution_count": null,
   "metadata": {},
   "outputs": [],
   "source": [
    "goals.rename(columns = {'Count':'Goal_Count', 'Goal_nr.keys'}, inplace = True) \n",
    "goals.groupby(['Policy','Goal']).sum()"
   ]
  },
  {
   "cell_type": "code",
   "execution_count": null,
   "metadata": {},
   "outputs": [],
   "source": []
  }
 ],
 "metadata": {
  "kernelspec": {
   "name": "python3",
   "display_name": "Python 3.9.1 64-bit ('polmap': conda)"
  },
  "language_info": {
   "codemirror_mode": {
    "name": "ipython",
    "version": 3
   },
   "file_extension": ".py",
   "mimetype": "text/x-python",
   "name": "python",
   "nbconvert_exporter": "python",
   "pygments_lexer": "ipython3",
   "version": "3.9.1"
  },
  "interpreter": {
   "hash": "3c701ea15ff6b8cd345d7eda6702a5a5acbef34c5d809ba6ada83c604f672a97"
  }
 },
 "nbformat": 4,
 "nbformat_minor": 4
}