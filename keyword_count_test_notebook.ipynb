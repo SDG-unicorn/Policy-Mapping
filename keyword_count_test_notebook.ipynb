{
 "cells": [
  {
   "cell_type": "code",
   "execution_count": 1,
   "metadata": {},
   "outputs": [],
   "source": [
    "import re, json, pathlib, logging, time, argparse, pprint \n",
    "import datetime as dt\n",
    "import importlib.resources as rsrc\n",
    "from itertools import chain\n",
    "from operator import itemgetter \n",
    "#\n",
    "from nltk.corpus import stopwords\n",
    "import pandas as pd\n",
    "import numpy as np\n",
    "import nltk as nltk\n",
    "from nltk.corpus import stopwords\n",
    "from whoosh.lang.porter import stem\n",
    "#from googletrans import Translator\n",
    "from pygoogletranslation import Translator\n",
    "import circlify as crcf\n",
    "import matplotlib.pyplot as plt\n",
    "import random\n",
    "\n",
    "import polmap.polmap as plmp\n",
    "import polmap.clean_docs as cldc\n",
    "import postprocess.postprocess as pspr\n",
    "\n",
    "\n",
    "##MM imports\n",
    "#from polmap.polmap import make_directories, preprocess_text, doc2text, SDGrefs_mapper # replaced the keyword processing block\n",
    "\n",
    "#import fromRtoPython\n",
    "\n",
    "from docx2python import docx2python\n",
    " \n",
    "#from polmap.polmap import make_directories, preprocess_text, doc2text # replaced the keyword processing block"
   ]
  },
  {
   "cell_type": "code",
   "execution_count": 2,
   "metadata": {},
   "outputs": [
    {
     "output_type": "stream",
     "name": "stdout",
     "text": [
      "foo\nbar\n"
     ]
    }
   ],
   "source": [
    "a='foo'\n",
    "print(f'{a}'+'\\nbar')"
   ]
  },
  {
   "cell_type": "code",
   "execution_count": 3,
   "metadata": {},
   "outputs": [
    {
     "output_type": "execute_result",
     "data": {
      "text/plain": [
       "                                                Path  \\\n",
       "0  output/DirD_/output/2-doc_text/WP_2021_PP_2014...   \n",
       "1  output/DirD_/output/2-doc_text/WP_2021_PP_2014...   \n",
       "2  output/DirD_/output/2-doc_text/WP_2021_PP_2014...   \n",
       "3  output/DirD_/output/2-doc_text/WP_2021_PP_2014...   \n",
       "4  output/DirD_/output/2-doc_text/WP_2021_PP_2014...   \n",
       "\n",
       "                                           File    PRJ     PP  \n",
       "0  WP_2021_PP_20140_PRJ_30690_13072021_docx.txt  30690  20140  \n",
       "1  WP_2021_PP_20140_PRJ_30701_13072021_docx.txt  30701  20140  \n",
       "2  WP_2021_PP_20140_PRJ_30743_13072021_docx.txt  30743  20140  \n",
       "3  WP_2021_PP_20143_PRJ_30323_13072021_docx.txt  30323  20143  \n",
       "4  WP_2021_PP_20143_PRJ_30325_13072021_docx.txt  30325  20143  "
      ],
      "text/html": "<div>\n<style scoped>\n    .dataframe tbody tr th:only-of-type {\n        vertical-align: middle;\n    }\n\n    .dataframe tbody tr th {\n        vertical-align: top;\n    }\n\n    .dataframe thead th {\n        text-align: right;\n    }\n</style>\n<table border=\"1\" class=\"dataframe\">\n  <thead>\n    <tr style=\"text-align: right;\">\n      <th></th>\n      <th>Path</th>\n      <th>File</th>\n      <th>PRJ</th>\n      <th>PP</th>\n    </tr>\n  </thead>\n  <tbody>\n    <tr>\n      <th>0</th>\n      <td>output/DirD_/output/2-doc_text/WP_2021_PP_2014...</td>\n      <td>WP_2021_PP_20140_PRJ_30690_13072021_docx.txt</td>\n      <td>30690</td>\n      <td>20140</td>\n    </tr>\n    <tr>\n      <th>1</th>\n      <td>output/DirD_/output/2-doc_text/WP_2021_PP_2014...</td>\n      <td>WP_2021_PP_20140_PRJ_30701_13072021_docx.txt</td>\n      <td>30701</td>\n      <td>20140</td>\n    </tr>\n    <tr>\n      <th>2</th>\n      <td>output/DirD_/output/2-doc_text/WP_2021_PP_2014...</td>\n      <td>WP_2021_PP_20140_PRJ_30743_13072021_docx.txt</td>\n      <td>30743</td>\n      <td>20140</td>\n    </tr>\n    <tr>\n      <th>3</th>\n      <td>output/DirD_/output/2-doc_text/WP_2021_PP_2014...</td>\n      <td>WP_2021_PP_20143_PRJ_30323_13072021_docx.txt</td>\n      <td>30323</td>\n      <td>20143</td>\n    </tr>\n    <tr>\n      <th>4</th>\n      <td>output/DirD_/output/2-doc_text/WP_2021_PP_2014...</td>\n      <td>WP_2021_PP_20143_PRJ_30325_13072021_docx.txt</td>\n      <td>30325</td>\n      <td>20143</td>\n    </tr>\n  </tbody>\n</table>\n</div>"
     },
     "metadata": {},
     "execution_count": 3
    }
   ],
   "source": [
    "input_dir=pathlib.Path('output/DirD_/output/2-doc_text')\n",
    "files = sorted(input_dir.glob('*.txt'))\n",
    "file_df=pd.DataFrame(files,columns=['Path'])\n",
    "file_df['File']=file_df['Path'].apply(lambda x: x.name)\n",
    "file_df['PRJ']=file_df['File'].str.extract(r'_PRJ_(\\d{5})')\n",
    "file_df['PP']=file_df['File'].str.extract(r'_PP_(\\d{5})')\n",
    "\n",
    "file_df.head()"
   ]
  },
  {
   "cell_type": "code",
   "execution_count": 4,
   "metadata": {},
   "outputs": [],
   "source": [
    "doc_text={}\n",
    "for file_ in files:\n",
    "    with open(file_, 'r') as f:    \n",
    "        doc_text[file_.name]=f.read()\n",
    "    \n",
    "    cleaned_text, cleaned_dict=cldc.clean_jpb(doc_text[file_.name])#[0]\n",
    "\n",
    "    if all(cleaned_dict.values()):\n",
    "        #print(f'{file_.name}: Ok\\n\\n')\n",
    "        pass\n",
    "    else:\n",
    "        print('\\n\\n',file_.name,'\\n\\n')\n",
    "        for key, value in cleaned_dict.items():        \n",
    "            if not value:\n",
    "                print(f'{key}:  {bool(value)}\\n\\n\\n')\n",
    "          \n",
    "    \n",
    "    destpath=file_.parent/'cleaned'/f'{file_.name}_cleaned.txt'.replace('docx.txt_','docx_')\n",
    "    #print(destpath)\n",
    "    destpath.parent.mkdir(mode=0o777, parents=True, exist_ok=True)\n",
    "    with destpath.open('w') as f_:\n",
    "         f_.write(cleaned_text)\n",
    "\n",
    "    #print(destpath,'\\n'*2, destpath.exists())\n",
    "\n",
    "    destpath= destpath.parent/ destpath.name.replace('txt', f'_{all(cleaned_dict.values())}_.json')\n",
    "    with open(destpath, \"w\") as fjson:\n",
    "        json.dump(cleaned_dict, fjson, indent = 6)\n",
    "    #doc_text[file_.name]=re.findall(r\"SDG\\n\\n([a-zA-z, -]{1,})\\n\", doc_text[file_.name], flags=re.IGNORECASE)"
   ]
  },
  {
   "cell_type": "code",
   "execution_count": null,
   "metadata": {},
   "outputs": [],
   "source": [
    "res_path = pathlib.Path('./output/DirD_cleaned_/output/6-results/results_cleaned.xlsx')\n",
    "\n",
    "filename=res_path.parent / 'DirD_cleaned_'\n",
    "\n",
    "mock_target_df = pd.read_excel(res_path,sheet_name='target_dat') #pd.DataFrame({\n",
    "#     'Name': target_list,\n",
    "#     'Value': [np.random.randint(0, 100) for i in target_list]\n",
    "# })\n",
    "mock_target_df=mock_target_df[['Target','Count']]\n",
    "\n",
    "mock_target_df.rename(columns={\"Target\": \"Name\", \"Count\": \"Value\"}, inplace=True)\n",
    "mock_target_df=mock_target_df.groupby(by=['Name']).sum().\n",
    "mock_target_df =  mock_target_df[mock_target_df['Value'] != 0]\n",
    "\n",
    "mock_goals = pd.read_excel(res_path,sheet_name='goal_overview')\n",
    "mock_goals = mock_goals['Count']"
   ]
  },
  {
   "cell_type": "code",
   "execution_count": null,
   "metadata": {},
   "outputs": [],
   "source": [
    "mock_target_df.reset_index().head()"
   ]
  },
  {
   "cell_type": "code",
   "execution_count": null,
   "metadata": {},
   "outputs": [],
   "source": [
    "mock_target_df['Value'].tolist()"
   ]
  },
  {
   "cell_type": "code",
   "execution_count": null,
   "metadata": {},
   "outputs": [],
   "source": [
    "mock_target_df['Name'].tolist()"
   ]
  },
  {
   "cell_type": "code",
   "execution_count": null,
   "metadata": {},
   "outputs": [],
   "source": []
  },
  {
   "cell_type": "code",
   "execution_count": null,
   "metadata": {},
   "outputs": [],
   "source": [
    "doc_text[0]"
   ]
  },
  {
   "cell_type": "code",
   "execution_count": null,
   "metadata": {},
   "outputs": [],
   "source": [
    "#for name, value in doc_text.items():\n",
    "    #print(name, value)\n",
    "\n",
    "file_df['SDG']=file_df['File'].apply(lambda x: doc_text[x][0])\n",
    "file_df.head()"
   ]
  },
  {
   "cell_type": "code",
   "execution_count": null,
   "metadata": {},
   "outputs": [],
   "source": [
    "dird_df=pd.read_excel('input/Projects_overview.xlsx')\n",
    "dird_df.head()"
   ]
  },
  {
   "cell_type": "code",
   "execution_count": null,
   "metadata": {},
   "outputs": [],
   "source": [
    "file_df['PRJ']=file_df['PRJ'].astype(str)\n",
    "dird_df['PRJ']=dird_df['PRJ'].astype(str)\n",
    "final=dird_df.merge(file_df[['PRJ','File','SDG']], on='PRJ',how='left')"
   ]
  },
  {
   "cell_type": "code",
   "execution_count": null,
   "metadata": {},
   "outputs": [],
   "source": [
    "final.head()\n",
    "final.to_excel('dird_project_summary.xlsx')"
   ]
  },
  {
   "cell_type": "code",
   "execution_count": null,
   "metadata": {},
   "outputs": [],
   "source": [
    "long_str='The idea is to run a loop from start to end and for every index in the given string check whether the sub-string can be formed from that index. This can be done by running a nested loop traversing the given string and in that loop run another loop checking for sub-string from every index. '\n",
    "short_str='for_every index'\n",
    "\n",
    "print(short_str in long_str)"
   ]
  },
  {
   "cell_type": "code",
   "execution_count": null,
   "metadata": {},
   "outputs": [],
   "source": []
  }
 ],
 "metadata": {
  "kernelspec": {
   "name": "python3",
   "display_name": "Python 3.9.1 64-bit ('polmap': conda)"
  },
  "language_info": {
   "codemirror_mode": {
    "name": "ipython",
    "version": 3
   },
   "file_extension": ".py",
   "mimetype": "text/x-python",
   "name": "python",
   "nbconvert_exporter": "python",
   "pygments_lexer": "ipython3",
   "version": "3.9.1"
  },
  "interpreter": {
   "hash": "3c701ea15ff6b8cd345d7eda6702a5a5acbef34c5d809ba6ada83c604f672a97"
  }
 },
 "nbformat": 4,
 "nbformat_minor": 4
}