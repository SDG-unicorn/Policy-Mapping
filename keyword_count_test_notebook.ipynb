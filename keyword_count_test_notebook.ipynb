{
 "cells": [
  {
   "cell_type": "code",
   "execution_count": 1,
   "metadata": {},
   "outputs": [],
   "source": [
    "import re, json, pathlib, logging, time, argparse, pprint \n",
    "import datetime as dt\n",
    "import importlib.resources as rsrc\n",
    "from itertools import chain\n",
    "from operator import itemgetter \n",
    "#\n",
    "from nltk.corpus import stopwords\n",
    "import pandas as pd\n",
    "import numpy as np\n",
    "import nltk as nltk\n",
    "from nltk.corpus import stopwords\n",
    "from whoosh.lang.porter import stem\n",
    "#from googletrans import Translator\n",
    "from pygoogletranslation import Translator\n",
    "import circlify as crcf\n",
    "import matplotlib.pyplot as plt\n",
    "import random\n",
    "\n",
    "import polmap.polmap as plmp\n",
    "import postprocess.postprocess as pspr\n",
    "import keyword\n",
    "\n",
    "\n",
    "##MM imports\n",
    "#from polmap.polmap import make_directories, preprocess_text, doc2text, SDGrefs_mapper # replaced the keyword processing block\n",
    "\n",
    "#import fromRtoPython\n",
    "\n",
    "from docx2python import docx2python\n",
    " \n",
    "#from polmap.polmap import make_directories, preprocess_text, doc2text # replaced the keyword processing block"
   ]
  },
  {
   "cell_type": "code",
   "execution_count": 2,
   "metadata": {},
   "outputs": [
    {
     "output_type": "stream",
     "name": "stdout",
     "text": [
      "0.40753769874572754\n"
     ]
    },
    {
     "output_type": "execute_result",
     "data": {
      "text/plain": [
       "        Goal Target                            0  \\\n",
       "Index                                              \n",
       "1      SDG 1    1.0      sustain develop goal 1    \n",
       "2      SDG 1    1.1         intern poverti line    \n",
       "3      SDG 1    1.2   sever materi depriv peopl    \n",
       "4      SDG 1    1.3                 social risk    \n",
       "5      SDG 1    1.4                 tenur right    \n",
       "\n",
       "                                  1                      2  \\\n",
       "Index                                                        \n",
       "1                            sdg 1            end poverti    \n",
       "2                   extrem poverti         abject poverti    \n",
       "3                  low work intens    nation poverti line    \n",
       "4                   social protect    right person disabl    \n",
       "5       equal right econom resourc           control land    \n",
       "\n",
       "                             3                     4                       5  \\\n",
       "Index                                                                          \n",
       "1               reduc poverti         fight poverti      end global poverti    \n",
       "2             absolut poverti              destitut                  penuri    \n",
       "3               social exclus         incom poverti    combat child poverti    \n",
       "4       right unemploy person    right older person    right pregnant women    \n",
       "5              access inherit            right land         access properti    \n",
       "\n",
       "                                6                                       7  \\\n",
       "Index                                                                       \n",
       "1                 poverti reduct                          poverti depriv    \n",
       "2                   sever depriv    help peopl suffer food materi depriv    \n",
       "3               children poverti                   address child poverti    \n",
       "4       right work-injuri victim                              right poor    \n",
       "5           access natur resourc                    access new technolog    \n",
       "\n",
       "       ...   47   48   49   50   51   52   53   54   55   56  \n",
       "Index  ...                                                    \n",
       "1      ...  NaN  NaN  NaN  NaN  NaN  NaN  NaN  NaN  NaN  NaN  \n",
       "2      ...  NaN  NaN  NaN  NaN  NaN  NaN  NaN  NaN  NaN  NaN  \n",
       "3      ...  NaN  NaN  NaN  NaN  NaN  NaN  NaN  NaN  NaN  NaN  \n",
       "4      ...  NaN  NaN  NaN  NaN  NaN  NaN  NaN  NaN  NaN  NaN  \n",
       "5      ...  NaN  NaN  NaN  NaN  NaN  NaN  NaN  NaN  NaN  NaN  \n",
       "\n",
       "[5 rows x 59 columns]"
      ],
      "text/html": "<div>\n<style scoped>\n    .dataframe tbody tr th:only-of-type {\n        vertical-align: middle;\n    }\n\n    .dataframe tbody tr th {\n        vertical-align: top;\n    }\n\n    .dataframe thead th {\n        text-align: right;\n    }\n</style>\n<table border=\"1\" class=\"dataframe\">\n  <thead>\n    <tr style=\"text-align: right;\">\n      <th></th>\n      <th>Goal</th>\n      <th>Target</th>\n      <th>0</th>\n      <th>1</th>\n      <th>2</th>\n      <th>3</th>\n      <th>4</th>\n      <th>5</th>\n      <th>6</th>\n      <th>7</th>\n      <th>...</th>\n      <th>47</th>\n      <th>48</th>\n      <th>49</th>\n      <th>50</th>\n      <th>51</th>\n      <th>52</th>\n      <th>53</th>\n      <th>54</th>\n      <th>55</th>\n      <th>56</th>\n    </tr>\n    <tr>\n      <th>Index</th>\n      <th></th>\n      <th></th>\n      <th></th>\n      <th></th>\n      <th></th>\n      <th></th>\n      <th></th>\n      <th></th>\n      <th></th>\n      <th></th>\n      <th></th>\n      <th></th>\n      <th></th>\n      <th></th>\n      <th></th>\n      <th></th>\n      <th></th>\n      <th></th>\n      <th></th>\n      <th></th>\n      <th></th>\n    </tr>\n  </thead>\n  <tbody>\n    <tr>\n      <th>1</th>\n      <td>SDG 1</td>\n      <td>1.0</td>\n      <td>sustain develop goal 1</td>\n      <td>sdg 1</td>\n      <td>end poverti</td>\n      <td>reduc poverti</td>\n      <td>fight poverti</td>\n      <td>end global poverti</td>\n      <td>poverti reduct</td>\n      <td>poverti depriv</td>\n      <td>...</td>\n      <td>NaN</td>\n      <td>NaN</td>\n      <td>NaN</td>\n      <td>NaN</td>\n      <td>NaN</td>\n      <td>NaN</td>\n      <td>NaN</td>\n      <td>NaN</td>\n      <td>NaN</td>\n      <td>NaN</td>\n    </tr>\n    <tr>\n      <th>2</th>\n      <td>SDG 1</td>\n      <td>1.1</td>\n      <td>intern poverti line</td>\n      <td>extrem poverti</td>\n      <td>abject poverti</td>\n      <td>absolut poverti</td>\n      <td>destitut</td>\n      <td>penuri</td>\n      <td>sever depriv</td>\n      <td>help peopl suffer food materi depriv</td>\n      <td>...</td>\n      <td>NaN</td>\n      <td>NaN</td>\n      <td>NaN</td>\n      <td>NaN</td>\n      <td>NaN</td>\n      <td>NaN</td>\n      <td>NaN</td>\n      <td>NaN</td>\n      <td>NaN</td>\n      <td>NaN</td>\n    </tr>\n    <tr>\n      <th>3</th>\n      <td>SDG 1</td>\n      <td>1.2</td>\n      <td>sever materi depriv peopl</td>\n      <td>low work intens</td>\n      <td>nation poverti line</td>\n      <td>social exclus</td>\n      <td>incom poverti</td>\n      <td>combat child poverti</td>\n      <td>children poverti</td>\n      <td>address child poverti</td>\n      <td>...</td>\n      <td>NaN</td>\n      <td>NaN</td>\n      <td>NaN</td>\n      <td>NaN</td>\n      <td>NaN</td>\n      <td>NaN</td>\n      <td>NaN</td>\n      <td>NaN</td>\n      <td>NaN</td>\n      <td>NaN</td>\n    </tr>\n    <tr>\n      <th>4</th>\n      <td>SDG 1</td>\n      <td>1.3</td>\n      <td>social risk</td>\n      <td>social protect</td>\n      <td>right person disabl</td>\n      <td>right unemploy person</td>\n      <td>right older person</td>\n      <td>right pregnant women</td>\n      <td>right work-injuri victim</td>\n      <td>right poor</td>\n      <td>...</td>\n      <td>NaN</td>\n      <td>NaN</td>\n      <td>NaN</td>\n      <td>NaN</td>\n      <td>NaN</td>\n      <td>NaN</td>\n      <td>NaN</td>\n      <td>NaN</td>\n      <td>NaN</td>\n      <td>NaN</td>\n    </tr>\n    <tr>\n      <th>5</th>\n      <td>SDG 1</td>\n      <td>1.4</td>\n      <td>tenur right</td>\n      <td>equal right econom resourc</td>\n      <td>control land</td>\n      <td>access inherit</td>\n      <td>right land</td>\n      <td>access properti</td>\n      <td>access natur resourc</td>\n      <td>access new technolog</td>\n      <td>...</td>\n      <td>NaN</td>\n      <td>NaN</td>\n      <td>NaN</td>\n      <td>NaN</td>\n      <td>NaN</td>\n      <td>NaN</td>\n      <td>NaN</td>\n      <td>NaN</td>\n      <td>NaN</td>\n      <td>NaN</td>\n    </tr>\n  </tbody>\n</table>\n<p>5 rows × 59 columns</p>\n</div>"
     },
     "metadata": {},
     "execution_count": 2
    }
   ],
   "source": [
    "with rsrc.path(\"keywords\", \"keywords_expanded_manually_reordered.xlsx\") as res_path:\n",
    "    keywords_path = res_path\n",
    "\n",
    "keywords = pd.read_excel(res_path, index_col=0)\n",
    "\n",
    "stop_words = set(stopwords.words('english'))-set(['no','not','nor'])\n",
    "stop_words.remove('all')\n",
    "\n",
    "keywd_cols = sorted(set(keywords.columns.to_list()) - set(['Goal', 'Target']))\n",
    "\n",
    "def stem_text(my_keyword):\n",
    "    my_keyword = plmp.preprocess_text(str(my_keyword), stop_words)\n",
    "    return my_keyword\n",
    "\n",
    "applymap_time = time.time()\n",
    "keywords[keywd_cols]= keywords[keywd_cols].applymap(stem_text, na_action='ignore')\n",
    "labels = keywords[['Goal', 'Target']]\n",
    "print(time.time()-applymap_time)\n",
    "\n",
    "# apply_time = time.time()\n",
    "# keywords[keywd_cols]= keywords[keywd_cols].apply(plmp.preprocess_text, args=(stop_words,), axis=0)\n",
    "\n",
    "\n",
    "keywords.head()\n",
    "\n"
   ]
  },
  {
   "cell_type": "code",
   "execution_count": 3,
   "metadata": {},
   "outputs": [
    {
     "output_type": "execute_result",
     "data": {
      "text/plain": [
       "        Goal Target\n",
       "Index              \n",
       "1      SDG 1    1.0\n",
       "2      SDG 1    1.1\n",
       "3      SDG 1    1.2\n",
       "4      SDG 1    1.3\n",
       "5      SDG 1    1.4"
      ],
      "text/html": "<div>\n<style scoped>\n    .dataframe tbody tr th:only-of-type {\n        vertical-align: middle;\n    }\n\n    .dataframe tbody tr th {\n        vertical-align: top;\n    }\n\n    .dataframe thead th {\n        text-align: right;\n    }\n</style>\n<table border=\"1\" class=\"dataframe\">\n  <thead>\n    <tr style=\"text-align: right;\">\n      <th></th>\n      <th>Goal</th>\n      <th>Target</th>\n    </tr>\n    <tr>\n      <th>Index</th>\n      <th></th>\n      <th></th>\n    </tr>\n  </thead>\n  <tbody>\n    <tr>\n      <th>1</th>\n      <td>SDG 1</td>\n      <td>1.0</td>\n    </tr>\n    <tr>\n      <th>2</th>\n      <td>SDG 1</td>\n      <td>1.1</td>\n    </tr>\n    <tr>\n      <th>3</th>\n      <td>SDG 1</td>\n      <td>1.2</td>\n    </tr>\n    <tr>\n      <th>4</th>\n      <td>SDG 1</td>\n      <td>1.3</td>\n    </tr>\n    <tr>\n      <th>5</th>\n      <td>SDG 1</td>\n      <td>1.4</td>\n    </tr>\n  </tbody>\n</table>\n</div>"
     },
     "metadata": {},
     "execution_count": 3
    }
   ],
   "source": [
    "labels.head()"
   ]
  },
  {
   "cell_type": "code",
   "execution_count": 4,
   "metadata": {},
   "outputs": [
    {
     "output_type": "stream",
     "name": "stdout",
     "text": [
      "[PosixPath('input/52019DC0640_stemmed/CELEX_52019DC0640_EN_TXT_html_stemmed.txt'), PosixPath('input/52019DC0640_stemmed/cellar_b828d165-1c22-11ea-8c1f-01aa75ed71a1_0002_01_DOC_1_doc_stemmed.txt'), PosixPath('input/52019DC0640_stemmed/cellar_b828d165-1c22-11ea-8c1f-01aa75ed71a1_0002_01_DOC_2_doc_stemmed.txt'), PosixPath('input/52019DC0640_stemmed/cellar_b828d165-1c22-11ea-8c1f-01aa75ed71a1_0002_02_DOC_1_pdf_stemmed.txt'), PosixPath('input/52019DC0640_stemmed/cellar_b828d165-1c22-11ea-8c1f-01aa75ed71a1_0002_02_DOC_2_pdf_stemmed.txt')]\n"
     ]
    }
   ],
   "source": [
    "#Load text\n",
    "\n",
    "input = pathlib.Path('input/52019DC0640_stemmed')\n",
    "\n",
    "files = sorted(input.glob('**/*.*'))\n",
    "\n",
    "print(files)\n",
    "\n",
    "text_ls = {}\n",
    "\n",
    "for _file in files:\n",
    "    with open(_file, 'r') as _f:\n",
    "        text_ls[_file.stem]=_f.read()"
   ]
  },
  {
   "cell_type": "code",
   "execution_count": 5,
   "metadata": {},
   "outputs": [],
   "source": [
    "text_df = []\n",
    "\n",
    "texts = list(text_ls.values())\n",
    "\n",
    "keyword_matrix = keywords[keywd_cols]#.to_numpy()\n",
    "\n",
    "count_matrix = keyword_matrix.applymap(lambda keyword: texts[0].count(keyword), na_action='ignore')#.to_numpy()\n",
    "\n",
    "detected_keywords = keyword_matrix[count_matrix > 0]\n",
    "count_matrix.replace(0, np.nan, inplace=True)\n",
    "\n",
    "\n",
    "# labels = keywords['Target_keys'].iloc[:,0]\n",
    "\n",
    "# counted_keywords = count_matrix.mask(count_matrix > 0, keyword_matrix)\n",
    "# counted_keywords = counted_keywords.apply(lambda keyword : ', '.join(keyword.astype(str)))\n",
    "# count_matrix = count_matrix.replace(0, '')\n",
    "# counted_keywords.to_excel('key_col.xlsx')\n",
    "# count_matrix.to_excel('mask.xlsx')"
   ]
  },
  {
   "cell_type": "code",
   "execution_count": 6,
   "metadata": {},
   "outputs": [
    {
     "output_type": "execute_result",
     "data": {
      "text/plain": [
       "                                0                             1   \\\n",
       "Index                                                              \n",
       "1          sustain develop goal 1                         sdg 1    \n",
       "2             intern poverti line                extrem poverti    \n",
       "3       sever materi depriv peopl               low work intens    \n",
       "4                     social risk                social protect    \n",
       "5                     tenur right    equal right econom resourc    \n",
       "\n",
       "                          2                        3                     4   \\\n",
       "Index                                                                         \n",
       "1               end poverti            reduc poverti         fight poverti    \n",
       "2            abject poverti          absolut poverti              destitut    \n",
       "3       nation poverti line            social exclus         incom poverti    \n",
       "4       right person disabl    right unemploy person    right older person    \n",
       "5              control land           access inherit            right land    \n",
       "\n",
       "                           5                           6   \\\n",
       "Index                                                       \n",
       "1         end global poverti              poverti reduct    \n",
       "2                     penuri                sever depriv    \n",
       "3       combat child poverti            children poverti    \n",
       "4       right pregnant women    right work-injuri victim    \n",
       "5            access properti        access natur resourc    \n",
       "\n",
       "                                           7                        8   \\\n",
       "Index                                                                    \n",
       "1                             poverti depriv          combact poverti    \n",
       "2       help peopl suffer food materi depriv              extrem poor    \n",
       "3                      address child poverti             risk poverti    \n",
       "4                                 right poor             right vulner    \n",
       "5                       access new technolog    access financi servic    \n",
       "\n",
       "                          9   ...   47   48   49   50   51   52   53   54  \\\n",
       "Index                         ...                                           \n",
       "1              erad poverti   ...  NaN  NaN  NaN  NaN  NaN  NaN  NaN  NaN   \n",
       "2             incid poverti   ...  NaN  NaN  NaN  NaN  NaN  NaN  NaN  NaN   \n",
       "3       fight child poverti   ...  NaN  NaN  NaN  NaN  NaN  NaN  NaN  NaN   \n",
       "4              hire subsidi   ...  NaN  NaN  NaN  NaN  NaN  NaN  NaN  NaN   \n",
       "5           access microfin   ...  NaN  NaN  NaN  NaN  NaN  NaN  NaN  NaN   \n",
       "\n",
       "        55   56  \n",
       "Index            \n",
       "1      NaN  NaN  \n",
       "2      NaN  NaN  \n",
       "3      NaN  NaN  \n",
       "4      NaN  NaN  \n",
       "5      NaN  NaN  \n",
       "\n",
       "[5 rows x 57 columns]"
      ],
      "text/html": "<div>\n<style scoped>\n    .dataframe tbody tr th:only-of-type {\n        vertical-align: middle;\n    }\n\n    .dataframe tbody tr th {\n        vertical-align: top;\n    }\n\n    .dataframe thead th {\n        text-align: right;\n    }\n</style>\n<table border=\"1\" class=\"dataframe\">\n  <thead>\n    <tr style=\"text-align: right;\">\n      <th></th>\n      <th>0</th>\n      <th>1</th>\n      <th>2</th>\n      <th>3</th>\n      <th>4</th>\n      <th>5</th>\n      <th>6</th>\n      <th>7</th>\n      <th>8</th>\n      <th>9</th>\n      <th>...</th>\n      <th>47</th>\n      <th>48</th>\n      <th>49</th>\n      <th>50</th>\n      <th>51</th>\n      <th>52</th>\n      <th>53</th>\n      <th>54</th>\n      <th>55</th>\n      <th>56</th>\n    </tr>\n    <tr>\n      <th>Index</th>\n      <th></th>\n      <th></th>\n      <th></th>\n      <th></th>\n      <th></th>\n      <th></th>\n      <th></th>\n      <th></th>\n      <th></th>\n      <th></th>\n      <th></th>\n      <th></th>\n      <th></th>\n      <th></th>\n      <th></th>\n      <th></th>\n      <th></th>\n      <th></th>\n      <th></th>\n      <th></th>\n      <th></th>\n    </tr>\n  </thead>\n  <tbody>\n    <tr>\n      <th>1</th>\n      <td>sustain develop goal 1</td>\n      <td>sdg 1</td>\n      <td>end poverti</td>\n      <td>reduc poverti</td>\n      <td>fight poverti</td>\n      <td>end global poverti</td>\n      <td>poverti reduct</td>\n      <td>poverti depriv</td>\n      <td>combact poverti</td>\n      <td>erad poverti</td>\n      <td>...</td>\n      <td>NaN</td>\n      <td>NaN</td>\n      <td>NaN</td>\n      <td>NaN</td>\n      <td>NaN</td>\n      <td>NaN</td>\n      <td>NaN</td>\n      <td>NaN</td>\n      <td>NaN</td>\n      <td>NaN</td>\n    </tr>\n    <tr>\n      <th>2</th>\n      <td>intern poverti line</td>\n      <td>extrem poverti</td>\n      <td>abject poverti</td>\n      <td>absolut poverti</td>\n      <td>destitut</td>\n      <td>penuri</td>\n      <td>sever depriv</td>\n      <td>help peopl suffer food materi depriv</td>\n      <td>extrem poor</td>\n      <td>incid poverti</td>\n      <td>...</td>\n      <td>NaN</td>\n      <td>NaN</td>\n      <td>NaN</td>\n      <td>NaN</td>\n      <td>NaN</td>\n      <td>NaN</td>\n      <td>NaN</td>\n      <td>NaN</td>\n      <td>NaN</td>\n      <td>NaN</td>\n    </tr>\n    <tr>\n      <th>3</th>\n      <td>sever materi depriv peopl</td>\n      <td>low work intens</td>\n      <td>nation poverti line</td>\n      <td>social exclus</td>\n      <td>incom poverti</td>\n      <td>combat child poverti</td>\n      <td>children poverti</td>\n      <td>address child poverti</td>\n      <td>risk poverti</td>\n      <td>fight child poverti</td>\n      <td>...</td>\n      <td>NaN</td>\n      <td>NaN</td>\n      <td>NaN</td>\n      <td>NaN</td>\n      <td>NaN</td>\n      <td>NaN</td>\n      <td>NaN</td>\n      <td>NaN</td>\n      <td>NaN</td>\n      <td>NaN</td>\n    </tr>\n    <tr>\n      <th>4</th>\n      <td>social risk</td>\n      <td>social protect</td>\n      <td>right person disabl</td>\n      <td>right unemploy person</td>\n      <td>right older person</td>\n      <td>right pregnant women</td>\n      <td>right work-injuri victim</td>\n      <td>right poor</td>\n      <td>right vulner</td>\n      <td>hire subsidi</td>\n      <td>...</td>\n      <td>NaN</td>\n      <td>NaN</td>\n      <td>NaN</td>\n      <td>NaN</td>\n      <td>NaN</td>\n      <td>NaN</td>\n      <td>NaN</td>\n      <td>NaN</td>\n      <td>NaN</td>\n      <td>NaN</td>\n    </tr>\n    <tr>\n      <th>5</th>\n      <td>tenur right</td>\n      <td>equal right econom resourc</td>\n      <td>control land</td>\n      <td>access inherit</td>\n      <td>right land</td>\n      <td>access properti</td>\n      <td>access natur resourc</td>\n      <td>access new technolog</td>\n      <td>access financi servic</td>\n      <td>access microfin</td>\n      <td>...</td>\n      <td>NaN</td>\n      <td>NaN</td>\n      <td>NaN</td>\n      <td>NaN</td>\n      <td>NaN</td>\n      <td>NaN</td>\n      <td>NaN</td>\n      <td>NaN</td>\n      <td>NaN</td>\n      <td>NaN</td>\n    </tr>\n  </tbody>\n</table>\n<p>5 rows × 57 columns</p>\n</div>"
     },
     "metadata": {},
     "execution_count": 6
    }
   ],
   "source": [
    "keyword_matrix.head()"
   ]
  },
  {
   "cell_type": "code",
   "execution_count": 7,
   "metadata": {},
   "outputs": [
    {
     "output_type": "execute_result",
     "data": {
      "text/plain": [
       "        Goal Target   0   1   2   3   4   5   6   7  ...  47  48  49  50  51  \\\n",
       "Index                                                ...                       \n",
       "1      SDG 1    1.0 NaN NaN NaN NaN NaN NaN NaN NaN  ... NaN NaN NaN NaN NaN   \n",
       "2      SDG 1    1.1 NaN NaN NaN NaN NaN NaN NaN NaN  ... NaN NaN NaN NaN NaN   \n",
       "3      SDG 1    1.2 NaN NaN NaN NaN NaN NaN NaN NaN  ... NaN NaN NaN NaN NaN   \n",
       "4      SDG 1    1.3 NaN NaN NaN NaN NaN NaN NaN NaN  ... NaN NaN NaN NaN NaN   \n",
       "5      SDG 1    1.4 NaN NaN NaN NaN NaN NaN NaN NaN  ... NaN NaN NaN NaN NaN   \n",
       "\n",
       "       52  53  54  55  56  \n",
       "Index                      \n",
       "1     NaN NaN NaN NaN NaN  \n",
       "2     NaN NaN NaN NaN NaN  \n",
       "3     NaN NaN NaN NaN NaN  \n",
       "4     NaN NaN NaN NaN NaN  \n",
       "5     NaN NaN NaN NaN NaN  \n",
       "\n",
       "[5 rows x 59 columns]"
      ],
      "text/html": "<div>\n<style scoped>\n    .dataframe tbody tr th:only-of-type {\n        vertical-align: middle;\n    }\n\n    .dataframe tbody tr th {\n        vertical-align: top;\n    }\n\n    .dataframe thead th {\n        text-align: right;\n    }\n</style>\n<table border=\"1\" class=\"dataframe\">\n  <thead>\n    <tr style=\"text-align: right;\">\n      <th></th>\n      <th>Goal</th>\n      <th>Target</th>\n      <th>0</th>\n      <th>1</th>\n      <th>2</th>\n      <th>3</th>\n      <th>4</th>\n      <th>5</th>\n      <th>6</th>\n      <th>7</th>\n      <th>...</th>\n      <th>47</th>\n      <th>48</th>\n      <th>49</th>\n      <th>50</th>\n      <th>51</th>\n      <th>52</th>\n      <th>53</th>\n      <th>54</th>\n      <th>55</th>\n      <th>56</th>\n    </tr>\n    <tr>\n      <th>Index</th>\n      <th></th>\n      <th></th>\n      <th></th>\n      <th></th>\n      <th></th>\n      <th></th>\n      <th></th>\n      <th></th>\n      <th></th>\n      <th></th>\n      <th></th>\n      <th></th>\n      <th></th>\n      <th></th>\n      <th></th>\n      <th></th>\n      <th></th>\n      <th></th>\n      <th></th>\n      <th></th>\n      <th></th>\n    </tr>\n  </thead>\n  <tbody>\n    <tr>\n      <th>1</th>\n      <td>SDG 1</td>\n      <td>1.0</td>\n      <td>NaN</td>\n      <td>NaN</td>\n      <td>NaN</td>\n      <td>NaN</td>\n      <td>NaN</td>\n      <td>NaN</td>\n      <td>NaN</td>\n      <td>NaN</td>\n      <td>...</td>\n      <td>NaN</td>\n      <td>NaN</td>\n      <td>NaN</td>\n      <td>NaN</td>\n      <td>NaN</td>\n      <td>NaN</td>\n      <td>NaN</td>\n      <td>NaN</td>\n      <td>NaN</td>\n      <td>NaN</td>\n    </tr>\n    <tr>\n      <th>2</th>\n      <td>SDG 1</td>\n      <td>1.1</td>\n      <td>NaN</td>\n      <td>NaN</td>\n      <td>NaN</td>\n      <td>NaN</td>\n      <td>NaN</td>\n      <td>NaN</td>\n      <td>NaN</td>\n      <td>NaN</td>\n      <td>...</td>\n      <td>NaN</td>\n      <td>NaN</td>\n      <td>NaN</td>\n      <td>NaN</td>\n      <td>NaN</td>\n      <td>NaN</td>\n      <td>NaN</td>\n      <td>NaN</td>\n      <td>NaN</td>\n      <td>NaN</td>\n    </tr>\n    <tr>\n      <th>3</th>\n      <td>SDG 1</td>\n      <td>1.2</td>\n      <td>NaN</td>\n      <td>NaN</td>\n      <td>NaN</td>\n      <td>NaN</td>\n      <td>NaN</td>\n      <td>NaN</td>\n      <td>NaN</td>\n      <td>NaN</td>\n      <td>...</td>\n      <td>NaN</td>\n      <td>NaN</td>\n      <td>NaN</td>\n      <td>NaN</td>\n      <td>NaN</td>\n      <td>NaN</td>\n      <td>NaN</td>\n      <td>NaN</td>\n      <td>NaN</td>\n      <td>NaN</td>\n    </tr>\n    <tr>\n      <th>4</th>\n      <td>SDG 1</td>\n      <td>1.3</td>\n      <td>NaN</td>\n      <td>NaN</td>\n      <td>NaN</td>\n      <td>NaN</td>\n      <td>NaN</td>\n      <td>NaN</td>\n      <td>NaN</td>\n      <td>NaN</td>\n      <td>...</td>\n      <td>NaN</td>\n      <td>NaN</td>\n      <td>NaN</td>\n      <td>NaN</td>\n      <td>NaN</td>\n      <td>NaN</td>\n      <td>NaN</td>\n      <td>NaN</td>\n      <td>NaN</td>\n      <td>NaN</td>\n    </tr>\n    <tr>\n      <th>5</th>\n      <td>SDG 1</td>\n      <td>1.4</td>\n      <td>NaN</td>\n      <td>NaN</td>\n      <td>NaN</td>\n      <td>NaN</td>\n      <td>NaN</td>\n      <td>NaN</td>\n      <td>NaN</td>\n      <td>NaN</td>\n      <td>...</td>\n      <td>NaN</td>\n      <td>NaN</td>\n      <td>NaN</td>\n      <td>NaN</td>\n      <td>NaN</td>\n      <td>NaN</td>\n      <td>NaN</td>\n      <td>NaN</td>\n      <td>NaN</td>\n      <td>NaN</td>\n    </tr>\n  </tbody>\n</table>\n<p>5 rows × 59 columns</p>\n</div>"
     },
     "metadata": {},
     "execution_count": 7
    }
   ],
   "source": [
    "count_matrix=pd.merge(labels, count_matrix, left_index=True, right_index=True)\n",
    "count_matrix.head()"
   ]
  },
  {
   "cell_type": "code",
   "execution_count": 13,
   "metadata": {},
   "outputs": [],
   "source": [
    "def join_str(numpy_array):\n",
    "    numpy_array=numpy_array[~np.isnan(numpy_array)]\n",
    "    list_of_keys= np.char.join(', ', numpy_array)\n",
    "    return type(numpy_array)"
   ]
  },
  {
   "cell_type": "code",
   "execution_count": 14,
   "metadata": {},
   "outputs": [
    {
     "output_type": "error",
     "ename": "ValueError",
     "evalue": "invalid __array_struct__",
     "traceback": [
      "\u001b[0;31m---------------------------------------------------------------------------\u001b[0m",
      "\u001b[0;31mValueError\u001b[0m                                Traceback (most recent call last)",
      "\u001b[0;32m<ipython-input-14-3895c04b8589>\u001b[0m in \u001b[0;36m<module>\u001b[0;34m\u001b[0m\n\u001b[0;32m----> 1\u001b[0;31m \u001b[0mfeh\u001b[0m\u001b[0;34m=\u001b[0m\u001b[0mdetected_keywords\u001b[0m\u001b[0;34m[\u001b[0m\u001b[0mkeywd_cols\u001b[0m\u001b[0;34m]\u001b[0m\u001b[0;34m.\u001b[0m\u001b[0mapply\u001b[0m\u001b[0;34m(\u001b[0m\u001b[0mjoin_str\u001b[0m\u001b[0;34m,\u001b[0m \u001b[0mraw\u001b[0m\u001b[0;34m=\u001b[0m\u001b[0;32mTrue\u001b[0m\u001b[0;34m)\u001b[0m\u001b[0;34m\u001b[0m\u001b[0;34m\u001b[0m\u001b[0m\n\u001b[0m",
      "\u001b[0;32m~/miniconda3/envs/polmap/lib/python3.9/site-packages/pandas/core/frame.py\u001b[0m in \u001b[0;36mapply\u001b[0;34m(self, func, axis, raw, result_type, args, **kwds)\u001b[0m\n\u001b[1;32m   7763\u001b[0m             \u001b[0mkwds\u001b[0m\u001b[0;34m=\u001b[0m\u001b[0mkwds\u001b[0m\u001b[0;34m,\u001b[0m\u001b[0;34m\u001b[0m\u001b[0;34m\u001b[0m\u001b[0m\n\u001b[1;32m   7764\u001b[0m         )\n\u001b[0;32m-> 7765\u001b[0;31m         \u001b[0;32mreturn\u001b[0m \u001b[0mop\u001b[0m\u001b[0;34m.\u001b[0m\u001b[0mget_result\u001b[0m\u001b[0;34m(\u001b[0m\u001b[0;34m)\u001b[0m\u001b[0;34m\u001b[0m\u001b[0;34m\u001b[0m\u001b[0m\n\u001b[0m\u001b[1;32m   7766\u001b[0m \u001b[0;34m\u001b[0m\u001b[0m\n\u001b[1;32m   7767\u001b[0m     \u001b[0;32mdef\u001b[0m \u001b[0mapplymap\u001b[0m\u001b[0;34m(\u001b[0m\u001b[0mself\u001b[0m\u001b[0;34m,\u001b[0m \u001b[0mfunc\u001b[0m\u001b[0;34m,\u001b[0m \u001b[0mna_action\u001b[0m\u001b[0;34m:\u001b[0m \u001b[0mOptional\u001b[0m\u001b[0;34m[\u001b[0m\u001b[0mstr\u001b[0m\u001b[0;34m]\u001b[0m \u001b[0;34m=\u001b[0m \u001b[0;32mNone\u001b[0m\u001b[0;34m)\u001b[0m \u001b[0;34m->\u001b[0m \u001b[0mDataFrame\u001b[0m\u001b[0;34m:\u001b[0m\u001b[0;34m\u001b[0m\u001b[0;34m\u001b[0m\u001b[0m\n",
      "\u001b[0;32m~/miniconda3/envs/polmap/lib/python3.9/site-packages/pandas/core/apply.py\u001b[0m in \u001b[0;36mget_result\u001b[0;34m(self)\u001b[0m\n\u001b[1;32m    181\u001b[0m         \u001b[0;31m# raw\u001b[0m\u001b[0;34m\u001b[0m\u001b[0;34m\u001b[0m\u001b[0;34m\u001b[0m\u001b[0m\n\u001b[1;32m    182\u001b[0m         \u001b[0;32melif\u001b[0m \u001b[0mself\u001b[0m\u001b[0;34m.\u001b[0m\u001b[0mraw\u001b[0m\u001b[0;34m:\u001b[0m\u001b[0;34m\u001b[0m\u001b[0;34m\u001b[0m\u001b[0m\n\u001b[0;32m--> 183\u001b[0;31m             \u001b[0;32mreturn\u001b[0m \u001b[0mself\u001b[0m\u001b[0;34m.\u001b[0m\u001b[0mapply_raw\u001b[0m\u001b[0;34m(\u001b[0m\u001b[0;34m)\u001b[0m\u001b[0;34m\u001b[0m\u001b[0;34m\u001b[0m\u001b[0m\n\u001b[0m\u001b[1;32m    184\u001b[0m \u001b[0;34m\u001b[0m\u001b[0m\n\u001b[1;32m    185\u001b[0m         \u001b[0;32mreturn\u001b[0m \u001b[0mself\u001b[0m\u001b[0;34m.\u001b[0m\u001b[0mapply_standard\u001b[0m\u001b[0;34m(\u001b[0m\u001b[0;34m)\u001b[0m\u001b[0;34m\u001b[0m\u001b[0;34m\u001b[0m\u001b[0m\n",
      "\u001b[0;32m~/miniconda3/envs/polmap/lib/python3.9/site-packages/pandas/core/apply.py\u001b[0m in \u001b[0;36mapply_raw\u001b[0;34m(self)\u001b[0m\n\u001b[1;32m    238\u001b[0m             \u001b[0;32mreturn\u001b[0m \u001b[0mwrapper\u001b[0m\u001b[0;34m\u001b[0m\u001b[0;34m\u001b[0m\u001b[0m\n\u001b[1;32m    239\u001b[0m \u001b[0;34m\u001b[0m\u001b[0m\n\u001b[0;32m--> 240\u001b[0;31m         \u001b[0mresult\u001b[0m \u001b[0;34m=\u001b[0m \u001b[0mnp\u001b[0m\u001b[0;34m.\u001b[0m\u001b[0mapply_along_axis\u001b[0m\u001b[0;34m(\u001b[0m\u001b[0mwrap_function\u001b[0m\u001b[0;34m(\u001b[0m\u001b[0mself\u001b[0m\u001b[0;34m.\u001b[0m\u001b[0mf\u001b[0m\u001b[0;34m)\u001b[0m\u001b[0;34m,\u001b[0m \u001b[0mself\u001b[0m\u001b[0;34m.\u001b[0m\u001b[0maxis\u001b[0m\u001b[0;34m,\u001b[0m \u001b[0mself\u001b[0m\u001b[0;34m.\u001b[0m\u001b[0mvalues\u001b[0m\u001b[0;34m)\u001b[0m\u001b[0;34m\u001b[0m\u001b[0;34m\u001b[0m\u001b[0m\n\u001b[0m\u001b[1;32m    241\u001b[0m \u001b[0;34m\u001b[0m\u001b[0m\n\u001b[1;32m    242\u001b[0m         \u001b[0;31m# TODO: mixed type case\u001b[0m\u001b[0;34m\u001b[0m\u001b[0;34m\u001b[0m\u001b[0;34m\u001b[0m\u001b[0m\n",
      "\u001b[0;32m<__array_function__ internals>\u001b[0m in \u001b[0;36mapply_along_axis\u001b[0;34m(*args, **kwargs)\u001b[0m\n",
      "\u001b[0;32m~/miniconda3/envs/polmap/lib/python3.9/site-packages/numpy/lib/shape_base.py\u001b[0m in \u001b[0;36mapply_along_axis\u001b[0;34m(func1d, axis, arr, *args, **kwargs)\u001b[0m\n\u001b[1;32m    377\u001b[0m             \u001b[0;34m'Cannot apply_along_axis when any iteration dimensions are 0'\u001b[0m\u001b[0;34m\u001b[0m\u001b[0;34m\u001b[0m\u001b[0m\n\u001b[1;32m    378\u001b[0m         ) from None\n\u001b[0;32m--> 379\u001b[0;31m     \u001b[0mres\u001b[0m \u001b[0;34m=\u001b[0m \u001b[0masanyarray\u001b[0m\u001b[0;34m(\u001b[0m\u001b[0mfunc1d\u001b[0m\u001b[0;34m(\u001b[0m\u001b[0minarr_view\u001b[0m\u001b[0;34m[\u001b[0m\u001b[0mind0\u001b[0m\u001b[0;34m]\u001b[0m\u001b[0;34m,\u001b[0m \u001b[0;34m*\u001b[0m\u001b[0margs\u001b[0m\u001b[0;34m,\u001b[0m \u001b[0;34m**\u001b[0m\u001b[0mkwargs\u001b[0m\u001b[0;34m)\u001b[0m\u001b[0;34m)\u001b[0m\u001b[0;34m\u001b[0m\u001b[0;34m\u001b[0m\u001b[0m\n\u001b[0m\u001b[1;32m    380\u001b[0m \u001b[0;34m\u001b[0m\u001b[0m\n\u001b[1;32m    381\u001b[0m     \u001b[0;31m# build a buffer for storing evaluations of func1d.\u001b[0m\u001b[0;34m\u001b[0m\u001b[0;34m\u001b[0m\u001b[0;34m\u001b[0m\u001b[0m\n",
      "\u001b[0;32m~/miniconda3/envs/polmap/lib/python3.9/site-packages/numpy/core/_asarray.py\u001b[0m in \u001b[0;36masanyarray\u001b[0;34m(a, dtype, order)\u001b[0m\n\u001b[1;32m    134\u001b[0m \u001b[0;34m\u001b[0m\u001b[0m\n\u001b[1;32m    135\u001b[0m     \"\"\"\n\u001b[0;32m--> 136\u001b[0;31m     \u001b[0;32mreturn\u001b[0m \u001b[0marray\u001b[0m\u001b[0;34m(\u001b[0m\u001b[0ma\u001b[0m\u001b[0;34m,\u001b[0m \u001b[0mdtype\u001b[0m\u001b[0;34m,\u001b[0m \u001b[0mcopy\u001b[0m\u001b[0;34m=\u001b[0m\u001b[0;32mFalse\u001b[0m\u001b[0;34m,\u001b[0m \u001b[0morder\u001b[0m\u001b[0;34m=\u001b[0m\u001b[0morder\u001b[0m\u001b[0;34m,\u001b[0m \u001b[0msubok\u001b[0m\u001b[0;34m=\u001b[0m\u001b[0;32mTrue\u001b[0m\u001b[0;34m)\u001b[0m\u001b[0;34m\u001b[0m\u001b[0;34m\u001b[0m\u001b[0m\n\u001b[0m\u001b[1;32m    137\u001b[0m \u001b[0;34m\u001b[0m\u001b[0m\n\u001b[1;32m    138\u001b[0m \u001b[0;34m\u001b[0m\u001b[0m\n",
      "\u001b[0;31mValueError\u001b[0m: invalid __array_struct__"
     ]
    }
   ],
   "source": [
    "feh=detected_keywords[keywd_cols].apply(join_str, raw=True)"
   ]
  },
  {
   "cell_type": "code",
   "execution_count": null,
   "metadata": {},
   "outputs": [],
   "source": []
  },
  {
   "cell_type": "code",
   "execution_count": null,
   "metadata": {},
   "outputs": [],
   "source": [
    "df = pd.read_excel('output/The_EU_Green_Deal_/output/6-results/results_.xlsx', sheet_name='priorities', index_col=0)\n",
    "\n",
    "pp_colors={'Human Development':'#FECA4D',\n",
    "'Growth Jobs':'#FABE13',\n",
    "'Green Deal':'#73936F',\n",
    "'Partnership':'#1A6835',\n",
    "'Digital':'#72ABDC',\n",
    "'Governance':'#E2809B',\n",
    "'Digitalisation':'#4D9CD5',\n",
    "'Migration':'#DE6189'\n",
    "}\n",
    "\n",
    "df.rename(columns = {'priority':'name', 'Count':'size'}, inplace = True)\n",
    "df['goal_color']=df['name'].map(pp_colors)\n",
    "df.to_dict('index')\n"
   ]
  },
  {
   "cell_type": "code",
   "execution_count": null,
   "metadata": {},
   "outputs": [],
   "source": [
    "#Expand keywords\n",
    "\n",
    "input = 'keywords/keywords_copia.xlsx'\n",
    "keywords = pd.ExcelFile(input)\n",
    "filename = pathlib.Path(input).stem\n",
    "timestamp =  dt.datetime.now().isoformat(timespec='seconds').replace(':','').replace('T','_T')\n",
    "filename += f'_{timestamp}'\n",
    "\n",
    "output = f'{filename}.xlsx'\n",
    "\n",
    "#sheets = a list of sheets where keywords are\n",
    "#keys_df = [keywords.parse(sheet) for sheet in sheets]\n",
    "keys_dfs = [keywords.parse('Target_keys'), keywords.parse('Goal_keys'), keywords.parse('MOI')]\n",
    "\n",
    "for index, df in enumerate(keys_dfs):\n",
    "    df['Keys']=df['Keys'].apply(lambda keywords: re.sub(';$', '', keywords))\n",
    "    df['Keys']=df['Keys'].apply(lambda keywords: re.sub(';;', ';', keywords))\n",
    "    ex_df=df['Keys'].str.split(';', expand=True)\n",
    "    lab_df=df.drop(columns='Keys')\n",
    "    keys_dfs[index]=lab_df.join(ex_df)\n",
    "    #df['Keys']=df['Keys'].apply(lambda keywords: re.sub(r'[^a-zA-Z0-9; -.]+', ';', keywords))\n",
    "\n",
    "ex_df.head()\n",
    "\n",
    "keys_dfs.append(keywords.parse('developing_countries'))\n",
    "\n",
    "target_df, goal_df, devco_df, devco_names = keys_dfs"
   ]
  },
  {
   "cell_type": "code",
   "execution_count": null,
   "metadata": {},
   "outputs": [],
   "source": [
    "target_df.head()"
   ]
  },
  {
   "cell_type": "code",
   "execution_count": null,
   "metadata": {},
   "outputs": [],
   "source": [
    "ex_target_df=target_df['Keys'].str.split(';', expand=True)\n",
    "lab_target_df=target_df.drop(columns='Keys')\n",
    "lab_target_df.head()"
   ]
  },
  {
   "cell_type": "code",
   "execution_count": null,
   "metadata": {},
   "outputs": [],
   "source": [
    "with pd.ExcelWriter(output, engine='xlsxwriter') as writer: # 'keywords_copy_for_transaltion.xlsx'\n",
    "    target_df.to_excel(writer, sheet_name='Target_keys')\n",
    "    goal_df.to_excel(writer, sheet_name='Goal_keys')\n",
    "    devco_df.to_excel(writer, sheet_name='MOI')\n",
    "    devco_names.to_excel(writer, sheet_name='developing_countries')"
   ]
  },
  {
   "cell_type": "code",
   "execution_count": null,
   "metadata": {},
   "outputs": [],
   "source": [
    "#Load expand keywords\n",
    "\n",
    "input = 'keywords/keywords_expanded.xlsx'\n",
    "\n",
    "keywords = pd.ExcelFile(input)\n",
    "\n",
    "sheets = keywords.sheet_names\n",
    "print(f\"Reading keywords dataset in {input}.\\nSheets: {', '.join(sheets)}\")\n",
    "\n",
    "keywords = {sheet : keywords.parse(sheet, index_col=0) for sheet in sheets}\n",
    "keywords_sheets = ['Target_keys', 'Goal_keys', 'MOI']\n",
    "\n",
    "#remove all from stop_words to keep in keywords\n",
    "stop_words = set(stopwords.words('english'))-set(['no','not','nor'])\n",
    "stop_words.remove('all')\n",
    "\n",
    "for sheet in keywords_sheets:\n",
    "    # keywords[sheet]['Keys'] = keywords[sheet]['Keys'].apply(lambda keywords: re.sub(';$', '', keywords))\n",
    "    # keywords[sheet]['Keys'] = keywords[sheet]['Keys'].apply(lambda keywords: [plmp.preprocess_text(keyword, stop_words) for keyword in keywords.split(';')])\n",
    "    keywords[sheet].iloc[:,2:]=keywords[sheet].iloc[:,2:].applymap(lambda keyword: plmp.preprocess_text(str(keyword), stop_words))"
   ]
  },
  {
   "cell_type": "code",
   "execution_count": null,
   "metadata": {},
   "outputs": [],
   "source": [
    "keywords['Target_keys'].head()"
   ]
  },
  {
   "cell_type": "code",
   "execution_count": null,
   "metadata": {},
   "outputs": [],
   "source": [
    "#Load text\n",
    "\n",
    "input = pathlib.Path('input/52019DC0640_stemmed')\n",
    "\n",
    "files = sorted(input.glob('**/*.*'))\n",
    "\n",
    "print(files)\n",
    "\n",
    "text_ls = {}\n",
    "\n",
    "for _file in files:\n",
    "    with open(_file, 'r') as _f:\n",
    "        text_ls[_file.stem]=_f.read()"
   ]
  },
  {
   "cell_type": "code",
   "execution_count": null,
   "metadata": {},
   "outputs": [],
   "source": [
    "def count_keyword(text, keyword):\n",
    "\n",
    "count = text.count(keyword)\n"
   ]
  },
  {
   "cell_type": "code",
   "execution_count": null,
   "metadata": {},
   "outputs": [],
   "source": [
    "keywords['Target_keys']"
   ]
  },
  {
   "cell_type": "code",
   "execution_count": null,
   "metadata": {},
   "outputs": [],
   "source": [
    "text_df = []\n",
    "\n",
    "texts = list(text_ls.values())\n",
    "\n",
    "keyword_matrix = keywords['Target_keys'].iloc[:,2:]#.to_numpy()\n",
    "count_matrix = keywords['Target_keys'].iloc[:,2:].applymap(lambda keyword: texts[0].count(keyword))#.to_numpy()\n",
    "labels = keywords['Target_keys'].iloc[:,0]\n",
    "\n",
    "counted_keywords = count_matrix.mask(count_matrix > 0, keyword_matrix)\n",
    "counted_keywords = counted_keywords.apply(lambda keyword : ', '.join(keyword.astype(str)))\n",
    "count_matrix = count_matrix.replace(0, '')\n",
    "counted_keywords.to_excel('key_col.xlsx')\n",
    "count_matrix.to_excel('mask.xlsx')\n",
    "\n",
    "\n",
    "# for name, text in text_ls.items():\n",
    "#     count_df = keywords['Target_keys'].iloc[:,2:].applymap(lambda keyword: text.count(keyword))\n",
    "#     #count_matrix = count_df#.to_numpy()\n",
    "#     count_df = count_df.join(labels, how='inner')\n",
    "#     count_df['Sum_counts'] = count_df.sum(axis=0)\n",
    "#     keywords_ = keyword_matrix[count_matrix>0]\n",
    "#     #count_df = count_df[count_df['Sum_counts'] > 0]\n",
    "#     # #df.replace(0, None, inplace=True)\n",
    "#     #df.insert(loc=1, column='Label', value=keywords['Target_keys'].iloc[:,1])\n",
    "#     # df.insert(loc=2, coulmn='Count_keys', value=df.apply(lambda x: sum(x),axis=1))\n",
    "#     # df.insert(loc=3, column='Diff_keys', value=df.apply(lambda x:count(x),axis=1))\n",
    "#     count_df.to_excel(f'test_{name}.xlsx')\n",
    "#     np.savetxt(f'test_{name}.csv', count_matrix, delimiter=',', fmt='%i')\n",
    "#     np.savetxt(f'test_{name}_keys.csv', keywords_, delimiter=',',fmt='%s')\n",
    "#     # np.savetxt('test.csv', count_matrix, delimiter=',')\n",
    "#     text_df.append(count_df)"
   ]
  },
  {
   "cell_type": "code",
   "execution_count": null,
   "metadata": {},
   "outputs": [],
   "source": [
    "keyword_matrix.head()"
   ]
  },
  {
   "cell_type": "code",
   "execution_count": null,
   "metadata": {},
   "outputs": [],
   "source": [
    "count_matrix=count_matrix.mask(count_matrix > 1, -1)\n",
    "count_matrix.to_excel('mask.xlsx')"
   ]
  },
  {
   "cell_type": "code",
   "execution_count": null,
   "metadata": {},
   "outputs": [],
   "source": [
    "input = 'output/results_green_deal_test.xlsx'\n",
    "\n",
    "result_df = pd.ExcelFile(input)\n",
    "\n",
    "print(result_df.sheet_names)\n",
    "\n",
    "targets, goals, total = result_df.parse('target_count'), result_df.parse('goal_overview'), result_df.parse('total_count_(goals_+_targets)')\n",
    "\n",
    "# print(result_df.sheet_names)"
   ]
  },
  {
   "cell_type": "code",
   "execution_count": null,
   "metadata": {},
   "outputs": [],
   "source": [
    "targets.rename(columns={'Count':'Target_Count', 'Num_keys':'Tgt_nr.keys'}, inplace=True) \n",
    "targets.groupby(['Policy','Goal','Target']).sum()\n",
    "dat_target_join_keys = raw_df.groupby(['Policy', 'Target'])[\"Keyword\"].apply(lambda x : \" - \".join(x.astype(str))).reset_index()"
   ]
  },
  {
   "cell_type": "code",
   "execution_count": null,
   "metadata": {},
   "outputs": [],
   "source": [
    "targets.head"
   ]
  },
  {
   "cell_type": "code",
   "execution_count": null,
   "metadata": {},
   "outputs": [],
   "source": [
    "goals.rename(columns = {'Count':'Goal_Count', 'Goal_nr.keys'}, inplace = True) \n",
    "goals.groupby(['Policy','Goal']).sum()"
   ]
  },
  {
   "cell_type": "code",
   "execution_count": null,
   "metadata": {},
   "outputs": [],
   "source": []
  }
 ],
 "metadata": {
  "kernelspec": {
   "name": "python3",
   "display_name": "Python 3.9.1 64-bit ('polmap': conda)"
  },
  "language_info": {
   "codemirror_mode": {
    "name": "ipython",
    "version": 3
   },
   "file_extension": ".py",
   "mimetype": "text/x-python",
   "name": "python",
   "nbconvert_exporter": "python",
   "pygments_lexer": "ipython3",
   "version": "3.9.1"
  },
  "interpreter": {
   "hash": "3c701ea15ff6b8cd345d7eda6702a5a5acbef34c5d809ba6ada83c604f672a97"
  }
 },
 "nbformat": 4,
 "nbformat_minor": 4
}