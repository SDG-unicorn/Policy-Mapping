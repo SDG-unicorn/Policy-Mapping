{
 "cells": [
  {
   "cell_type": "code",
   "execution_count": 2,
   "metadata": {},
   "outputs": [],
   "source": [
    "import re, json, pathlib, logging, time, argparse, pprint \n",
    "import datetime as dt\n",
    "import importlib.resources as rsrc\n",
    "from itertools import chain\n",
    "from operator import itemgetter \n",
    "#\n",
    "from nltk.corpus import stopwords\n",
    "import pandas as pd\n",
    "import numpy as np\n",
    "import nltk as nltk\n",
    "from nltk.corpus import stopwords\n",
    "from whoosh.lang.porter import stem\n",
    "#from googletrans import Translator\n",
    "from pygoogletranslation import Translator\n",
    "\n",
    "import polmap.polmap as plmp\n",
    "import postprocess.postprocess as pspr\n",
    "\n",
    "\n",
    "##MM imports\n",
    "#from polmap.polmap import make_directories, preprocess_text, doc2text, SDGrefs_mapper # replaced the keyword processing block\n",
    "\n",
    "#import fromRtoPython\n",
    "\n",
    "from docx2python import docx2python\n",
    " \n",
    "#from polmap.polmap import make_directories, preprocess_text, doc2text # replaced the keyword processing block"
   ]
  },
  {
   "cell_type": "code",
   "execution_count": 6,
   "metadata": {},
   "outputs": [],
   "source": [
    "with rsrc.path(\"postprocess\", \"goal_target_list.xlsx\") as res_path:\n",
    "    sdg_df = pd.read_excel(res_path)\n"
   ]
  },
  {
   "cell_type": "code",
   "execution_count": 7,
   "metadata": {},
   "outputs": [
    {
     "output_type": "execute_result",
     "data": {
      "text/plain": [
       "  Target   Goal  tar_ID  goal_id  \\\n",
       "0    1.1  SDG 1       1        1   \n",
       "1    1.2  SDG 1       2        1   \n",
       "2    1.3  SDG 1       3        1   \n",
       "3    1.4  SDG 1       4        1   \n",
       "4    1.5  SDG 1       5        1   \n",
       "\n",
       "                                  target_description goal_description  \\\n",
       "0  By 2030, eradicate extreme poverty for all peo...       No poverty   \n",
       "1  By 2030, reduce at least by half the proportio...       No poverty   \n",
       "2  Implement nationally appropriate social protec...       No poverty   \n",
       "3  By 2030, ensure that all men and women, in par...       No poverty   \n",
       "4  By 2030, build the resilience of the poor and ...       No poverty   \n",
       "\n",
       "  goal_color  \n",
       "0    #e5243b  \n",
       "1    #e5243b  \n",
       "2    #e5243b  \n",
       "3    #e5243b  \n",
       "4    #e5243b  "
      ],
      "text/html": "<div>\n<style scoped>\n    .dataframe tbody tr th:only-of-type {\n        vertical-align: middle;\n    }\n\n    .dataframe tbody tr th {\n        vertical-align: top;\n    }\n\n    .dataframe thead th {\n        text-align: right;\n    }\n</style>\n<table border=\"1\" class=\"dataframe\">\n  <thead>\n    <tr style=\"text-align: right;\">\n      <th></th>\n      <th>Target</th>\n      <th>Goal</th>\n      <th>tar_ID</th>\n      <th>goal_id</th>\n      <th>target_description</th>\n      <th>goal_description</th>\n      <th>goal_color</th>\n    </tr>\n  </thead>\n  <tbody>\n    <tr>\n      <th>0</th>\n      <td>1.1</td>\n      <td>SDG 1</td>\n      <td>1</td>\n      <td>1</td>\n      <td>By 2030, eradicate extreme poverty for all peo...</td>\n      <td>No poverty</td>\n      <td>#e5243b</td>\n    </tr>\n    <tr>\n      <th>1</th>\n      <td>1.2</td>\n      <td>SDG 1</td>\n      <td>2</td>\n      <td>1</td>\n      <td>By 2030, reduce at least by half the proportio...</td>\n      <td>No poverty</td>\n      <td>#e5243b</td>\n    </tr>\n    <tr>\n      <th>2</th>\n      <td>1.3</td>\n      <td>SDG 1</td>\n      <td>3</td>\n      <td>1</td>\n      <td>Implement nationally appropriate social protec...</td>\n      <td>No poverty</td>\n      <td>#e5243b</td>\n    </tr>\n    <tr>\n      <th>3</th>\n      <td>1.4</td>\n      <td>SDG 1</td>\n      <td>4</td>\n      <td>1</td>\n      <td>By 2030, ensure that all men and women, in par...</td>\n      <td>No poverty</td>\n      <td>#e5243b</td>\n    </tr>\n    <tr>\n      <th>4</th>\n      <td>1.5</td>\n      <td>SDG 1</td>\n      <td>5</td>\n      <td>1</td>\n      <td>By 2030, build the resilience of the poor and ...</td>\n      <td>No poverty</td>\n      <td>#e5243b</td>\n    </tr>\n  </tbody>\n</table>\n</div>"
     },
     "metadata": {},
     "execution_count": 7
    }
   ],
   "source": [
    "sdg_df.head()"
   ]
  },
  {
   "cell_type": "code",
   "execution_count": null,
   "metadata": {},
   "outputs": [],
   "source": [
    "#Expand keywords\n",
    "\n",
    "input = 'keywords/keywords_copia.xlsx'\n",
    "keywords = pd.ExcelFile(input)\n",
    "filename = pathlib.Path(input).stem\n",
    "timestamp =  dt.datetime.now().isoformat(timespec='seconds').replace(':','').replace('T','_T')\n",
    "filename += f'_{timestamp}'\n",
    "\n",
    "output = f'{filename}.xlsx'\n",
    "\n",
    "#sheets = a list of sheets where keywords are\n",
    "#keys_df = [keywords.parse(sheet) for sheet in sheets]\n",
    "keys_dfs = [keywords.parse('Target_keys'), keywords.parse('Goal_keys'), keywords.parse('MOI')]\n",
    "\n",
    "for index, df in enumerate(keys_dfs):\n",
    "    df['Keys']=df['Keys'].apply(lambda keywords: re.sub(';$', '', keywords))\n",
    "    df['Keys']=df['Keys'].apply(lambda keywords: re.sub(';;', ';', keywords))\n",
    "    ex_df=df['Keys'].str.split(';', expand=True)\n",
    "    lab_df=df.drop(columns='Keys')\n",
    "    keys_dfs[index]=lab_df.join(ex_df)\n",
    "    #df['Keys']=df['Keys'].apply(lambda keywords: re.sub(r'[^a-zA-Z0-9; -.]+', ';', keywords))\n",
    "\n",
    "ex_df.head()\n",
    "\n",
    "keys_dfs.append(keywords.parse('developing_countries'))\n",
    "\n",
    "target_df, goal_df, devco_df, devco_names = keys_dfs"
   ]
  },
  {
   "cell_type": "code",
   "execution_count": null,
   "metadata": {},
   "outputs": [],
   "source": [
    "target_df.head()"
   ]
  },
  {
   "cell_type": "code",
   "execution_count": null,
   "metadata": {},
   "outputs": [],
   "source": [
    "ex_target_df=target_df['Keys'].str.split(';', expand=True)\n",
    "lab_target_df=target_df.drop(columns='Keys')\n",
    "lab_target_df.head()"
   ]
  },
  {
   "cell_type": "code",
   "execution_count": null,
   "metadata": {},
   "outputs": [],
   "source": [
    "with pd.ExcelWriter(output, engine='xlsxwriter') as writer: # 'keywords_copy_for_transaltion.xlsx'\n",
    "    target_df.to_excel(writer, sheet_name='Target_keys')\n",
    "    goal_df.to_excel(writer, sheet_name='Goal_keys')\n",
    "    devco_df.to_excel(writer, sheet_name='MOI')\n",
    "    devco_names.to_excel(writer, sheet_name='developing_countries')"
   ]
  },
  {
   "cell_type": "code",
   "execution_count": null,
   "metadata": {},
   "outputs": [],
   "source": [
    "#Load expand keywords\n",
    "\n",
    "input = 'keywords/keywords_expanded.xlsx'\n",
    "\n",
    "keywords = pd.ExcelFile(input)\n",
    "\n",
    "sheets = keywords.sheet_names\n",
    "print(f\"Reading keywords dataset in {input}.\\nSheets: {', '.join(sheets)}\")\n",
    "\n",
    "keywords = {sheet : keywords.parse(sheet, index_col=0) for sheet in sheets}\n",
    "keywords_sheets = ['Target_keys', 'Goal_keys', 'MOI']\n",
    "\n",
    "#remove all from stop_words to keep in keywords\n",
    "stop_words = set(stopwords.words('english'))-set(['no','not','nor'])\n",
    "stop_words.remove('all')\n",
    "\n",
    "for sheet in keywords_sheets:\n",
    "    # keywords[sheet]['Keys'] = keywords[sheet]['Keys'].apply(lambda keywords: re.sub(';$', '', keywords))\n",
    "    # keywords[sheet]['Keys'] = keywords[sheet]['Keys'].apply(lambda keywords: [plmp.preprocess_text(keyword, stop_words) for keyword in keywords.split(';')])\n",
    "    keywords[sheet].iloc[:,2:]=keywords[sheet].iloc[:,2:].applymap(lambda keyword: plmp.preprocess_text(str(keyword), stop_words))"
   ]
  },
  {
   "cell_type": "code",
   "execution_count": null,
   "metadata": {},
   "outputs": [],
   "source": [
    "keywords['Target_keys'].head()"
   ]
  },
  {
   "cell_type": "code",
   "execution_count": null,
   "metadata": {},
   "outputs": [],
   "source": [
    "#Load text\n",
    "\n",
    "input = pathlib.Path('input/52019DC0640_stemmed')\n",
    "\n",
    "files = sorted(input.glob('**/*.*'))\n",
    "\n",
    "print(files)\n",
    "\n",
    "text_ls = {}\n",
    "\n",
    "for _file in files:\n",
    "    with open(_file, 'r') as _f:\n",
    "        text_ls[_file.stem]=_f.read()"
   ]
  },
  {
   "cell_type": "code",
   "execution_count": null,
   "metadata": {},
   "outputs": [],
   "source": [
    "def count_keyword(text, keyword):\n",
    "\n",
    "count = text.count(keyword)\n"
   ]
  },
  {
   "cell_type": "code",
   "execution_count": null,
   "metadata": {},
   "outputs": [],
   "source": [
    "keywords['Target_keys']"
   ]
  },
  {
   "cell_type": "code",
   "execution_count": null,
   "metadata": {},
   "outputs": [],
   "source": [
    "text_df = []\n",
    "\n",
    "texts = list(text_ls.values())\n",
    "\n",
    "keyword_matrix = keywords['Target_keys'].iloc[:,2:]#.to_numpy()\n",
    "count_matrix = keywords['Target_keys'].iloc[:,2:].applymap(lambda keyword: texts[0].count(keyword))#.to_numpy()\n",
    "labels = keywords['Target_keys'].iloc[:,0]\n",
    "\n",
    "counted_keywords = count_matrix.mask(count_matrix > 0, keyword_matrix)\n",
    "counted_keywords = counted_keywords.apply(lambda keyword : ', '.join(keyword.astype(str)))\n",
    "count_matrix = count_matrix.replace(0, '')\n",
    "counted_keywords.to_excel('key_col.xlsx')\n",
    "count_matrix.to_excel('mask.xlsx')\n",
    "\n",
    "\n",
    "# for name, text in text_ls.items():\n",
    "#     count_df = keywords['Target_keys'].iloc[:,2:].applymap(lambda keyword: text.count(keyword))\n",
    "#     #count_matrix = count_df#.to_numpy()\n",
    "#     count_df = count_df.join(labels, how='inner')\n",
    "#     count_df['Sum_counts'] = count_df.sum(axis=0)\n",
    "#     keywords_ = keyword_matrix[count_matrix>0]\n",
    "#     #count_df = count_df[count_df['Sum_counts'] > 0]\n",
    "#     # #df.replace(0, None, inplace=True)\n",
    "#     #df.insert(loc=1, column='Label', value=keywords['Target_keys'].iloc[:,1])\n",
    "#     # df.insert(loc=2, coulmn='Count_keys', value=df.apply(lambda x: sum(x),axis=1))\n",
    "#     # df.insert(loc=3, column='Diff_keys', value=df.apply(lambda x:count(x),axis=1))\n",
    "#     count_df.to_excel(f'test_{name}.xlsx')\n",
    "#     np.savetxt(f'test_{name}.csv', count_matrix, delimiter=',', fmt='%i')\n",
    "#     np.savetxt(f'test_{name}_keys.csv', keywords_, delimiter=',',fmt='%s')\n",
    "#     # np.savetxt('test.csv', count_matrix, delimiter=',')\n",
    "#     text_df.append(count_df)"
   ]
  },
  {
   "cell_type": "code",
   "execution_count": null,
   "metadata": {},
   "outputs": [],
   "source": [
    "keyword_matrix.head()"
   ]
  },
  {
   "cell_type": "code",
   "execution_count": null,
   "metadata": {},
   "outputs": [],
   "source": [
    "count_matrix=count_matrix.mask(count_matrix > 1, -1)\n",
    "count_matrix.to_excel('mask.xlsx')"
   ]
  },
  {
   "cell_type": "code",
   "execution_count": null,
   "metadata": {},
   "outputs": [],
   "source": [
    "input = 'output/results_green_deal_test.xlsx'\n",
    "\n",
    "result_df = pd.ExcelFile(input)\n",
    "\n",
    "print(result_df.sheet_names)\n",
    "\n",
    "targets, goals, total = result_df.parse('target_count'), result_df.parse('goal_overview'), result_df.parse('total_count_(goals_+_targets)')\n",
    "\n",
    "# print(result_df.sheet_names)"
   ]
  },
  {
   "cell_type": "code",
   "execution_count": null,
   "metadata": {},
   "outputs": [],
   "source": [
    "targets.rename(columns={'Count':'Target_Count', 'Num_keys':'Tgt_nr.keys'}, inplace=True) \n",
    "targets.groupby(['Policy','Goal','Target']).sum()\n",
    "dat_target_join_keys = raw_df.groupby(['Policy', 'Target'])[\"Keyword\"].apply(lambda x : \" - \".join(x.astype(str))).reset_index()"
   ]
  },
  {
   "cell_type": "code",
   "execution_count": null,
   "metadata": {},
   "outputs": [],
   "source": [
    "targets.head"
   ]
  },
  {
   "cell_type": "code",
   "execution_count": null,
   "metadata": {},
   "outputs": [],
   "source": [
    "goals.rename(columns = {'Count':'Goal_Count', 'Goal_nr.keys'}, inplace = True) \n",
    "goals.groupby(['Policy','Goal']).sum()"
   ]
  },
  {
   "cell_type": "code",
   "execution_count": null,
   "metadata": {},
   "outputs": [],
   "source": []
  }
 ],
 "metadata": {
  "kernelspec": {
   "name": "python3",
   "display_name": "Python 3",
   "language": "python"
  },
  "language_info": {
   "codemirror_mode": {
    "name": "ipython",
    "version": 3
   },
   "file_extension": ".py",
   "mimetype": "text/x-python",
   "name": "python",
   "nbconvert_exporter": "python",
   "pygments_lexer": "ipython3",
   "version": "3.9.1"
  }
 },
 "nbformat": 4,
 "nbformat_minor": 4
}