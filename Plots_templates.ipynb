{
 "cells": [
  {
   "cell_type": "code",
   "execution_count": 1,
   "metadata": {},
   "outputs": [],
   "source": [
    "import random, re, json, pathlib, logging, time, argparse, pprint \n",
    "import pandas as pd\n",
    "import numpy as np\n",
    "import circlify as crcf\n",
    "import matplotlib.pyplot as plt\n",
    "import importlib.resources as rsrc\n",
    "\n",
    "import postprocess.postprocess as pspr\n"
   ]
  },
  {
   "cell_type": "code",
   "execution_count": null,
   "metadata": {},
   "outputs": [],
   "source": [
    "target_df = pd.read_pickle(\"rrp_target_df.pkl\")\n",
    "\n",
    "goal_df = pd.read_pickle(\"rrp_goal_df.pkl\")"
   ]
  },
  {
   "cell_type": "code",
   "execution_count": null,
   "metadata": {},
   "outputs": [],
   "source": [
    "goal_df.head()"
   ]
  },
  {
   "cell_type": "code",
   "execution_count": null,
   "metadata": {},
   "outputs": [],
   "source": [
    "\n",
    "target_df['Target'] = pspr.stringify_id(target_df['Target'])\n",
    "\n",
    "results_dict = {}\n",
    "\n",
    "with rsrc.path(\"postprocess\", \"goal_target_list.xlsx\") as res_path:\n",
    "    sdg_df = pd.read_excel(res_path)\n",
    "\n",
    "results_dict['target_dat'] = pspr.aggregate_to_targets(target_df, sdg_df)\n",
    "\n",
    "results_dict['goal_dat'] = pspr.aggregate_to_goals(goal_df, sdg_df)\n",
    "\n",
    "results_dict['goals_grouped_by_document'] = pspr.group_byNAme_and_get_goaloverview(results_dict['target_dat'], results_dict['goal_dat'], sdg_df)"
   ]
  },
  {
   "cell_type": "code",
   "execution_count": null,
   "metadata": {},
   "outputs": [],
   "source": []
  },
  {
   "cell_type": "code",
   "execution_count": 11,
   "metadata": {},
   "outputs": [],
   "source": [
    "jrc = pd.read_excel('output/JRC_/output/6-results/results_.xlsx', sheet_name='goals_grouped_by_documents')\n",
    "D_units = pd.read_excel('output/JRC_/output/6-results/Projects overview_DirD.xlsx',usecols=['PP','PRJ','Unit'])\n",
    "jrc.head()\n",
    "#jrc.drop(columns='Policy', inplace=True)\n",
    "jrc_folder = jrc['Policy'].str.split('/',expand=True)\n",
    "jrc_folder['Policy'] = jrc_folder[[0,1]].agg(lambda x: f'{x[0]}/{x[1]}', axis=1)\n",
    "jrc_folder['PP']=jrc_folder[1].apply(lambda doc: int(re.search(r'(?<=PP_)\\d{5}(?<!_)',doc).group(0)))\n",
    "jrc_folder['PRJ']=jrc_folder[1].apply(lambda doc: int(re.search(r'(?<=_PRJ_)\\d{5}(?<!_\\d{6}.docx)',doc).group(0)))\n",
    "jrc_folder = jrc_folder.join(D_units.set_index('PRJ'), on='PRJ', how='inner',lsuffix='_re', rsuffix='_jpb')\n",
    "jrc_folder = jrc_folder.drop_duplicates().reset_index()\n",
    "jrc = jrc.merge(jrc_folder, on='Policy', how='right')\n",
    "jrc = jrc.groupby([0,'Unit','goal_id'])\n",
    "DirD = jrc['Count'].sum().loc['DirD']\n",
    "#DirD.head(50)\n",
    "dird_dict=DirD.to_dict()\n",
    "DirD.to_excel('DirD_gl.xlsx')\n",
    "#print(DirD.to_list())#.pivot('Subject_id', 'Subject', 'Score').to_dict('index')\n",
    "# print(jrc.columns.values.tolist())\n",
    "# jrc=jrc.drop(columns=['Unnamed: 1', 'index_x', 'index_y','PP_re'])\n",
    "#jrc.pivot([0,'Unit','PRJ'], 'goal_id', 'Count').to_dict('index')\n",
    "\n",
    "# jrc_bubblechart={'name': 'sdgs', 'children':[]}\n",
    "\n",
    "# units = list(set([unit for unit, id in dird_dict.keys()]))\n",
    "\n",
    "# print(units)\n",
    "\n",
    "# #{'name': 'sdgs'}\n",
    "# total_value = 0\n",
    "# unit=0\n",
    "# for key, value in dird_dict.items():\n",
    "#     temp_dict={'name': f'SDG {key[1]}', 'size':value}\n",
    "#     #total_value+=value\n",
    "#     jrc_bubblechart['children'].append({'name':key[0],'size':total_value,'children':[temp_dict]})\n",
    "#     # jrc_bubblechart['name']=key[0]\n",
    "#     # jrc_bubblechart['children'\n",
    "\n",
    "# print(jrc_bubblechart)"
   ]
  },
  {
   "cell_type": "code",
   "execution_count": null,
   "metadata": {},
   "outputs": [],
   "source": [
    "jrc.head()"
   ]
  },
  {
   "cell_type": "code",
   "execution_count": null,
   "metadata": {},
   "outputs": [],
   "source": [
    "#create grouping variable by path\n",
    "folders=results_dict['goals_grouped_by_document']['Policy'].str.split('/',expand=True)\n",
    "folders=folders.join(results_dict['goals_grouped_by_document'])\n",
    "#folders.head()\n",
    "folders=folders.groupby([0, 'Goal'])"
   ]
  },
  {
   "cell_type": "code",
   "execution_count": null,
   "metadata": {},
   "outputs": [],
   "source": [
    "#folders.head()\n",
    "folders.get_group('RRP_IT')"
   ]
  },
  {
   "cell_type": "code",
   "execution_count": null,
   "metadata": {},
   "outputs": [],
   "source": [
    "#create series by group\n",
    "EUSem=folders['Count'].sum().loc['EU_Semester'].to_list()\n",
    "Rrp=folders['Count'].sum().loc['RRP_IT'].to_list()\n",
    "print(len(EUSem),len(Rrp))\n"
   ]
  },
  {
   "cell_type": "code",
   "execution_count": null,
   "metadata": {},
   "outputs": [],
   "source": [
    "df = pd.DataFrame({\n",
    "    'Name': [f'SDG {count}' for count in range(1,18,1)],\n",
    "    'Value': [random.randint(1, 400) for i in range(1,18,1)]\n",
    "})\n",
    "\n",
    "color_ls = ['#e5243b','#dda63a','#4c9f38',\n",
    "'#c5192d','#ff3a21','#26bde2',\n",
    "'#fcc30b','#a21942','#fd6925',\n",
    "'#dd1367','#fd9d24','#bf8b2e',\n",
    "'#37e440','#0a97d9','#56c02b',\n",
    "'#00689d','#19486a']\n",
    "sdg_color = {label : color for label, color in zip(df['Name'].tolist(),color_ls)}"
   ]
  },
  {
   "cell_type": "code",
   "execution_count": null,
   "metadata": {},
   "outputs": [],
   "source": [
    "plt.figure(figsize=[15, 10])\n",
    "# Data to be plotted\n",
    "#Rrp = [random.randint(1, 400) for i in range(1,18,1)]\n",
    "RecPlan = [random.randint(1, 400) for i in range(1,18,1)]\n",
    "#EUSem = [random.randint(1, 400) for i in range(1,18,1)]\n",
    "# # Using numpy to group 3 different data with bars\n",
    "X = np.arange(len(Rrp))\n",
    "# # Passing the parameters to the bar function, this is the main function which creates the bar plot\n",
    "# # Using X now to align the bars side by side\n",
    "plt.bar(X, Rrp, color = sdg_color.values(), alpha = 1, width = 0.25)    \n",
    "plt.bar(X + 0.25, EUSem, color = sdg_color.values(), alpha = 0.75, width = 0.25)\n",
    "plt.bar(X + 0.5, RecPlan, color = sdg_color.values(), alpha = 0.5, width = 0.25)\n",
    "# Creating the legend of the bars in the plot\n",
    "plt.legend(['Rrp', 'RecPlan', 'EuSem'])\n",
    "# Overiding the x axis with the country names\n",
    "plt.xticks([i + 0.25 for i in range(1,18,1)], df['Name'].tolist())\n",
    "# Giving the tilte for the plot\n",
    "plt.title(\"Count of references within the documents\") #within {path.name}\n",
    "# Namimg the x and y axis\n",
    "#plt.xlabel('Countries')\n",
    "plt.ylabel('Counts')\n",
    "# Saving the plot as a 'png'\n",
    "# if save_plot=True:\n",
    "#     plt.savefig(svg_filepath_variable)\n",
    "# Displaying the bar plot\n",
    "plt.show()"
   ]
  },
  {
   "cell_type": "code",
   "execution_count": null,
   "metadata": {},
   "outputs": [],
   "source": [
    "# results_dict['goals_grouped_by_document']=results_dict['goals_grouped_by_document'].drop(columns = results_dict['goals_grouped_by_document'].columns[[0]], inplace=True)"
   ]
  },
  {
   "cell_type": "code",
   "execution_count": null,
   "metadata": {},
   "outputs": [],
   "source": [
    "results_dict['goals_grouped_by_document']=results_dict['goals_grouped_by_document'].rename_axis(['names',0])"
   ]
  },
  {
   "cell_type": "code",
   "execution_count": null,
   "metadata": {},
   "outputs": [],
   "source": [
    "results_dict['goals_grouped_by_document'].groupby(\"names\").groups\n",
    "#results_dict['goals_grouped_by_document'].groups "
   ]
  },
  {
   "cell_type": "code",
   "execution_count": null,
   "metadata": {},
   "outputs": [],
   "source": [
    "feh = results_dict['goals_grouped_by_document'][['Goal','Count']].to_dict('index')\n",
    "print(feh)"
   ]
  },
  {
   "cell_type": "code",
   "execution_count": null,
   "metadata": {},
   "outputs": [],
   "source": [
    "for name in results_dict['goals_grouped_by_document']:\n",
    "    print(name)\n"
   ]
  },
  {
   "cell_type": "code",
   "execution_count": null,
   "metadata": {},
   "outputs": [],
   "source": [
    "circles = crcf.circlify(\n",
    "    results_dict['goals_grouped_by_document'][['Goal','Count']].to_dict('index'), \n",
    "    show_enclosure=False, \n",
    "    target_enclosure=crcf.Circle(x=0, y=0, r=1)\n",
    ")"
   ]
  },
  {
   "cell_type": "code",
   "execution_count": null,
   "metadata": {},
   "outputs": [],
   "source": []
  }
 ],
 "metadata": {
  "kernelspec": {
   "name": "python391jvsc74a57bd03c701ea15ff6b8cd345d7eda6702a5a5acbef34c5d809ba6ada83c604f672a97",
   "display_name": "Python 3.9.1 64-bit ('polmap': conda)"
  },
  "language_info": {
   "codemirror_mode": {
    "name": "ipython",
    "version": 3
   },
   "file_extension": ".py",
   "mimetype": "text/x-python",
   "name": "python",
   "nbconvert_exporter": "python",
   "pygments_lexer": "ipython3",
   "version": "3.9.1"
  }
 },
 "nbformat": 4,
 "nbformat_minor": 4
}