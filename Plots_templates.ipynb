{
 "cells": [
  {
   "cell_type": "code",
   "execution_count": null,
   "metadata": {},
   "outputs": [],
   "source": [
    "import random, re, json, pathlib, logging, time, argparse, pprint \n",
    "import pandas as pd\n",
    "import numpy as np\n",
    "import circlify as crcf\n",
    "import matplotlib.pyplot as plt\n",
    "import importlib.resources as rsrc\n",
    "\n",
    "import postprocess.postprocess as pspr\n"
   ]
  },
  {
   "cell_type": "code",
   "execution_count": null,
   "metadata": {},
   "outputs": [],
   "source": [
    "target_df = pd.read_pickle(\"gd_target_df.pkl\")\n",
    "\n",
    "goal_df = pd.read_pickle(\"gd_goal_df.pkl\")"
   ]
  },
  {
   "cell_type": "code",
   "execution_count": null,
   "metadata": {},
   "outputs": [],
   "source": [
    "goal_df.head()"
   ]
  },
  {
   "cell_type": "code",
   "execution_count": null,
   "metadata": {},
   "outputs": [],
   "source": [
    "\n",
    "target_df['Target'] = pspr.stringify_id(target_df['Target'])\n",
    "\n",
    "results_dict = {}\n",
    "\n",
    "with rsrc.path(\"postprocess\", \"goal_target_list.xlsx\") as res_path:\n",
    "    sdg_df = pd.read_excel(res_path)\n",
    "\n",
    "results_dict['target_dat'] = pspr.aggregate_to_targets(target_df, sdg_df)\n",
    "\n",
    "results_dict['goal_dat'] = pspr.aggregate_to_goals(goal_df, sdg_df)\n",
    "\n",
    "results_dict['goals_grouped_by_document'] = pspr.group_byNAme_and_get_goaloverview(results_dict['target_dat'], results_dict['goal_dat'], sdg_df)"
   ]
  },
  {
   "cell_type": "code",
   "execution_count": null,
   "metadata": {},
   "outputs": [],
   "source": [
    "# results_dict['goals_grouped_by_document']=results_dict['goals_grouped_by_document'].drop(columns = results_dict['goals_grouped_by_document'].columns[[0]], inplace=True)"
   ]
  },
  {
   "cell_type": "code",
   "execution_count": null,
   "metadata": {},
   "outputs": [],
   "source": [
    "results_dict['goals_grouped_by_document']=results_dict['goals_grouped_by_document'].rename_axis(['names',0])"
   ]
  },
  {
   "cell_type": "code",
   "execution_count": null,
   "metadata": {},
   "outputs": [],
   "source": [
    "results_dict['goals_grouped_by_document'].groupby(\"Policy\").groups\n",
    "#results_dict['goals_grouped_by_document'].groups "
   ]
  },
  {
   "cell_type": "code",
   "execution_count": null,
   "metadata": {},
   "outputs": [],
   "source": [
    "feh = results_dict['goals_grouped_by_document'][['Goal','Count']].to_dict('index')\n",
    "print(feh)"
   ]
  },
  {
   "cell_type": "code",
   "execution_count": null,
   "metadata": {},
   "outputs": [],
   "source": [
    "for name in results_dict['goals_grouped_by_document']:\n",
    "    print(name)\n"
   ]
  },
  {
   "cell_type": "code",
   "execution_count": null,
   "metadata": {},
   "outputs": [],
   "source": [
    "circles = crcf.circlify(\n",
    "    results_dict['goals_grouped_by_document'][['Goal','Count']].to_dict('index'), \n",
    "    show_enclosure=False, \n",
    "    target_enclosure=crcf.Circle(x=0, y=0, r=1)\n",
    ")"
   ]
  },
  {
   "cell_type": "code",
   "execution_count": null,
   "metadata": {},
   "outputs": [],
   "source": []
  }
 ],
 "metadata": {
  "kernelspec": {
   "name": "python3",
   "display_name": "Python 3",
   "language": "python"
  },
  "language_info": {
   "codemirror_mode": {
    "name": "ipython",
    "version": 3
   },
   "file_extension": ".py",
   "mimetype": "text/x-python",
   "name": "python",
   "nbconvert_exporter": "python",
   "pygments_lexer": "ipython3",
   "version": "3.9.1"
  }
 },
 "nbformat": 4,
 "nbformat_minor": 4
}